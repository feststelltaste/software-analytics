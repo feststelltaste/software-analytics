{
 "cells": [
  {
   "cell_type": "markdown",
   "metadata": {
    "slideshow": {
     "slide_type": "slide"
    }
   },
   "source": [
    "# jQAssistant Demo\n",
    "* Clone https://github.com/JavaOnAutobahn/spring-petclinic\n",
    "* Build software\n",
    " * `mvn install`\n",
    "* Start Neo4j server\n",
    " * `mvn jqassistant:server`\n",
    "* Open browser\n",
    " * http://localhost:7474/browser/\n",
    "* jQAssistant documentation: https://jqassistant.github.io/jqassistant/doc/1.10.0/manual/index.html\n",
    " "
   ]
  },
  {
   "cell_type": "markdown",
   "metadata": {
    "slideshow": {
     "slide_type": "slide"
    }
   },
   "source": [
    "## Example Cypher Queries"
   ]
  },
  {
   "cell_type": "markdown",
   "metadata": {
    "slideshow": {
     "slide_type": "slide"
    }
   },
   "source": [
    "### Setup connection to a running N4o4j database"
   ]
  },
  {
   "cell_type": "code",
   "execution_count": null,
   "metadata": {
    "slideshow": {
     "slide_type": "-"
    }
   },
   "outputs": [],
   "source": [
    "from neo4j import GraphDatabase\n",
    "\n",
    "URI = \"bolt://localhost\"\n",
    "AUTH = (\"neo4j\", \"neo4j\")\n",
    "\n",
    "driver = GraphDatabase.driver(URI, auth=AUTH)\n",
    "driver.verify_connectivity()\n",
    "session = driver.session()"
   ]
  },
  {
   "cell_type": "markdown",
   "metadata": {
    "slideshow": {
     "slide_type": "slide"
    }
   },
   "source": [
    "### List TOP 10 class with the most methods"
   ]
  },
  {
   "cell_type": "code",
   "execution_count": null,
   "metadata": {
    "slideshow": {
     "slide_type": "-"
    }
   },
   "outputs": [],
   "source": [
    "query=\"\"\"\n",
    "MATCH \n",
    "  (t:Type)-[:DECLARES]->(m:Method)\n",
    "RETURN t.fqn as Typ, COUNT(m) as methodCount\n",
    "ORDER BY methodCount DESC\n",
    "LIMIT 10\n",
    "\"\"\"\n",
    "session.run(query).to_df()"
   ]
  },
  {
   "cell_type": "markdown",
   "metadata": {
    "slideshow": {
     "slide_type": "slide"
    }
   },
   "source": [
    "### Global  written variables"
   ]
  },
  {
   "cell_type": "code",
   "execution_count": null,
   "metadata": {
    "slideshow": {
     "slide_type": "-"
    }
   },
   "outputs": [],
   "source": [
    "query=\"\"\"\n",
    "MATCH (c:Class)-[:DECLARES]->(f:Field)<-[w:WRITES]-(m:Method)\n",
    "WHERE \n",
    "    EXISTS(f.static) AND NOT EXISTS(f.final)\n",
    "RETURN \n",
    "    c.name as InClass, \n",
    "    m.name as theMethod, \n",
    "    w.lineNumber as writesInLine, \n",
    "    f.name as toStaticField\n",
    "\"\"\"\n",
    "session.run(query).to_df()"
   ]
  },
  {
   "cell_type": "markdown",
   "metadata": {
    "slideshow": {
     "slide_type": "slide"
    }
   },
   "source": [
    "### Recrusive data strutures"
   ]
  },
  {
   "cell_type": "code",
   "execution_count": null,
   "metadata": {
    "slideshow": {
     "slide_type": "-"
    }
   },
   "outputs": [],
   "source": [
    "query=\"\"\"\n",
    "MATCH (c:Class)-[:DECLARES]->(m:Method)-[:INVOKES]->(m)\n",
    "RETURN c.name, m.name\n",
    "\"\"\"\n",
    "session.run(query).to_df()"
   ]
  },
  {
   "cell_type": "markdown",
   "metadata": {
    "slideshow": {
     "slide_type": "slide"
    }
   },
   "source": [
    "### Aggregation of values across business subdomains"
   ]
  },
  {
   "cell_type": "code",
   "execution_count": null,
   "metadata": {
    "slideshow": {
     "slide_type": "-"
    }
   },
   "outputs": [],
   "source": [
    "query=\"\"\"\n",
    "MATCH \n",
    "  (t:Type)-[:BELONGS_TO]->(s:Business:Subdomain),\n",
    "  (t)-[:HAS_CHANGE]->(ch:Change)\n",
    "RETURN \n",
    "  s.name as ASubdomain,\n",
    "  COUNT(DISTINCT t) as Types,\n",
    "  COUNT(DISTINCT ch) as Changes\n",
    "ORDER BY Types DESC\n",
    "\"\"\"\n",
    "session.run(query).to_df()"
   ]
  },
  {
   "cell_type": "markdown",
   "metadata": {
    "slideshow": {
     "slide_type": "slide"
    }
   },
   "source": [
    "### Code dependencies between business subdomains"
   ]
  },
  {
   "cell_type": "code",
   "execution_count": null,
   "metadata": {
    "slideshow": {
     "slide_type": "-"
    }
   },
   "outputs": [],
   "source": [
    "query=\"\"\"\n",
    "MATCH\n",
    "  (t1:Type)-[:BELONGS_TO]->(s1:Business:Subdomain),\n",
    "  (t2:Type)-[:BELONGS_TO]->(s2:Business:Subdomain),\n",
    "  (t1)-[d:DEPENDS_ON]->(t2)\n",
    "WHERE\n",
    "  s1 <> s2\n",
    "WITH\n",
    "  s1, s2, count(d) as weight\n",
    "RETURN\n",
    "  s1.name as Subdomain, collect(s2.name) as Dependencies\n",
    "ORDER BY\n",
    "  Subdomain\n",
    "\"\"\"\n",
    "session.run(query).to_df()"
   ]
  },
  {
   "cell_type": "markdown",
   "metadata": {
    "slideshow": {
     "slide_type": "slide"
    }
   },
   "source": [
    "### Cyclic dependencies between packages"
   ]
  },
  {
   "cell_type": "code",
   "execution_count": null,
   "metadata": {
    "slideshow": {
     "slide_type": "-"
    }
   },
   "outputs": [],
   "source": [
    "query=\"\"\"\n",
    "MATCH\n",
    "    (p1:Package)-[:DEPENDS_ON]->(p2:Package),\n",
    "    path=shortestPath((p2)-[:DEPENDS_ON*]->(p1))\n",
    "WHERE\n",
    "    p1<>p2\n",
    "RETURN\n",
    "    p1 AS Package, EXTRACT(p IN nodes(path) | p.fqn) AS Cycle\n",
    "ORDER BY\n",
    "    Package.fqn\n",
    "\"\"\"\n",
    "session.run(query).to_df()"
   ]
  }
 ],
 "metadata": {
  "kernelspec": {
   "display_name": "Python 3 (ipykernel)",
   "language": "python",
   "name": "python3"
  },
  "language_info": {
   "codemirror_mode": {
    "name": "ipython",
    "version": 3
   },
   "file_extension": ".py",
   "mimetype": "text/x-python",
   "name": "python",
   "nbconvert_exporter": "python",
   "pygments_lexer": "ipython3",
   "version": "3.9.18"
  }
 },
 "nbformat": 4,
 "nbformat_minor": 2
}
