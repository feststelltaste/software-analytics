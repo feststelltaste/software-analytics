{
 "cells": [
  {
   "cell_type": "markdown",
   "id": "d6cb3cb3",
   "metadata": {
    "slideshow": {
     "slide_type": "slide"
    }
   },
   "source": [
    "# Visualizing the progress of a language migration"
   ]
  },
  {
   "cell_type": "markdown",
   "id": "d9bd17c5",
   "metadata": {
    "slideshow": {
     "slide_type": "fragment"
    }
   },
   "source": [
    "or: how to show non-developers that we're working under the hood of a software system successfully"
   ]
  },
  {
   "cell_type": "markdown",
   "id": "4cacabad",
   "metadata": {
    "slideshow": {
     "slide_type": "slide"
    }
   },
   "source": [
    "### Read in the data from Git log"
   ]
  },
  {
   "cell_type": "code",
   "execution_count": 1,
   "id": "bdc09d53",
   "metadata": {
    "slideshow": {
     "slide_type": "-"
    }
   },
   "outputs": [
    {
     "data": {
      "text/html": [
       "<div>\n",
       "<style scoped>\n",
       "    .dataframe tbody tr th:only-of-type {\n",
       "        vertical-align: middle;\n",
       "    }\n",
       "\n",
       "    .dataframe tbody tr th {\n",
       "        vertical-align: top;\n",
       "    }\n",
       "\n",
       "    .dataframe thead th {\n",
       "        text-align: right;\n",
       "    }\n",
       "</style>\n",
       "<table border=\"1\" class=\"dataframe\">\n",
       "  <thead>\n",
       "    <tr style=\"text-align: right;\">\n",
       "      <th></th>\n",
       "      <th>sha</th>\n",
       "      <th>timestamp</th>\n",
       "      <th>action</th>\n",
       "      <th>file_path</th>\n",
       "    </tr>\n",
       "  </thead>\n",
       "  <tbody>\n",
       "    <tr>\n",
       "      <th>0</th>\n",
       "      <td>10c5cdb49c51c95086febd37f4d88a9b944d7e1c</td>\n",
       "      <td>2024-02-22 10:26:20</td>\n",
       "      <td>A</td>\n",
       "      <td>packages/core/src/util/callback_scheduler.ts</td>\n",
       "    </tr>\n",
       "    <tr>\n",
       "      <th>1</th>\n",
       "      <td>10c5cdb49c51c95086febd37f4d88a9b944d7e1c</td>\n",
       "      <td>2024-02-22 10:26:20</td>\n",
       "      <td>D</td>\n",
       "      <td>packages/core/src/util/raf.ts</td>\n",
       "    </tr>\n",
       "    <tr>\n",
       "      <th>2</th>\n",
       "      <td>83932aa85e63311b1e85c8c61f4a1ebded39c4f1</td>\n",
       "      <td>2024-03-06 13:30:37</td>\n",
       "      <td>D</td>\n",
       "      <td>packages/compiler/src/template/pipeline/src/ph...</td>\n",
       "    </tr>\n",
       "    <tr>\n",
       "      <th>3</th>\n",
       "      <td>83932aa85e63311b1e85c8c61f4a1ebded39c4f1</td>\n",
       "      <td>2024-03-06 13:30:37</td>\n",
       "      <td>A</td>\n",
       "      <td>packages/compiler/src/template/pipeline/src/ph...</td>\n",
       "    </tr>\n",
       "    <tr>\n",
       "      <th>4</th>\n",
       "      <td>5ae2bf480697b475c41ea136f08f4dca633c75b9</td>\n",
       "      <td>2024-03-08 13:39:57</td>\n",
       "      <td>A</td>\n",
       "      <td>packages/compiler-cli/test/compliance/test_cas...</td>\n",
       "    </tr>\n",
       "  </tbody>\n",
       "</table>\n",
       "</div>"
      ],
      "text/plain": [
       "                                        sha           timestamp action  \\\n",
       "0  10c5cdb49c51c95086febd37f4d88a9b944d7e1c 2024-02-22 10:26:20      A   \n",
       "1  10c5cdb49c51c95086febd37f4d88a9b944d7e1c 2024-02-22 10:26:20      D   \n",
       "2  83932aa85e63311b1e85c8c61f4a1ebded39c4f1 2024-03-06 13:30:37      D   \n",
       "3  83932aa85e63311b1e85c8c61f4a1ebded39c4f1 2024-03-06 13:30:37      A   \n",
       "4  5ae2bf480697b475c41ea136f08f4dca633c75b9 2024-03-08 13:39:57      A   \n",
       "\n",
       "                                           file_path  \n",
       "0       packages/core/src/util/callback_scheduler.ts  \n",
       "1                      packages/core/src/util/raf.ts  \n",
       "2  packages/compiler/src/template/pipeline/src/ph...  \n",
       "3  packages/compiler/src/template/pipeline/src/ph...  \n",
       "4  packages/compiler-cli/test/compliance/test_cas...  "
      ]
     },
     "execution_count": 1,
     "metadata": {},
     "output_type": "execute_result"
    }
   ],
   "source": [
    "import pandas as pd\n",
    "\n",
    "log = pd.read_csv(\"../dataset/angular_file_commit_history.csv\", parse_dates=[1])\n",
    "log.head()"
   ]
  },
  {
   "cell_type": "markdown",
   "id": "056d09aa",
   "metadata": {
    "slideshow": {
     "slide_type": "slide"
    }
   },
   "source": [
    "### Get the info about the programming language used"
   ]
  },
  {
   "cell_type": "code",
   "execution_count": 2,
   "id": "833fd592",
   "metadata": {
    "slideshow": {
     "slide_type": "-"
    }
   },
   "outputs": [
    {
     "data": {
      "text/html": [
       "<div>\n",
       "<style scoped>\n",
       "    .dataframe tbody tr th:only-of-type {\n",
       "        vertical-align: middle;\n",
       "    }\n",
       "\n",
       "    .dataframe tbody tr th {\n",
       "        vertical-align: top;\n",
       "    }\n",
       "\n",
       "    .dataframe thead th {\n",
       "        text-align: right;\n",
       "    }\n",
       "</style>\n",
       "<table border=\"1\" class=\"dataframe\">\n",
       "  <thead>\n",
       "    <tr style=\"text-align: right;\">\n",
       "      <th></th>\n",
       "      <th>sha</th>\n",
       "      <th>timestamp</th>\n",
       "      <th>action</th>\n",
       "      <th>file_path</th>\n",
       "      <th>lang</th>\n",
       "    </tr>\n",
       "  </thead>\n",
       "  <tbody>\n",
       "    <tr>\n",
       "      <th>0</th>\n",
       "      <td>10c5cdb49c51c95086febd37f4d88a9b944d7e1c</td>\n",
       "      <td>2024-02-22 10:26:20</td>\n",
       "      <td>A</td>\n",
       "      <td>packages/core/src/util/callback_scheduler.ts</td>\n",
       "      <td>ts</td>\n",
       "    </tr>\n",
       "    <tr>\n",
       "      <th>1</th>\n",
       "      <td>10c5cdb49c51c95086febd37f4d88a9b944d7e1c</td>\n",
       "      <td>2024-02-22 10:26:20</td>\n",
       "      <td>D</td>\n",
       "      <td>packages/core/src/util/raf.ts</td>\n",
       "      <td>ts</td>\n",
       "    </tr>\n",
       "    <tr>\n",
       "      <th>2</th>\n",
       "      <td>83932aa85e63311b1e85c8c61f4a1ebded39c4f1</td>\n",
       "      <td>2024-03-06 13:30:37</td>\n",
       "      <td>D</td>\n",
       "      <td>packages/compiler/src/template/pipeline/src/ph...</td>\n",
       "      <td>ts</td>\n",
       "    </tr>\n",
       "    <tr>\n",
       "      <th>3</th>\n",
       "      <td>83932aa85e63311b1e85c8c61f4a1ebded39c4f1</td>\n",
       "      <td>2024-03-06 13:30:37</td>\n",
       "      <td>A</td>\n",
       "      <td>packages/compiler/src/template/pipeline/src/ph...</td>\n",
       "      <td>ts</td>\n",
       "    </tr>\n",
       "    <tr>\n",
       "      <th>4</th>\n",
       "      <td>5ae2bf480697b475c41ea136f08f4dca633c75b9</td>\n",
       "      <td>2024-03-08 13:39:57</td>\n",
       "      <td>A</td>\n",
       "      <td>packages/compiler-cli/test/compliance/test_cas...</td>\n",
       "      <td>ts</td>\n",
       "    </tr>\n",
       "  </tbody>\n",
       "</table>\n",
       "</div>"
      ],
      "text/plain": [
       "                                        sha           timestamp action  \\\n",
       "0  10c5cdb49c51c95086febd37f4d88a9b944d7e1c 2024-02-22 10:26:20      A   \n",
       "1  10c5cdb49c51c95086febd37f4d88a9b944d7e1c 2024-02-22 10:26:20      D   \n",
       "2  83932aa85e63311b1e85c8c61f4a1ebded39c4f1 2024-03-06 13:30:37      D   \n",
       "3  83932aa85e63311b1e85c8c61f4a1ebded39c4f1 2024-03-06 13:30:37      A   \n",
       "4  5ae2bf480697b475c41ea136f08f4dca633c75b9 2024-03-08 13:39:57      A   \n",
       "\n",
       "                                           file_path lang  \n",
       "0       packages/core/src/util/callback_scheduler.ts   ts  \n",
       "1                      packages/core/src/util/raf.ts   ts  \n",
       "2  packages/compiler/src/template/pipeline/src/ph...   ts  \n",
       "3  packages/compiler/src/template/pipeline/src/ph...   ts  \n",
       "4  packages/compiler-cli/test/compliance/test_cas...   ts  "
      ]
     },
     "execution_count": 2,
     "metadata": {},
     "output_type": "execute_result"
    }
   ],
   "source": [
    "log['lang'] = log['file_path'].str.rsplit(\".\", n=1).str[-1]\n",
    "log.head()"
   ]
  },
  {
   "cell_type": "markdown",
   "id": "a6e57fc4",
   "metadata": {
    "slideshow": {
     "slide_type": "slide"
    }
   },
   "source": [
    "### Map added and deleted lines to numbers"
   ]
  },
  {
   "cell_type": "code",
   "execution_count": 3,
   "id": "4bbc1043",
   "metadata": {
    "slideshow": {
     "slide_type": "-"
    }
   },
   "outputs": [
    {
     "data": {
      "text/html": [
       "<div>\n",
       "<style scoped>\n",
       "    .dataframe tbody tr th:only-of-type {\n",
       "        vertical-align: middle;\n",
       "    }\n",
       "\n",
       "    .dataframe tbody tr th {\n",
       "        vertical-align: top;\n",
       "    }\n",
       "\n",
       "    .dataframe thead th {\n",
       "        text-align: right;\n",
       "    }\n",
       "</style>\n",
       "<table border=\"1\" class=\"dataframe\">\n",
       "  <thead>\n",
       "    <tr style=\"text-align: right;\">\n",
       "      <th></th>\n",
       "      <th>sha</th>\n",
       "      <th>timestamp</th>\n",
       "      <th>action</th>\n",
       "      <th>file_path</th>\n",
       "      <th>lang</th>\n",
       "      <th>count</th>\n",
       "    </tr>\n",
       "  </thead>\n",
       "  <tbody>\n",
       "    <tr>\n",
       "      <th>0</th>\n",
       "      <td>10c5cdb49c51c95086febd37f4d88a9b944d7e1c</td>\n",
       "      <td>2024-02-22 10:26:20</td>\n",
       "      <td>A</td>\n",
       "      <td>packages/core/src/util/callback_scheduler.ts</td>\n",
       "      <td>ts</td>\n",
       "      <td>1.0</td>\n",
       "    </tr>\n",
       "    <tr>\n",
       "      <th>1</th>\n",
       "      <td>10c5cdb49c51c95086febd37f4d88a9b944d7e1c</td>\n",
       "      <td>2024-02-22 10:26:20</td>\n",
       "      <td>D</td>\n",
       "      <td>packages/core/src/util/raf.ts</td>\n",
       "      <td>ts</td>\n",
       "      <td>-1.0</td>\n",
       "    </tr>\n",
       "    <tr>\n",
       "      <th>2</th>\n",
       "      <td>83932aa85e63311b1e85c8c61f4a1ebded39c4f1</td>\n",
       "      <td>2024-03-06 13:30:37</td>\n",
       "      <td>D</td>\n",
       "      <td>packages/compiler/src/template/pipeline/src/ph...</td>\n",
       "      <td>ts</td>\n",
       "      <td>-1.0</td>\n",
       "    </tr>\n",
       "    <tr>\n",
       "      <th>3</th>\n",
       "      <td>83932aa85e63311b1e85c8c61f4a1ebded39c4f1</td>\n",
       "      <td>2024-03-06 13:30:37</td>\n",
       "      <td>A</td>\n",
       "      <td>packages/compiler/src/template/pipeline/src/ph...</td>\n",
       "      <td>ts</td>\n",
       "      <td>1.0</td>\n",
       "    </tr>\n",
       "    <tr>\n",
       "      <th>4</th>\n",
       "      <td>5ae2bf480697b475c41ea136f08f4dca633c75b9</td>\n",
       "      <td>2024-03-08 13:39:57</td>\n",
       "      <td>A</td>\n",
       "      <td>packages/compiler-cli/test/compliance/test_cas...</td>\n",
       "      <td>ts</td>\n",
       "      <td>1.0</td>\n",
       "    </tr>\n",
       "  </tbody>\n",
       "</table>\n",
       "</div>"
      ],
      "text/plain": [
       "                                        sha           timestamp action  \\\n",
       "0  10c5cdb49c51c95086febd37f4d88a9b944d7e1c 2024-02-22 10:26:20      A   \n",
       "1  10c5cdb49c51c95086febd37f4d88a9b944d7e1c 2024-02-22 10:26:20      D   \n",
       "2  83932aa85e63311b1e85c8c61f4a1ebded39c4f1 2024-03-06 13:30:37      D   \n",
       "3  83932aa85e63311b1e85c8c61f4a1ebded39c4f1 2024-03-06 13:30:37      A   \n",
       "4  5ae2bf480697b475c41ea136f08f4dca633c75b9 2024-03-08 13:39:57      A   \n",
       "\n",
       "                                           file_path lang  count  \n",
       "0       packages/core/src/util/callback_scheduler.ts   ts    1.0  \n",
       "1                      packages/core/src/util/raf.ts   ts   -1.0  \n",
       "2  packages/compiler/src/template/pipeline/src/ph...   ts   -1.0  \n",
       "3  packages/compiler/src/template/pipeline/src/ph...   ts    1.0  \n",
       "4  packages/compiler-cli/test/compliance/test_cas...   ts    1.0  "
      ]
     },
     "execution_count": 3,
     "metadata": {},
     "output_type": "execute_result"
    }
   ],
   "source": [
    "log.loc[log['action'] == \"A\", \"count\"] = 1\n",
    "log.loc[log['action'] == \"D\", \"count\"] = -1\n",
    "log.head()"
   ]
  },
  {
   "cell_type": "markdown",
   "id": "6adaca80",
   "metadata": {
    "slideshow": {
     "slide_type": "slide"
    }
   },
   "source": [
    "### Group changes to weekly numbers"
   ]
  },
  {
   "cell_type": "code",
   "execution_count": 4,
   "id": "973400fb",
   "metadata": {
    "slideshow": {
     "slide_type": "-"
    }
   },
   "outputs": [
    {
     "data": {
      "text/plain": [
       "timestamp   lang\n",
       "2014-09-21  js      24.0\n",
       "2014-09-28  js      21.0\n",
       "2014-10-05  js      22.0\n",
       "2014-10-12  js       5.0\n",
       "2014-10-19  js       6.0\n",
       "Name: count, dtype: float64"
      ]
     },
     "execution_count": 4,
     "metadata": {},
     "output_type": "execute_result"
    }
   ],
   "source": [
    "log_timed = log.groupby([pd.Grouper(key=\"timestamp\", freq=\"1w\"), \"lang\"])['count'].sum()\n",
    "log_timed.head()"
   ]
  },
  {
   "cell_type": "markdown",
   "id": "19e4de6a",
   "metadata": {
    "slideshow": {
     "slide_type": "slide"
    }
   },
   "source": [
    "### Calculate data for showing the progress"
   ]
  },
  {
   "cell_type": "code",
   "execution_count": 5,
   "id": "54907099",
   "metadata": {
    "slideshow": {
     "slide_type": "-"
    }
   },
   "outputs": [
    {
     "data": {
      "text/html": [
       "<div>\n",
       "<style scoped>\n",
       "    .dataframe tbody tr th:only-of-type {\n",
       "        vertical-align: middle;\n",
       "    }\n",
       "\n",
       "    .dataframe tbody tr th {\n",
       "        vertical-align: top;\n",
       "    }\n",
       "\n",
       "    .dataframe thead th {\n",
       "        text-align: right;\n",
       "    }\n",
       "</style>\n",
       "<table border=\"1\" class=\"dataframe\">\n",
       "  <thead>\n",
       "    <tr style=\"text-align: right;\">\n",
       "      <th>lang</th>\n",
       "      <th>js</th>\n",
       "      <th>ts</th>\n",
       "    </tr>\n",
       "    <tr>\n",
       "      <th>timestamp</th>\n",
       "      <th></th>\n",
       "      <th></th>\n",
       "    </tr>\n",
       "  </thead>\n",
       "  <tbody>\n",
       "    <tr>\n",
       "      <th>2014-09-21</th>\n",
       "      <td>24.0</td>\n",
       "      <td>0.0</td>\n",
       "    </tr>\n",
       "    <tr>\n",
       "      <th>2014-09-28</th>\n",
       "      <td>45.0</td>\n",
       "      <td>0.0</td>\n",
       "    </tr>\n",
       "    <tr>\n",
       "      <th>2014-10-05</th>\n",
       "      <td>67.0</td>\n",
       "      <td>0.0</td>\n",
       "    </tr>\n",
       "    <tr>\n",
       "      <th>2014-10-12</th>\n",
       "      <td>72.0</td>\n",
       "      <td>0.0</td>\n",
       "    </tr>\n",
       "    <tr>\n",
       "      <th>2014-10-19</th>\n",
       "      <td>78.0</td>\n",
       "      <td>0.0</td>\n",
       "    </tr>\n",
       "  </tbody>\n",
       "</table>\n",
       "</div>"
      ],
      "text/plain": [
       "lang          js   ts\n",
       "timestamp            \n",
       "2014-09-21  24.0  0.0\n",
       "2014-09-28  45.0  0.0\n",
       "2014-10-05  67.0  0.0\n",
       "2014-10-12  72.0  0.0\n",
       "2014-10-19  78.0  0.0"
      ]
     },
     "execution_count": 5,
     "metadata": {},
     "output_type": "execute_result"
    }
   ],
   "source": [
    "log_timed_unstacked = log_timed.unstack().fillna(0).cumsum()\n",
    "log_timed_unstacked.head()"
   ]
  },
  {
   "cell_type": "markdown",
   "id": "d564b342",
   "metadata": {
    "slideshow": {
     "slide_type": "slide"
    }
   },
   "source": [
    "### Visualize the progress of the migration"
   ]
  },
  {
   "cell_type": "code",
   "execution_count": 6,
   "id": "c00d7b1c",
   "metadata": {
    "slideshow": {
     "slide_type": "-"
    }
   },
   "outputs": [
    {
     "data": {
      "image/png": "[encoded data removed]",
      "text/plain": [
       "<Figure size 640x480 with 1 Axes>"
      ]
     },
     "metadata": {},
     "output_type": "display_data"
    }
   ],
   "source": [
    "log_timed_unstacked.plot();"
   ]
  },
  {
   "cell_type": "markdown",
   "id": "1f3c6f21",
   "metadata": {
    "slideshow": {
     "slide_type": "slide"
    }
   },
   "source": [
    "### Get into more details regarding the first migration"
   ]
  },
  {
   "cell_type": "code",
   "execution_count": 7,
   "id": "23d5fd58",
   "metadata": {
    "slideshow": {
     "slide_type": "-"
    }
   },
   "outputs": [
    {
     "data": {
      "image/png": "[encoded data removed]",
      "text/plain": [
       "<Figure size 640x480 with 1 Axes>"
      ]
     },
     "metadata": {},
     "output_type": "display_data"
    }
   ],
   "source": [
    "log_timed_unstacked.loc['2015':'2016'].plot(title=\"Migration progress from JavaScript to TypeScript\", ylabel=\"files\");"
   ]
  },
  {
   "cell_type": "markdown",
   "id": "0388a955",
   "metadata": {
    "slideshow": {
     "slide_type": "slide"
    }
   },
   "source": [
    "### End"
   ]
  }
 ],
 "metadata": {
  "celltoolbar": "Slideshow",
  "kernelspec": {
   "display_name": "Python 3 (ipykernel)",
   "language": "python",
   "name": "python3"
  },
  "language_info": {
   "codemirror_mode": {
    "name": "ipython",
    "version": 3
   },
   "file_extension": ".py",
   "mimetype": "text/x-python",
   "name": "python",
   "nbconvert_exporter": "python",
   "pygments_lexer": "ipython3",
   "version": "3.9.18"
  },
  "rise": {
   "controls": false,
   "showSlideNumber": "speaker",
   "slideNumber ": "false",
   "transition": "none"
  }
 },
 "nbformat": 4,
 "nbformat_minor": 5
}
