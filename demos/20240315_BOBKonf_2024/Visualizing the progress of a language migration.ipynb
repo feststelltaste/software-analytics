{
 "cells": [
  {
   "cell_type": "markdown",
   "id": "d6cb3cb3",
   "metadata": {
    "slideshow": {
     "slide_type": "slide"
    }
   },
   "source": [
    "# Visualizing the progress of a language migration"
   ]
  },
  {
   "cell_type": "markdown",
   "id": "592d2ec8",
   "metadata": {
    "slideshow": {
     "slide_type": "fragment"
    }
   },
   "source": [
    "or: how to show non-developers that we're working under the hood of a software system successfully"
   ]
  },
  {
   "cell_type": "markdown",
   "id": "f59d471a",
   "metadata": {
    "slideshow": {
     "slide_type": "slide"
    }
   },
   "source": [
    "### Take a look at the raw dataset"
   ]
  },
  {
   "cell_type": "code",
   "execution_count": null,
   "id": "368fac8c",
   "metadata": {
    "slideshow": {
     "slide_type": "-"
    }
   },
   "outputs": [],
   "source": [
    "!head ../dataset/angular_file_commit_history.csv"
   ]
  },
  {
   "cell_type": "markdown",
   "id": "4cacabad",
   "metadata": {
    "slideshow": {
     "slide_type": "slide"
    }
   },
   "source": [
    "### Read in the data from Git log"
   ]
  },
  {
   "cell_type": "code",
   "execution_count": null,
   "id": "bdc09d53",
   "metadata": {
    "slideshow": {
     "slide_type": "-"
    }
   },
   "outputs": [],
   "source": [
    "import pandas as pd\n",
    "\n",
    "log = pd.read_csv(\"../dataset/angular_file_commit_history.csv\", parse_dates=[1])\n",
    "log.head()"
   ]
  },
  {
   "cell_type": "markdown",
   "id": "056d09aa",
   "metadata": {
    "slideshow": {
     "slide_type": "slide"
    }
   },
   "source": [
    "### Get the info about the programming language used"
   ]
  },
  {
   "cell_type": "code",
   "execution_count": null,
   "id": "833fd592",
   "metadata": {
    "slideshow": {
     "slide_type": "-"
    }
   },
   "outputs": [],
   "source": [
    "log['lang'] = log['file_path'].str.rsplit(\".\", n=1).str[-1]\n",
    "log.head()"
   ]
  },
  {
   "cell_type": "markdown",
   "id": "a6e57fc4",
   "metadata": {
    "slideshow": {
     "slide_type": "slide"
    }
   },
   "source": [
    "### Map added and deleted lines to numbers"
   ]
  },
  {
   "cell_type": "code",
   "execution_count": null,
   "id": "4bbc1043",
   "metadata": {
    "slideshow": {
     "slide_type": "-"
    }
   },
   "outputs": [],
   "source": [
    "log.loc[log['action'] == \"A\", \"count\"] = 1\n",
    "log.loc[log['action'] == \"D\", \"count\"] = -1\n",
    "log.head()"
   ]
  },
  {
   "cell_type": "markdown",
   "id": "6adaca80",
   "metadata": {
    "slideshow": {
     "slide_type": "slide"
    }
   },
   "source": [
    "### Group changes to weekly numbers"
   ]
  },
  {
   "cell_type": "code",
   "execution_count": null,
   "id": "973400fb",
   "metadata": {
    "slideshow": {
     "slide_type": "-"
    }
   },
   "outputs": [],
   "source": [
    "log_timed = log.groupby([pd.Grouper(key=\"timestamp\", freq=\"1w\"), \"lang\"])['count'].sum()\n",
    "log_timed.head()"
   ]
  },
  {
   "cell_type": "markdown",
   "id": "19e4de6a",
   "metadata": {
    "slideshow": {
     "slide_type": "slide"
    }
   },
   "source": [
    "### Calculate data for showing the progress"
   ]
  },
  {
   "cell_type": "code",
   "execution_count": null,
   "id": "54907099",
   "metadata": {
    "slideshow": {
     "slide_type": "-"
    }
   },
   "outputs": [],
   "source": [
    "log_timed_unstacked = log_timed.unstack().fillna(0).cumsum()\n",
    "log_timed_unstacked.head()"
   ]
  },
  {
   "cell_type": "markdown",
   "id": "d564b342",
   "metadata": {
    "slideshow": {
     "slide_type": "slide"
    }
   },
   "source": [
    "### Visualize the progress of the migration"
   ]
  },
  {
   "cell_type": "code",
   "execution_count": null,
   "id": "c00d7b1c",
   "metadata": {
    "slideshow": {
     "slide_type": "-"
    }
   },
   "outputs": [],
   "source": [
    "log_timed_unstacked.plot();"
   ]
  },
  {
   "cell_type": "markdown",
   "id": "1f3c6f21",
   "metadata": {
    "slideshow": {
     "slide_type": "slide"
    }
   },
   "source": [
    "### Get into more details regarding the first migration"
   ]
  },
  {
   "cell_type": "code",
   "execution_count": null,
   "id": "23d5fd58",
   "metadata": {
    "slideshow": {
     "slide_type": "-"
    }
   },
   "outputs": [],
   "source": [
    "log_timed_unstacked.loc['2015':'2016'].plot(title=\"Migration progress from JavaScript to TypeScript\", ylabel=\"files\");"
   ]
  },
  {
   "cell_type": "markdown",
   "id": "0388a955",
   "metadata": {
    "slideshow": {
     "slide_type": "slide"
    }
   },
   "source": [
    "### End"
   ]
  }
 ],
 "metadata": {
  "celltoolbar": "Slideshow",
  "kernelspec": {
   "display_name": "Python 3 (ipykernel)",
   "language": "python",
   "name": "python3"
  },
  "language_info": {
   "codemirror_mode": {
    "name": "ipython",
    "version": 3
   },
   "file_extension": ".py",
   "mimetype": "text/x-python",
   "name": "python",
   "nbconvert_exporter": "python",
   "pygments_lexer": "ipython3",
   "version": "3.9.18"
  },
  "rise": {
   "controls": false,
   "showSlideNumber": "speaker",
   "slideNumber ": "false",
   "transition": "none"
  }
 },
 "nbformat": 4,
 "nbformat_minor": 5
}
