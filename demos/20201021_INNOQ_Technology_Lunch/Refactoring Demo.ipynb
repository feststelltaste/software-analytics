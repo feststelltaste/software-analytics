{
 "cells": [
  {
   "cell_type": "markdown",
   "metadata": {
    "slideshow": {
     "slide_type": "slide"
    }
   },
   "source": [
    "# Nachweis der Umstellung von JDBC auf JPA\n",
    "\n",
    "Jupyter Notebook Demo mit Python, pandas und matplotlib."
   ]
  },
  {
   "cell_type": "markdown",
   "metadata": {
    "slideshow": {
     "slide_type": "skip"
    }
   },
   "source": [
    "## Kontext\n",
    "\n",
    "Diese Analyse weist die Umbauarbeiten aus dem Technical Requirement AB311 nach. Hier soll die Standardisierung hin zu JavaEE 8 vorgenommen werden. In diesem Zuge soll die Datenbankzugriffstechnologie JPA\\* statt JDBC\\*\\* genutzt werden.\n",
    "\n",
    "<sub><sup>\\*JPA: Java Persistence API (neuere Zugriffsmöglichkeit auf eine Datenbank)</sub></sup><br/>\n",
    "<sub><sup>\\*\\*JDBC: Java Database Connectivity (klassische Zugriffsmöglichkeit auf Datenbank)</sub></sup>\n"
   ]
  },
  {
   "cell_type": "markdown",
   "metadata": {
    "slideshow": {
     "slide_type": "skip"
    }
   },
   "source": [
    "## Idee\n",
    "\n",
    "### Tracking der Änderungen über das Versionskontrollsystem\n",
    "Einlesen der Entwicklungshistorie mit Projektstand vom 15.01.2019 aus dem Versionskontrollsystem der Software."
   ]
  },
  {
   "cell_type": "code",
   "execution_count": null,
   "metadata": {
    "slideshow": {
     "slide_type": "skip"
    }
   },
   "outputs": [],
   "source": []
  },
  {
   "cell_type": "markdown",
   "metadata": {
    "slideshow": {
     "slide_type": "skip"
    }
   },
   "source": [
    "### Erkennung der Framework-Komponenten"
   ]
  },
  {
   "cell_type": "markdown",
   "metadata": {
    "slideshow": {
     "slide_type": "skip"
    }
   },
   "source": [
    "Mit Hilfe eines regulären Ausdrucks können die beiden Datenbankzugriffstechnologien aus dem Dateipfad extrahiert werden. Alle sonstigen Dateien werden mittels `dropna()` herausgefiltert."
   ]
  },
  {
   "cell_type": "code",
   "execution_count": null,
   "metadata": {
    "slideshow": {
     "slide_type": "skip"
    }
   },
   "outputs": [],
   "source": []
  },
  {
   "cell_type": "markdown",
   "metadata": {
    "slideshow": {
     "slide_type": "skip"
    }
   },
   "source": [
    "## Analyse"
   ]
  },
  {
   "cell_type": "markdown",
   "metadata": {
    "slideshow": {
     "slide_type": "skip"
    }
   },
   "source": [
    "### Arbeitsfortschritt\n",
    "Um den Fortschritt nachvollziehen zu können, berechnen wir als Annäherung die geänderten Quellcodezeilen."
   ]
  },
  {
   "cell_type": "code",
   "execution_count": null,
   "metadata": {
    "slideshow": {
     "slide_type": "skip"
    }
   },
   "outputs": [],
   "source": []
  },
  {
   "cell_type": "markdown",
   "metadata": {
    "slideshow": {
     "slide_type": "skip"
    }
   },
   "source": [
    "### Zeitliche Zusammenführung\n",
    "Die jeweiligen Fortschritte werden nach ihren Zeitstempeln zusammengeführt.\n"
   ]
  },
  {
   "cell_type": "code",
   "execution_count": null,
   "metadata": {
    "slideshow": {
     "slide_type": "skip"
    }
   },
   "outputs": [],
   "source": []
  },
  {
   "cell_type": "markdown",
   "metadata": {
    "slideshow": {
     "slide_type": "skip"
    }
   },
   "source": [
    "### Darstellung\n",
    "Für den Vergleich der Fortschritte werden beide Technologien nebeneinander aufgeführt."
   ]
  },
  {
   "cell_type": "code",
   "execution_count": null,
   "metadata": {
    "slideshow": {
     "slide_type": "skip"
    }
   },
   "outputs": [],
   "source": []
  },
  {
   "cell_type": "markdown",
   "metadata": {
    "slideshow": {
     "slide_type": "slide"
    }
   },
   "source": [
    "### Derzeitiger Stand der Technologieumstellung\n",
    "Dargestellt nach den Zeilenänderungen je Technologie."
   ]
  },
  {
   "cell_type": "code",
   "execution_count": null,
   "metadata": {
    "slideshow": {
     "slide_type": "-"
    }
   },
   "outputs": [],
   "source": []
  },
  {
   "cell_type": "markdown",
   "metadata": {
    "slideshow": {
     "slide_type": "slide"
    }
   },
   "source": [
    "## Ergebnis\n",
    "- Die Umbauarbeiten sind gut vorangeschritten.\n",
    "- Es gibt keine Änderungen mehr im JDBC-Teil.\n",
    "- Ein komplettes Löschen der restlichen JDBC-Bestandteile kann in den nächsten beiden Sprints stattfinden, da bereits alles auf JPA umgestellt wurde."
   ]
  }
 ],
 "metadata": {
  "kernelspec": {
   "display_name": "Python 3",
   "language": "python",
   "name": "python3"
  },
  "language_info": {
   "codemirror_mode": {
    "name": "ipython",
    "version": 3
   },
   "file_extension": ".py",
   "mimetype": "text/x-python",
   "name": "python",
   "nbconvert_exporter": "python",
   "pygments_lexer": "ipython3",
   "version": "3.8.3"
  },
  "rise": {
   "controls": false,
   "showSlideNumber": "speaker",
   "slideNumber ": "false",
   "transition": "none"
  }
 },
 "nbformat": 4,
 "nbformat_minor": 2
}
