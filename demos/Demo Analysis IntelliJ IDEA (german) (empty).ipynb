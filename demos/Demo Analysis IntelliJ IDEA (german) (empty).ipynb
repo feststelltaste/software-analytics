{
    "cells": [
        {
            "cell_type": "markdown",
            "metadata": {
                "slideshow": {
                    "slide_type": "slide"
                }
            },
            "source": [
                "## Programmierbeispiel"
            ]
        },
        {
            "cell_type": "markdown",
            "metadata": {
                "slideshow": {
                    "slide_type": "slide"
                }
            },
            "source": [
                "### Fallbeispiel\n",
                "\n",
                "#### IntelliJ IDEA\n",
                "\n",
                "* IDE f\u00fcr Java-Entwickler\n",
                "* Fast komplett in Java geschrieben\n",
                "* Gro\u00dfes und lang aktives Projekt"
            ]
        },
        {
            "cell_type": "markdown",
            "metadata": {
                "slideshow": {
                    "slide_type": "slide"
                }
            },
            "source": [
                "### I. Fragestellung (1/3)\n",
                "\n",
                "* Schreibe die Frage explizit auf\n",
                "* Erkl\u00e4re die Anayseidee verst\u00e4ndlich\n"
            ]
        },
        {
            "cell_type": "markdown",
            "metadata": {
                "slideshow": {
                    "slide_type": "slide"
                }
            },
            "source": [
                "### I. Fragestellung (2/3)\n",
                "\n",
                "<b>Frage</b>\n",
                "* Welche Quellcodedateien sind besonders komplex und \u00e4nderten sich in letzter Zeit h\u00e4ufig?\n"
            ]
        },
        {
            "cell_type": "markdown",
            "metadata": {
                "slideshow": {
                    "slide_type": "slide"
                }
            },
            "source": [
                "### I. Fragestellung (3/3)\n",
                "#### Umsetzungsideen\n",
                "* Werkzeuge: Jupyter, Python, pandas, matplotlib\n",
                "* Heuristiken:\n",
                " * \"komplex\": viele Quellcodezeilen\n",
                " * \"\u00e4ndert ... h\u00e4ufig\": hohe Anzahl Commits\n",
                " * \"in letzter Zeit\": letzte 90 Tage\n"
            ]
        },
        {
            "cell_type": "markdown",
            "metadata": {
                "slideshow": {
                    "slide_type": "fragment"
                }
            },
            "source": [
                "**Meta-Ziel:** Grundmechaniken kennenlernen."
            ]
        },
        {
            "cell_type": "markdown",
            "metadata": {
                "slideshow": {
                    "slide_type": "slide"
                }
            },
            "source": [
                "### II. Explorative Datenanalyse\n",
                "* Finde und lade m\u00f6gliche Softwaredaten\n",
                "* Bereinige und filtere die Rohdaten"
            ]
        },
        {
            "cell_type": "markdown",
            "metadata": {
                "slideshow": {
                    "slide_type": "slide"
                }
            },
            "source": [
                "*Wir laden einen Datenexport aus einem Git-Repository.*"
            ]
        },
        {
            "cell_type": "code",
            "execution_count": null,
            "metadata": {
                "slideshow": {
                    "slide_type": "fragment"
                },
                "tags": [
                    "delete"
                ]
            },
            "outputs": [],
            "source": []
        },
        {
            "cell_type": "markdown",
            "metadata": {
                "slideshow": {
                    "slide_type": "slide"
                }
            },
            "source": [
                "*Wir sehen uns Basisinfos \u00fcber den Datensatz an.*"
            ]
        },
        {
            "cell_type": "code",
            "execution_count": null,
            "metadata": {
                "slideshow": {
                    "slide_type": "-"
                },
                "tags": [
                    "delete"
                ]
            },
            "outputs": [],
            "source": []
        },
        {
            "cell_type": "markdown",
            "metadata": {
                "slideshow": {
                    "slide_type": "fragment"
                }
            },
            "source": [
                "<b>1</b> **DataFrame** (~ programmierbares Excel-Arbeitsblatt), <b>6</b> **Series** (= Spalten), <b>1128819</b> **entries** (= Reihen)"
            ]
        },
        {
            "cell_type": "markdown",
            "metadata": {
                "slideshow": {
                    "slide_type": "slide"
                }
            },
            "source": [
                "*Wir wandeln die Zeitstempel von Texte in Objekte um.*"
            ]
        },
        {
            "cell_type": "code",
            "execution_count": null,
            "metadata": {
                "scrolled": true,
                "slideshow": {
                    "slide_type": "-"
                },
                "tags": [
                    "delete"
                ]
            },
            "outputs": [],
            "source": []
        },
        {
            "cell_type": "markdown",
            "metadata": {
                "slideshow": {
                    "slide_type": "slide"
                }
            },
            "source": [
                "*Wir sehen uns nur die j\u00fcngsten \u00c4nderungen an.*"
            ]
        },
        {
            "cell_type": "code",
            "execution_count": null,
            "metadata": {
                "scrolled": true,
                "slideshow": {
                    "slide_type": "-"
                },
                "tags": [
                    "delete"
                ]
            },
            "outputs": [],
            "source": []
        },
        {
            "cell_type": "markdown",
            "metadata": {
                "slideshow": {
                    "slide_type": "slide"
                }
            },
            "source": [
                "*Wir wollen nur Java-Code verwenden.*"
            ]
        },
        {
            "cell_type": "code",
            "execution_count": null,
            "metadata": {
                "slideshow": {
                    "slide_type": "-"
                },
                "tags": [
                    "delete"
                ]
            },
            "outputs": [],
            "source": []
        },
        {
            "cell_type": "markdown",
            "metadata": {
                "slideshow": {
                    "slide_type": "slide"
                }
            },
            "source": [
                "### III. Formale Modellierung\n",
                "\n",
                "* Schaffe neue Sichten\n",
                "* Verschneide weitere Daten"
            ]
        },
        {
            "cell_type": "markdown",
            "metadata": {
                "slideshow": {
                    "slide_type": "slide"
                }
            },
            "source": [
                "*Wir z\u00e4hlen die Anzahl der \u00c4nderungen je Datei.*"
            ]
        },
        {
            "cell_type": "code",
            "execution_count": null,
            "metadata": {
                "slideshow": {
                    "slide_type": "-"
                },
                "tags": [
                    "delete"
                ]
            },
            "outputs": [],
            "source": []
        },
        {
            "cell_type": "markdown",
            "metadata": {
                "slideshow": {
                    "slide_type": "slide"
                }
            },
            "source": [
                "*Wir holen Infos \u00fcber die Code-Zeilen hinzu...*"
            ]
        },
        {
            "cell_type": "code",
            "execution_count": null,
            "metadata": {
                "slideshow": {
                    "slide_type": "-"
                },
                "tags": [
                    "delete"
                ]
            },
            "outputs": [],
            "source": []
        },
        {
            "cell_type": "markdown",
            "metadata": {
                "slideshow": {
                    "slide_type": "slide"
                }
            },
            "source": [
                "*...und verschneiden diese mit den vorhandenen Daten.*"
            ]
        },
        {
            "cell_type": "code",
            "execution_count": null,
            "metadata": {
                "slideshow": {
                    "slide_type": "-"
                },
                "tags": [
                    "delete"
                ]
            },
            "outputs": [],
            "source": []
        },
        {
            "cell_type": "markdown",
            "metadata": {
                "slideshow": {
                    "slide_type": "slide"
                }
            },
            "source": [
                "### VI. Interpretation\n",
                "* Erarbeite das Kernergebnis der Analyse heraus\n",
                "* Mache die zentrale Botschaft / neuen Erkenntnisse deutlich"
            ]
        },
        {
            "cell_type": "markdown",
            "metadata": {
                "slideshow": {
                    "slide_type": "slide"
                }
            },
            "source": [
                "*Wir zeigen nur die TOP 10 Hotspots im Code an.*"
            ]
        },
        {
            "cell_type": "code",
            "execution_count": null,
            "metadata": {
                "slideshow": {
                    "slide_type": "-"
                },
                "tags": [
                    "delete"
                ]
            },
            "outputs": [],
            "source": []
        },
        {
            "cell_type": "markdown",
            "metadata": {
                "slideshow": {
                    "slide_type": "slide"
                }
            },
            "source": [
                "### V. Kommunikation\n",
                "* Transformiere die Erkenntnisse in eine verst\u00e4ndliche Visualisierung\n",
                "* Kommuniziere die n\u00e4chsten Schritte nach der Analyse"
            ]
        },
        {
            "cell_type": "markdown",
            "metadata": {
                "slideshow": {
                    "slide_type": "slide"
                }
            },
            "source": [
                "*Wir erzeugen ein XY-Diagramm aus der TOP 10 Liste.*"
            ]
        },
        {
            "cell_type": "code",
            "execution_count": null,
            "metadata": {
                "slideshow": {
                    "slide_type": "-"
                },
                "tags": [
                    "delete"
                ]
            },
            "outputs": [],
            "source": []
        },
        {
            "cell_type": "markdown",
            "metadata": {
                "slideshow": {
                    "slide_type": "slide"
                }
            },
            "source": [
                "Bonus: Welche Dateien \u00e4ndern sich besonders h\u00e4ufig im Allgemeinen?"
            ]
        },
        {
            "cell_type": "code",
            "execution_count": 18,
            "metadata": {
                "slideshow": {
                    "slide_type": "-"
                }
            },
            "outputs": [
                {
                    "data": {
                        "text/plain": [
                            "filename\n",
                            "platform/structuralsearch/source/com/intellij/structuralsearch/plugin/ui/StructuralSearchDialog.java    83\n",
                            "platform/platform-impl/src/com/intellij/idea/IdeaApplication.java                                       71\n",
                            "platform/core-impl/src/com/intellij/ide/plugins/PluginManagerCore.java                                  67\n",
                            "platform/platform-impl/src/com/intellij/openapi/project/impl/ProjectManagerImpl.java                    65\n",
                            "java/java-analysis-impl/src/com/intellij/codeInspection/dataFlow/TrackingRunner.java                    63\n",
                            "platform/lang-impl/src/com/intellij/build/BuildTreeConsoleView.java                                     63\n",
                            "platform/platform-impl/src/com/intellij/idea/StartupUtil.java                                           62\n",
                            "platform/platform-impl/src/com/intellij/ide/plugins/PluginManagerConfigurableNewLayout.java             60\n",
                            "platform/platform-impl/src/com/intellij/ide/ui/laf/darcula/ui/DarculaComboBoxUI.java                    59\n",
                            "java/structuralsearch-java/src/com/intellij/structuralsearch/JavaStructuralSearchProfile.java           57\n",
                            "Name: sha, dtype: int64"
                        ]
                    },
                    "execution_count": 18,
                    "metadata": {},
                    "output_type": "execute_result"
                }
            ],
            "source": [
                "most_changes = hotspots['sha'].sort_values(ascending=False)\n",
                "most_changes.head(10)"
            ]
        },
        {
            "cell_type": "markdown",
            "metadata": {
                "slideshow": {
                    "slide_type": "slide"
                }
            },
            "source": [
                "*Wir visualisieren dies mit einem einfachen Liniendiagramm.*"
            ]
        },
        {
            "cell_type": "code",
            "execution_count": 19,
            "metadata": {
                "slideshow": {
                    "slide_type": "-"
                }
            },
            "outputs": [
                {
                    "data": {
                        "image/png": "[encoded data removed]",
                        "text/plain": [
                            "<Figure size 432x288 with 1 Axes>"
                        ]
                    },
                    "metadata": {
                        "needs_background": "light"
                    },
                    "output_type": "display_data"
                }
            ],
            "source": [
                "most_changes.plot(rot=90);"
            ]
        },
        {
            "cell_type": "markdown",
            "metadata": {
                "slideshow": {
                    "slide_type": "slide"
                }
            },
            "source": [
                "### Ende der Demo"
            ]
        }
    ],
    "metadata": {
        "celltoolbar": "Slideshow",
        "kernelspec": {
            "display_name": "Python 3",
            "language": "python",
            "name": "python3"
        },
        "language_info": {
            "codemirror_mode": {
                "name": "ipython",
                "version": 3
            },
            "file_extension": ".py",
            "mimetype": "text/x-python",
            "name": "python",
            "nbconvert_exporter": "python",
            "pygments_lexer": "ipython3",
            "version": "3.8.3"
        },
        "rise": {
            "controls": false,
            "showSlideNumber": false,
            "slideNumber ": "false",
            "transition": "none"
        }
    },
    "nbformat": 4,
    "nbformat_minor": 2
}