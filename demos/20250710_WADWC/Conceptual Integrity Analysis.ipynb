{
 "cells": [
  {
   "cell_type": "markdown",
   "metadata": {},
   "source": [
    "# Conceptual Integrity Analysis\n",
    "\n",
    "## Introduction\n",
    "This notebook applies *software archaeology techniques* to assess the **conceptual integrity** of a legacy or existing codebase. It helps uncover how well the actual implementation aligns with intended architectural and domain-level concepts — revealing the underlying structure beneath the surface.\n",
    "\n",
    "### Approach\n",
    "\n",
    "1. **Conceptual Map (Typology)**\n",
    "   We start with a `concepts.yaml` file — our catalog of expected *technical* (e.g., Entity, Gateway, Interactor) and *business* (e.g., User, Order, Product) concepts. Each concept comes with a description, rationale, and file pattern hints (`file_globs`) — our typological schema.\n",
    "\n",
    "2. **Excavation & Mapping**\n",
    "   The codebase is scanned to locate artifacts (files) matching these patterns. We also detect *outliers* — files that don’t clearly belong to any known conceptual group.\n",
    "\n",
    "3. **AI-Based Interpretation**\n",
    "   A Large Language Model (LLM) examines the source code in context and evaluates how well each file reflects its assigned concept. It uses a structured prompt and responds with a confidence score (0.0 to 1.0) — helping us detect weak or partial conceptual alignment.\n",
    "\n",
    "4. **Topological Visualization**\n",
    "   The results are visualized as interactive treemaps and summary plots. These diagrams expose:\n",
    "\n",
    "   * **Well-sorted clusters** of cohesive concept groups\n",
    "   * **Cross-contamination** between architectural layers\n",
    "   * **Conceptual voids** and **code graves**\n",
    "   * Potential signs of **architectural drift**\n",
    "\n",
    "### Outcome\n",
    "This AI-supported exploration equips you to:\n",
    "\n",
    "* Reveal implicit structures buried in legacy code\n",
    "* Understand how your system has evolved over time\n",
    "* Identify candidates for refactoring or clarification\n",
    "* Lay a solid foundation for thoughtful modernization"
   ]
  },
  {
   "cell_type": "markdown",
   "metadata": {},
   "source": [
    "## 1. Imports and Setup\n",
    "\n",
    "This section imports the necessary Python libraries for the analysis. We use standard libraries for file operations, data handling (pandas), plotting (Matplotlib, Seaborn, Plotly), and interacting with the OpenAI API."
   ]
  },
  {
   "cell_type": "code",
   "execution_count": 1,
   "metadata": {},
   "outputs": [],
   "source": [
    "# --- Standard Library ---\n",
    "import os                        # File and directory operations\n",
    "import glob                      # Pattern matching for file paths\n",
    "from pathlib import Path         # Object-oriented filesystem paths\n",
    "from collections import defaultdict  # Simplified dict with default values\n",
    "\n",
    "# --- Data Handling & Structures ---\n",
    "import yaml                      # YAML file loading\n",
    "import numpy as np               # Numerical arrays and math\n",
    "import pandas as pd              # DataFrames and data analysis\n",
    "\n",
    "# --- Plotting ---\n",
    "import matplotlib.pyplot as plt  # Basic plotting\n",
    "import seaborn as sns            # Statistical plots built on top of matplotlib\n",
    "import plotly.express as px              # High-level plotting API\n",
    "import plotly.graph_objects as go        # Low-level figure components\n",
    "from plotly.subplots import make_subplots  # Subplot layout management\n",
    "\n",
    "# --- OpenAI API ---\n",
    "from openai import OpenAI        # LLM-based concept scoring (custom client assumed)\n",
    "\n",
    "# --- Jupyter Notebook Utilities ---\n",
    "from IPython.display import display, update_display  # Dynamic output updates\n",
    "from tqdm.notebook import tqdm   # Interactive progress bars in notebooks"
   ]
  },
  {
   "attachments": {},
   "cell_type": "markdown",
   "metadata": {},
   "source": [
    "## 2. Configuration\n",
    "\n",
    "### 2.1 Project information\n",
    "Here, we set up the core parameters for the analysis.\n",
    "\n",
    "- `BASE_PATH`: The root directory of the source code we want to analyze.\n",
    "- `CONCEPTS_FILE_PATH`: The path to the YAML file where our business and technical concepts are defined.\n",
    "- `PROJECT_NAME`: The name of the project, extracted from the base path. This is used for labeling outputs.\n",
    "- `MODEL`: The identifier for the Large Language Model (LLM) we will use for the assessment. This example uses a model available through the OpenRouter API.\n",
    "\n",
    "Regarding the concepts file: this work must be done in a previous step. Use e.g. the following prompt to get a base line for your software system:\n",
    "\n",
    "```\n",
    "Analyze the production Java code in this codebase and extract distinct concepts. Categorize them into two groups:\n",
    "- technical_concepts: architectural patterns, design tactics, or technical structures\n",
    "- business_concepts: domain-relevant ideas, rules, or terms that represent key business logic\n",
    "For each concept, provide:\n",
    "- name: a short, descriptive name\n",
    "- explanation: a concise description of what the concept is\n",
    "- rationale: why this concept likely exists in the codebase (technical or domain motivation)\n",
    "- file_globs: glob-style patterns of the used naming conventions to identify where this concept appears in the codebase (e.g., **/**Service.java, **/invoicing/**.java)\n",
    "Output the result as a well-structured YAML file with two top-level sections: technical_concepts and business_concepts. Focus only on Java production code (exclude test files, scripts, and configuration files).\n",
    "```\n",
    "\n",
    "You need then to revise the output or (especially for larger software) need to execute some advanced analyses to get these data."
   ]
  },
  {
   "cell_type": "code",
   "execution_count": 2,
   "metadata": {},
   "outputs": [],
   "source": [
    "BASE_PATH = \"../../../dropover-at/\"\n",
    "CONCEPTS_FILE_PATH=os.path.join(BASE_PATH, \"concepts.yaml\")\n",
    "PROJECT_NAME = BASE_PATH.split(os.sep)[-2]\n",
    "MODEL=\"google/gemini-2.5-flash\""
   ]
  },
  {
   "cell_type": "markdown",
   "metadata": {},
   "source": [
    "### 2.2 LLM setup\n",
    "An instance of the OpenAI client, configured to point to the OpenRouter API endpoint. You could even use Ollama with Local LLMs here!"
   ]
  },
  {
   "cell_type": "code",
   "execution_count": 3,
   "metadata": {},
   "outputs": [],
   "source": [
    "client = OpenAI(\n",
    "    base_url=\"https://openrouter.ai/api/v1\",\n",
    "    api_key=os.getenv(\"OPENROUTER_API_KEY\")\n",
    ")"
   ]
  },
  {
   "cell_type": "markdown",
   "metadata": {},
   "source": [
    "## 3. Load Concepts and Source Files\n",
    "\n",
    "Now, we load the necessary data for our analysis:\n",
    "1.  **Concepts:** We parse the `concepts.yaml` file to get the definitions, descriptions, and file patterns for both business and technical concepts.\n",
    "2.  **Source Files:** We find all production Java source files (`*.java`) within the project. We specifically target the `src/main/java` directory, which is the standard for Maven projects, and exclude `package-info.java` files as they don't contain implementation logic."
   ]
  },
  {
   "cell_type": "code",
   "execution_count": 4,
   "metadata": {},
   "outputs": [
    {
     "name": "stdout",
     "output_type": "stream",
     "text": [
      "Loaded\n",
      "- 11 technical concepts\n",
      "- 7 business concepts\n",
      "for project dropover-at\n",
      "Total Java files: 214\n"
     ]
    }
   ],
   "source": [
    "concepts_data = {}\n",
    "\n",
    "with open(CONCEPTS_FILE_PATH, 'r') as file:\n",
    "    concepts_data =  yaml.safe_load(file)\n",
    "\n",
    "print(\"Loaded\")\n",
    "for concept_type in concepts_data.keys():\n",
    "    print(f\"- {len(concepts_data.get(concept_type, []))} {concept_type.replace(\"_\", \" \")}\")\n",
    "print(f\"for project {PROJECT_NAME}\")\n",
    "\n",
    "# this is a Maven project, so prod files are in a specific directory\n",
    "all_java_files = glob.glob(BASE_PATH + \"**/src/main/java/**/*.java\", recursive=True)\n",
    "# remove the info files for packages\n",
    "all_java_files = [file for file in all_java_files if not \"package-info.java\" in file]\n",
    "print(f\"Total Java files: {len(all_java_files)}\")"
   ]
  },
  {
   "cell_type": "markdown",
   "metadata": {},
   "source": [
    "## 4. Concept-to-File Mapping\n",
    "\n",
    "Here, we map the concepts to the source code files using the provided glob patterns in the concepts file.\n",
    "\n",
    "- **Matching:** We iterate through each concept and use its `file_globs` patterns to find all matching files in the codebase. This gives us a dictionary where each concept maps to a list of files that are *supposed* to represent it.\n",
    "- **Statistics:** We print statistics on how many files are associated with each concept. This gives a first impression of the conceptual footprint in the code.\n",
    "- **Unmatched Files:** Crucially, we also identify the set of Java files that do **not** match any of the defined concepts. These are \"rogue\" files that may represent hidden or undocumented concepts, or simply code that lacks a clear architectural role.\n",
    "\n",
    "*Warning: this calcuation might take some seconds depending on the project's size*"
   ]
  },
  {
   "cell_type": "code",
   "execution_count": 5,
   "metadata": {},
   "outputs": [
    {
     "name": "stdout",
     "output_type": "stream",
     "text": [
      "Matched Files Statistics:\n",
      "\n",
      "technical_concepts:\n",
      "  Concepts: 11\n",
      "    Boundary: 67 file(s)\n",
      "    Interactor: 65 file(s)\n",
      "    Entity: 12 file(s)\n",
      "    Gateway: 17 file(s)\n",
      "    Delivery: 51 file(s)\n",
      "    RESTful API: 15 file(s)\n",
      "    Dependency Injection: 3 file(s)\n",
      "    Request Model: 30 file(s)\n",
      "    Response Model: 22 file(s)\n",
      "    POJO Entities: 10 file(s)\n",
      "    Validation: 13 file(s)\n",
      "business_concepts:\n",
      "  Concepts: 7\n",
      "    Site: 36 file(s)\n",
      "    Comment: 41 file(s)\n",
      "    Creator: 14 file(s)\n",
      "    File: 34 file(s)\n",
      "    Scheduling: 67 file(s)\n",
      "    Todo List: 63 file(s)\n",
      "    Mail Notification: 16 file(s)\n",
      "\n",
      "Files NOT matching any concept: 21\n"
     ]
    }
   ],
   "source": [
    "matched_files_dict = {}\n",
    "\n",
    "for concept_type in concepts_data.keys():\n",
    "    matched_files_dict[concept_type] = {}\n",
    "    concepts = concepts_data.get(concept_type, [])\n",
    "\n",
    "    for concept in concepts:\n",
    "        concept_name = concept.get('name')\n",
    "        files = []\n",
    "\n",
    "        for pattern in concept.get('file_globs', []):\n",
    "            matching_files = glob.glob(os.path.join(BASE_PATH, pattern), recursive=True)\n",
    "            files.extend(matching_files)\n",
    "\n",
    "        matched_files_dict[concept_type][concept_name] = list(set(files))  # remove duplicates\n",
    "\n",
    "# Print statistics\n",
    "print(\"Matched Files Statistics:\\n\")\n",
    "total_concepts = 0\n",
    "total_files = set()\n",
    "\n",
    "for concept_type, concepts in matched_files_dict.items():\n",
    "    print(f\"{concept_type}:\")\n",
    "    print(f\"  Concepts: {len(concepts)}\")\n",
    "    concept_file_counts = [len(files) for files in concepts.values()]\n",
    "    for concept_name, files in concepts.items():\n",
    "        print(f\"    {concept_name}: {len(files)} file(s)\")\n",
    "        total_files.update(files)\n",
    "    total_concepts += len(concepts)\n",
    "\n",
    "matched_files = set()\n",
    "for type_dict in matched_files_dict.values():\n",
    "    for file_list in type_dict.values():\n",
    "        matched_files.update(file_list)\n",
    "        \n",
    "unmatched_files = set(all_java_files) - matched_files\n",
    "print(f\"\\nFiles NOT matching any concept: {len(unmatched_files)}\")"
   ]
  },
  {
   "cell_type": "markdown",
   "metadata": {},
   "source": [
    "### Matched vs. Unmatched Code Ratio\n",
    "\n",
    "This pie chart provides a high-level overview of the codebase's conceptual coverage. It shows the proportion of source code files that were successfully mapped to a known concept versus those that remain uncategorized. A large \"unmatched\" slice might indicate incomplete concept definitions or significant parts of the system that deviate from the documented architecture. Everything greater than 50 % matched files is already a good start for lager code bases!"
   ]
  },
  {
   "cell_type": "code",
   "execution_count": 6,
   "metadata": {},
   "outputs": [
    {
     "data": {
      "image/png": "[encoded data removed]",
      "text/plain": [
       "<Figure size 640x480 with 1 Axes>"
      ]
     },
     "metadata": {},
     "output_type": "display_data"
    }
   ],
   "source": [
    "plt.pie(\n",
    "    [len(matched_files), len(unmatched_files)],\n",
    "    labels=[\"matched\", \"unmatched\"],\n",
    "    autopct='%1.1f%%'\n",
    ")\n",
    "plt.title(\"Overview of code that belongs and doesn't belong to concepts\")\n",
    "plt.axis('equal')  # keep the pie chart as a circle\n",
    "plt.show()"
   ]
  },
  {
   "cell_type": "markdown",
   "metadata": {},
   "source": [
    "## 5. LLM-Based Concept Assessment\n",
    "\n",
    "This is the core of the analysis. We use a Large Language Model (LLM) to act as a software architecture expert and score how well a given source file implements a specific concept."
   ]
  },
  {
   "cell_type": "markdown",
   "metadata": {},
   "source": [
    "### 5.1 The Assessment Prompt\n",
    "\n",
    "The prompt is carefully engineered to get a reliable, structured response from the LLM.\n",
    "\n",
    "- **Role-Playing:** It instructs the LLM to act as a \"software architecture expert.\"\n",
    "- **Context:** It provides the `name`, `description`, and `rationale` of the concept, along with the full path and source code.\n",
    "- **Clear Task:** It asks for a single `confidence score` between 0.0 and 1.0.\n",
    "- **Constrained Output:** It explicitly requests the format `SCORE: X.X\\nEXPLANATION: [text]`, which makes the output easy to parse automatically.\n",
    "- **Focused Instructions:** It tells the model what to focus on (intent, mechanism, role) and what to ignore (superficial design issues), preventing it from getting sidetracked.\n",
    "\n",
    "This structured approach is key to turning the qualitative task of code review into a quantitative metric.\n",
    "\n",
    "*Hint: If your source code files are too large, think about using treesitter to reduce the amount of tokens by using only relevant structural data.*"
   ]
  },
  {
   "cell_type": "code",
   "execution_count": 7,
   "metadata": {},
   "outputs": [],
   "source": [
    "def create_assessment_prompt(concept, source_code, file_path):\n",
    "    \"\"\"Create a prompt for LLM assessment of how well code implements a concept.\"\"\"\n",
    "    \n",
    "    prompt = f\"\"\"\n",
    "    \n",
    "You are a software architecture expert. Please analyze the following source code and assess how well it implements the specified concept.\n",
    "\n",
    "CONCEPT TO ASSESS:\n",
    "Name: {concept['name']}\n",
    "Description: {concept['description']}\n",
    "Rationale: {concept['rationale']}\n",
    "\n",
    "FILE PATH: {file_path}\n",
    "\n",
    "SOURCE CODE:\n",
    "{source_code}\n",
    "\n",
    "Please provide a confidence score between 0.0 and 1.0 that indicates how certain you are that this source code implements the specified concept:\n",
    "- 0.0 = Definitely does not implement this concept\n",
    "- 0.5 = Uncertain / partially implements the concept\n",
    "- 1.0 = Definitely implements this concept\n",
    "\n",
    "Don't comment on design issues (e.g. lack of encapsulation, code structure quality, etc.) which are here irrelevant for the scoring.\n",
    "\n",
    "Focus on:\n",
    "- Whether the concept is meaningfully and recognizably implemented in the code\n",
    "- Whether its *intent*, *mechanism*, or *role* aligns with the description\n",
    "\n",
    "Respond with ONLY a single number between 0.1 and 1.0, followed by a brief explanation (max 100 words).\n",
    "\n",
    "Format: SCORE: X.X\\nEXPLANATION: [your explanation]\n",
    "\n",
    "\"\"\"\n",
    "    \n",
    "    return prompt"
   ]
  },
  {
   "cell_type": "markdown",
   "metadata": {},
   "source": [
    "### 5.2 The Assessment functions\n",
    "Nothing spectacular here to see: These functions handle calling the configured LLM API. They send a prompt with the concept and source code, then extract a numeric confidence score and a short explanation from the LLM’s response. The result gives us something structured we can work with for further analysis."
   ]
  },
  {
   "cell_type": "code",
   "execution_count": 8,
   "metadata": {},
   "outputs": [
    {
     "name": "stdout",
     "output_type": "stream",
     "text": [
      "LLM assessment functions defined.\n"
     ]
    }
   ],
   "source": [
    "def assess_concept_implementation(concept, source_code, file_path):\n",
    "    \"\"\"Use OpenAI API to assess how well code implements a concept.\"\"\"\n",
    "    prompt = create_assessment_prompt(concept, source_code, file_path)\n",
    "    \n",
    "    try:\n",
    "        completion = client.chat.completions.create(\n",
    "            model=MODEL,\n",
    "            messages=[{\n",
    "                \"role\": \"user\",\n",
    "                \"content\": prompt\n",
    "            }],\n",
    "            temperature=0.1\n",
    "        )\n",
    "\n",
    "        response_text = completion.choices[0].message.content\n",
    "        return parse_assessment_response(response_text)\n",
    "\n",
    "    except Exception as e:\n",
    "        print(f\"Error calling OpenAI API: {e}\")\n",
    "        return 0.0, f\"Error: {e}\"\n",
    "\n",
    "\n",
    "def parse_assessment_response(response_text):\n",
    "    \"\"\"Extract SCORE and EXPLANATION from LLM response.\"\"\"\n",
    "    lines = response_text.split('\\n')\n",
    "    score_line = next((line for line in lines if line.startswith('SCORE:')), '')\n",
    "    explanation_line = next((line for line in lines if line.startswith('EXPLANATION:')), '')\n",
    "\n",
    "    # Extract score\n",
    "    score = 0.0\n",
    "    if score_line:\n",
    "        score_str = score_line.replace('SCORE:', '').strip()\n",
    "        try:\n",
    "            score = float(score_str)\n",
    "        except ValueError:\n",
    "            print(f\"Could not parse score: {score_str}\")\n",
    "\n",
    "    # Extract explanation\n",
    "    explanation = explanation_line.replace('EXPLANATION:', '').strip() if explanation_line else response_text\n",
    "\n",
    "    return score, explanation"
   ]
  },
  {
   "cell_type": "markdown",
   "metadata": {},
   "source": [
    "### 5.2 AI Assessment Loop\n",
    "\n",
    "This function orchestrates the entire assessment process. It iterates through every concept and every file matched to that concept.\n",
    "\n",
    "For each file, it:\n",
    "1.  Reads the source code.\n",
    "2.  Calls the LLM with the assessment prompt.\n",
    "3.  Parses the `score` and `explanation` from the response.\n",
    "4.  Stores the results in a list.\n",
    "\n",
    "**Important Considerations:**\n",
    "- **Cost and Time:** This process involves making many API calls to an LLM, sending the full source code of each file. This can be **slow and expensive**, especially for large projects.\n",
    "- **Caching:** For production use, it would be wise to implement a caching mechanism to avoid re-analyzing files that haven't changed.\n",
    "\n",
    "Finally, the results are compiled into a Pandas DataFrame for further analysis and visualization. We also add a dummy entry for all unmatched files, giving them a score of 0.0."
   ]
  },
  {
   "cell_type": "code",
   "execution_count": 9,
   "metadata": {},
   "outputs": [
    {
     "data": {
      "text/plain": [
       "'Score for the business concept site for file AlphabeticBase26Encoder.java: 0.0'"
      ]
     },
     "metadata": {},
     "output_type": "display_data"
    },
    {
     "data": {
      "application/vnd.jupyter.widget-view+json": {
       "model_id": "8716873c05cb412f912c1fc1511c1ea5",
       "version_major": 2,
       "version_minor": 0
      },
      "text/plain": [
       "Concept Types:   0%|          | 0/2 [00:00<?, ?it/s]"
      ]
     },
     "metadata": {},
     "output_type": "display_data"
    },
    {
     "data": {
      "application/vnd.jupyter.widget-view+json": {
       "model_id": "0f373df7a5f44bb59cf9ce3fc567bca4",
       "version_major": 2,
       "version_minor": 0
      },
      "text/plain": [
       "Processing technical concepts:   0%|          | 0/1 [00:00<?, ?it/s]"
      ]
     },
     "metadata": {},
     "output_type": "display_data"
    },
    {
     "data": {
      "application/vnd.jupyter.widget-view+json": {
       "model_id": "17a1007ebd374ba68789fb1950612173",
       "version_major": 2,
       "version_minor": 0
      },
      "text/plain": [
       "Processing files for boundary concept :   0%|          | 0/2 [00:00<?, ?it/s]"
      ]
     },
     "metadata": {},
     "output_type": "display_data"
    },
    {
     "data": {
      "application/vnd.jupyter.widget-view+json": {
       "model_id": "6ed155ca79b5436695a05d22400a899a",
       "version_major": 2,
       "version_minor": 0
      },
      "text/plain": [
       "Matched Files:   0%|          | 0/21 [00:00<?, ?it/s]"
      ]
     },
     "metadata": {},
     "output_type": "display_data"
    },
    {
     "data": {
      "application/vnd.jupyter.widget-view+json": {
       "model_id": "0e86748dc4664304b4b2775dad0439d7",
       "version_major": 2,
       "version_minor": 0
      },
      "text/plain": [
       "Processing business concepts:   0%|          | 0/1 [00:00<?, ?it/s]"
      ]
     },
     "metadata": {},
     "output_type": "display_data"
    },
    {
     "data": {
      "application/vnd.jupyter.widget-view+json": {
       "model_id": "834c6962e5fd4260a1399cf4efcebcfa",
       "version_major": 2,
       "version_minor": 0
      },
      "text/plain": [
       "Processing files for site concept :   0%|          | 0/2 [00:00<?, ?it/s]"
      ]
     },
     "metadata": {},
     "output_type": "display_data"
    },
    {
     "data": {
      "application/vnd.jupyter.widget-view+json": {
       "model_id": "6381314acc8348469cbdfa305ded13cd",
       "version_major": 2,
       "version_minor": 0
      },
      "text/plain": [
       "Matched Files:   0%|          | 0/21 [00:00<?, ?it/s]"
      ]
     },
     "metadata": {},
     "output_type": "display_data"
    },
    {
     "data": {
      "text/html": [
       "<div>\n",
       "<style scoped>\n",
       "    .dataframe tbody tr th:only-of-type {\n",
       "        vertical-align: middle;\n",
       "    }\n",
       "\n",
       "    .dataframe tbody tr th {\n",
       "        vertical-align: top;\n",
       "    }\n",
       "\n",
       "    .dataframe thead th {\n",
       "        text-align: right;\n",
       "    }\n",
       "</style>\n",
       "<table border=\"1\" class=\"dataframe\">\n",
       "  <thead>\n",
       "    <tr style=\"text-align: right;\">\n",
       "      <th></th>\n",
       "      <th>concept_type</th>\n",
       "      <th>concept_name</th>\n",
       "      <th>concept_description</th>\n",
       "      <th>file_path</th>\n",
       "      <th>file_name</th>\n",
       "      <th>score</th>\n",
       "      <th>explanation</th>\n",
       "      <th>code_length</th>\n",
       "      <th>concept_group</th>\n",
       "    </tr>\n",
       "  </thead>\n",
       "  <tbody>\n",
       "    <tr>\n",
       "      <th>0</th>\n",
       "      <td>technical</td>\n",
       "      <td>Boundary</td>\n",
       "      <td>Defines the interfaces for communication betwe...</td>\n",
       "      <td>../../../dropover-at/backend/src/main/java/at/...</td>\n",
       "      <td>AddSchedulingDateRequestModel.java</td>\n",
       "      <td>1.0</td>\n",
       "      <td>This class is explicitly named `AddSchedulingD...</td>\n",
       "      <td>227</td>\n",
       "      <td>Boundary/AddSchedulingDateRequestModel.java</td>\n",
       "    </tr>\n",
       "    <tr>\n",
       "      <th>1</th>\n",
       "      <td>technical</td>\n",
       "      <td>Boundary</td>\n",
       "      <td>Defines the interfaces for communication betwe...</td>\n",
       "      <td>../../../dropover-at/backend/src/main/java/at/...</td>\n",
       "      <td>ResponseModel.java</td>\n",
       "      <td>0.8</td>\n",
       "      <td>This code defines a `ResponseModel` interface,...</td>\n",
       "      <td>99</td>\n",
       "      <td>Boundary/ResponseModel.java</td>\n",
       "    </tr>\n",
       "    <tr>\n",
       "      <th>2</th>\n",
       "      <td>business</td>\n",
       "      <td>Site</td>\n",
       "      <td>A 'Site' represents a distinct container or co...</td>\n",
       "      <td>../../../dropover-at/backend/src/main/java/at/...</td>\n",
       "      <td>package-info.java</td>\n",
       "      <td>0.1</td>\n",
       "      <td>This file is a `package-info.java` file, which...</td>\n",
       "      <td>26</td>\n",
       "      <td>Site/package-info.java</td>\n",
       "    </tr>\n",
       "    <tr>\n",
       "      <th>3</th>\n",
       "      <td>business</td>\n",
       "      <td>Site</td>\n",
       "      <td>A 'Site' represents a distinct container or co...</td>\n",
       "      <td>../../../dropover-at/backend/src/main/java/at/...</td>\n",
       "      <td>AlphabeticBase26Encoder.java</td>\n",
       "      <td>0.0</td>\n",
       "      <td>This file is an `AlphabeticBase26Encoder`, whi...</td>\n",
       "      <td>513</td>\n",
       "      <td>Site/AlphabeticBase26Encoder.java</td>\n",
       "    </tr>\n",
       "  </tbody>\n",
       "</table>\n",
       "</div>"
      ],
      "text/plain": [
       "  concept_type concept_name  \\\n",
       "0    technical     Boundary   \n",
       "1    technical     Boundary   \n",
       "2     business         Site   \n",
       "3     business         Site   \n",
       "\n",
       "                                 concept_description  \\\n",
       "0  Defines the interfaces for communication betwe...   \n",
       "1  Defines the interfaces for communication betwe...   \n",
       "2  A 'Site' represents a distinct container or co...   \n",
       "3  A 'Site' represents a distinct container or co...   \n",
       "\n",
       "                                           file_path  \\\n",
       "0  ../../../dropover-at/backend/src/main/java/at/...   \n",
       "1  ../../../dropover-at/backend/src/main/java/at/...   \n",
       "2  ../../../dropover-at/backend/src/main/java/at/...   \n",
       "3  ../../../dropover-at/backend/src/main/java/at/...   \n",
       "\n",
       "                            file_name  score  \\\n",
       "0  AddSchedulingDateRequestModel.java    1.0   \n",
       "1                  ResponseModel.java    0.8   \n",
       "2                   package-info.java    0.1   \n",
       "3        AlphabeticBase26Encoder.java    0.0   \n",
       "\n",
       "                                         explanation  code_length  \\\n",
       "0  This class is explicitly named `AddSchedulingD...          227   \n",
       "1  This code defines a `ResponseModel` interface,...           99   \n",
       "2  This file is a `package-info.java` file, which...           26   \n",
       "3  This file is an `AlphabeticBase26Encoder`, whi...          513   \n",
       "\n",
       "                                 concept_group  \n",
       "0  Boundary/AddSchedulingDateRequestModel.java  \n",
       "1                  Boundary/ResponseModel.java  \n",
       "2                       Site/package-info.java  \n",
       "3            Site/AlphabeticBase26Encoder.java  "
      ]
     },
     "execution_count": 9,
     "metadata": {},
     "output_type": "execute_result"
    }
   ],
   "source": [
    "display_id = \"live_output\"\n",
    "\n",
    "def analyze_all_concepts(concepts_data, base_path):\n",
    "    \"\"\"Analyze all concepts and their associated files, plus unmatched files.\"\"\"\n",
    "\n",
    "    display(\"Starting ...\", display_id=display_id)\n",
    "    \n",
    "    # helper for reading source code\n",
    "    def read_source_code(file_path):\n",
    "        \"\"\"Read source code from file.\"\"\"\n",
    "        try:\n",
    "            with open(file_path, 'r', encoding='utf-8') as file:\n",
    "                return file.read()\n",
    "        except Exception as e:\n",
    "            print(f\"Error reading file {file_path}: {e}\")\n",
    "            return \"\"\n",
    "\n",
    "    # helper for creating an entry with default information\n",
    "    def create_base_entry(file_path, concept_type, concept, score, explanation):\n",
    "        source_code = read_source_code(file_path)\n",
    "        return {\n",
    "            'concept_type': concept_type,\n",
    "            'concept_name': concept.get('name'),\n",
    "            'concept_description': concept.get('description'),\n",
    "            'file_path': file_path,\n",
    "            'file_name': os.path.basename(file_path),\n",
    "            'score': score,\n",
    "            'explanation': explanation,\n",
    "            'code_length': len(source_code)\n",
    "        }\n",
    "            \n",
    "    results = []\n",
    "\n",
    "    concept_types = concepts_data.keys()\n",
    "    \n",
    "    for concept_type in tqdm(concept_types, \"Concept Types\"):\n",
    "        concept_type_name = concept_type.replace(\"_concepts\", \"\")\n",
    "        \n",
    "        concepts = concepts_data.get(concept_type, [])\n",
    "        \n",
    "        for concept in tqdm(concepts, f\"Processing {concept_type_name} concepts\"):\n",
    "            concept_name = concept['name']\n",
    "            files = matched_files_dict[concept_type][concept_name]\n",
    "            \n",
    "            for file_path in tqdm(files, f\"Processing files for {concept_name.lower()} concept \"):\n",
    "                source_code = read_source_code(file_path)\n",
    "                if not source_code:\n",
    "                    continue\n",
    "                score, explanation = assess_concept_implementation(concept, source_code, file_path)\n",
    "                \n",
    "                entry = create_base_entry(\n",
    "                    file_path,\n",
    "                    concept_type_name,\n",
    "                    concept,\n",
    "                    score,\n",
    "                    explanation\n",
    "                )\n",
    "\n",
    "                results.append(entry)\n",
    "                update_display(f\"Score for the {concept_type_name} concept {concept_name.lower()} for file {entry['file_name']}: {score}\", display_id=display_id)\n",
    "\n",
    "        # add dummy data for unmatched files\n",
    "        for file_path in tqdm(unmatched_files, \"Matched Files\"):\n",
    "            entry = create_base_entry(file_path, concept_type_name, {'name': None, 'description': None}, 0, \"n/a\")\n",
    "\n",
    "    return pd.DataFrame(results)\n",
    "\n",
    "# Run analysis\n",
    "results_df = analyze_all_concepts(concepts_data, BASE_PATH)\n",
    "# add an alternative path for later visualization by concepts and not by file paths\n",
    "results_df['concept_group'] = results_df['concept_name'] + \"/\" + results_df['file_name']\n",
    "results_df.head()"
   ]
  },
  {
   "cell_type": "markdown",
   "metadata": {},
   "source": [
    "#### Optional: Save Results\n",
    "\n",
    "After the time-consuming analysis is complete, it's a good practice to save the results to a CSV file. This allows you to re-run the visualization and statistics steps later without needing to call the LLM again. The filename includes the model and project name for easy identification."
   ]
  },
  {
   "cell_type": "code",
   "execution_count": 10,
   "metadata": {},
   "outputs": [
    {
     "name": "stdout",
     "output_type": "stream",
     "text": [
      "Complete results (including unmatched files) exported to conceptual_integrity_analysis_results_google-gemini-2.5-flash_dropover-at.csv\n"
     ]
    }
   ],
   "source": [
    "output_filename = f'conceptual_integrity_analysis_results_{MODEL.replace(\"/\",\"-\")}_{PROJECT_NAME}.csv'\n",
    "results_df.to_csv(output_filename, index=False)\n",
    "print(f\"Complete results (including unmatched files) exported to {output_filename}\")\n",
    "# results_df = pd.read_csv(output_filename, index=False) # uncomment to use already existing data"
   ]
  },
  {
   "cell_type": "markdown",
   "metadata": {},
   "source": [
    "## 6. Visualization\n",
    "\n",
    "Treemaps are an excellent way to visualize hierarchical data, like file systems or conceptual groupings. The area of each rectangle represents the size of the file (in lines of code), and its color represents the LLM's confidence score.\n",
    "\n",
    "### 6.1 Treemap Helper Functions\n",
    "\n",
    "These functions prepare the data for the Plotly treemap visualization.\n",
    "\n",
    "1.  `create_treemap_data`: This is the key function. It takes the results DataFrame and builds the hierarchical structure needed for the treemap. It calculates the size and average score for each directory or concept grouping.\n",
    "    - It constructs a tree with a root node, intermediate directories (or concepts), and leaf nodes (files).\n",
    "    - For each node, it computes the total size (sum of lines of code of all children) and the average concept score.\n",
    "2.  `create_treemap_visualization`: This function takes the prepared data and generates the Plotly figure, configuring the layout, colors, and hover-over information.\n",
    "\n",
    "*Hint: These functions were vibe-coded by me, and I can’t fully explain it. But it works! What a miracle!*"
   ]
  },
  {
   "cell_type": "code",
   "execution_count": 11,
   "metadata": {},
   "outputs": [],
   "source": [
    "def normalize_path(path):\n",
    "    \"\"\"Normalize file path to remove leading base path prefix.\"\"\"\n",
    "    # Remove the common prefix to get relative paths\n",
    "    if path.startswith(BASE_PATH):\n",
    "        return path[len(BASE_PATH):]\n",
    "    return path\n",
    "\n",
    "def create_treemap_data(df_subset, path_col):\n",
    "    \"\"\"Build filesystem hierarchy treemap data.\"\"\"\n",
    "    # Normalize paths\n",
    "    df_subset = df_subset.copy()\n",
    "    df_subset['normalized_path'] = df_subset[path_col].apply(normalize_path)\n",
    "    \n",
    "    # Build directory structure\n",
    "    directories = set()\n",
    "    files_data = {}\n",
    "    \n",
    "    # Collect all directories and files\n",
    "    for _, row in df_subset.iterrows():\n",
    "        path = row['normalized_path']\n",
    "        path_parts = path.split('/')\n",
    "        \n",
    "        # Add all parent directories\n",
    "        for i in range(1, len(path_parts)):\n",
    "            dir_path = '/'.join(path_parts[:i])\n",
    "            if dir_path:\n",
    "                directories.add(dir_path)\n",
    "        \n",
    "        # Store file data\n",
    "        files_data[path] = row\n",
    "    \n",
    "    # Calculate directory sizes (sum of all files in directory and subdirectories)\n",
    "    dir_sizes = defaultdict(int)\n",
    "    dir_scores = defaultdict(list)\n",
    "    dir_file_counts = defaultdict(int)\n",
    "    \n",
    "    for file_path, file_data in files_data.items():\n",
    "        path_parts = file_path.split('/')\n",
    "        \n",
    "        # Add file size and score to all parent directories\n",
    "        for i in range(1, len(path_parts)):\n",
    "            dir_path = '/'.join(path_parts[:i])\n",
    "            if dir_path:\n",
    "                dir_sizes[dir_path] += file_data['code_length']\n",
    "                dir_scores[dir_path].append(file_data['score'])\n",
    "                dir_file_counts[dir_path] += 1\n",
    "    \n",
    "    # Build treemap data\n",
    "    ids = []\n",
    "    labels = []\n",
    "    parents = []\n",
    "    values = []\n",
    "    colors = []\n",
    "    customdata = []\n",
    "    \n",
    "    # Root node\n",
    "    root_id = \"root\"\n",
    "    ids.append(root_id)\n",
    "    labels.append(f\"Project {PROJECT_NAME}\")\n",
    "    parents.append(\"\")\n",
    "    values.append(df_subset['code_length'].sum())\n",
    "    colors.append(df_subset['score'].mean())\n",
    "    customdata.append(\n",
    "        f\"Total files: {len(df_subset)}<br>\"\n",
    "        f\"Avg Score: {df_subset['score'].mean():.2f}<br>\"\n",
    "        f\"Total Lines: {df_subset['code_length'].sum():,}\"\n",
    "    )\n",
    "    \n",
    "    # Add directories\n",
    "    for dir_path in sorted(directories):\n",
    "        path_parts = dir_path.split('/')\n",
    "        dir_name = path_parts[-1]\n",
    "        \n",
    "        # Determine parent\n",
    "        if len(path_parts) == 1:\n",
    "            parent_id = root_id\n",
    "        else:\n",
    "            parent_path = '/'.join(path_parts[:-1])\n",
    "            parent_id = parent_path\n",
    "        \n",
    "        dir_id = dir_path\n",
    "        avg_score = np.mean(dir_scores[dir_path]) if dir_scores[dir_path] else 0.0\n",
    "        \n",
    "        ids.append(dir_id)\n",
    "        labels.append(dir_name)\n",
    "        parents.append(parent_id)\n",
    "        values.append(dir_sizes[dir_path])\n",
    "        colors.append(avg_score)\n",
    "        customdata.append(\n",
    "            f\"Directory: {dir_path}<br>\"\n",
    "            f\"Files: {dir_file_counts[dir_path]}<br>\"\n",
    "            f\"Avg Score: {avg_score:.2f}<br>\"\n",
    "            f\"Total Lines: {dir_sizes[dir_path]:,}\"\n",
    "        )\n",
    "    \n",
    "    # Add files\n",
    "    for file_path, file_data in files_data.items():\n",
    "        path_parts = file_path.split('/')\n",
    "        file_name = path_parts[-1]\n",
    "        \n",
    "        # Determine parent directory\n",
    "        if len(path_parts) == 1:\n",
    "            parent_id = root_id\n",
    "        else:\n",
    "            parent_dir = '/'.join(path_parts[:-1])\n",
    "            parent_id = parent_dir\n",
    "        \n",
    "        file_id = file_path\n",
    "        \n",
    "        # Handle unmatched files (concept_name is NaN)\n",
    "        if pd.isna(file_data['concept_name']):\n",
    "            concept_info = \"No concept match\"\n",
    "            explanation = file_data['explanation']\n",
    "        else:\n",
    "            concept_info = f\"Concept: {file_data['concept_name']}\"\n",
    "            explanation = file_data['explanation'][:100] + \"...\" if len(file_data['explanation']) > 100 else file_data['explanation']\n",
    "        \n",
    "        ids.append(file_id)\n",
    "        labels.append(file_name)\n",
    "        parents.append(parent_id)\n",
    "        values.append(file_data['code_length'])\n",
    "        colors.append(file_data['score'])\n",
    "        customdata.append(\n",
    "            f\"File: {file_name}<br>\"\n",
    "            f\"Score: {file_data['score']:.2f}<br>\"\n",
    "            f\"Lines: {file_data['code_length']}<br>\"\n",
    "            f\"{concept_info}<br>\"\n",
    "            f\"Path: {file_data['file_path']}<br>\"\n",
    "            f\"Explanation: {explanation}\"\n",
    "        )\n",
    "    \n",
    "    return {\n",
    "        'ids': ids,\n",
    "        'labels': labels,\n",
    "        'parents': parents,\n",
    "        'values': values,\n",
    "        'colors': colors,\n",
    "        'customdata': customdata\n",
    "    }"
   ]
  },
  {
   "cell_type": "code",
   "execution_count": 43,
   "metadata": {},
   "outputs": [
    {
     "name": "stdout",
     "output_type": "stream",
     "text": [
      "Helper functions defined.\n"
     ]
    }
   ],
   "source": [
    "def create_treemap_visualization(treemap_data, title, colorscale):\n",
    "    \"\"\"Create a Plotly treemap for the given hierarchy.\"\"\"\n",
    "    \n",
    "    fig = go.Figure(go.Treemap(\n",
    "        ids=treemap_data['ids'],\n",
    "        labels=treemap_data['labels'],\n",
    "        parents=treemap_data['parents'],\n",
    "        values=treemap_data['values'],\n",
    "        customdata=treemap_data['customdata'],\n",
    "        hovertemplate='<b>%{label}</b><br>%{customdata}<extra></extra>',\n",
    "        marker=dict(\n",
    "            colors=treemap_data['colors'],\n",
    "            colorscale=colorscale,\n",
    "            cmin=0,\n",
    "            cmax=1\n",
    "        ),\n",
    "        textinfo=\"label+value\",\n",
    "        textposition=\"middle center\",\n",
    "        textfont=dict(size=8),\n",
    "        branchvalues=\"total\"\n",
    "    ))\n",
    "    \n",
    "    fig.update_layout(\n",
    "        title={\n",
    "            'text': title,\n",
    "            'x': 0.5,\n",
    "            'xanchor': 'center',\n",
    "            'font': {'size': 16}\n",
    "        },\n",
    "        margin=dict(t=40, l=10, r=10, b=10),\n",
    "        width=1920/2,\n",
    "        height=1080/2\n",
    "    )\n",
    "    \n",
    "    return fig\n",
    "\n",
    "print(\"Helper functions defined.\")"
   ]
  },
  {
   "cell_type": "markdown",
   "metadata": {},
   "source": [
    "### 6.2 Treemap Views\n",
    "\n",
    "We generate two different kinds of treemaps to analyze the results from different perspectives:\n",
    "\n",
    "1.  **File System-Based View:** This treemap organizes the files according to their actual location in the project's directory structure. This is useful for seeing if conceptual integrity aligns with the physical layout of the code. For example, you might expect all files in a `com.example.gateways` package to have high scores for the \"Gateway\" concept.\n",
    "2.  **Concept-Based View:** This treemap ignores the file system and groups files directly under their assigned concepts. This provides a purely logical view of the architecture, making it easy to compare the relative size and implementation quality of different concepts."
   ]
  },
  {
   "cell_type": "markdown",
   "metadata": {},
   "source": [
    "#### 6.2.1 Helper Functions\n",
    "Small helper functions to get rid of repetitive code."
   ]
  },
  {
   "cell_type": "code",
   "execution_count": 44,
   "metadata": {},
   "outputs": [],
   "source": [
    "technical_colorscale = [\n",
    "    (0.0, '#ffffff'),   # White for score 0\n",
    "    (0.01, '#bfcfd4'),   # bright petrol for score >0\n",
    "    (1.0, '#004153')    # darker petrol for score 1\n",
    "]\n",
    "\n",
    "business_colorscale = [\n",
    "    (0.0, '#ffffff'),   # White for score 0\n",
    "    (0.01, '#ffe6d9'),   # bright apricot for score >0\n",
    "    (1.0, '#ff9c66')    # darker apricot for score 1\n",
    "]\n",
    "\n",
    "def save_treemap(fig, concept_type, path):\n",
    "    output_html_file = f'conceptual_integrity_analysis_visualization_{PROJECT_NAME}_{concept_type}_concepts_{path}_{MODEL.replace(\"/\",\"-\")}.html'\n",
    "    fig.write_html(output_html_file)\n",
    "    print(f\"Treemap saved as interactive HTML: {output_html_file}\")\n",
    "\n",
    "def create_treemap(results_df, concept_type, path, colorscale):\n",
    "    data = results_df[results_df['concept_type'] == concept_type]\n",
    "    treemap_data = create_treemap_data(data, path)\n",
    "    title = f\"Treemap for {concept_type.replace(\"/\", \" \")}, {path.replace(\"_\", \"\")}-based\"\n",
    "    fig = create_treemap_visualization(treemap_data, title, colorscale)\n",
    "    save_treemap(fig, concept_type, path)\n",
    "    return fig"
   ]
  },
  {
   "cell_type": "markdown",
   "metadata": {},
   "source": [
    "#### 6.2.2 File System-Based Views "
   ]
  },
  {
   "cell_type": "markdown",
   "metadata": {},
   "source": [
    "Create treemap for technical concepts based on filesystem structure"
   ]
  },
  {
   "cell_type": "code",
   "execution_count": 45,
   "metadata": {},
   "outputs": [
    {
     "name": "stdout",
     "output_type": "stream",
     "text": [
      "Treemap saved as interactive HTML: conceptual_integrity_analysis_visualization_dropover-at_technical_concepts_file_path_google-gemini-2.5-flash.html\n"
     ]
    },
    {
     "data": {
      "application/vnd.plotly.v1+json": {
       "config": {
        "plotlyServerURL": "https://plot.ly"
       },
       "data": [
        {
         "branchvalues": "total",
         "customdata": [
          "Total files: 2<br>Avg Score: 0.90<br>Total Lines: 326",
          "Directory: backend<br>Files: 2<br>Avg Score: 0.90<br>Total Lines: 326",
          "Directory: backend/src<br>Files: 2<br>Avg Score: 0.90<br>Total Lines: 326",
          "Directory: backend/src/main<br>Files: 2<br>Avg Score: 0.90<br>Total Lines: 326",
          "Directory: backend/src/main/java<br>Files: 2<br>Avg Score: 0.90<br>Total Lines: 326",
          "Directory: backend/src/main/java/at<br>Files: 2<br>Avg Score: 0.90<br>Total Lines: 326",
          "Directory: backend/src/main/java/at/dropover<br>Files: 2<br>Avg Score: 0.90<br>Total Lines: 326",
          "Directory: backend/src/main/java/at/dropover/framework<br>Files: 1<br>Avg Score: 0.80<br>Total Lines: 99",
          "Directory: backend/src/main/java/at/dropover/framework/boundary<br>Files: 1<br>Avg Score: 0.80<br>Total Lines: 99",
          "Directory: backend/src/main/java/at/dropover/scheduling<br>Files: 1<br>Avg Score: 1.00<br>Total Lines: 227",
          "Directory: backend/src/main/java/at/dropover/scheduling/boundary<br>Files: 1<br>Avg Score: 1.00<br>Total Lines: 227",
          "File: AddSchedulingDateRequestModel.java<br>Score: 1.00<br>Lines: 227<br>Concept: Boundary<br>Path: ../../../dropover-at/backend/src/main/java/at/dropover/scheduling/boundary/AddSchedulingDateRequestModel.java<br>Explanation: This class is explicitly named `AddSchedulingDateRequestModel` and resides in a `boundary` package. ...",
          "File: ResponseModel.java<br>Score: 0.80<br>Lines: 99<br>Concept: Boundary<br>Path: ../../../dropover-at/backend/src/main/java/at/dropover/framework/boundary/ResponseModel.java<br>Explanation: This code defines a `ResponseModel` interface, which is a key component of the Boundary concept. It ..."
         ],
         "hovertemplate": "<b>%{label}</b><br>%{customdata}<extra></extra>",
         "ids": [
          "root",
          "backend",
          "backend/src",
          "backend/src/main",
          "backend/src/main/java",
          "backend/src/main/java/at",
          "backend/src/main/java/at/dropover",
          "backend/src/main/java/at/dropover/framework",
          "backend/src/main/java/at/dropover/framework/boundary",
          "backend/src/main/java/at/dropover/scheduling",
          "backend/src/main/java/at/dropover/scheduling/boundary",
          "backend/src/main/java/at/dropover/scheduling/boundary/AddSchedulingDateRequestModel.java",
          "backend/src/main/java/at/dropover/framework/boundary/ResponseModel.java"
         ],
         "labels": [
          "Project dropover-at",
          "backend",
          "src",
          "main",
          "java",
          "at",
          "dropover",
          "framework",
          "boundary",
          "scheduling",
          "boundary",
          "AddSchedulingDateRequestModel.java",
          "ResponseModel.java"
         ],
         "marker": {
          "cmax": 1,
          "cmin": 0,
          "colors": [
           0.9,
           0.9,
           0.9,
           0.9,
           0.9,
           0.9,
           0.9,
           0.8,
           0.8,
           1,
           1,
           1,
           0.8
          ],
          "colorscale": [
           [
            0,
            "#ffffff"
           ],
           [
            0.01,
            "#bfcfd4"
           ],
           [
            1,
            "#004153"
           ]
          ]
         },
         "parents": [
          "",
          "root",
          "backend",
          "backend/src",
          "backend/src/main",
          "backend/src/main/java",
          "backend/src/main/java/at",
          "backend/src/main/java/at/dropover",
          "backend/src/main/java/at/dropover/framework",
          "backend/src/main/java/at/dropover",
          "backend/src/main/java/at/dropover/scheduling",
          "backend/src/main/java/at/dropover/scheduling/boundary",
          "backend/src/main/java/at/dropover/framework/boundary"
         ],
         "textfont": {
          "size": 8
         },
         "textinfo": "label+value",
         "textposition": "middle center",
         "type": "treemap",
         "values": [
          326,
          326,
          326,
          326,
          326,
          326,
          326,
          99,
          99,
          227,
          227,
          227,
          99
         ]
        }
       ],
       "layout": {
        "height": 540,
        "margin": {
         "b": 10,
         "l": 10,
         "r": 10,
         "t": 40
        },
        "template": {
         "data": {
          "bar": [
           {
            "error_x": {
             "color": "#2a3f5f"
            },
            "error_y": {
             "color": "#2a3f5f"
            },
            "marker": {
             "line": {
              "color": "#E5ECF6",
              "width": 0.5
             },
             "pattern": {
              "fillmode": "overlay",
              "size": 10,
              "solidity": 0.2
             }
            },
            "type": "bar"
           }
          ],
          "barpolar": [
           {
            "marker": {
             "line": {
              "color": "#E5ECF6",
              "width": 0.5
             },
             "pattern": {
              "fillmode": "overlay",
              "size": 10,
              "solidity": 0.2
             }
            },
            "type": "barpolar"
           }
          ],
          "carpet": [
           {
            "aaxis": {
             "endlinecolor": "#2a3f5f",
             "gridcolor": "white",
             "linecolor": "white",
             "minorgridcolor": "white",
             "startlinecolor": "#2a3f5f"
            },
            "baxis": {
             "endlinecolor": "#2a3f5f",
             "gridcolor": "white",
             "linecolor": "white",
             "minorgridcolor": "white",
             "startlinecolor": "#2a3f5f"
            },
            "type": "carpet"
           }
          ],
          "choropleth": [
           {
            "colorbar": {
             "outlinewidth": 0,
             "ticks": ""
            },
            "type": "choropleth"
           }
          ],
          "contour": [
           {
            "colorbar": {
             "outlinewidth": 0,
             "ticks": ""
            },
            "colorscale": [
             [
              0,
              "#0d0887"
             ],
             [
              0.1111111111111111,
              "#46039f"
             ],
             [
              0.2222222222222222,
              "#7201a8"
             ],
             [
              0.3333333333333333,
              "#9c179e"
             ],
             [
              0.4444444444444444,
              "#bd3786"
             ],
             [
              0.5555555555555556,
              "#d8576b"
             ],
             [
              0.6666666666666666,
              "#ed7953"
             ],
             [
              0.7777777777777778,
              "#fb9f3a"
             ],
             [
              0.8888888888888888,
              "#fdca26"
             ],
             [
              1,
              "#f0f921"
             ]
            ],
            "type": "contour"
           }
          ],
          "contourcarpet": [
           {
            "colorbar": {
             "outlinewidth": 0,
             "ticks": ""
            },
            "type": "contourcarpet"
           }
          ],
          "heatmap": [
           {
            "colorbar": {
             "outlinewidth": 0,
             "ticks": ""
            },
            "colorscale": [
             [
              0,
              "#0d0887"
             ],
             [
              0.1111111111111111,
              "#46039f"
             ],
             [
              0.2222222222222222,
              "#7201a8"
             ],
             [
              0.3333333333333333,
              "#9c179e"
             ],
             [
              0.4444444444444444,
              "#bd3786"
             ],
             [
              0.5555555555555556,
              "#d8576b"
             ],
             [
              0.6666666666666666,
              "#ed7953"
             ],
             [
              0.7777777777777778,
              "#fb9f3a"
             ],
             [
              0.8888888888888888,
              "#fdca26"
             ],
             [
              1,
              "#f0f921"
             ]
            ],
            "type": "heatmap"
           }
          ],
          "histogram": [
           {
            "marker": {
             "pattern": {
              "fillmode": "overlay",
              "size": 10,
              "solidity": 0.2
             }
            },
            "type": "histogram"
           }
          ],
          "histogram2d": [
           {
            "colorbar": {
             "outlinewidth": 0,
             "ticks": ""
            },
            "colorscale": [
             [
              0,
              "#0d0887"
             ],
             [
              0.1111111111111111,
              "#46039f"
             ],
             [
              0.2222222222222222,
              "#7201a8"
             ],
             [
              0.3333333333333333,
              "#9c179e"
             ],
             [
              0.4444444444444444,
              "#bd3786"
             ],
             [
              0.5555555555555556,
              "#d8576b"
             ],
             [
              0.6666666666666666,
              "#ed7953"
             ],
             [
              0.7777777777777778,
              "#fb9f3a"
             ],
             [
              0.8888888888888888,
              "#fdca26"
             ],
             [
              1,
              "#f0f921"
             ]
            ],
            "type": "histogram2d"
           }
          ],
          "histogram2dcontour": [
           {
            "colorbar": {
             "outlinewidth": 0,
             "ticks": ""
            },
            "colorscale": [
             [
              0,
              "#0d0887"
             ],
             [
              0.1111111111111111,
              "#46039f"
             ],
             [
              0.2222222222222222,
              "#7201a8"
             ],
             [
              0.3333333333333333,
              "#9c179e"
             ],
             [
              0.4444444444444444,
              "#bd3786"
             ],
             [
              0.5555555555555556,
              "#d8576b"
             ],
             [
              0.6666666666666666,
              "#ed7953"
             ],
             [
              0.7777777777777778,
              "#fb9f3a"
             ],
             [
              0.8888888888888888,
              "#fdca26"
             ],
             [
              1,
              "#f0f921"
             ]
            ],
            "type": "histogram2dcontour"
           }
          ],
          "mesh3d": [
           {
            "colorbar": {
             "outlinewidth": 0,
             "ticks": ""
            },
            "type": "mesh3d"
           }
          ],
          "parcoords": [
           {
            "line": {
             "colorbar": {
              "outlinewidth": 0,
              "ticks": ""
             }
            },
            "type": "parcoords"
           }
          ],
          "pie": [
           {
            "automargin": true,
            "type": "pie"
           }
          ],
          "scatter": [
           {
            "fillpattern": {
             "fillmode": "overlay",
             "size": 10,
             "solidity": 0.2
            },
            "type": "scatter"
           }
          ],
          "scatter3d": [
           {
            "line": {
             "colorbar": {
              "outlinewidth": 0,
              "ticks": ""
             }
            },
            "marker": {
             "colorbar": {
              "outlinewidth": 0,
              "ticks": ""
             }
            },
            "type": "scatter3d"
           }
          ],
          "scattercarpet": [
           {
            "marker": {
             "colorbar": {
              "outlinewidth": 0,
              "ticks": ""
             }
            },
            "type": "scattercarpet"
           }
          ],
          "scattergeo": [
           {
            "marker": {
             "colorbar": {
              "outlinewidth": 0,
              "ticks": ""
             }
            },
            "type": "scattergeo"
           }
          ],
          "scattergl": [
           {
            "marker": {
             "colorbar": {
              "outlinewidth": 0,
              "ticks": ""
             }
            },
            "type": "scattergl"
           }
          ],
          "scattermap": [
           {
            "marker": {
             "colorbar": {
              "outlinewidth": 0,
              "ticks": ""
             }
            },
            "type": "scattermap"
           }
          ],
          "scattermapbox": [
           {
            "marker": {
             "colorbar": {
              "outlinewidth": 0,
              "ticks": ""
             }
            },
            "type": "scattermapbox"
           }
          ],
          "scatterpolar": [
           {
            "marker": {
             "colorbar": {
              "outlinewidth": 0,
              "ticks": ""
             }
            },
            "type": "scatterpolar"
           }
          ],
          "scatterpolargl": [
           {
            "marker": {
             "colorbar": {
              "outlinewidth": 0,
              "ticks": ""
             }
            },
            "type": "scatterpolargl"
           }
          ],
          "scatterternary": [
           {
            "marker": {
             "colorbar": {
              "outlinewidth": 0,
              "ticks": ""
             }
            },
            "type": "scatterternary"
           }
          ],
          "surface": [
           {
            "colorbar": {
             "outlinewidth": 0,
             "ticks": ""
            },
            "colorscale": [
             [
              0,
              "#0d0887"
             ],
             [
              0.1111111111111111,
              "#46039f"
             ],
             [
              0.2222222222222222,
              "#7201a8"
             ],
             [
              0.3333333333333333,
              "#9c179e"
             ],
             [
              0.4444444444444444,
              "#bd3786"
             ],
             [
              0.5555555555555556,
              "#d8576b"
             ],
             [
              0.6666666666666666,
              "#ed7953"
             ],
             [
              0.7777777777777778,
              "#fb9f3a"
             ],
             [
              0.8888888888888888,
              "#fdca26"
             ],
             [
              1,
              "#f0f921"
             ]
            ],
            "type": "surface"
           }
          ],
          "table": [
           {
            "cells": {
             "fill": {
              "color": "#EBF0F8"
             },
             "line": {
              "color": "white"
             }
            },
            "header": {
             "fill": {
              "color": "#C8D4E3"
             },
             "line": {
              "color": "white"
             }
            },
            "type": "table"
           }
          ]
         },
         "layout": {
          "annotationdefaults": {
           "arrowcolor": "#2a3f5f",
           "arrowhead": 0,
           "arrowwidth": 1
          },
          "autotypenumbers": "strict",
          "coloraxis": {
           "colorbar": {
            "outlinewidth": 0,
            "ticks": ""
           }
          },
          "colorscale": {
           "diverging": [
            [
             0,
             "#8e0152"
            ],
            [
             0.1,
             "#c51b7d"
            ],
            [
             0.2,
             "#de77ae"
            ],
            [
             0.3,
             "#f1b6da"
            ],
            [
             0.4,
             "#fde0ef"
            ],
            [
             0.5,
             "#f7f7f7"
            ],
            [
             0.6,
             "#e6f5d0"
            ],
            [
             0.7,
             "#b8e186"
            ],
            [
             0.8,
             "#7fbc41"
            ],
            [
             0.9,
             "#4d9221"
            ],
            [
             1,
             "#276419"
            ]
           ],
           "sequential": [
            [
             0,
             "#0d0887"
            ],
            [
             0.1111111111111111,
             "#46039f"
            ],
            [
             0.2222222222222222,
             "#7201a8"
            ],
            [
             0.3333333333333333,
             "#9c179e"
            ],
            [
             0.4444444444444444,
             "#bd3786"
            ],
            [
             0.5555555555555556,
             "#d8576b"
            ],
            [
             0.6666666666666666,
             "#ed7953"
            ],
            [
             0.7777777777777778,
             "#fb9f3a"
            ],
            [
             0.8888888888888888,
             "#fdca26"
            ],
            [
             1,
             "#f0f921"
            ]
           ],
           "sequentialminus": [
            [
             0,
             "#0d0887"
            ],
            [
             0.1111111111111111,
             "#46039f"
            ],
            [
             0.2222222222222222,
             "#7201a8"
            ],
            [
             0.3333333333333333,
             "#9c179e"
            ],
            [
             0.4444444444444444,
             "#bd3786"
            ],
            [
             0.5555555555555556,
             "#d8576b"
            ],
            [
             0.6666666666666666,
             "#ed7953"
            ],
            [
             0.7777777777777778,
             "#fb9f3a"
            ],
            [
             0.8888888888888888,
             "#fdca26"
            ],
            [
             1,
             "#f0f921"
            ]
           ]
          },
          "colorway": [
           "#636efa",
           "#EF553B",
           "#00cc96",
           "#ab63fa",
           "#FFA15A",
           "#19d3f3",
           "#FF6692",
           "#B6E880",
           "#FF97FF",
           "#FECB52"
          ],
          "font": {
           "color": "#2a3f5f"
          },
          "geo": {
           "bgcolor": "white",
           "lakecolor": "white",
           "landcolor": "#E5ECF6",
           "showlakes": true,
           "showland": true,
           "subunitcolor": "white"
          },
          "hoverlabel": {
           "align": "left"
          },
          "hovermode": "closest",
          "mapbox": {
           "style": "light"
          },
          "paper_bgcolor": "white",
          "plot_bgcolor": "#E5ECF6",
          "polar": {
           "angularaxis": {
            "gridcolor": "white",
            "linecolor": "white",
            "ticks": ""
           },
           "bgcolor": "#E5ECF6",
           "radialaxis": {
            "gridcolor": "white",
            "linecolor": "white",
            "ticks": ""
           }
          },
          "scene": {
           "xaxis": {
            "backgroundcolor": "#E5ECF6",
            "gridcolor": "white",
            "gridwidth": 2,
            "linecolor": "white",
            "showbackground": true,
            "ticks": "",
            "zerolinecolor": "white"
           },
           "yaxis": {
            "backgroundcolor": "#E5ECF6",
            "gridcolor": "white",
            "gridwidth": 2,
            "linecolor": "white",
            "showbackground": true,
            "ticks": "",
            "zerolinecolor": "white"
           },
           "zaxis": {
            "backgroundcolor": "#E5ECF6",
            "gridcolor": "white",
            "gridwidth": 2,
            "linecolor": "white",
            "showbackground": true,
            "ticks": "",
            "zerolinecolor": "white"
           }
          },
          "shapedefaults": {
           "line": {
            "color": "#2a3f5f"
           }
          },
          "ternary": {
           "aaxis": {
            "gridcolor": "white",
            "linecolor": "white",
            "ticks": ""
           },
           "baxis": {
            "gridcolor": "white",
            "linecolor": "white",
            "ticks": ""
           },
           "bgcolor": "#E5ECF6",
           "caxis": {
            "gridcolor": "white",
            "linecolor": "white",
            "ticks": ""
           }
          },
          "title": {
           "x": 0.05
          },
          "xaxis": {
           "automargin": true,
           "gridcolor": "white",
           "linecolor": "white",
           "ticks": "",
           "title": {
            "standoff": 15
           },
           "zerolinecolor": "white",
           "zerolinewidth": 2
          },
          "yaxis": {
           "automargin": true,
           "gridcolor": "white",
           "linecolor": "white",
           "ticks": "",
           "title": {
            "standoff": 15
           },
           "zerolinecolor": "white",
           "zerolinewidth": 2
          }
         }
        },
        "title": {
         "font": {
          "size": 16
         },
         "text": "Treemap for technical, filepath-based",
         "x": 0.5,
         "xanchor": "center"
        },
        "width": 960
       }
      },
      "image/png": "[encoded data removed]"
     },
     "metadata": {},
     "output_type": "display_data"
    }
   ],
   "source": [
    "fig = create_treemap(results_df, 'technical', 'file_path', technical_colorscale)\n",
    "fig.show()"
   ]
  },
  {
   "cell_type": "markdown",
   "metadata": {},
   "source": [
    "Create treemap for business concepts based on filesystem structure"
   ]
  },
  {
   "cell_type": "code",
   "execution_count": 42,
   "metadata": {},
   "outputs": [
    {
     "name": "stdout",
     "output_type": "stream",
     "text": [
      "Treemap saved as interactive HTML: conceptual_integrity_analysis_visualization_dropover-at_business_concepts_file_path_google-gemini-2.5-flash.html\n"
     ]
    },
    {
     "data": {
      "application/vnd.plotly.v1+json": {
       "config": {
        "plotlyServerURL": "https://plot.ly"
       },
       "data": [
        {
         "branchvalues": "total",
         "customdata": [
          "Total files: 2<br>Avg Score: 0.05<br>Total Lines: 539",
          "Directory: backend<br>Files: 2<br>Avg Score: 0.05<br>Total Lines: 539",
          "Directory: backend/src<br>Files: 2<br>Avg Score: 0.05<br>Total Lines: 539",
          "Directory: backend/src/main<br>Files: 2<br>Avg Score: 0.05<br>Total Lines: 539",
          "Directory: backend/src/main/java<br>Files: 2<br>Avg Score: 0.05<br>Total Lines: 539",
          "Directory: backend/src/main/java/at<br>Files: 2<br>Avg Score: 0.05<br>Total Lines: 539",
          "Directory: backend/src/main/java/at/dropover<br>Files: 2<br>Avg Score: 0.05<br>Total Lines: 539",
          "Directory: backend/src/main/java/at/dropover/site<br>Files: 2<br>Avg Score: 0.05<br>Total Lines: 539",
          "Directory: backend/src/main/java/at/dropover/site/interactor<br>Files: 1<br>Avg Score: 0.00<br>Total Lines: 513",
          "Directory: backend/src/main/java/at/dropover/site/interactor/namegeneration<br>Files: 1<br>Avg Score: 0.00<br>Total Lines: 513",
          "File: package-info.java<br>Score: 0.10<br>Lines: 26<br>Concept: Site<br>Path: ../../../dropover-at/backend/src/main/java/at/dropover/site/package-info.java<br>Explanation: This file is a `package-info.java` file, which only declares a package. It contains no code that wou...",
          "File: AlphabeticBase26Encoder.java<br>Score: 0.00<br>Lines: 513<br>Concept: Site<br>Path: ../../../dropover-at/backend/src/main/java/at/dropover/site/interactor/namegeneration/AlphabeticBase26Encoder.java<br>Explanation: This file is an `AlphabeticBase26Encoder`, which is a utility for generating names or codes. It has ..."
         ],
         "hovertemplate": "<b>%{label}</b><br>%{customdata}<extra></extra>",
         "ids": [
          "root",
          "backend",
          "backend/src",
          "backend/src/main",
          "backend/src/main/java",
          "backend/src/main/java/at",
          "backend/src/main/java/at/dropover",
          "backend/src/main/java/at/dropover/site",
          "backend/src/main/java/at/dropover/site/interactor",
          "backend/src/main/java/at/dropover/site/interactor/namegeneration",
          "backend/src/main/java/at/dropover/site/package-info.java",
          "backend/src/main/java/at/dropover/site/interactor/namegeneration/AlphabeticBase26Encoder.java"
         ],
         "labels": [
          "Project dropover-at",
          "backend",
          "src",
          "main",
          "java",
          "at",
          "dropover",
          "site",
          "interactor",
          "namegeneration",
          "package-info.java",
          "AlphabeticBase26Encoder.java"
         ],
         "marker": {
          "cmax": 1,
          "cmin": 0,
          "colors": [
           0.05,
           0.05,
           0.05,
           0.05,
           0.05,
           0.05,
           0.05,
           0.05,
           0,
           0,
           0.1,
           0
          ],
          "colorscale": [
           [
            0,
            "#ffffff"
           ],
           [
            0.01,
            "#bfcfd4"
           ],
           [
            1,
            "#004153"
           ]
          ]
         },
         "parents": [
          "",
          "root",
          "backend",
          "backend/src",
          "backend/src/main",
          "backend/src/main/java",
          "backend/src/main/java/at",
          "backend/src/main/java/at/dropover",
          "backend/src/main/java/at/dropover/site",
          "backend/src/main/java/at/dropover/site/interactor",
          "backend/src/main/java/at/dropover/site",
          "backend/src/main/java/at/dropover/site/interactor/namegeneration"
         ],
         "textfont": {
          "size": 8
         },
         "textinfo": "label+value",
         "textposition": "middle center",
         "type": "treemap",
         "values": [
          539,
          539,
          539,
          539,
          539,
          539,
          539,
          539,
          513,
          513,
          26,
          513
         ]
        }
       ],
       "layout": {
        "height": 540,
        "margin": {
         "b": 10,
         "l": 10,
         "r": 10,
         "t": 30
        },
        "template": {
         "data": {
          "bar": [
           {
            "error_x": {
             "color": "#2a3f5f"
            },
            "error_y": {
             "color": "#2a3f5f"
            },
            "marker": {
             "line": {
              "color": "#E5ECF6",
              "width": 0.5
             },
             "pattern": {
              "fillmode": "overlay",
              "size": 10,
              "solidity": 0.2
             }
            },
            "type": "bar"
           }
          ],
          "barpolar": [
           {
            "marker": {
             "line": {
              "color": "#E5ECF6",
              "width": 0.5
             },
             "pattern": {
              "fillmode": "overlay",
              "size": 10,
              "solidity": 0.2
             }
            },
            "type": "barpolar"
           }
          ],
          "carpet": [
           {
            "aaxis": {
             "endlinecolor": "#2a3f5f",
             "gridcolor": "white",
             "linecolor": "white",
             "minorgridcolor": "white",
             "startlinecolor": "#2a3f5f"
            },
            "baxis": {
             "endlinecolor": "#2a3f5f",
             "gridcolor": "white",
             "linecolor": "white",
             "minorgridcolor": "white",
             "startlinecolor": "#2a3f5f"
            },
            "type": "carpet"
           }
          ],
          "choropleth": [
           {
            "colorbar": {
             "outlinewidth": 0,
             "ticks": ""
            },
            "type": "choropleth"
           }
          ],
          "contour": [
           {
            "colorbar": {
             "outlinewidth": 0,
             "ticks": ""
            },
            "colorscale": [
             [
              0,
              "#0d0887"
             ],
             [
              0.1111111111111111,
              "#46039f"
             ],
             [
              0.2222222222222222,
              "#7201a8"
             ],
             [
              0.3333333333333333,
              "#9c179e"
             ],
             [
              0.4444444444444444,
              "#bd3786"
             ],
             [
              0.5555555555555556,
              "#d8576b"
             ],
             [
              0.6666666666666666,
              "#ed7953"
             ],
             [
              0.7777777777777778,
              "#fb9f3a"
             ],
             [
              0.8888888888888888,
              "#fdca26"
             ],
             [
              1,
              "#f0f921"
             ]
            ],
            "type": "contour"
           }
          ],
          "contourcarpet": [
           {
            "colorbar": {
             "outlinewidth": 0,
             "ticks": ""
            },
            "type": "contourcarpet"
           }
          ],
          "heatmap": [
           {
            "colorbar": {
             "outlinewidth": 0,
             "ticks": ""
            },
            "colorscale": [
             [
              0,
              "#0d0887"
             ],
             [
              0.1111111111111111,
              "#46039f"
             ],
             [
              0.2222222222222222,
              "#7201a8"
             ],
             [
              0.3333333333333333,
              "#9c179e"
             ],
             [
              0.4444444444444444,
              "#bd3786"
             ],
             [
              0.5555555555555556,
              "#d8576b"
             ],
             [
              0.6666666666666666,
              "#ed7953"
             ],
             [
              0.7777777777777778,
              "#fb9f3a"
             ],
             [
              0.8888888888888888,
              "#fdca26"
             ],
             [
              1,
              "#f0f921"
             ]
            ],
            "type": "heatmap"
           }
          ],
          "histogram": [
           {
            "marker": {
             "pattern": {
              "fillmode": "overlay",
              "size": 10,
              "solidity": 0.2
             }
            },
            "type": "histogram"
           }
          ],
          "histogram2d": [
           {
            "colorbar": {
             "outlinewidth": 0,
             "ticks": ""
            },
            "colorscale": [
             [
              0,
              "#0d0887"
             ],
             [
              0.1111111111111111,
              "#46039f"
             ],
             [
              0.2222222222222222,
              "#7201a8"
             ],
             [
              0.3333333333333333,
              "#9c179e"
             ],
             [
              0.4444444444444444,
              "#bd3786"
             ],
             [
              0.5555555555555556,
              "#d8576b"
             ],
             [
              0.6666666666666666,
              "#ed7953"
             ],
             [
              0.7777777777777778,
              "#fb9f3a"
             ],
             [
              0.8888888888888888,
              "#fdca26"
             ],
             [
              1,
              "#f0f921"
             ]
            ],
            "type": "histogram2d"
           }
          ],
          "histogram2dcontour": [
           {
            "colorbar": {
             "outlinewidth": 0,
             "ticks": ""
            },
            "colorscale": [
             [
              0,
              "#0d0887"
             ],
             [
              0.1111111111111111,
              "#46039f"
             ],
             [
              0.2222222222222222,
              "#7201a8"
             ],
             [
              0.3333333333333333,
              "#9c179e"
             ],
             [
              0.4444444444444444,
              "#bd3786"
             ],
             [
              0.5555555555555556,
              "#d8576b"
             ],
             [
              0.6666666666666666,
              "#ed7953"
             ],
             [
              0.7777777777777778,
              "#fb9f3a"
             ],
             [
              0.8888888888888888,
              "#fdca26"
             ],
             [
              1,
              "#f0f921"
             ]
            ],
            "type": "histogram2dcontour"
           }
          ],
          "mesh3d": [
           {
            "colorbar": {
             "outlinewidth": 0,
             "ticks": ""
            },
            "type": "mesh3d"
           }
          ],
          "parcoords": [
           {
            "line": {
             "colorbar": {
              "outlinewidth": 0,
              "ticks": ""
             }
            },
            "type": "parcoords"
           }
          ],
          "pie": [
           {
            "automargin": true,
            "type": "pie"
           }
          ],
          "scatter": [
           {
            "fillpattern": {
             "fillmode": "overlay",
             "size": 10,
             "solidity": 0.2
            },
            "type": "scatter"
           }
          ],
          "scatter3d": [
           {
            "line": {
             "colorbar": {
              "outlinewidth": 0,
              "ticks": ""
             }
            },
            "marker": {
             "colorbar": {
              "outlinewidth": 0,
              "ticks": ""
             }
            },
            "type": "scatter3d"
           }
          ],
          "scattercarpet": [
           {
            "marker": {
             "colorbar": {
              "outlinewidth": 0,
              "ticks": ""
             }
            },
            "type": "scattercarpet"
           }
          ],
          "scattergeo": [
           {
            "marker": {
             "colorbar": {
              "outlinewidth": 0,
              "ticks": ""
             }
            },
            "type": "scattergeo"
           }
          ],
          "scattergl": [
           {
            "marker": {
             "colorbar": {
              "outlinewidth": 0,
              "ticks": ""
             }
            },
            "type": "scattergl"
           }
          ],
          "scattermap": [
           {
            "marker": {
             "colorbar": {
              "outlinewidth": 0,
              "ticks": ""
             }
            },
            "type": "scattermap"
           }
          ],
          "scattermapbox": [
           {
            "marker": {
             "colorbar": {
              "outlinewidth": 0,
              "ticks": ""
             }
            },
            "type": "scattermapbox"
           }
          ],
          "scatterpolar": [
           {
            "marker": {
             "colorbar": {
              "outlinewidth": 0,
              "ticks": ""
             }
            },
            "type": "scatterpolar"
           }
          ],
          "scatterpolargl": [
           {
            "marker": {
             "colorbar": {
              "outlinewidth": 0,
              "ticks": ""
             }
            },
            "type": "scatterpolargl"
           }
          ],
          "scatterternary": [
           {
            "marker": {
             "colorbar": {
              "outlinewidth": 0,
              "ticks": ""
             }
            },
            "type": "scatterternary"
           }
          ],
          "surface": [
           {
            "colorbar": {
             "outlinewidth": 0,
             "ticks": ""
            },
            "colorscale": [
             [
              0,
              "#0d0887"
             ],
             [
              0.1111111111111111,
              "#46039f"
             ],
             [
              0.2222222222222222,
              "#7201a8"
             ],
             [
              0.3333333333333333,
              "#9c179e"
             ],
             [
              0.4444444444444444,
              "#bd3786"
             ],
             [
              0.5555555555555556,
              "#d8576b"
             ],
             [
              0.6666666666666666,
              "#ed7953"
             ],
             [
              0.7777777777777778,
              "#fb9f3a"
             ],
             [
              0.8888888888888888,
              "#fdca26"
             ],
             [
              1,
              "#f0f921"
             ]
            ],
            "type": "surface"
           }
          ],
          "table": [
           {
            "cells": {
             "fill": {
              "color": "#EBF0F8"
             },
             "line": {
              "color": "white"
             }
            },
            "header": {
             "fill": {
              "color": "#C8D4E3"
             },
             "line": {
              "color": "white"
             }
            },
            "type": "table"
           }
          ]
         },
         "layout": {
          "annotationdefaults": {
           "arrowcolor": "#2a3f5f",
           "arrowhead": 0,
           "arrowwidth": 1
          },
          "autotypenumbers": "strict",
          "coloraxis": {
           "colorbar": {
            "outlinewidth": 0,
            "ticks": ""
           }
          },
          "colorscale": {
           "diverging": [
            [
             0,
             "#8e0152"
            ],
            [
             0.1,
             "#c51b7d"
            ],
            [
             0.2,
             "#de77ae"
            ],
            [
             0.3,
             "#f1b6da"
            ],
            [
             0.4,
             "#fde0ef"
            ],
            [
             0.5,
             "#f7f7f7"
            ],
            [
             0.6,
             "#e6f5d0"
            ],
            [
             0.7,
             "#b8e186"
            ],
            [
             0.8,
             "#7fbc41"
            ],
            [
             0.9,
             "#4d9221"
            ],
            [
             1,
             "#276419"
            ]
           ],
           "sequential": [
            [
             0,
             "#0d0887"
            ],
            [
             0.1111111111111111,
             "#46039f"
            ],
            [
             0.2222222222222222,
             "#7201a8"
            ],
            [
             0.3333333333333333,
             "#9c179e"
            ],
            [
             0.4444444444444444,
             "#bd3786"
            ],
            [
             0.5555555555555556,
             "#d8576b"
            ],
            [
             0.6666666666666666,
             "#ed7953"
            ],
            [
             0.7777777777777778,
             "#fb9f3a"
            ],
            [
             0.8888888888888888,
             "#fdca26"
            ],
            [
             1,
             "#f0f921"
            ]
           ],
           "sequentialminus": [
            [
             0,
             "#0d0887"
            ],
            [
             0.1111111111111111,
             "#46039f"
            ],
            [
             0.2222222222222222,
             "#7201a8"
            ],
            [
             0.3333333333333333,
             "#9c179e"
            ],
            [
             0.4444444444444444,
             "#bd3786"
            ],
            [
             0.5555555555555556,
             "#d8576b"
            ],
            [
             0.6666666666666666,
             "#ed7953"
            ],
            [
             0.7777777777777778,
             "#fb9f3a"
            ],
            [
             0.8888888888888888,
             "#fdca26"
            ],
            [
             1,
             "#f0f921"
            ]
           ]
          },
          "colorway": [
           "#636efa",
           "#EF553B",
           "#00cc96",
           "#ab63fa",
           "#FFA15A",
           "#19d3f3",
           "#FF6692",
           "#B6E880",
           "#FF97FF",
           "#FECB52"
          ],
          "font": {
           "color": "#2a3f5f"
          },
          "geo": {
           "bgcolor": "white",
           "lakecolor": "white",
           "landcolor": "#E5ECF6",
           "showlakes": true,
           "showland": true,
           "subunitcolor": "white"
          },
          "hoverlabel": {
           "align": "left"
          },
          "hovermode": "closest",
          "mapbox": {
           "style": "light"
          },
          "paper_bgcolor": "white",
          "plot_bgcolor": "#E5ECF6",
          "polar": {
           "angularaxis": {
            "gridcolor": "white",
            "linecolor": "white",
            "ticks": ""
           },
           "bgcolor": "#E5ECF6",
           "radialaxis": {
            "gridcolor": "white",
            "linecolor": "white",
            "ticks": ""
           }
          },
          "scene": {
           "xaxis": {
            "backgroundcolor": "#E5ECF6",
            "gridcolor": "white",
            "gridwidth": 2,
            "linecolor": "white",
            "showbackground": true,
            "ticks": "",
            "zerolinecolor": "white"
           },
           "yaxis": {
            "backgroundcolor": "#E5ECF6",
            "gridcolor": "white",
            "gridwidth": 2,
            "linecolor": "white",
            "showbackground": true,
            "ticks": "",
            "zerolinecolor": "white"
           },
           "zaxis": {
            "backgroundcolor": "#E5ECF6",
            "gridcolor": "white",
            "gridwidth": 2,
            "linecolor": "white",
            "showbackground": true,
            "ticks": "",
            "zerolinecolor": "white"
           }
          },
          "shapedefaults": {
           "line": {
            "color": "#2a3f5f"
           }
          },
          "ternary": {
           "aaxis": {
            "gridcolor": "white",
            "linecolor": "white",
            "ticks": ""
           },
           "baxis": {
            "gridcolor": "white",
            "linecolor": "white",
            "ticks": ""
           },
           "bgcolor": "#E5ECF6",
           "caxis": {
            "gridcolor": "white",
            "linecolor": "white",
            "ticks": ""
           }
          },
          "title": {
           "x": 0.05
          },
          "xaxis": {
           "automargin": true,
           "gridcolor": "white",
           "linecolor": "white",
           "ticks": "",
           "title": {
            "standoff": 15
           },
           "zerolinecolor": "white",
           "zerolinewidth": 2
          },
          "yaxis": {
           "automargin": true,
           "gridcolor": "white",
           "linecolor": "white",
           "ticks": "",
           "title": {
            "standoff": 15
           },
           "zerolinecolor": "white",
           "zerolinewidth": 2
          }
         }
        },
        "title": {
         "font": {
          "size": 16
         },
         "text": "Treemap for business, filepath-based",
         "x": 0.5,
         "xanchor": "center"
        },
        "width": 960
       }
      },
      "image/png": "[encoded data removed]"
     },
     "metadata": {},
     "output_type": "display_data"
    }
   ],
   "source": [
    "fig = create_treemap(results_df, 'business', 'file_path', technical_colorscale)\n",
    "fig.show()"
   ]
  },
  {
   "cell_type": "markdown",
   "metadata": {},
   "source": [
    "#### 6.2.3 Concept-Based Views"
   ]
  },
  {
   "cell_type": "markdown",
   "metadata": {},
   "source": [
    "Create treemap for technical concepts based on concepts"
   ]
  },
  {
   "cell_type": "code",
   "execution_count": 38,
   "metadata": {},
   "outputs": [
    {
     "name": "stdout",
     "output_type": "stream",
     "text": [
      "Treemap saved as interactive HTML: conceptual_integrity_analysis_visualization_dropover-at_technical_business_concepts_concept_group_google-gemini-2.5-flash.html\n"
     ]
    },
    {
     "data": {
      "application/vnd.plotly.v1+json": {
       "config": {
        "plotlyServerURL": "https://plot.ly"
       },
       "data": [
        {
         "branchvalues": "total",
         "customdata": [
          "Total files: 2<br>Avg Score: 0.90<br>Total Lines: 326",
          "Directory: Boundary<br>Files: 2<br>Avg Score: 0.90<br>Total Lines: 326",
          "File: AddSchedulingDateRequestModel.java<br>Score: 1.00<br>Lines: 227<br>Concept: Boundary<br>Path: ../../../dropover-at/backend/src/main/java/at/dropover/scheduling/boundary/AddSchedulingDateRequestModel.java<br>Explanation: This class is explicitly named `AddSchedulingDateRequestModel` and resides in a `boundary` package. ...",
          "File: ResponseModel.java<br>Score: 0.80<br>Lines: 99<br>Concept: Boundary<br>Path: ../../../dropover-at/backend/src/main/java/at/dropover/framework/boundary/ResponseModel.java<br>Explanation: This code defines a `ResponseModel` interface, which is a key component of the Boundary concept. It ..."
         ],
         "hovertemplate": "<b>%{label}</b><br>%{customdata}<extra></extra>",
         "ids": [
          "root",
          "Boundary",
          "Boundary/AddSchedulingDateRequestModel.java",
          "Boundary/ResponseModel.java"
         ],
         "labels": [
          "Project dropover-at",
          "Boundary",
          "AddSchedulingDateRequestModel.java",
          "ResponseModel.java"
         ],
         "marker": {
          "cmax": 1,
          "cmin": 0,
          "colors": [
           0.9,
           0.9,
           1,
           0.8
          ],
          "colorscale": [
           [
            0,
            "#ffffff"
           ],
           [
            0.01,
            "#bfcfd4"
           ],
           [
            1,
            "#004153"
           ]
          ]
         },
         "parents": [
          "",
          "root",
          "Boundary",
          "Boundary"
         ],
         "textfont": {
          "size": 8
         },
         "textinfo": "label+value",
         "textposition": "middle center",
         "type": "treemap",
         "values": [
          326,
          326,
          227,
          99
         ]
        }
       ],
       "layout": {
        "height": 540,
        "margin": {
         "b": 10,
         "l": 10,
         "r": 10,
         "t": 30
        },
        "template": {
         "data": {
          "bar": [
           {
            "error_x": {
             "color": "#2a3f5f"
            },
            "error_y": {
             "color": "#2a3f5f"
            },
            "marker": {
             "line": {
              "color": "#E5ECF6",
              "width": 0.5
             },
             "pattern": {
              "fillmode": "overlay",
              "size": 10,
              "solidity": 0.2
             }
            },
            "type": "bar"
           }
          ],
          "barpolar": [
           {
            "marker": {
             "line": {
              "color": "#E5ECF6",
              "width": 0.5
             },
             "pattern": {
              "fillmode": "overlay",
              "size": 10,
              "solidity": 0.2
             }
            },
            "type": "barpolar"
           }
          ],
          "carpet": [
           {
            "aaxis": {
             "endlinecolor": "#2a3f5f",
             "gridcolor": "white",
             "linecolor": "white",
             "minorgridcolor": "white",
             "startlinecolor": "#2a3f5f"
            },
            "baxis": {
             "endlinecolor": "#2a3f5f",
             "gridcolor": "white",
             "linecolor": "white",
             "minorgridcolor": "white",
             "startlinecolor": "#2a3f5f"
            },
            "type": "carpet"
           }
          ],
          "choropleth": [
           {
            "colorbar": {
             "outlinewidth": 0,
             "ticks": ""
            },
            "type": "choropleth"
           }
          ],
          "contour": [
           {
            "colorbar": {
             "outlinewidth": 0,
             "ticks": ""
            },
            "colorscale": [
             [
              0,
              "#0d0887"
             ],
             [
              0.1111111111111111,
              "#46039f"
             ],
             [
              0.2222222222222222,
              "#7201a8"
             ],
             [
              0.3333333333333333,
              "#9c179e"
             ],
             [
              0.4444444444444444,
              "#bd3786"
             ],
             [
              0.5555555555555556,
              "#d8576b"
             ],
             [
              0.6666666666666666,
              "#ed7953"
             ],
             [
              0.7777777777777778,
              "#fb9f3a"
             ],
             [
              0.8888888888888888,
              "#fdca26"
             ],
             [
              1,
              "#f0f921"
             ]
            ],
            "type": "contour"
           }
          ],
          "contourcarpet": [
           {
            "colorbar": {
             "outlinewidth": 0,
             "ticks": ""
            },
            "type": "contourcarpet"
           }
          ],
          "heatmap": [
           {
            "colorbar": {
             "outlinewidth": 0,
             "ticks": ""
            },
            "colorscale": [
             [
              0,
              "#0d0887"
             ],
             [
              0.1111111111111111,
              "#46039f"
             ],
             [
              0.2222222222222222,
              "#7201a8"
             ],
             [
              0.3333333333333333,
              "#9c179e"
             ],
             [
              0.4444444444444444,
              "#bd3786"
             ],
             [
              0.5555555555555556,
              "#d8576b"
             ],
             [
              0.6666666666666666,
              "#ed7953"
             ],
             [
              0.7777777777777778,
              "#fb9f3a"
             ],
             [
              0.8888888888888888,
              "#fdca26"
             ],
             [
              1,
              "#f0f921"
             ]
            ],
            "type": "heatmap"
           }
          ],
          "histogram": [
           {
            "marker": {
             "pattern": {
              "fillmode": "overlay",
              "size": 10,
              "solidity": 0.2
             }
            },
            "type": "histogram"
           }
          ],
          "histogram2d": [
           {
            "colorbar": {
             "outlinewidth": 0,
             "ticks": ""
            },
            "colorscale": [
             [
              0,
              "#0d0887"
             ],
             [
              0.1111111111111111,
              "#46039f"
             ],
             [
              0.2222222222222222,
              "#7201a8"
             ],
             [
              0.3333333333333333,
              "#9c179e"
             ],
             [
              0.4444444444444444,
              "#bd3786"
             ],
             [
              0.5555555555555556,
              "#d8576b"
             ],
             [
              0.6666666666666666,
              "#ed7953"
             ],
             [
              0.7777777777777778,
              "#fb9f3a"
             ],
             [
              0.8888888888888888,
              "#fdca26"
             ],
             [
              1,
              "#f0f921"
             ]
            ],
            "type": "histogram2d"
           }
          ],
          "histogram2dcontour": [
           {
            "colorbar": {
             "outlinewidth": 0,
             "ticks": ""
            },
            "colorscale": [
             [
              0,
              "#0d0887"
             ],
             [
              0.1111111111111111,
              "#46039f"
             ],
             [
              0.2222222222222222,
              "#7201a8"
             ],
             [
              0.3333333333333333,
              "#9c179e"
             ],
             [
              0.4444444444444444,
              "#bd3786"
             ],
             [
              0.5555555555555556,
              "#d8576b"
             ],
             [
              0.6666666666666666,
              "#ed7953"
             ],
             [
              0.7777777777777778,
              "#fb9f3a"
             ],
             [
              0.8888888888888888,
              "#fdca26"
             ],
             [
              1,
              "#f0f921"
             ]
            ],
            "type": "histogram2dcontour"
           }
          ],
          "mesh3d": [
           {
            "colorbar": {
             "outlinewidth": 0,
             "ticks": ""
            },
            "type": "mesh3d"
           }
          ],
          "parcoords": [
           {
            "line": {
             "colorbar": {
              "outlinewidth": 0,
              "ticks": ""
             }
            },
            "type": "parcoords"
           }
          ],
          "pie": [
           {
            "automargin": true,
            "type": "pie"
           }
          ],
          "scatter": [
           {
            "fillpattern": {
             "fillmode": "overlay",
             "size": 10,
             "solidity": 0.2
            },
            "type": "scatter"
           }
          ],
          "scatter3d": [
           {
            "line": {
             "colorbar": {
              "outlinewidth": 0,
              "ticks": ""
             }
            },
            "marker": {
             "colorbar": {
              "outlinewidth": 0,
              "ticks": ""
             }
            },
            "type": "scatter3d"
           }
          ],
          "scattercarpet": [
           {
            "marker": {
             "colorbar": {
              "outlinewidth": 0,
              "ticks": ""
             }
            },
            "type": "scattercarpet"
           }
          ],
          "scattergeo": [
           {
            "marker": {
             "colorbar": {
              "outlinewidth": 0,
              "ticks": ""
             }
            },
            "type": "scattergeo"
           }
          ],
          "scattergl": [
           {
            "marker": {
             "colorbar": {
              "outlinewidth": 0,
              "ticks": ""
             }
            },
            "type": "scattergl"
           }
          ],
          "scattermap": [
           {
            "marker": {
             "colorbar": {
              "outlinewidth": 0,
              "ticks": ""
             }
            },
            "type": "scattermap"
           }
          ],
          "scattermapbox": [
           {
            "marker": {
             "colorbar": {
              "outlinewidth": 0,
              "ticks": ""
             }
            },
            "type": "scattermapbox"
           }
          ],
          "scatterpolar": [
           {
            "marker": {
             "colorbar": {
              "outlinewidth": 0,
              "ticks": ""
             }
            },
            "type": "scatterpolar"
           }
          ],
          "scatterpolargl": [
           {
            "marker": {
             "colorbar": {
              "outlinewidth": 0,
              "ticks": ""
             }
            },
            "type": "scatterpolargl"
           }
          ],
          "scatterternary": [
           {
            "marker": {
             "colorbar": {
              "outlinewidth": 0,
              "ticks": ""
             }
            },
            "type": "scatterternary"
           }
          ],
          "surface": [
           {
            "colorbar": {
             "outlinewidth": 0,
             "ticks": ""
            },
            "colorscale": [
             [
              0,
              "#0d0887"
             ],
             [
              0.1111111111111111,
              "#46039f"
             ],
             [
              0.2222222222222222,
              "#7201a8"
             ],
             [
              0.3333333333333333,
              "#9c179e"
             ],
             [
              0.4444444444444444,
              "#bd3786"
             ],
             [
              0.5555555555555556,
              "#d8576b"
             ],
             [
              0.6666666666666666,
              "#ed7953"
             ],
             [
              0.7777777777777778,
              "#fb9f3a"
             ],
             [
              0.8888888888888888,
              "#fdca26"
             ],
             [
              1,
              "#f0f921"
             ]
            ],
            "type": "surface"
           }
          ],
          "table": [
           {
            "cells": {
             "fill": {
              "color": "#EBF0F8"
             },
             "line": {
              "color": "white"
             }
            },
            "header": {
             "fill": {
              "color": "#C8D4E3"
             },
             "line": {
              "color": "white"
             }
            },
            "type": "table"
           }
          ]
         },
         "layout": {
          "annotationdefaults": {
           "arrowcolor": "#2a3f5f",
           "arrowhead": 0,
           "arrowwidth": 1
          },
          "autotypenumbers": "strict",
          "coloraxis": {
           "colorbar": {
            "outlinewidth": 0,
            "ticks": ""
           }
          },
          "colorscale": {
           "diverging": [
            [
             0,
             "#8e0152"
            ],
            [
             0.1,
             "#c51b7d"
            ],
            [
             0.2,
             "#de77ae"
            ],
            [
             0.3,
             "#f1b6da"
            ],
            [
             0.4,
             "#fde0ef"
            ],
            [
             0.5,
             "#f7f7f7"
            ],
            [
             0.6,
             "#e6f5d0"
            ],
            [
             0.7,
             "#b8e186"
            ],
            [
             0.8,
             "#7fbc41"
            ],
            [
             0.9,
             "#4d9221"
            ],
            [
             1,
             "#276419"
            ]
           ],
           "sequential": [
            [
             0,
             "#0d0887"
            ],
            [
             0.1111111111111111,
             "#46039f"
            ],
            [
             0.2222222222222222,
             "#7201a8"
            ],
            [
             0.3333333333333333,
             "#9c179e"
            ],
            [
             0.4444444444444444,
             "#bd3786"
            ],
            [
             0.5555555555555556,
             "#d8576b"
            ],
            [
             0.6666666666666666,
             "#ed7953"
            ],
            [
             0.7777777777777778,
             "#fb9f3a"
            ],
            [
             0.8888888888888888,
             "#fdca26"
            ],
            [
             1,
             "#f0f921"
            ]
           ],
           "sequentialminus": [
            [
             0,
             "#0d0887"
            ],
            [
             0.1111111111111111,
             "#46039f"
            ],
            [
             0.2222222222222222,
             "#7201a8"
            ],
            [
             0.3333333333333333,
             "#9c179e"
            ],
            [
             0.4444444444444444,
             "#bd3786"
            ],
            [
             0.5555555555555556,
             "#d8576b"
            ],
            [
             0.6666666666666666,
             "#ed7953"
            ],
            [
             0.7777777777777778,
             "#fb9f3a"
            ],
            [
             0.8888888888888888,
             "#fdca26"
            ],
            [
             1,
             "#f0f921"
            ]
           ]
          },
          "colorway": [
           "#636efa",
           "#EF553B",
           "#00cc96",
           "#ab63fa",
           "#FFA15A",
           "#19d3f3",
           "#FF6692",
           "#B6E880",
           "#FF97FF",
           "#FECB52"
          ],
          "font": {
           "color": "#2a3f5f"
          },
          "geo": {
           "bgcolor": "white",
           "lakecolor": "white",
           "landcolor": "#E5ECF6",
           "showlakes": true,
           "showland": true,
           "subunitcolor": "white"
          },
          "hoverlabel": {
           "align": "left"
          },
          "hovermode": "closest",
          "mapbox": {
           "style": "light"
          },
          "paper_bgcolor": "white",
          "plot_bgcolor": "#E5ECF6",
          "polar": {
           "angularaxis": {
            "gridcolor": "white",
            "linecolor": "white",
            "ticks": ""
           },
           "bgcolor": "#E5ECF6",
           "radialaxis": {
            "gridcolor": "white",
            "linecolor": "white",
            "ticks": ""
           }
          },
          "scene": {
           "xaxis": {
            "backgroundcolor": "#E5ECF6",
            "gridcolor": "white",
            "gridwidth": 2,
            "linecolor": "white",
            "showbackground": true,
            "ticks": "",
            "zerolinecolor": "white"
           },
           "yaxis": {
            "backgroundcolor": "#E5ECF6",
            "gridcolor": "white",
            "gridwidth": 2,
            "linecolor": "white",
            "showbackground": true,
            "ticks": "",
            "zerolinecolor": "white"
           },
           "zaxis": {
            "backgroundcolor": "#E5ECF6",
            "gridcolor": "white",
            "gridwidth": 2,
            "linecolor": "white",
            "showbackground": true,
            "ticks": "",
            "zerolinecolor": "white"
           }
          },
          "shapedefaults": {
           "line": {
            "color": "#2a3f5f"
           }
          },
          "ternary": {
           "aaxis": {
            "gridcolor": "white",
            "linecolor": "white",
            "ticks": ""
           },
           "baxis": {
            "gridcolor": "white",
            "linecolor": "white",
            "ticks": ""
           },
           "bgcolor": "#E5ECF6",
           "caxis": {
            "gridcolor": "white",
            "linecolor": "white",
            "ticks": ""
           }
          },
          "title": {
           "x": 0.05
          },
          "xaxis": {
           "automargin": true,
           "gridcolor": "white",
           "linecolor": "white",
           "ticks": "",
           "title": {
            "standoff": 15
           },
           "zerolinecolor": "white",
           "zerolinewidth": 2
          },
          "yaxis": {
           "automargin": true,
           "gridcolor": "white",
           "linecolor": "white",
           "ticks": "",
           "title": {
            "standoff": 15
           },
           "zerolinecolor": "white",
           "zerolinewidth": 2
          }
         }
        },
        "title": {
         "font": {
          "size": 16
         },
         "text": "Treemap for technical, conceptgroup-based",
         "x": 0.5,
         "xanchor": "center"
        },
        "width": 960
       }
      },
      "image/png": "[encoded data removed]"
     },
     "metadata": {},
     "output_type": "display_data"
    }
   ],
   "source": [
    "fig = create_treemap(results_df, 'technical', 'concept_group', technical_colorscale)\n",
    "fig.show()"
   ]
  },
  {
   "cell_type": "markdown",
   "metadata": {},
   "source": [
    "Create treemap for business concepts based on concepts"
   ]
  },
  {
   "cell_type": "code",
   "execution_count": 39,
   "metadata": {},
   "outputs": [
    {
     "name": "stdout",
     "output_type": "stream",
     "text": [
      "Treemap saved as interactive HTML: conceptual_integrity_analysis_visualization_dropover-at_business_business_concepts_concept_group_google-gemini-2.5-flash.html\n"
     ]
    },
    {
     "data": {
      "application/vnd.plotly.v1+json": {
       "config": {
        "plotlyServerURL": "https://plot.ly"
       },
       "data": [
        {
         "branchvalues": "total",
         "customdata": [
          "Total files: 2<br>Avg Score: 0.05<br>Total Lines: 539",
          "Directory: Site<br>Files: 2<br>Avg Score: 0.05<br>Total Lines: 539",
          "File: package-info.java<br>Score: 0.10<br>Lines: 26<br>Concept: Site<br>Path: ../../../dropover-at/backend/src/main/java/at/dropover/site/package-info.java<br>Explanation: This file is a `package-info.java` file, which only declares a package. It contains no code that wou...",
          "File: AlphabeticBase26Encoder.java<br>Score: 0.00<br>Lines: 513<br>Concept: Site<br>Path: ../../../dropover-at/backend/src/main/java/at/dropover/site/interactor/namegeneration/AlphabeticBase26Encoder.java<br>Explanation: This file is an `AlphabeticBase26Encoder`, which is a utility for generating names or codes. It has ..."
         ],
         "hovertemplate": "<b>%{label}</b><br>%{customdata}<extra></extra>",
         "ids": [
          "root",
          "Site",
          "Site/package-info.java",
          "Site/AlphabeticBase26Encoder.java"
         ],
         "labels": [
          "Project dropover-at",
          "Site",
          "package-info.java",
          "AlphabeticBase26Encoder.java"
         ],
         "marker": {
          "cmax": 1,
          "cmin": 0,
          "colors": [
           0.05,
           0.05,
           0.1,
           0
          ],
          "colorscale": [
           [
            0,
            "#ffffff"
           ],
           [
            0.01,
            "#bfcfd4"
           ],
           [
            1,
            "#004153"
           ]
          ]
         },
         "parents": [
          "",
          "root",
          "Site",
          "Site"
         ],
         "textfont": {
          "size": 8
         },
         "textinfo": "label+value",
         "textposition": "middle center",
         "type": "treemap",
         "values": [
          539,
          539,
          26,
          513
         ]
        }
       ],
       "layout": {
        "height": 540,
        "margin": {
         "b": 10,
         "l": 10,
         "r": 10,
         "t": 30
        },
        "template": {
         "data": {
          "bar": [
           {
            "error_x": {
             "color": "#2a3f5f"
            },
            "error_y": {
             "color": "#2a3f5f"
            },
            "marker": {
             "line": {
              "color": "#E5ECF6",
              "width": 0.5
             },
             "pattern": {
              "fillmode": "overlay",
              "size": 10,
              "solidity": 0.2
             }
            },
            "type": "bar"
           }
          ],
          "barpolar": [
           {
            "marker": {
             "line": {
              "color": "#E5ECF6",
              "width": 0.5
             },
             "pattern": {
              "fillmode": "overlay",
              "size": 10,
              "solidity": 0.2
             }
            },
            "type": "barpolar"
           }
          ],
          "carpet": [
           {
            "aaxis": {
             "endlinecolor": "#2a3f5f",
             "gridcolor": "white",
             "linecolor": "white",
             "minorgridcolor": "white",
             "startlinecolor": "#2a3f5f"
            },
            "baxis": {
             "endlinecolor": "#2a3f5f",
             "gridcolor": "white",
             "linecolor": "white",
             "minorgridcolor": "white",
             "startlinecolor": "#2a3f5f"
            },
            "type": "carpet"
           }
          ],
          "choropleth": [
           {
            "colorbar": {
             "outlinewidth": 0,
             "ticks": ""
            },
            "type": "choropleth"
           }
          ],
          "contour": [
           {
            "colorbar": {
             "outlinewidth": 0,
             "ticks": ""
            },
            "colorscale": [
             [
              0,
              "#0d0887"
             ],
             [
              0.1111111111111111,
              "#46039f"
             ],
             [
              0.2222222222222222,
              "#7201a8"
             ],
             [
              0.3333333333333333,
              "#9c179e"
             ],
             [
              0.4444444444444444,
              "#bd3786"
             ],
             [
              0.5555555555555556,
              "#d8576b"
             ],
             [
              0.6666666666666666,
              "#ed7953"
             ],
             [
              0.7777777777777778,
              "#fb9f3a"
             ],
             [
              0.8888888888888888,
              "#fdca26"
             ],
             [
              1,
              "#f0f921"
             ]
            ],
            "type": "contour"
           }
          ],
          "contourcarpet": [
           {
            "colorbar": {
             "outlinewidth": 0,
             "ticks": ""
            },
            "type": "contourcarpet"
           }
          ],
          "heatmap": [
           {
            "colorbar": {
             "outlinewidth": 0,
             "ticks": ""
            },
            "colorscale": [
             [
              0,
              "#0d0887"
             ],
             [
              0.1111111111111111,
              "#46039f"
             ],
             [
              0.2222222222222222,
              "#7201a8"
             ],
             [
              0.3333333333333333,
              "#9c179e"
             ],
             [
              0.4444444444444444,
              "#bd3786"
             ],
             [
              0.5555555555555556,
              "#d8576b"
             ],
             [
              0.6666666666666666,
              "#ed7953"
             ],
             [
              0.7777777777777778,
              "#fb9f3a"
             ],
             [
              0.8888888888888888,
              "#fdca26"
             ],
             [
              1,
              "#f0f921"
             ]
            ],
            "type": "heatmap"
           }
          ],
          "histogram": [
           {
            "marker": {
             "pattern": {
              "fillmode": "overlay",
              "size": 10,
              "solidity": 0.2
             }
            },
            "type": "histogram"
           }
          ],
          "histogram2d": [
           {
            "colorbar": {
             "outlinewidth": 0,
             "ticks": ""
            },
            "colorscale": [
             [
              0,
              "#0d0887"
             ],
             [
              0.1111111111111111,
              "#46039f"
             ],
             [
              0.2222222222222222,
              "#7201a8"
             ],
             [
              0.3333333333333333,
              "#9c179e"
             ],
             [
              0.4444444444444444,
              "#bd3786"
             ],
             [
              0.5555555555555556,
              "#d8576b"
             ],
             [
              0.6666666666666666,
              "#ed7953"
             ],
             [
              0.7777777777777778,
              "#fb9f3a"
             ],
             [
              0.8888888888888888,
              "#fdca26"
             ],
             [
              1,
              "#f0f921"
             ]
            ],
            "type": "histogram2d"
           }
          ],
          "histogram2dcontour": [
           {
            "colorbar": {
             "outlinewidth": 0,
             "ticks": ""
            },
            "colorscale": [
             [
              0,
              "#0d0887"
             ],
             [
              0.1111111111111111,
              "#46039f"
             ],
             [
              0.2222222222222222,
              "#7201a8"
             ],
             [
              0.3333333333333333,
              "#9c179e"
             ],
             [
              0.4444444444444444,
              "#bd3786"
             ],
             [
              0.5555555555555556,
              "#d8576b"
             ],
             [
              0.6666666666666666,
              "#ed7953"
             ],
             [
              0.7777777777777778,
              "#fb9f3a"
             ],
             [
              0.8888888888888888,
              "#fdca26"
             ],
             [
              1,
              "#f0f921"
             ]
            ],
            "type": "histogram2dcontour"
           }
          ],
          "mesh3d": [
           {
            "colorbar": {
             "outlinewidth": 0,
             "ticks": ""
            },
            "type": "mesh3d"
           }
          ],
          "parcoords": [
           {
            "line": {
             "colorbar": {
              "outlinewidth": 0,
              "ticks": ""
             }
            },
            "type": "parcoords"
           }
          ],
          "pie": [
           {
            "automargin": true,
            "type": "pie"
           }
          ],
          "scatter": [
           {
            "fillpattern": {
             "fillmode": "overlay",
             "size": 10,
             "solidity": 0.2
            },
            "type": "scatter"
           }
          ],
          "scatter3d": [
           {
            "line": {
             "colorbar": {
              "outlinewidth": 0,
              "ticks": ""
             }
            },
            "marker": {
             "colorbar": {
              "outlinewidth": 0,
              "ticks": ""
             }
            },
            "type": "scatter3d"
           }
          ],
          "scattercarpet": [
           {
            "marker": {
             "colorbar": {
              "outlinewidth": 0,
              "ticks": ""
             }
            },
            "type": "scattercarpet"
           }
          ],
          "scattergeo": [
           {
            "marker": {
             "colorbar": {
              "outlinewidth": 0,
              "ticks": ""
             }
            },
            "type": "scattergeo"
           }
          ],
          "scattergl": [
           {
            "marker": {
             "colorbar": {
              "outlinewidth": 0,
              "ticks": ""
             }
            },
            "type": "scattergl"
           }
          ],
          "scattermap": [
           {
            "marker": {
             "colorbar": {
              "outlinewidth": 0,
              "ticks": ""
             }
            },
            "type": "scattermap"
           }
          ],
          "scattermapbox": [
           {
            "marker": {
             "colorbar": {
              "outlinewidth": 0,
              "ticks": ""
             }
            },
            "type": "scattermapbox"
           }
          ],
          "scatterpolar": [
           {
            "marker": {
             "colorbar": {
              "outlinewidth": 0,
              "ticks": ""
             }
            },
            "type": "scatterpolar"
           }
          ],
          "scatterpolargl": [
           {
            "marker": {
             "colorbar": {
              "outlinewidth": 0,
              "ticks": ""
             }
            },
            "type": "scatterpolargl"
           }
          ],
          "scatterternary": [
           {
            "marker": {
             "colorbar": {
              "outlinewidth": 0,
              "ticks": ""
             }
            },
            "type": "scatterternary"
           }
          ],
          "surface": [
           {
            "colorbar": {
             "outlinewidth": 0,
             "ticks": ""
            },
            "colorscale": [
             [
              0,
              "#0d0887"
             ],
             [
              0.1111111111111111,
              "#46039f"
             ],
             [
              0.2222222222222222,
              "#7201a8"
             ],
             [
              0.3333333333333333,
              "#9c179e"
             ],
             [
              0.4444444444444444,
              "#bd3786"
             ],
             [
              0.5555555555555556,
              "#d8576b"
             ],
             [
              0.6666666666666666,
              "#ed7953"
             ],
             [
              0.7777777777777778,
              "#fb9f3a"
             ],
             [
              0.8888888888888888,
              "#fdca26"
             ],
             [
              1,
              "#f0f921"
             ]
            ],
            "type": "surface"
           }
          ],
          "table": [
           {
            "cells": {
             "fill": {
              "color": "#EBF0F8"
             },
             "line": {
              "color": "white"
             }
            },
            "header": {
             "fill": {
              "color": "#C8D4E3"
             },
             "line": {
              "color": "white"
             }
            },
            "type": "table"
           }
          ]
         },
         "layout": {
          "annotationdefaults": {
           "arrowcolor": "#2a3f5f",
           "arrowhead": 0,
           "arrowwidth": 1
          },
          "autotypenumbers": "strict",
          "coloraxis": {
           "colorbar": {
            "outlinewidth": 0,
            "ticks": ""
           }
          },
          "colorscale": {
           "diverging": [
            [
             0,
             "#8e0152"
            ],
            [
             0.1,
             "#c51b7d"
            ],
            [
             0.2,
             "#de77ae"
            ],
            [
             0.3,
             "#f1b6da"
            ],
            [
             0.4,
             "#fde0ef"
            ],
            [
             0.5,
             "#f7f7f7"
            ],
            [
             0.6,
             "#e6f5d0"
            ],
            [
             0.7,
             "#b8e186"
            ],
            [
             0.8,
             "#7fbc41"
            ],
            [
             0.9,
             "#4d9221"
            ],
            [
             1,
             "#276419"
            ]
           ],
           "sequential": [
            [
             0,
             "#0d0887"
            ],
            [
             0.1111111111111111,
             "#46039f"
            ],
            [
             0.2222222222222222,
             "#7201a8"
            ],
            [
             0.3333333333333333,
             "#9c179e"
            ],
            [
             0.4444444444444444,
             "#bd3786"
            ],
            [
             0.5555555555555556,
             "#d8576b"
            ],
            [
             0.6666666666666666,
             "#ed7953"
            ],
            [
             0.7777777777777778,
             "#fb9f3a"
            ],
            [
             0.8888888888888888,
             "#fdca26"
            ],
            [
             1,
             "#f0f921"
            ]
           ],
           "sequentialminus": [
            [
             0,
             "#0d0887"
            ],
            [
             0.1111111111111111,
             "#46039f"
            ],
            [
             0.2222222222222222,
             "#7201a8"
            ],
            [
             0.3333333333333333,
             "#9c179e"
            ],
            [
             0.4444444444444444,
             "#bd3786"
            ],
            [
             0.5555555555555556,
             "#d8576b"
            ],
            [
             0.6666666666666666,
             "#ed7953"
            ],
            [
             0.7777777777777778,
             "#fb9f3a"
            ],
            [
             0.8888888888888888,
             "#fdca26"
            ],
            [
             1,
             "#f0f921"
            ]
           ]
          },
          "colorway": [
           "#636efa",
           "#EF553B",
           "#00cc96",
           "#ab63fa",
           "#FFA15A",
           "#19d3f3",
           "#FF6692",
           "#B6E880",
           "#FF97FF",
           "#FECB52"
          ],
          "font": {
           "color": "#2a3f5f"
          },
          "geo": {
           "bgcolor": "white",
           "lakecolor": "white",
           "landcolor": "#E5ECF6",
           "showlakes": true,
           "showland": true,
           "subunitcolor": "white"
          },
          "hoverlabel": {
           "align": "left"
          },
          "hovermode": "closest",
          "mapbox": {
           "style": "light"
          },
          "paper_bgcolor": "white",
          "plot_bgcolor": "#E5ECF6",
          "polar": {
           "angularaxis": {
            "gridcolor": "white",
            "linecolor": "white",
            "ticks": ""
           },
           "bgcolor": "#E5ECF6",
           "radialaxis": {
            "gridcolor": "white",
            "linecolor": "white",
            "ticks": ""
           }
          },
          "scene": {
           "xaxis": {
            "backgroundcolor": "#E5ECF6",
            "gridcolor": "white",
            "gridwidth": 2,
            "linecolor": "white",
            "showbackground": true,
            "ticks": "",
            "zerolinecolor": "white"
           },
           "yaxis": {
            "backgroundcolor": "#E5ECF6",
            "gridcolor": "white",
            "gridwidth": 2,
            "linecolor": "white",
            "showbackground": true,
            "ticks": "",
            "zerolinecolor": "white"
           },
           "zaxis": {
            "backgroundcolor": "#E5ECF6",
            "gridcolor": "white",
            "gridwidth": 2,
            "linecolor": "white",
            "showbackground": true,
            "ticks": "",
            "zerolinecolor": "white"
           }
          },
          "shapedefaults": {
           "line": {
            "color": "#2a3f5f"
           }
          },
          "ternary": {
           "aaxis": {
            "gridcolor": "white",
            "linecolor": "white",
            "ticks": ""
           },
           "baxis": {
            "gridcolor": "white",
            "linecolor": "white",
            "ticks": ""
           },
           "bgcolor": "#E5ECF6",
           "caxis": {
            "gridcolor": "white",
            "linecolor": "white",
            "ticks": ""
           }
          },
          "title": {
           "x": 0.05
          },
          "xaxis": {
           "automargin": true,
           "gridcolor": "white",
           "linecolor": "white",
           "ticks": "",
           "title": {
            "standoff": 15
           },
           "zerolinecolor": "white",
           "zerolinewidth": 2
          },
          "yaxis": {
           "automargin": true,
           "gridcolor": "white",
           "linecolor": "white",
           "ticks": "",
           "title": {
            "standoff": 15
           },
           "zerolinecolor": "white",
           "zerolinewidth": 2
          }
         }
        },
        "title": {
         "font": {
          "size": 16
         },
         "text": "Treemap for business, conceptgroup-based",
         "x": 0.5,
         "xanchor": "center"
        },
        "width": 960
       }
      },
      "image/png": "[encoded data removed]"
     },
     "metadata": {},
     "output_type": "display_data"
    }
   ],
   "source": [
    "fig = create_treemap(results_df, 'business', 'concept_group', technical_colorscale)\n",
    "fig.show()"
   ]
  },
  {
   "cell_type": "markdown",
   "metadata": {},
   "source": [
    "## 7. Advanced Statistical Analysis\n",
    "\n",
    "Beyond the treemaps, we can use standard statistical plots to dig deeper into the results. These plots help us answer more specific questions about the project's conceptual health.\n",
    "\n",
    "- **Distribution of Scores:** A histogram showing the overall distribution of concept implementation scores. Is it a healthy bell curve, or are scores clustered at the low or high end?\n",
    "- **Scores by Concept Type:** A box plot comparing the score distributions for *business* vs. *technical* concepts. Is one type of concept implemented more consistently than the other?\n",
    "- **Matched vs. Unmatched by Type:** A bar chart showing the breakdown of matched and unmatched files for each concept type.\n",
    "- **Top 10 Concepts by Score:** Which concepts are most successfully implemented across the project?\n",
    "- **Top 10 Concepts by File Count:** Which concepts have the largest footprint in the codebase?\n",
    "- **Score Distribution (Matched vs. Unmatched):** This compares the score distribution of files that were matched to a concept against those that weren't (which are all scored at 0). This plot primarily serves as a sanity check.\n",
    "\n",
    "Hint: This part was ~hallucinated~ created by the LLM in the first draft. I didn’t ask for it, but it looked nice, so I kept it.**"
   ]
  },
  {
   "cell_type": "code",
   "execution_count": 46,
   "metadata": {},
   "outputs": [
    {
     "data": {
      "image/png": "[encoded data removed]",
      "text/plain": [
       "<Figure size 1800x1200 with 6 Axes>"
      ]
     },
     "metadata": {},
     "output_type": "display_data"
    }
   ],
   "source": [
    "# Enhanced visualizations including unmatched files\n",
    "if not results_df.empty:\n",
    "    fig, axes = plt.subplots(2, 3, figsize=(18, 12))\n",
    "    \n",
    "    # Score distribution\n",
    "    axes[0, 0].hist(results_df['score'], bins=20, edgecolor='black', alpha=0.7)\n",
    "    axes[0, 0].set_title('Distribution of All Concept Implementation Scores')\n",
    "    axes[0, 0].set_xlabel('Score')\n",
    "    axes[0, 0].set_ylabel('Frequency')\n",
    "    \n",
    "    # Scores by concept type\n",
    "    sns.boxplot(data=results_df, x='concept_type', y='score', ax=axes[0, 1])\n",
    "    axes[0, 1].set_title('Scores by Concept Type (Including Unmatched)')\n",
    "    axes[0, 1].tick_params(axis='x', rotation=45)\n",
    "    \n",
    "    # Matched vs Unmatched distribution\n",
    "    matched_counts = results_df.groupby('concept_type').agg({\n",
    "        'concept_name': lambda x: [x.notna().sum(), x.isna().sum()]\n",
    "    })['concept_name'].apply(pd.Series)\n",
    "    matched_counts.columns = ['Matched', 'Unmatched']\n",
    "    matched_counts.plot(kind='bar', ax=axes[0, 2], stacked=True)\n",
    "    axes[0, 2].set_title('Matched vs Unmatched Files by Type')\n",
    "    axes[0, 2].set_ylabel('Number of Files')\n",
    "    axes[0, 2].tick_params(axis='x', rotation=45)\n",
    "    \n",
    "    # Top concepts by average score (excluding unmatched)\n",
    "    matched_df = results_df[results_df['concept_name'].notna()]\n",
    "    if not matched_df.empty:\n",
    "        concept_scores = matched_df.groupby('concept_name')['score'].mean().sort_values(ascending=False).head(10)\n",
    "        axes[1, 0].barh(concept_scores.index, concept_scores.values)\n",
    "        axes[1, 0].set_title('Top 10 Concepts by Average Score')\n",
    "        axes[1, 0].set_xlabel('Average Score')\n",
    "    \n",
    "    # Files per concept (excluding unmatched)\n",
    "    if not matched_df.empty:\n",
    "        files_per_concept = matched_df.groupby('concept_name').size().sort_values(ascending=False).head(10)\n",
    "        axes[1, 1].barh(files_per_concept.index, files_per_concept.values)\n",
    "        axes[1, 1].set_title('Top 10 Concepts by Number of Files')\n",
    "        axes[1, 1].set_xlabel('Number of Files')\n",
    "    \n",
    "    # Score distribution: Matched vs Unmatched\n",
    "    matched_scores = results_df[results_df['concept_name'].notna()]['score']\n",
    "    unmatched_scores = results_df[results_df['concept_name'].isna()]['score']\n",
    "    \n",
    "    axes[1, 2].hist([matched_scores, unmatched_scores], bins=15, \n",
    "                   label=['Matched Files', 'Unmatched Files'], \n",
    "                   alpha=0.7, edgecolor='black')\n",
    "    axes[1, 2].set_title('Score Distribution: Matched vs Unmatched')\n",
    "    axes[1, 2].set_xlabel('Score')\n",
    "    axes[1, 2].set_ylabel('Frequency')\n",
    "    axes[1, 2].legend()\n",
    "    \n",
    "    plt.tight_layout()\n",
    "    plt.show()"
   ]
  },
  {
   "cell_type": "markdown",
   "metadata": {},
   "source": [
    "## 8. Conclusion\n",
    "\n",
    "This notebook lets you check the integrity of the concepts in your software system. If you achieve high scores in both concept coverage and concept integrity, you no longer need to know every line of source code by heart but just the core idea behind each file. It's all about understanding the concepts they represent. That’s what enables you to efficiently work with large legacy codebases. Isn’t that nice?\n",
    "\n",
    "Markus Harrer  \n",
    "https://markusharrer.de  \n",
    "July 2025  "
   ]
  },
  {
   "cell_type": "code",
   "execution_count": null,
   "metadata": {},
   "outputs": [],
   "source": []
  }
 ],
 "metadata": {
  "kernelspec": {
   "display_name": "Python 3 (ipykernel)",
   "language": "python",
   "name": "python3"
  },
  "language_info": {
   "codemirror_mode": {
    "name": "ipython",
    "version": 3
   },
   "file_extension": ".py",
   "mimetype": "text/x-python",
   "name": "python",
   "nbconvert_exporter": "python",
   "pygments_lexer": "ipython3",
   "version": "3.12.7"
  }
 },
 "nbformat": 4,
 "nbformat_minor": 4
}
