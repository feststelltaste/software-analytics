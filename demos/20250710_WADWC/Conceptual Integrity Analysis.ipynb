{
 "cells": [
  {
   "cell_type": "code",
   "execution_count": 103,
   "metadata": {},
   "outputs": [],
   "source": [
    "# --- Standard Library ---\n",
    "import os                        # File and directory operations\n",
    "import glob                      # Pattern matching for file paths\n",
    "from pathlib import Path         # Object-oriented filesystem paths\n",
    "from collections import defaultdict  # Simplified dict with default values\n",
    "\n",
    "# --- Data Handling & Structures ---\n",
    "import yaml                      # YAML file loading\n",
    "import numpy as np               # Numerical arrays and math\n",
    "import pandas as pd              # DataFrames and data analysis\n",
    "\n",
    "# --- Plotting ---\n",
    "import matplotlib.pyplot as plt  # Basic plotting\n",
    "import seaborn as sns            # Statistical plots built on top of matplotlib\n",
    "import plotly.express as px              # High-level plotting API\n",
    "import plotly.graph_objects as go        # Low-level figure components\n",
    "from plotly.subplots import make_subplots  # Subplot layout management\n",
    "\n",
    "# --- OpenAI API ---\n",
    "from openai import OpenAI        # LLM-based concept scoring (custom client assumed)\n",
    "\n",
    "# --- Jupyter Notebook Utilities ---\n",
    "from IPython.display import display, update_display  # Dynamic output updates\n",
    "from tqdm.notebook import tqdm   # Interactive progress bars in notebooks\n"
   ]
  },
  {
   "cell_type": "code",
   "execution_count": 2,
   "metadata": {},
   "outputs": [],
   "source": [
    "# Configuration\n",
    "BASE_PATH = \"../../../dropover-at/\"\n",
    "CONCEPTS_FILE_PATH=os.path.join(BASE_PATH, \"concepts.yaml\")\n",
    "PROJECT_NAME = BASE_PATH.split(os.sep)[-2]\n",
    "MODEL=\"google/gemini-2.5-pro\"\n",
    "\n",
    "# Initialize OpenAI client for use with OpenRouter\n",
    "client = OpenAI(\n",
    "    base_url=\"https://openrouter.ai/api/v1\",\n",
    "    api_key=os.getenv(\"OPENROUTER_API_KEY\")\n",
    ")"
   ]
  },
  {
   "cell_type": "markdown",
   "metadata": {},
   "source": [
    "## Load Concepts from YAML"
   ]
  },
  {
   "cell_type": "code",
   "execution_count": 3,
   "metadata": {},
   "outputs": [
    {
     "name": "stdout",
     "output_type": "stream",
     "text": [
      "Loaded\n",
      "- 11 technical conceptss\n",
      "- 7 business conceptss\n",
      "for project dropover-at\n"
     ]
    }
   ],
   "source": [
    "concepts_data = {}\n",
    "\n",
    "with open(CONCEPTS_FILE_PATH, 'r') as file:\n",
    "    concepts_data =  yaml.safe_load(file)\n",
    "\n",
    "print(\"Loaded\")\n",
    "for concept_type in concepts_data.keys():\n",
    "    print(f\"- {len(concepts_data.get(concept_type, []))} {concept_type.replace(\"_\", \" \")}s\")\n",
    "print(f\"for project {PROJECT_NAME}\")"
   ]
  },
  {
   "cell_type": "markdown",
   "metadata": {},
   "source": [
    "## Get all Java prod source code files"
   ]
  },
  {
   "cell_type": "code",
   "execution_count": 4,
   "metadata": {},
   "outputs": [
    {
     "name": "stdout",
     "output_type": "stream",
     "text": [
      "Total Java files: 214\n"
     ]
    }
   ],
   "source": [
    "# this is a Maven project, so prod files are in a specific directory\n",
    "all_java_files = glob.glob(BASE_PATH + \"**/src/main/java/**/*.java\", recursive=True)\n",
    "# remove the info files for packages\n",
    "all_java_files = [file for file in all_java_files if not \"package-info.java\" in file]\n",
    "print(f\"Total Java files: {len(all_java_files)}\")"
   ]
  },
  {
   "cell_type": "markdown",
   "metadata": {},
   "source": [
    "## Concept File Discovery\n",
    "Get all files that match any concept pattern."
   ]
  },
  {
   "cell_type": "code",
   "execution_count": 5,
   "metadata": {},
   "outputs": [
    {
     "name": "stdout",
     "output_type": "stream",
     "text": [
      "\n",
      "📊 Matched Files Statistics:\n",
      "\n",
      "technical_concepts:\n",
      "  Concepts: 11\n",
      "    Boundary: 67 file(s)\n",
      "    Interactor: 65 file(s)\n",
      "    Entity: 12 file(s)\n",
      "    Gateway: 17 file(s)\n",
      "    Delivery: 51 file(s)\n",
      "    RESTful API: 15 file(s)\n",
      "    Dependency Injection: 3 file(s)\n",
      "    Request Model: 30 file(s)\n",
      "    Response Model: 22 file(s)\n",
      "    POJO Entities: 10 file(s)\n",
      "    Validation: 13 file(s)\n",
      "\n",
      "business_concepts:\n",
      "  Concepts: 7\n",
      "    Site: 36 file(s)\n",
      "    Comment: 41 file(s)\n",
      "    Creator: 14 file(s)\n",
      "    File: 34 file(s)\n",
      "    Scheduling: 67 file(s)\n",
      "    Todo List: 63 file(s)\n",
      "    Mail Notification: 16 file(s)\n",
      "\n",
      "Total concept types: 2\n",
      "Total concepts: 18\n",
      "Total unique matched files: 301\n"
     ]
    }
   ],
   "source": [
    "matched_files_dict = {}\n",
    "\n",
    "for concept_type in concepts_data.keys():\n",
    "    matched_files_dict[concept_type] = {}\n",
    "    concepts = concepts_data.get(concept_type, [])\n",
    "\n",
    "    for concept in concepts:\n",
    "        concept_name = concept.get('name')\n",
    "        files = []\n",
    "\n",
    "        for pattern in concept.get('file_globs', []):\n",
    "            matching_files = glob.glob(os.path.join(BASE_PATH, pattern), recursive=True)\n",
    "            files.extend(matching_files)\n",
    "\n",
    "        matched_files_dict[concept_type][concept_name] = list(set(files))  # remove duplicates\n",
    "\n",
    "# Print statistics\n",
    "print(\"\\n📊 Matched Files Statistics:\")\n",
    "total_concepts = 0\n",
    "total_files = set()\n",
    "\n",
    "for concept_type, concepts in matched_files_dict.items():\n",
    "    print(f\"\\n{concept_type}:\")\n",
    "    print(f\"  Concepts: {len(concepts)}\")\n",
    "    concept_file_counts = [len(files) for files in concepts.values()]\n",
    "    for concept_name, files in concepts.items():\n",
    "        print(f\"    {concept_name}: {len(files)} file(s)\")\n",
    "        total_files.update(files)\n",
    "    total_concepts += len(concepts)\n",
    "\n",
    "print(f\"\\nTotal concept types: {len(matched_files_dict)}\")\n",
    "print(f\"Total concepts: {total_concepts}\")\n",
    "print(f\"Total unique matched files: {len(total_files)}\")"
   ]
  },
  {
   "cell_type": "markdown",
   "metadata": {},
   "source": [
    "Flatten all matched files for unmatching calculatiun"
   ]
  },
  {
   "cell_type": "markdown",
   "metadata": {},
   "source": [
    "Get all files that don't match any concept pattern."
   ]
  },
  {
   "cell_type": "code",
   "execution_count": 6,
   "metadata": {},
   "outputs": [
    {
     "name": "stdout",
     "output_type": "stream",
     "text": [
      "Files NOT matching any concept: 21\n"
     ]
    }
   ],
   "source": [
    "matched_files = set()\n",
    "for type_dict in matched_files_dict.values():\n",
    "    for file_list in type_dict.values():\n",
    "        matched_files.update(file_list)\n",
    "        \n",
    "unmatched_files = set(all_java_files) - matched_files\n",
    "print(f\"Files NOT matching any concept: {len(unmatched_files)}\")"
   ]
  },
  {
   "cell_type": "markdown",
   "metadata": {},
   "source": [
    "Add a little visualization for the ratios"
   ]
  },
  {
   "cell_type": "code",
   "execution_count": 7,
   "metadata": {},
   "outputs": [
    {
     "data": {
      "image/png": "[encoded data removed]",
      "text/plain": [
       "<Figure size 640x480 with 1 Axes>"
      ]
     },
     "metadata": {},
     "output_type": "display_data"
    }
   ],
   "source": [
    "plt.pie(\n",
    "    [len(matched_files), len(unmatched_files)],\n",
    "    labels=[\"matched\", \"unmatched\"],\n",
    "    autopct='%1.1f%%'\n",
    ")\n",
    "plt.title(\"Overview of code that belongs and doesn't belong to concepts\")\n",
    "plt.axis('equal')  # keep the pie chart as a circle\n",
    "plt.show()"
   ]
  },
  {
   "cell_type": "markdown",
   "metadata": {},
   "source": [
    "## LLM Concept Assessment Prompt"
   ]
  },
  {
   "cell_type": "code",
   "execution_count": 10,
   "metadata": {},
   "outputs": [],
   "source": [
    "def create_assessment_prompt(concept, source_code, file_path):\n",
    "    \"\"\"Create a prompt for LLM assessment of how well code implements a concept.\"\"\"\n",
    "    \n",
    "    prompt = f\"\"\"\n",
    "    \n",
    "You are a software architecture expert. Please analyze the following source code and assess how well it implements the specified concept.\n",
    "\n",
    "CONCEPT TO ASSESS:\n",
    "Name: {concept['name']}\n",
    "Description: {concept['description']}\n",
    "Rationale: {concept['rationale']}\n",
    "\n",
    "FILE PATH: {file_path}\n",
    "\n",
    "SOURCE CODE:\n",
    "{source_code}\n",
    "\n",
    "Please provide a confidence score between 0.0 and 1.0 that indicates how certain you are that this source code implements the specified concept:\n",
    "- 0.0 = Definitely does not implement this concept\n",
    "- 0.5 = Uncertain / partially implements the concept\n",
    "- 1.0 = Definitely implements this concept\n",
    "\n",
    "Don't comment on design issues (e.g. lack of encapsulation, code structure quality, etc.) which are here irrelevant for the scoring.\n",
    "\n",
    "Focus on:\n",
    "- Whether the concept is meaningfully and recognizably implemented in the code\n",
    "- Whether its *intent*, *mechanism*, or *role* aligns with the description\n",
    "\n",
    "Respond with ONLY a single number between 0.1 and 1.0, followed by a brief explanation (max 100 words).\n",
    "\n",
    "Format: SCORE: X.X\\nEXPLANATION: [your explanation]\n",
    "\n",
    "\"\"\"\n",
    "    \n",
    "    return prompt"
   ]
  },
  {
   "cell_type": "markdown",
   "metadata": {},
   "source": [
    "### Helper Functions"
   ]
  },
  {
   "cell_type": "code",
   "execution_count": 11,
   "metadata": {},
   "outputs": [
    {
     "name": "stdout",
     "output_type": "stream",
     "text": [
      "LLM assessment functions defined.\n"
     ]
    }
   ],
   "source": [
    "def assess_concept_implementation(concept, source_code, file_path):\n",
    "    \"\"\"Use OpenAI API to assess how well code implements a concept.\"\"\"\n",
    "    prompt = create_assessment_prompt(concept, source_code, file_path)\n",
    "    \n",
    "    try:\n",
    "        completion = client.chat.completions.create(\n",
    "            model=MODEL,\n",
    "            messages=[{\n",
    "                \"role\": \"user\",\n",
    "                \"content\": prompt\n",
    "            }],\n",
    "            temperature=0.1\n",
    "        )\n",
    "\n",
    "        response_text = completion.choices[0].message.content\n",
    "        return parse_assessment_response(response_text)\n",
    "\n",
    "    except Exception as e:\n",
    "        print(f\"Error calling OpenAI API: {e}\")\n",
    "        return 0.0, f\"Error: {e}\"\n",
    "\n",
    "\n",
    "def parse_assessment_response(response_text):\n",
    "    \"\"\"Extract SCORE and EXPLANATION from LLM response.\"\"\"\n",
    "    lines = response_text.split('\\n')\n",
    "    score_line = next((line for line in lines if line.startswith('SCORE:')), '')\n",
    "    explanation_line = next((line for line in lines if line.startswith('EXPLANATION:')), '')\n",
    "\n",
    "    # Extract score\n",
    "    score = 0.0\n",
    "    if score_line:\n",
    "        score_str = score_line.replace('SCORE:', '').strip()\n",
    "        try:\n",
    "            score = float(score_str)\n",
    "        except ValueError:\n",
    "            print(f\"Could not parse score: {score_str}\")\n",
    "\n",
    "    # Extract explanation\n",
    "    explanation = explanation_line.replace('EXPLANATION:', '').strip() if explanation_line else response_text\n",
    "\n",
    "    return score, explanation\n",
    "\n",
    "\n",
    "print(\"LLM assessment functions defined.\")"
   ]
  },
  {
   "cell_type": "markdown",
   "metadata": {},
   "source": [
    "## Main AI Assessment Function\n",
    "So here we call the specified LLM for all files in a software system. Because we're also sending the source code of each file, this might get expensive and definitely takes long!"
   ]
  },
  {
   "cell_type": "code",
   "execution_count": 22,
   "metadata": {},
   "outputs": [
    {
     "data": {
      "text/plain": [
       "'Current output: business Comment, PostNotInPastException.java: 0.8'"
      ]
     },
     "metadata": {},
     "output_type": "display_data"
    },
    {
     "data": {
      "application/vnd.jupyter.widget-view+json": {
       "model_id": "fc93fe3a08414d988eba08a01d796cdf",
       "version_major": 2,
       "version_minor": 0
      },
      "text/plain": [
       "Concept Types:   0%|          | 0/2 [00:00<?, ?it/s]"
      ]
     },
     "metadata": {},
     "output_type": "display_data"
    },
    {
     "data": {
      "application/vnd.jupyter.widget-view+json": {
       "model_id": "f38dd4e5192a415bb4b16ff8f41d673e",
       "version_major": 2,
       "version_minor": 0
      },
      "text/plain": [
       "Processing technical concepts:   0%|          | 0/2 [00:00<?, ?it/s]"
      ]
     },
     "metadata": {},
     "output_type": "display_data"
    },
    {
     "data": {
      "application/vnd.jupyter.widget-view+json": {
       "model_id": "12b7ac13c77a4063810663c78a51eb3d",
       "version_major": 2,
       "version_minor": 0
      },
      "text/plain": [
       "Processing files for concept Boundary:   0%|          | 0/2 [00:00<?, ?it/s]"
      ]
     },
     "metadata": {},
     "output_type": "display_data"
    },
    {
     "data": {
      "application/vnd.jupyter.widget-view+json": {
       "model_id": "281ebfbff13042d3974622366940ad65",
       "version_major": 2,
       "version_minor": 0
      },
      "text/plain": [
       "Processing files for concept Interactor:   0%|          | 0/2 [00:00<?, ?it/s]"
      ]
     },
     "metadata": {},
     "output_type": "display_data"
    },
    {
     "data": {
      "application/vnd.jupyter.widget-view+json": {
       "model_id": "eb2e5f8a4f9b415eb6353d8f56a338a5",
       "version_major": 2,
       "version_minor": 0
      },
      "text/plain": [
       "Matched Files:   0%|          | 0/21 [00:00<?, ?it/s]"
      ]
     },
     "metadata": {},
     "output_type": "display_data"
    },
    {
     "data": {
      "application/vnd.jupyter.widget-view+json": {
       "model_id": "bb9b46f573d84b27b5f47609bca6498e",
       "version_major": 2,
       "version_minor": 0
      },
      "text/plain": [
       "Processing business concepts:   0%|          | 0/2 [00:00<?, ?it/s]"
      ]
     },
     "metadata": {},
     "output_type": "display_data"
    },
    {
     "data": {
      "application/vnd.jupyter.widget-view+json": {
       "model_id": "35e574b2a15840009193045d50598b61",
       "version_major": 2,
       "version_minor": 0
      },
      "text/plain": [
       "Processing files for concept Site:   0%|          | 0/2 [00:00<?, ?it/s]"
      ]
     },
     "metadata": {},
     "output_type": "display_data"
    },
    {
     "data": {
      "application/vnd.jupyter.widget-view+json": {
       "model_id": "8e93412072f14ab6af23d581b25a460e",
       "version_major": 2,
       "version_minor": 0
      },
      "text/plain": [
       "Processing files for concept Comment:   0%|          | 0/2 [00:00<?, ?it/s]"
      ]
     },
     "metadata": {},
     "output_type": "display_data"
    },
    {
     "data": {
      "application/vnd.jupyter.widget-view+json": {
       "model_id": "61258b3779254c979385b72728508026",
       "version_major": 2,
       "version_minor": 0
      },
      "text/plain": [
       "Matched Files:   0%|          | 0/21 [00:00<?, ?it/s]"
      ]
     },
     "metadata": {},
     "output_type": "display_data"
    },
    {
     "data": {
      "text/html": [
       "<div>\n",
       "<style scoped>\n",
       "    .dataframe tbody tr th:only-of-type {\n",
       "        vertical-align: middle;\n",
       "    }\n",
       "\n",
       "    .dataframe tbody tr th {\n",
       "        vertical-align: top;\n",
       "    }\n",
       "\n",
       "    .dataframe thead th {\n",
       "        text-align: right;\n",
       "    }\n",
       "</style>\n",
       "<table border=\"1\" class=\"dataframe\">\n",
       "  <thead>\n",
       "    <tr style=\"text-align: right;\">\n",
       "      <th></th>\n",
       "      <th>concept_type</th>\n",
       "      <th>concept_name</th>\n",
       "      <th>concept_description</th>\n",
       "      <th>file_path</th>\n",
       "      <th>file_name</th>\n",
       "      <th>score</th>\n",
       "      <th>explanation</th>\n",
       "      <th>code_length</th>\n",
       "    </tr>\n",
       "  </thead>\n",
       "  <tbody>\n",
       "    <tr>\n",
       "      <th>0</th>\n",
       "      <td>technical</td>\n",
       "      <td>Boundary</td>\n",
       "      <td>Defines the interfaces for communication betwe...</td>\n",
       "      <td>../../../dropover-at/backend/src/main/java/at/...</td>\n",
       "      <td>DownloadFileResponseModel.java</td>\n",
       "      <td>1.0</td>\n",
       "      <td>The code defines `DownloadFileResponseModel`, ...</td>\n",
       "      <td>257</td>\n",
       "    </tr>\n",
       "    <tr>\n",
       "      <th>1</th>\n",
       "      <td>technical</td>\n",
       "      <td>Boundary</td>\n",
       "      <td>Defines the interfaces for communication betwe...</td>\n",
       "      <td>../../../dropover-at/backend/src/main/java/at/...</td>\n",
       "      <td>AddSchedulingDateRequestModel.java</td>\n",
       "      <td>1.0</td>\n",
       "      <td>The code defines `AddSchedulingDateRequestMode...</td>\n",
       "      <td>227</td>\n",
       "    </tr>\n",
       "    <tr>\n",
       "      <th>2</th>\n",
       "      <td>technical</td>\n",
       "      <td>Interactor</td>\n",
       "      <td>Contains the application-specific business log...</td>\n",
       "      <td>../../../dropover-at/backend/src/main/java/at/...</td>\n",
       "      <td>GetRangedComments.java</td>\n",
       "      <td>1.0</td>\n",
       "      <td>The `GetRangedComments` class is a textbook im...</td>\n",
       "      <td>1489</td>\n",
       "    </tr>\n",
       "    <tr>\n",
       "      <th>3</th>\n",
       "      <td>technical</td>\n",
       "      <td>Interactor</td>\n",
       "      <td>Contains the application-specific business log...</td>\n",
       "      <td>../../../dropover-at/backend/src/test/java/at/...</td>\n",
       "      <td>GetAllTodosTest.java</td>\n",
       "      <td>0.9</td>\n",
       "      <td>The provided code is a test for an Interactor,...</td>\n",
       "      <td>2814</td>\n",
       "    </tr>\n",
       "    <tr>\n",
       "      <th>4</th>\n",
       "      <td>business</td>\n",
       "      <td>Site</td>\n",
       "      <td>A 'Site' represents a distinct container or co...</td>\n",
       "      <td>../../../dropover-at/backend/src/main/java/at/...</td>\n",
       "      <td>Site.java</td>\n",
       "      <td>0.9</td>\n",
       "      <td>The code defines a Java interface named `Site`...</td>\n",
       "      <td>428</td>\n",
       "    </tr>\n",
       "  </tbody>\n",
       "</table>\n",
       "</div>"
      ],
      "text/plain": [
       "  concept_type concept_name  \\\n",
       "0    technical     Boundary   \n",
       "1    technical     Boundary   \n",
       "2    technical   Interactor   \n",
       "3    technical   Interactor   \n",
       "4     business         Site   \n",
       "\n",
       "                                 concept_description  \\\n",
       "0  Defines the interfaces for communication betwe...   \n",
       "1  Defines the interfaces for communication betwe...   \n",
       "2  Contains the application-specific business log...   \n",
       "3  Contains the application-specific business log...   \n",
       "4  A 'Site' represents a distinct container or co...   \n",
       "\n",
       "                                           file_path  \\\n",
       "0  ../../../dropover-at/backend/src/main/java/at/...   \n",
       "1  ../../../dropover-at/backend/src/main/java/at/...   \n",
       "2  ../../../dropover-at/backend/src/main/java/at/...   \n",
       "3  ../../../dropover-at/backend/src/test/java/at/...   \n",
       "4  ../../../dropover-at/backend/src/main/java/at/...   \n",
       "\n",
       "                            file_name  score  \\\n",
       "0      DownloadFileResponseModel.java    1.0   \n",
       "1  AddSchedulingDateRequestModel.java    1.0   \n",
       "2              GetRangedComments.java    1.0   \n",
       "3                GetAllTodosTest.java    0.9   \n",
       "4                           Site.java    0.9   \n",
       "\n",
       "                                         explanation  code_length  \n",
       "0  The code defines `DownloadFileResponseModel`, ...          257  \n",
       "1  The code defines `AddSchedulingDateRequestMode...          227  \n",
       "2  The `GetRangedComments` class is a textbook im...         1489  \n",
       "3  The provided code is a test for an Interactor,...         2814  \n",
       "4  The code defines a Java interface named `Site`...          428  "
      ]
     },
     "execution_count": 22,
     "metadata": {},
     "output_type": "execute_result"
    }
   ],
   "source": [
    "display_id = \"live_output\"\n",
    "\n",
    "def analyze_all_concepts(concepts_data, base_path):\n",
    "    \"\"\"Analyze all concepts and their associated files, plus unmatched files.\"\"\"\n",
    "\n",
    "    display(\"Starting ...\", display_id=display_id)\n",
    "    \n",
    "    # helper for reading source code\n",
    "    def read_source_code(file_path):\n",
    "        \"\"\"Read source code from file.\"\"\"\n",
    "        try:\n",
    "            with open(file_path, 'r', encoding='utf-8') as file:\n",
    "                return file.read()\n",
    "        except Exception as e:\n",
    "            print(f\"Error reading file {file_path}: {e}\")\n",
    "            return \"\"\n",
    "\n",
    "    # helper for creating an entry with default information\n",
    "    def create_base_entry(file_path, concept_type, concept, score, explanation):\n",
    "        source_code = read_source_code(file_path)\n",
    "        return {\n",
    "            'concept_type': concept_type,\n",
    "            'concept_name': concept.get('name'),\n",
    "            'concept_description': concept.get('description'),\n",
    "            'file_path': file_path,\n",
    "            'file_name': os.path.basename(file_path),\n",
    "            'score': score,\n",
    "            'explanation': explanation,\n",
    "            'code_length': len(source_code)\n",
    "        }\n",
    "            \n",
    "    results = []\n",
    "\n",
    "    concept_types = concepts_data.keys()\n",
    "    \n",
    "    for concept_type in tqdm(concept_types, \"Concept Types\"):\n",
    "        concept_type_name = concept_type.replace(\"_concepts\", \"\")\n",
    "        \n",
    "        concepts = concepts_data.get(concept_type, [])\n",
    "        \n",
    "        for concept in tqdm(concepts[:2], f\"Processing {concept_type_name} concepts\"):\n",
    "            concept_name = concept['name']\n",
    "            files = matched_files_dict[concept_type][concept_name]\n",
    "            \n",
    "            for file_path in tqdm(files[:2], f\"Processing files for {concept_name.lower()} concept \"):\n",
    "                source_code = read_source_code(file_path)\n",
    "                if not source_code:\n",
    "                    continue\n",
    "                score, explanation = assess_concept_implementation(concept, source_code, file_path)\n",
    "                \n",
    "                entry = create_base_entry(\n",
    "                    file_path,\n",
    "                    concept_type_name,\n",
    "                    concept,\n",
    "                    score,\n",
    "                    explanation\n",
    "                )\n",
    "\n",
    "                results.append(entry)\n",
    "                update_display(f\"Score for the {concept_type_name} concept {concept_name.lower()} for file {entry['file_name']}: {score}\", display_id=display_id)\n",
    "\n",
    "        # add dummy data for unmatched files\n",
    "        for file_path in tqdm(unmatched_files, \"Matched Files\"):\n",
    "            entry = create_base_entry(file_path, concept_type_name, {'name': None, 'description': None}, 0, \"n/a\")\n",
    "\n",
    "    return pd.DataFrame(results)\n",
    "\n",
    "# Run analysis\n",
    "results_df = analyze_all_concepts(concepts_data, BASE_PATH)\n",
    "# add an alternative path for later visualization by concepts and not by file paths\n",
    "results_df['concept_path'] = results_df['concept_name'] + \"/\" + results_df['file_name']\n",
    "results_df.head()"
   ]
  },
  {
   "cell_type": "markdown",
   "metadata": {},
   "source": [
    "#### Optional: Save results for later alternative visualizations etc."
   ]
  },
  {
   "cell_type": "code",
   "execution_count": 23,
   "metadata": {},
   "outputs": [
    {
     "name": "stdout",
     "output_type": "stream",
     "text": [
      "Complete results (including unmatched files) exported to concept_analysis_results_google-gemini-2.5-pro_dropover-at.csv\n"
     ]
    }
   ],
   "source": [
    "output_filename = f'concept_analysis_results_{MODEL.replace(\"/\",\"-\")}_{PROJECT_NAME}.csv'\n",
    "results_df.to_csv(output_filename, index=False)\n",
    "print(f\"Complete results (including unmatched files) exported to {output_filename}\")"
   ]
  },
  {
   "cell_type": "markdown",
   "metadata": {},
   "source": [
    "## Visualization"
   ]
  },
  {
   "cell_type": "markdown",
   "metadata": {},
   "source": [
    "### Helper functions for treemap creation\n",
    "(don't ask me how this works; it's vibe coded)"
   ]
  },
  {
   "cell_type": "code",
   "execution_count": 88,
   "metadata": {},
   "outputs": [],
   "source": [
    "def normalize_path(path):\n",
    "    \"\"\"Normalize file path to remove leading base path prefix.\"\"\"\n",
    "    # Remove the common prefix to get relative paths\n",
    "    if path.startswith(BASE_PATH):\n",
    "        return path[len(BASE_PATH):]\n",
    "    return path\n",
    "\n",
    "def create_treemap_data(df_subset, path_col):\n",
    "    \"\"\"Build filesystem hierarchy treemap data.\"\"\"\n",
    "    # Normalize paths\n",
    "    df_subset = df_subset.copy()\n",
    "    df_subset['normalized_path'] = df_subset[path_col].apply(normalize_path)\n",
    "    \n",
    "    # Build directory structure\n",
    "    directories = set()\n",
    "    files_data = {}\n",
    "    \n",
    "    # Collect all directories and files\n",
    "    for _, row in df_subset.iterrows():\n",
    "        path = row['normalized_path']\n",
    "        path_parts = path.split('/')\n",
    "        \n",
    "        # Add all parent directories\n",
    "        for i in range(1, len(path_parts)):\n",
    "            dir_path = '/'.join(path_parts[:i])\n",
    "            if dir_path:\n",
    "                directories.add(dir_path)\n",
    "        \n",
    "        # Store file data\n",
    "        files_data[path] = row\n",
    "    \n",
    "    # Calculate directory sizes (sum of all files in directory and subdirectories)\n",
    "    dir_sizes = defaultdict(int)\n",
    "    dir_scores = defaultdict(list)\n",
    "    dir_file_counts = defaultdict(int)\n",
    "    \n",
    "    for file_path, file_data in files_data.items():\n",
    "        path_parts = file_path.split('/')\n",
    "        \n",
    "        # Add file size and score to all parent directories\n",
    "        for i in range(1, len(path_parts)):\n",
    "            dir_path = '/'.join(path_parts[:i])\n",
    "            if dir_path:\n",
    "                dir_sizes[dir_path] += file_data['code_length']\n",
    "                dir_scores[dir_path].append(file_data['score'])\n",
    "                dir_file_counts[dir_path] += 1\n",
    "    \n",
    "    # Build treemap data\n",
    "    ids = []\n",
    "    labels = []\n",
    "    parents = []\n",
    "    values = []\n",
    "    colors = []\n",
    "    customdata = []\n",
    "    \n",
    "    # Root node\n",
    "    root_id = \"root\"\n",
    "    ids.append(root_id)\n",
    "    labels.append(f\"Project {PROJECT_NAME}\")\n",
    "    parents.append(\"\")\n",
    "    values.append(df_subset['code_length'].sum())\n",
    "    colors.append(df_subset['score'].mean())\n",
    "    customdata.append(\n",
    "        f\"Total files: {len(df_subset)}<br>\"\n",
    "        f\"Avg Score: {df_subset['score'].mean():.2f}<br>\"\n",
    "        f\"Total Lines: {df_subset['code_length'].sum():,}\"\n",
    "    )\n",
    "    \n",
    "    # Add directories\n",
    "    for dir_path in sorted(directories):\n",
    "        path_parts = dir_path.split('/')\n",
    "        dir_name = path_parts[-1]\n",
    "        \n",
    "        # Determine parent\n",
    "        if len(path_parts) == 1:\n",
    "            parent_id = root_id\n",
    "        else:\n",
    "            parent_path = '/'.join(path_parts[:-1])\n",
    "            parent_id = parent_path\n",
    "        \n",
    "        dir_id = dir_path\n",
    "        avg_score = np.mean(dir_scores[dir_path]) if dir_scores[dir_path] else 0.0\n",
    "        \n",
    "        ids.append(dir_id)\n",
    "        labels.append(dir_name)\n",
    "        parents.append(parent_id)\n",
    "        values.append(dir_sizes[dir_path])\n",
    "        colors.append(avg_score)\n",
    "        customdata.append(\n",
    "            f\"Directory: {dir_path}<br>\"\n",
    "            f\"Files: {dir_file_counts[dir_path]}<br>\"\n",
    "            f\"Avg Score: {avg_score:.2f}<br>\"\n",
    "            f\"Total Lines: {dir_sizes[dir_path]:,}\"\n",
    "        )\n",
    "    \n",
    "    # Add files\n",
    "    for file_path, file_data in files_data.items():\n",
    "        path_parts = file_path.split('/')\n",
    "        file_name = path_parts[-1]\n",
    "        \n",
    "        # Determine parent directory\n",
    "        if len(path_parts) == 1:\n",
    "            parent_id = root_id\n",
    "        else:\n",
    "            parent_dir = '/'.join(path_parts[:-1])\n",
    "            parent_id = parent_dir\n",
    "        \n",
    "        file_id = file_path\n",
    "        \n",
    "        # Handle unmatched files (concept_name is NaN)\n",
    "        if pd.isna(file_data['concept_name']):\n",
    "            concept_info = \"No concept match\"\n",
    "            explanation = file_data['explanation']\n",
    "        else:\n",
    "            concept_info = f\"Concept: {file_data['concept_name']}\"\n",
    "            explanation = file_data['explanation'][:100] + \"...\" if len(file_data['explanation']) > 100 else file_data['explanation']\n",
    "        \n",
    "        ids.append(file_id)\n",
    "        labels.append(file_name)\n",
    "        parents.append(parent_id)\n",
    "        values.append(file_data['code_length'])\n",
    "        colors.append(file_data['score'])\n",
    "        customdata.append(\n",
    "            f\"File: {file_name}<br>\"\n",
    "            f\"Score: {file_data['score']:.2f}<br>\"\n",
    "            f\"Lines: {file_data['code_length']}<br>\"\n",
    "            f\"{concept_info}<br>\"\n",
    "            f\"Path: {file_data['file_path']}<br>\"\n",
    "            f\"Explanation: {explanation}\"\n",
    "        )\n",
    "    \n",
    "    return {\n",
    "        'ids': ids,\n",
    "        'labels': labels,\n",
    "        'parents': parents,\n",
    "        'values': values,\n",
    "        'colors': colors,\n",
    "        'customdata': customdata\n",
    "    }"
   ]
  },
  {
   "cell_type": "code",
   "execution_count": 97,
   "metadata": {},
   "outputs": [
    {
     "name": "stdout",
     "output_type": "stream",
     "text": [
      "Helper functions defined.\n"
     ]
    }
   ],
   "source": [
    "def create_treemap_visualization(treemap_data, title, colorscale):\n",
    "    \"\"\"Create a Plotly treemap for the given hierarchy.\"\"\"\n",
    "    \n",
    "    fig = go.Figure(go.Treemap(\n",
    "        ids=treemap_data['ids'],\n",
    "        labels=treemap_data['labels'],\n",
    "        parents=treemap_data['parents'],\n",
    "        values=treemap_data['values'],\n",
    "        customdata=treemap_data['customdata'],\n",
    "        hovertemplate='<b>%{label}</b><br>%{customdata}<extra></extra>',\n",
    "        marker=dict(\n",
    "            colors=treemap_data['colors'],\n",
    "            colorscale=colorscale,\n",
    "            cmin=0,\n",
    "            cmax=1\n",
    "        ),\n",
    "        textinfo=\"label+value\",\n",
    "        textposition=\"middle center\",\n",
    "        textfont=dict(size=8),\n",
    "        branchvalues=\"total\"\n",
    "    ))\n",
    "    \n",
    "    fig.update_layout(\n",
    "        title={\n",
    "            'text': title,\n",
    "            'x': 0.5,\n",
    "            'xanchor': 'center',\n",
    "            'font': {'size': 16}\n",
    "        },\n",
    "        margin=dict(t=10, l=10, r=10, b=10),\n",
    "        width=1920/2,\n",
    "        height=1080/2\n",
    "    )\n",
    "    \n",
    "    return fig\n",
    "\n",
    "print(\"Helper functions defined.\")"
   ]
  },
  {
   "cell_type": "markdown",
   "metadata": {},
   "source": [
    "### Create file structure based views"
   ]
  },
  {
   "cell_type": "code",
   "execution_count": 99,
   "metadata": {},
   "outputs": [
    {
     "data": {
      "application/vnd.plotly.v1+json": {
       "config": {
        "plotlyServerURL": "https://plot.ly"
       },
       "data": [
        {
         "branchvalues": "total",
         "customdata": [
          "Total files: 4<br>Avg Score: 0.97<br>Total Lines: 4,787",
          "Directory: backend<br>Files: 4<br>Avg Score: 0.97<br>Total Lines: 4,787",
          "Directory: backend/src<br>Files: 4<br>Avg Score: 0.97<br>Total Lines: 4,787",
          "Directory: backend/src/main<br>Files: 3<br>Avg Score: 1.00<br>Total Lines: 1,973",
          "Directory: backend/src/main/java<br>Files: 3<br>Avg Score: 1.00<br>Total Lines: 1,973",
          "Directory: backend/src/main/java/at<br>Files: 3<br>Avg Score: 1.00<br>Total Lines: 1,973",
          "Directory: backend/src/main/java/at/dropover<br>Files: 3<br>Avg Score: 1.00<br>Total Lines: 1,973",
          "Directory: backend/src/main/java/at/dropover/comment<br>Files: 1<br>Avg Score: 1.00<br>Total Lines: 1,489",
          "Directory: backend/src/main/java/at/dropover/comment/interactor<br>Files: 1<br>Avg Score: 1.00<br>Total Lines: 1,489",
          "Directory: backend/src/main/java/at/dropover/files<br>Files: 1<br>Avg Score: 1.00<br>Total Lines: 257",
          "Directory: backend/src/main/java/at/dropover/files/boundary<br>Files: 1<br>Avg Score: 1.00<br>Total Lines: 257",
          "Directory: backend/src/main/java/at/dropover/scheduling<br>Files: 1<br>Avg Score: 1.00<br>Total Lines: 227",
          "Directory: backend/src/main/java/at/dropover/scheduling/boundary<br>Files: 1<br>Avg Score: 1.00<br>Total Lines: 227",
          "Directory: backend/src/test<br>Files: 1<br>Avg Score: 0.90<br>Total Lines: 2,814",
          "Directory: backend/src/test/java<br>Files: 1<br>Avg Score: 0.90<br>Total Lines: 2,814",
          "Directory: backend/src/test/java/at<br>Files: 1<br>Avg Score: 0.90<br>Total Lines: 2,814",
          "Directory: backend/src/test/java/at/dropover<br>Files: 1<br>Avg Score: 0.90<br>Total Lines: 2,814",
          "Directory: backend/src/test/java/at/dropover/todo<br>Files: 1<br>Avg Score: 0.90<br>Total Lines: 2,814",
          "Directory: backend/src/test/java/at/dropover/todo/interactor<br>Files: 1<br>Avg Score: 0.90<br>Total Lines: 2,814",
          "File: DownloadFileResponseModel.java<br>Score: 1.00<br>Lines: 257<br>Concept: Boundary<br>Path: ../../../dropover-at/backend/src/main/java/at/dropover/files/boundary/DownloadFileResponseModel.java<br>Explanation: The code defines `DownloadFileResponseModel`, a class located in a `boundary` package. This class is...",
          "File: AddSchedulingDateRequestModel.java<br>Score: 1.00<br>Lines: 227<br>Concept: Boundary<br>Path: ../../../dropover-at/backend/src/main/java/at/dropover/scheduling/boundary/AddSchedulingDateRequestModel.java<br>Explanation: The code defines `AddSchedulingDateRequestModel`, a plain data structure intended to carry request d...",
          "File: GetRangedComments.java<br>Score: 1.00<br>Lines: 1489<br>Concept: Interactor<br>Path: ../../../dropover-at/backend/src/main/java/at/dropover/comment/interactor/GetRangedComments.java<br>Explanation: The `GetRangedComments` class is a textbook implementation of the Interactor pattern. It encapsulate...",
          "File: GetAllTodosTest.java<br>Score: 0.90<br>Lines: 2814<br>Concept: Interactor<br>Path: ../../../dropover-at/backend/src/test/java/at/dropover/todo/interactor/GetAllTodosTest.java<br>Explanation: The provided code is a test for an Interactor, not the Interactor itself. However, it provides stron..."
         ],
         "hovertemplate": "<b>%{label}</b><br>%{customdata}<extra></extra>",
         "ids": [
          "root",
          "backend",
          "backend/src",
          "backend/src/main",
          "backend/src/main/java",
          "backend/src/main/java/at",
          "backend/src/main/java/at/dropover",
          "backend/src/main/java/at/dropover/comment",
          "backend/src/main/java/at/dropover/comment/interactor",
          "backend/src/main/java/at/dropover/files",
          "backend/src/main/java/at/dropover/files/boundary",
          "backend/src/main/java/at/dropover/scheduling",
          "backend/src/main/java/at/dropover/scheduling/boundary",
          "backend/src/test",
          "backend/src/test/java",
          "backend/src/test/java/at",
          "backend/src/test/java/at/dropover",
          "backend/src/test/java/at/dropover/todo",
          "backend/src/test/java/at/dropover/todo/interactor",
          "backend/src/main/java/at/dropover/files/boundary/DownloadFileResponseModel.java",
          "backend/src/main/java/at/dropover/scheduling/boundary/AddSchedulingDateRequestModel.java",
          "backend/src/main/java/at/dropover/comment/interactor/GetRangedComments.java",
          "backend/src/test/java/at/dropover/todo/interactor/GetAllTodosTest.java"
         ],
         "labels": [
          "Project dropover-at",
          "backend",
          "src",
          "main",
          "java",
          "at",
          "dropover",
          "comment",
          "interactor",
          "files",
          "boundary",
          "scheduling",
          "boundary",
          "test",
          "java",
          "at",
          "dropover",
          "todo",
          "interactor",
          "DownloadFileResponseModel.java",
          "AddSchedulingDateRequestModel.java",
          "GetRangedComments.java",
          "GetAllTodosTest.java"
         ],
         "marker": {
          "cmax": 1,
          "cmin": 0,
          "colors": [
           0.975,
           0.975,
           0.975,
           1,
           1,
           1,
           1,
           1,
           1,
           1,
           1,
           1,
           1,
           0.9,
           0.9,
           0.9,
           0.9,
           0.9,
           0.9,
           1,
           1,
           1,
           0.9
          ],
          "colorscale": [
           [
            0,
            "#ffffff"
           ],
           [
            0.01,
            "#bfcfd4"
           ],
           [
            1,
            "#004153"
           ]
          ]
         },
         "parents": [
          "",
          "root",
          "backend",
          "backend/src",
          "backend/src/main",
          "backend/src/main/java",
          "backend/src/main/java/at",
          "backend/src/main/java/at/dropover",
          "backend/src/main/java/at/dropover/comment",
          "backend/src/main/java/at/dropover",
          "backend/src/main/java/at/dropover/files",
          "backend/src/main/java/at/dropover",
          "backend/src/main/java/at/dropover/scheduling",
          "backend/src",
          "backend/src/test",
          "backend/src/test/java",
          "backend/src/test/java/at",
          "backend/src/test/java/at/dropover",
          "backend/src/test/java/at/dropover/todo",
          "backend/src/main/java/at/dropover/files/boundary",
          "backend/src/main/java/at/dropover/scheduling/boundary",
          "backend/src/main/java/at/dropover/comment/interactor",
          "backend/src/test/java/at/dropover/todo/interactor"
         ],
         "textfont": {
          "size": 8
         },
         "textinfo": "label+value",
         "textposition": "middle center",
         "type": "treemap",
         "values": [
          4787,
          4787,
          4787,
          1973,
          1973,
          1973,
          1973,
          1489,
          1489,
          257,
          257,
          227,
          227,
          2814,
          2814,
          2814,
          2814,
          2814,
          2814,
          257,
          227,
          1489,
          2814
         ]
        }
       ],
       "layout": {
        "height": 540,
        "margin": {
         "b": 10,
         "l": 10,
         "r": 10,
         "t": 10
        },
        "template": {
         "data": {
          "bar": [
           {
            "error_x": {
             "color": "#2a3f5f"
            },
            "error_y": {
             "color": "#2a3f5f"
            },
            "marker": {
             "line": {
              "color": "#E5ECF6",
              "width": 0.5
             },
             "pattern": {
              "fillmode": "overlay",
              "size": 10,
              "solidity": 0.2
             }
            },
            "type": "bar"
           }
          ],
          "barpolar": [
           {
            "marker": {
             "line": {
              "color": "#E5ECF6",
              "width": 0.5
             },
             "pattern": {
              "fillmode": "overlay",
              "size": 10,
              "solidity": 0.2
             }
            },
            "type": "barpolar"
           }
          ],
          "carpet": [
           {
            "aaxis": {
             "endlinecolor": "#2a3f5f",
             "gridcolor": "white",
             "linecolor": "white",
             "minorgridcolor": "white",
             "startlinecolor": "#2a3f5f"
            },
            "baxis": {
             "endlinecolor": "#2a3f5f",
             "gridcolor": "white",
             "linecolor": "white",
             "minorgridcolor": "white",
             "startlinecolor": "#2a3f5f"
            },
            "type": "carpet"
           }
          ],
          "choropleth": [
           {
            "colorbar": {
             "outlinewidth": 0,
             "ticks": ""
            },
            "type": "choropleth"
           }
          ],
          "contour": [
           {
            "colorbar": {
             "outlinewidth": 0,
             "ticks": ""
            },
            "colorscale": [
             [
              0,
              "#0d0887"
             ],
             [
              0.1111111111111111,
              "#46039f"
             ],
             [
              0.2222222222222222,
              "#7201a8"
             ],
             [
              0.3333333333333333,
              "#9c179e"
             ],
             [
              0.4444444444444444,
              "#bd3786"
             ],
             [
              0.5555555555555556,
              "#d8576b"
             ],
             [
              0.6666666666666666,
              "#ed7953"
             ],
             [
              0.7777777777777778,
              "#fb9f3a"
             ],
             [
              0.8888888888888888,
              "#fdca26"
             ],
             [
              1,
              "#f0f921"
             ]
            ],
            "type": "contour"
           }
          ],
          "contourcarpet": [
           {
            "colorbar": {
             "outlinewidth": 0,
             "ticks": ""
            },
            "type": "contourcarpet"
           }
          ],
          "heatmap": [
           {
            "colorbar": {
             "outlinewidth": 0,
             "ticks": ""
            },
            "colorscale": [
             [
              0,
              "#0d0887"
             ],
             [
              0.1111111111111111,
              "#46039f"
             ],
             [
              0.2222222222222222,
              "#7201a8"
             ],
             [
              0.3333333333333333,
              "#9c179e"
             ],
             [
              0.4444444444444444,
              "#bd3786"
             ],
             [
              0.5555555555555556,
              "#d8576b"
             ],
             [
              0.6666666666666666,
              "#ed7953"
             ],
             [
              0.7777777777777778,
              "#fb9f3a"
             ],
             [
              0.8888888888888888,
              "#fdca26"
             ],
             [
              1,
              "#f0f921"
             ]
            ],
            "type": "heatmap"
           }
          ],
          "histogram": [
           {
            "marker": {
             "pattern": {
              "fillmode": "overlay",
              "size": 10,
              "solidity": 0.2
             }
            },
            "type": "histogram"
           }
          ],
          "histogram2d": [
           {
            "colorbar": {
             "outlinewidth": 0,
             "ticks": ""
            },
            "colorscale": [
             [
              0,
              "#0d0887"
             ],
             [
              0.1111111111111111,
              "#46039f"
             ],
             [
              0.2222222222222222,
              "#7201a8"
             ],
             [
              0.3333333333333333,
              "#9c179e"
             ],
             [
              0.4444444444444444,
              "#bd3786"
             ],
             [
              0.5555555555555556,
              "#d8576b"
             ],
             [
              0.6666666666666666,
              "#ed7953"
             ],
             [
              0.7777777777777778,
              "#fb9f3a"
             ],
             [
              0.8888888888888888,
              "#fdca26"
             ],
             [
              1,
              "#f0f921"
             ]
            ],
            "type": "histogram2d"
           }
          ],
          "histogram2dcontour": [
           {
            "colorbar": {
             "outlinewidth": 0,
             "ticks": ""
            },
            "colorscale": [
             [
              0,
              "#0d0887"
             ],
             [
              0.1111111111111111,
              "#46039f"
             ],
             [
              0.2222222222222222,
              "#7201a8"
             ],
             [
              0.3333333333333333,
              "#9c179e"
             ],
             [
              0.4444444444444444,
              "#bd3786"
             ],
             [
              0.5555555555555556,
              "#d8576b"
             ],
             [
              0.6666666666666666,
              "#ed7953"
             ],
             [
              0.7777777777777778,
              "#fb9f3a"
             ],
             [
              0.8888888888888888,
              "#fdca26"
             ],
             [
              1,
              "#f0f921"
             ]
            ],
            "type": "histogram2dcontour"
           }
          ],
          "mesh3d": [
           {
            "colorbar": {
             "outlinewidth": 0,
             "ticks": ""
            },
            "type": "mesh3d"
           }
          ],
          "parcoords": [
           {
            "line": {
             "colorbar": {
              "outlinewidth": 0,
              "ticks": ""
             }
            },
            "type": "parcoords"
           }
          ],
          "pie": [
           {
            "automargin": true,
            "type": "pie"
           }
          ],
          "scatter": [
           {
            "fillpattern": {
             "fillmode": "overlay",
             "size": 10,
             "solidity": 0.2
            },
            "type": "scatter"
           }
          ],
          "scatter3d": [
           {
            "line": {
             "colorbar": {
              "outlinewidth": 0,
              "ticks": ""
             }
            },
            "marker": {
             "colorbar": {
              "outlinewidth": 0,
              "ticks": ""
             }
            },
            "type": "scatter3d"
           }
          ],
          "scattercarpet": [
           {
            "marker": {
             "colorbar": {
              "outlinewidth": 0,
              "ticks": ""
             }
            },
            "type": "scattercarpet"
           }
          ],
          "scattergeo": [
           {
            "marker": {
             "colorbar": {
              "outlinewidth": 0,
              "ticks": ""
             }
            },
            "type": "scattergeo"
           }
          ],
          "scattergl": [
           {
            "marker": {
             "colorbar": {
              "outlinewidth": 0,
              "ticks": ""
             }
            },
            "type": "scattergl"
           }
          ],
          "scattermap": [
           {
            "marker": {
             "colorbar": {
              "outlinewidth": 0,
              "ticks": ""
             }
            },
            "type": "scattermap"
           }
          ],
          "scattermapbox": [
           {
            "marker": {
             "colorbar": {
              "outlinewidth": 0,
              "ticks": ""
             }
            },
            "type": "scattermapbox"
           }
          ],
          "scatterpolar": [
           {
            "marker": {
             "colorbar": {
              "outlinewidth": 0,
              "ticks": ""
             }
            },
            "type": "scatterpolar"
           }
          ],
          "scatterpolargl": [
           {
            "marker": {
             "colorbar": {
              "outlinewidth": 0,
              "ticks": ""
             }
            },
            "type": "scatterpolargl"
           }
          ],
          "scatterternary": [
           {
            "marker": {
             "colorbar": {
              "outlinewidth": 0,
              "ticks": ""
             }
            },
            "type": "scatterternary"
           }
          ],
          "surface": [
           {
            "colorbar": {
             "outlinewidth": 0,
             "ticks": ""
            },
            "colorscale": [
             [
              0,
              "#0d0887"
             ],
             [
              0.1111111111111111,
              "#46039f"
             ],
             [
              0.2222222222222222,
              "#7201a8"
             ],
             [
              0.3333333333333333,
              "#9c179e"
             ],
             [
              0.4444444444444444,
              "#bd3786"
             ],
             [
              0.5555555555555556,
              "#d8576b"
             ],
             [
              0.6666666666666666,
              "#ed7953"
             ],
             [
              0.7777777777777778,
              "#fb9f3a"
             ],
             [
              0.8888888888888888,
              "#fdca26"
             ],
             [
              1,
              "#f0f921"
             ]
            ],
            "type": "surface"
           }
          ],
          "table": [
           {
            "cells": {
             "fill": {
              "color": "#EBF0F8"
             },
             "line": {
              "color": "white"
             }
            },
            "header": {
             "fill": {
              "color": "#C8D4E3"
             },
             "line": {
              "color": "white"
             }
            },
            "type": "table"
           }
          ]
         },
         "layout": {
          "annotationdefaults": {
           "arrowcolor": "#2a3f5f",
           "arrowhead": 0,
           "arrowwidth": 1
          },
          "autotypenumbers": "strict",
          "coloraxis": {
           "colorbar": {
            "outlinewidth": 0,
            "ticks": ""
           }
          },
          "colorscale": {
           "diverging": [
            [
             0,
             "#8e0152"
            ],
            [
             0.1,
             "#c51b7d"
            ],
            [
             0.2,
             "#de77ae"
            ],
            [
             0.3,
             "#f1b6da"
            ],
            [
             0.4,
             "#fde0ef"
            ],
            [
             0.5,
             "#f7f7f7"
            ],
            [
             0.6,
             "#e6f5d0"
            ],
            [
             0.7,
             "#b8e186"
            ],
            [
             0.8,
             "#7fbc41"
            ],
            [
             0.9,
             "#4d9221"
            ],
            [
             1,
             "#276419"
            ]
           ],
           "sequential": [
            [
             0,
             "#0d0887"
            ],
            [
             0.1111111111111111,
             "#46039f"
            ],
            [
             0.2222222222222222,
             "#7201a8"
            ],
            [
             0.3333333333333333,
             "#9c179e"
            ],
            [
             0.4444444444444444,
             "#bd3786"
            ],
            [
             0.5555555555555556,
             "#d8576b"
            ],
            [
             0.6666666666666666,
             "#ed7953"
            ],
            [
             0.7777777777777778,
             "#fb9f3a"
            ],
            [
             0.8888888888888888,
             "#fdca26"
            ],
            [
             1,
             "#f0f921"
            ]
           ],
           "sequentialminus": [
            [
             0,
             "#0d0887"
            ],
            [
             0.1111111111111111,
             "#46039f"
            ],
            [
             0.2222222222222222,
             "#7201a8"
            ],
            [
             0.3333333333333333,
             "#9c179e"
            ],
            [
             0.4444444444444444,
             "#bd3786"
            ],
            [
             0.5555555555555556,
             "#d8576b"
            ],
            [
             0.6666666666666666,
             "#ed7953"
            ],
            [
             0.7777777777777778,
             "#fb9f3a"
            ],
            [
             0.8888888888888888,
             "#fdca26"
            ],
            [
             1,
             "#f0f921"
            ]
           ]
          },
          "colorway": [
           "#636efa",
           "#EF553B",
           "#00cc96",
           "#ab63fa",
           "#FFA15A",
           "#19d3f3",
           "#FF6692",
           "#B6E880",
           "#FF97FF",
           "#FECB52"
          ],
          "font": {
           "color": "#2a3f5f"
          },
          "geo": {
           "bgcolor": "white",
           "lakecolor": "white",
           "landcolor": "#E5ECF6",
           "showlakes": true,
           "showland": true,
           "subunitcolor": "white"
          },
          "hoverlabel": {
           "align": "left"
          },
          "hovermode": "closest",
          "mapbox": {
           "style": "light"
          },
          "paper_bgcolor": "white",
          "plot_bgcolor": "#E5ECF6",
          "polar": {
           "angularaxis": {
            "gridcolor": "white",
            "linecolor": "white",
            "ticks": ""
           },
           "bgcolor": "#E5ECF6",
           "radialaxis": {
            "gridcolor": "white",
            "linecolor": "white",
            "ticks": ""
           }
          },
          "scene": {
           "xaxis": {
            "backgroundcolor": "#E5ECF6",
            "gridcolor": "white",
            "gridwidth": 2,
            "linecolor": "white",
            "showbackground": true,
            "ticks": "",
            "zerolinecolor": "white"
           },
           "yaxis": {
            "backgroundcolor": "#E5ECF6",
            "gridcolor": "white",
            "gridwidth": 2,
            "linecolor": "white",
            "showbackground": true,
            "ticks": "",
            "zerolinecolor": "white"
           },
           "zaxis": {
            "backgroundcolor": "#E5ECF6",
            "gridcolor": "white",
            "gridwidth": 2,
            "linecolor": "white",
            "showbackground": true,
            "ticks": "",
            "zerolinecolor": "white"
           }
          },
          "shapedefaults": {
           "line": {
            "color": "#2a3f5f"
           }
          },
          "ternary": {
           "aaxis": {
            "gridcolor": "white",
            "linecolor": "white",
            "ticks": ""
           },
           "baxis": {
            "gridcolor": "white",
            "linecolor": "white",
            "ticks": ""
           },
           "bgcolor": "#E5ECF6",
           "caxis": {
            "gridcolor": "white",
            "linecolor": "white",
            "ticks": ""
           }
          },
          "title": {
           "x": 0.05
          },
          "xaxis": {
           "automargin": true,
           "gridcolor": "white",
           "linecolor": "white",
           "ticks": "",
           "title": {
            "standoff": 15
           },
           "zerolinecolor": "white",
           "zerolinewidth": 2
          },
          "yaxis": {
           "automargin": true,
           "gridcolor": "white",
           "linecolor": "white",
           "ticks": "",
           "title": {
            "standoff": 15
           },
           "zerolinecolor": "white",
           "zerolinewidth": 2
          }
         }
        },
        "title": {
         "font": {
          "size": 16
         },
         "text": "Technical Concepts, file system based",
         "x": 0.5,
         "xanchor": "center"
        },
        "width": 960
       }
      },
      "image/png": "[encoded data removed]"
     },
     "metadata": {},
     "output_type": "display_data"
    }
   ],
   "source": [
    "# Create treemap for technical files based on filesystem structure\n",
    "technical_df = results_df[results_df['concept_type'] == 'technical']\n",
    "technical_treemap_data = create_treemap_data(technical_df, 'file_path')\n",
    "\n",
    "technical_colorscale = [\n",
    "    (0.0, '#ffffff'),   # White for score 0\n",
    "    (0.01, '#bfcfd4'),   # Almost white for score >0\n",
    "    (1.0, '#004153')    # Black for score 1\n",
    "]\n",
    "\n",
    "technical_fig = create_treemap_visualization(\n",
    "    technical_treemap_data, \n",
    "    'Technical Concepts, file system based',\n",
    "    technical_colorscale\n",
    ")\n",
    "\n",
    "technical_fig.show()"
   ]
  },
  {
   "cell_type": "code",
   "execution_count": 100,
   "metadata": {},
   "outputs": [
    {
     "data": {
      "application/vnd.plotly.v1+json": {
       "config": {
        "plotlyServerURL": "https://plot.ly"
       },
       "data": [
        {
         "branchvalues": "total",
         "customdata": [
          "Total files: 4<br>Avg Score: 0.93<br>Total Lines: 5,485",
          "Directory: backend<br>Files: 4<br>Avg Score: 0.93<br>Total Lines: 5,485",
          "Directory: backend/src<br>Files: 4<br>Avg Score: 0.93<br>Total Lines: 5,485",
          "Directory: backend/src/main<br>Files: 3<br>Avg Score: 0.90<br>Total Lines: 2,107",
          "Directory: backend/src/main/java<br>Files: 3<br>Avg Score: 0.90<br>Total Lines: 2,107",
          "Directory: backend/src/main/java/at<br>Files: 3<br>Avg Score: 0.90<br>Total Lines: 2,107",
          "Directory: backend/src/main/java/at/dropover<br>Files: 3<br>Avg Score: 0.90<br>Total Lines: 2,107",
          "Directory: backend/src/main/java/at/dropover/comment<br>Files: 2<br>Avg Score: 0.90<br>Total Lines: 1,679",
          "Directory: backend/src/main/java/at/dropover/comment/interactor<br>Files: 2<br>Avg Score: 0.90<br>Total Lines: 1,679",
          "Directory: backend/src/main/java/at/dropover/comment/interactor/exception<br>Files: 1<br>Avg Score: 0.80<br>Total Lines: 190",
          "Directory: backend/src/main/java/at/dropover/site<br>Files: 1<br>Avg Score: 0.90<br>Total Lines: 428",
          "Directory: backend/src/main/java/at/dropover/site/entity<br>Files: 1<br>Avg Score: 0.90<br>Total Lines: 428",
          "Directory: backend/src/test<br>Files: 1<br>Avg Score: 1.00<br>Total Lines: 3,378",
          "Directory: backend/src/test/java<br>Files: 1<br>Avg Score: 1.00<br>Total Lines: 3,378",
          "Directory: backend/src/test/java/at<br>Files: 1<br>Avg Score: 1.00<br>Total Lines: 3,378",
          "Directory: backend/src/test/java/at/dropover<br>Files: 1<br>Avg Score: 1.00<br>Total Lines: 3,378",
          "Directory: backend/src/test/java/at/dropover/site<br>Files: 1<br>Avg Score: 1.00<br>Total Lines: 3,378",
          "Directory: backend/src/test/java/at/dropover/site/entity<br>Files: 1<br>Avg Score: 1.00<br>Total Lines: 3,378",
          "Directory: backend/src/test/java/at/dropover/site/entity/gateway<br>Files: 1<br>Avg Score: 1.00<br>Total Lines: 3,378",
          "File: Site.java<br>Score: 0.90<br>Lines: 428<br>Concept: Site<br>Path: ../../../dropover-at/backend/src/main/java/at/dropover/site/entity/Site.java<br>Explanation: The code defines a Java interface named `Site`, directly matching the concept name. Its methods, suc...",
          "File: SiteGatewayTest.java<br>Score: 1.00<br>Lines: 3378<br>Concept: Site<br>Path: ../../../dropover-at/backend/src/test/java/at/dropover/site/entity/gateway/SiteGatewayTest.java<br>Explanation: The code provides abstract tests for a `SiteGateway`, which is responsible for creating and retrievi...",
          "File: GetRangedComments.java<br>Score: 1.00<br>Lines: 1489<br>Concept: Comment<br>Path: ../../../dropover-at/backend/src/main/java/at/dropover/comment/interactor/GetRangedComments.java<br>Explanation: This code directly implements the \"retrieve\" aspect of the 'Comment' concept. The `GetRangedComments...",
          "File: PostNotInPastException.java<br>Score: 0.80<br>Lines: 190<br>Concept: Comment<br>Path: ../../../dropover-at/backend/src/main/java/at/dropover/comment/interactor/exception/PostNotInPastException.java<br>Explanation: The source code defines a custom exception, `PostNotInPastException`. Its package, `at.dropover.comm..."
         ],
         "hovertemplate": "<b>%{label}</b><br>%{customdata}<extra></extra>",
         "ids": [
          "root",
          "backend",
          "backend/src",
          "backend/src/main",
          "backend/src/main/java",
          "backend/src/main/java/at",
          "backend/src/main/java/at/dropover",
          "backend/src/main/java/at/dropover/comment",
          "backend/src/main/java/at/dropover/comment/interactor",
          "backend/src/main/java/at/dropover/comment/interactor/exception",
          "backend/src/main/java/at/dropover/site",
          "backend/src/main/java/at/dropover/site/entity",
          "backend/src/test",
          "backend/src/test/java",
          "backend/src/test/java/at",
          "backend/src/test/java/at/dropover",
          "backend/src/test/java/at/dropover/site",
          "backend/src/test/java/at/dropover/site/entity",
          "backend/src/test/java/at/dropover/site/entity/gateway",
          "backend/src/main/java/at/dropover/site/entity/Site.java",
          "backend/src/test/java/at/dropover/site/entity/gateway/SiteGatewayTest.java",
          "backend/src/main/java/at/dropover/comment/interactor/GetRangedComments.java",
          "backend/src/main/java/at/dropover/comment/interactor/exception/PostNotInPastException.java"
         ],
         "labels": [
          "Project dropover-at",
          "backend",
          "src",
          "main",
          "java",
          "at",
          "dropover",
          "comment",
          "interactor",
          "exception",
          "site",
          "entity",
          "test",
          "java",
          "at",
          "dropover",
          "site",
          "entity",
          "gateway",
          "Site.java",
          "SiteGatewayTest.java",
          "GetRangedComments.java",
          "PostNotInPastException.java"
         ],
         "marker": {
          "cmax": 1,
          "cmin": 0,
          "colors": [
           0.925,
           0.925,
           0.925,
           0.9,
           0.9,
           0.9,
           0.9,
           0.9,
           0.9,
           0.8,
           0.9,
           0.9,
           1,
           1,
           1,
           1,
           1,
           1,
           1,
           0.9,
           1,
           1,
           0.8
          ],
          "colorscale": [
           [
            0,
            "#ffffff"
           ],
           [
            0.01,
            "#ffe6d9"
           ],
           [
            1,
            "#ff9c66"
           ]
          ]
         },
         "parents": [
          "",
          "root",
          "backend",
          "backend/src",
          "backend/src/main",
          "backend/src/main/java",
          "backend/src/main/java/at",
          "backend/src/main/java/at/dropover",
          "backend/src/main/java/at/dropover/comment",
          "backend/src/main/java/at/dropover/comment/interactor",
          "backend/src/main/java/at/dropover",
          "backend/src/main/java/at/dropover/site",
          "backend/src",
          "backend/src/test",
          "backend/src/test/java",
          "backend/src/test/java/at",
          "backend/src/test/java/at/dropover",
          "backend/src/test/java/at/dropover/site",
          "backend/src/test/java/at/dropover/site/entity",
          "backend/src/main/java/at/dropover/site/entity",
          "backend/src/test/java/at/dropover/site/entity/gateway",
          "backend/src/main/java/at/dropover/comment/interactor",
          "backend/src/main/java/at/dropover/comment/interactor/exception"
         ],
         "textfont": {
          "size": 8
         },
         "textinfo": "label+value",
         "textposition": "middle center",
         "type": "treemap",
         "values": [
          5485,
          5485,
          5485,
          2107,
          2107,
          2107,
          2107,
          1679,
          1679,
          190,
          428,
          428,
          3378,
          3378,
          3378,
          3378,
          3378,
          3378,
          3378,
          428,
          3378,
          1489,
          190
         ]
        }
       ],
       "layout": {
        "height": 540,
        "margin": {
         "b": 10,
         "l": 10,
         "r": 10,
         "t": 10
        },
        "template": {
         "data": {
          "bar": [
           {
            "error_x": {
             "color": "#2a3f5f"
            },
            "error_y": {
             "color": "#2a3f5f"
            },
            "marker": {
             "line": {
              "color": "#E5ECF6",
              "width": 0.5
             },
             "pattern": {
              "fillmode": "overlay",
              "size": 10,
              "solidity": 0.2
             }
            },
            "type": "bar"
           }
          ],
          "barpolar": [
           {
            "marker": {
             "line": {
              "color": "#E5ECF6",
              "width": 0.5
             },
             "pattern": {
              "fillmode": "overlay",
              "size": 10,
              "solidity": 0.2
             }
            },
            "type": "barpolar"
           }
          ],
          "carpet": [
           {
            "aaxis": {
             "endlinecolor": "#2a3f5f",
             "gridcolor": "white",
             "linecolor": "white",
             "minorgridcolor": "white",
             "startlinecolor": "#2a3f5f"
            },
            "baxis": {
             "endlinecolor": "#2a3f5f",
             "gridcolor": "white",
             "linecolor": "white",
             "minorgridcolor": "white",
             "startlinecolor": "#2a3f5f"
            },
            "type": "carpet"
           }
          ],
          "choropleth": [
           {
            "colorbar": {
             "outlinewidth": 0,
             "ticks": ""
            },
            "type": "choropleth"
           }
          ],
          "contour": [
           {
            "colorbar": {
             "outlinewidth": 0,
             "ticks": ""
            },
            "colorscale": [
             [
              0,
              "#0d0887"
             ],
             [
              0.1111111111111111,
              "#46039f"
             ],
             [
              0.2222222222222222,
              "#7201a8"
             ],
             [
              0.3333333333333333,
              "#9c179e"
             ],
             [
              0.4444444444444444,
              "#bd3786"
             ],
             [
              0.5555555555555556,
              "#d8576b"
             ],
             [
              0.6666666666666666,
              "#ed7953"
             ],
             [
              0.7777777777777778,
              "#fb9f3a"
             ],
             [
              0.8888888888888888,
              "#fdca26"
             ],
             [
              1,
              "#f0f921"
             ]
            ],
            "type": "contour"
           }
          ],
          "contourcarpet": [
           {
            "colorbar": {
             "outlinewidth": 0,
             "ticks": ""
            },
            "type": "contourcarpet"
           }
          ],
          "heatmap": [
           {
            "colorbar": {
             "outlinewidth": 0,
             "ticks": ""
            },
            "colorscale": [
             [
              0,
              "#0d0887"
             ],
             [
              0.1111111111111111,
              "#46039f"
             ],
             [
              0.2222222222222222,
              "#7201a8"
             ],
             [
              0.3333333333333333,
              "#9c179e"
             ],
             [
              0.4444444444444444,
              "#bd3786"
             ],
             [
              0.5555555555555556,
              "#d8576b"
             ],
             [
              0.6666666666666666,
              "#ed7953"
             ],
             [
              0.7777777777777778,
              "#fb9f3a"
             ],
             [
              0.8888888888888888,
              "#fdca26"
             ],
             [
              1,
              "#f0f921"
             ]
            ],
            "type": "heatmap"
           }
          ],
          "histogram": [
           {
            "marker": {
             "pattern": {
              "fillmode": "overlay",
              "size": 10,
              "solidity": 0.2
             }
            },
            "type": "histogram"
           }
          ],
          "histogram2d": [
           {
            "colorbar": {
             "outlinewidth": 0,
             "ticks": ""
            },
            "colorscale": [
             [
              0,
              "#0d0887"
             ],
             [
              0.1111111111111111,
              "#46039f"
             ],
             [
              0.2222222222222222,
              "#7201a8"
             ],
             [
              0.3333333333333333,
              "#9c179e"
             ],
             [
              0.4444444444444444,
              "#bd3786"
             ],
             [
              0.5555555555555556,
              "#d8576b"
             ],
             [
              0.6666666666666666,
              "#ed7953"
             ],
             [
              0.7777777777777778,
              "#fb9f3a"
             ],
             [
              0.8888888888888888,
              "#fdca26"
             ],
             [
              1,
              "#f0f921"
             ]
            ],
            "type": "histogram2d"
           }
          ],
          "histogram2dcontour": [
           {
            "colorbar": {
             "outlinewidth": 0,
             "ticks": ""
            },
            "colorscale": [
             [
              0,
              "#0d0887"
             ],
             [
              0.1111111111111111,
              "#46039f"
             ],
             [
              0.2222222222222222,
              "#7201a8"
             ],
             [
              0.3333333333333333,
              "#9c179e"
             ],
             [
              0.4444444444444444,
              "#bd3786"
             ],
             [
              0.5555555555555556,
              "#d8576b"
             ],
             [
              0.6666666666666666,
              "#ed7953"
             ],
             [
              0.7777777777777778,
              "#fb9f3a"
             ],
             [
              0.8888888888888888,
              "#fdca26"
             ],
             [
              1,
              "#f0f921"
             ]
            ],
            "type": "histogram2dcontour"
           }
          ],
          "mesh3d": [
           {
            "colorbar": {
             "outlinewidth": 0,
             "ticks": ""
            },
            "type": "mesh3d"
           }
          ],
          "parcoords": [
           {
            "line": {
             "colorbar": {
              "outlinewidth": 0,
              "ticks": ""
             }
            },
            "type": "parcoords"
           }
          ],
          "pie": [
           {
            "automargin": true,
            "type": "pie"
           }
          ],
          "scatter": [
           {
            "fillpattern": {
             "fillmode": "overlay",
             "size": 10,
             "solidity": 0.2
            },
            "type": "scatter"
           }
          ],
          "scatter3d": [
           {
            "line": {
             "colorbar": {
              "outlinewidth": 0,
              "ticks": ""
             }
            },
            "marker": {
             "colorbar": {
              "outlinewidth": 0,
              "ticks": ""
             }
            },
            "type": "scatter3d"
           }
          ],
          "scattercarpet": [
           {
            "marker": {
             "colorbar": {
              "outlinewidth": 0,
              "ticks": ""
             }
            },
            "type": "scattercarpet"
           }
          ],
          "scattergeo": [
           {
            "marker": {
             "colorbar": {
              "outlinewidth": 0,
              "ticks": ""
             }
            },
            "type": "scattergeo"
           }
          ],
          "scattergl": [
           {
            "marker": {
             "colorbar": {
              "outlinewidth": 0,
              "ticks": ""
             }
            },
            "type": "scattergl"
           }
          ],
          "scattermap": [
           {
            "marker": {
             "colorbar": {
              "outlinewidth": 0,
              "ticks": ""
             }
            },
            "type": "scattermap"
           }
          ],
          "scattermapbox": [
           {
            "marker": {
             "colorbar": {
              "outlinewidth": 0,
              "ticks": ""
             }
            },
            "type": "scattermapbox"
           }
          ],
          "scatterpolar": [
           {
            "marker": {
             "colorbar": {
              "outlinewidth": 0,
              "ticks": ""
             }
            },
            "type": "scatterpolar"
           }
          ],
          "scatterpolargl": [
           {
            "marker": {
             "colorbar": {
              "outlinewidth": 0,
              "ticks": ""
             }
            },
            "type": "scatterpolargl"
           }
          ],
          "scatterternary": [
           {
            "marker": {
             "colorbar": {
              "outlinewidth": 0,
              "ticks": ""
             }
            },
            "type": "scatterternary"
           }
          ],
          "surface": [
           {
            "colorbar": {
             "outlinewidth": 0,
             "ticks": ""
            },
            "colorscale": [
             [
              0,
              "#0d0887"
             ],
             [
              0.1111111111111111,
              "#46039f"
             ],
             [
              0.2222222222222222,
              "#7201a8"
             ],
             [
              0.3333333333333333,
              "#9c179e"
             ],
             [
              0.4444444444444444,
              "#bd3786"
             ],
             [
              0.5555555555555556,
              "#d8576b"
             ],
             [
              0.6666666666666666,
              "#ed7953"
             ],
             [
              0.7777777777777778,
              "#fb9f3a"
             ],
             [
              0.8888888888888888,
              "#fdca26"
             ],
             [
              1,
              "#f0f921"
             ]
            ],
            "type": "surface"
           }
          ],
          "table": [
           {
            "cells": {
             "fill": {
              "color": "#EBF0F8"
             },
             "line": {
              "color": "white"
             }
            },
            "header": {
             "fill": {
              "color": "#C8D4E3"
             },
             "line": {
              "color": "white"
             }
            },
            "type": "table"
           }
          ]
         },
         "layout": {
          "annotationdefaults": {
           "arrowcolor": "#2a3f5f",
           "arrowhead": 0,
           "arrowwidth": 1
          },
          "autotypenumbers": "strict",
          "coloraxis": {
           "colorbar": {
            "outlinewidth": 0,
            "ticks": ""
           }
          },
          "colorscale": {
           "diverging": [
            [
             0,
             "#8e0152"
            ],
            [
             0.1,
             "#c51b7d"
            ],
            [
             0.2,
             "#de77ae"
            ],
            [
             0.3,
             "#f1b6da"
            ],
            [
             0.4,
             "#fde0ef"
            ],
            [
             0.5,
             "#f7f7f7"
            ],
            [
             0.6,
             "#e6f5d0"
            ],
            [
             0.7,
             "#b8e186"
            ],
            [
             0.8,
             "#7fbc41"
            ],
            [
             0.9,
             "#4d9221"
            ],
            [
             1,
             "#276419"
            ]
           ],
           "sequential": [
            [
             0,
             "#0d0887"
            ],
            [
             0.1111111111111111,
             "#46039f"
            ],
            [
             0.2222222222222222,
             "#7201a8"
            ],
            [
             0.3333333333333333,
             "#9c179e"
            ],
            [
             0.4444444444444444,
             "#bd3786"
            ],
            [
             0.5555555555555556,
             "#d8576b"
            ],
            [
             0.6666666666666666,
             "#ed7953"
            ],
            [
             0.7777777777777778,
             "#fb9f3a"
            ],
            [
             0.8888888888888888,
             "#fdca26"
            ],
            [
             1,
             "#f0f921"
            ]
           ],
           "sequentialminus": [
            [
             0,
             "#0d0887"
            ],
            [
             0.1111111111111111,
             "#46039f"
            ],
            [
             0.2222222222222222,
             "#7201a8"
            ],
            [
             0.3333333333333333,
             "#9c179e"
            ],
            [
             0.4444444444444444,
             "#bd3786"
            ],
            [
             0.5555555555555556,
             "#d8576b"
            ],
            [
             0.6666666666666666,
             "#ed7953"
            ],
            [
             0.7777777777777778,
             "#fb9f3a"
            ],
            [
             0.8888888888888888,
             "#fdca26"
            ],
            [
             1,
             "#f0f921"
            ]
           ]
          },
          "colorway": [
           "#636efa",
           "#EF553B",
           "#00cc96",
           "#ab63fa",
           "#FFA15A",
           "#19d3f3",
           "#FF6692",
           "#B6E880",
           "#FF97FF",
           "#FECB52"
          ],
          "font": {
           "color": "#2a3f5f"
          },
          "geo": {
           "bgcolor": "white",
           "lakecolor": "white",
           "landcolor": "#E5ECF6",
           "showlakes": true,
           "showland": true,
           "subunitcolor": "white"
          },
          "hoverlabel": {
           "align": "left"
          },
          "hovermode": "closest",
          "mapbox": {
           "style": "light"
          },
          "paper_bgcolor": "white",
          "plot_bgcolor": "#E5ECF6",
          "polar": {
           "angularaxis": {
            "gridcolor": "white",
            "linecolor": "white",
            "ticks": ""
           },
           "bgcolor": "#E5ECF6",
           "radialaxis": {
            "gridcolor": "white",
            "linecolor": "white",
            "ticks": ""
           }
          },
          "scene": {
           "xaxis": {
            "backgroundcolor": "#E5ECF6",
            "gridcolor": "white",
            "gridwidth": 2,
            "linecolor": "white",
            "showbackground": true,
            "ticks": "",
            "zerolinecolor": "white"
           },
           "yaxis": {
            "backgroundcolor": "#E5ECF6",
            "gridcolor": "white",
            "gridwidth": 2,
            "linecolor": "white",
            "showbackground": true,
            "ticks": "",
            "zerolinecolor": "white"
           },
           "zaxis": {
            "backgroundcolor": "#E5ECF6",
            "gridcolor": "white",
            "gridwidth": 2,
            "linecolor": "white",
            "showbackground": true,
            "ticks": "",
            "zerolinecolor": "white"
           }
          },
          "shapedefaults": {
           "line": {
            "color": "#2a3f5f"
           }
          },
          "ternary": {
           "aaxis": {
            "gridcolor": "white",
            "linecolor": "white",
            "ticks": ""
           },
           "baxis": {
            "gridcolor": "white",
            "linecolor": "white",
            "ticks": ""
           },
           "bgcolor": "#E5ECF6",
           "caxis": {
            "gridcolor": "white",
            "linecolor": "white",
            "ticks": ""
           }
          },
          "title": {
           "x": 0.05
          },
          "xaxis": {
           "automargin": true,
           "gridcolor": "white",
           "linecolor": "white",
           "ticks": "",
           "title": {
            "standoff": 15
           },
           "zerolinecolor": "white",
           "zerolinewidth": 2
          },
          "yaxis": {
           "automargin": true,
           "gridcolor": "white",
           "linecolor": "white",
           "ticks": "",
           "title": {
            "standoff": 15
           },
           "zerolinecolor": "white",
           "zerolinewidth": 2
          }
         }
        },
        "title": {
         "font": {
          "size": 16
         },
         "text": "Business Concepts - file system based",
         "x": 0.5,
         "xanchor": "center"
        },
        "width": 960
       }
      },
      "image/png": "[encoded data removed]"
     },
     "metadata": {},
     "output_type": "display_data"
    }
   ],
   "source": [
    "# Create treemap for business files based on filesystem structure\n",
    "business_df = results_df[results_df['concept_type'] == 'business']\n",
    "business_treemap_data = create_treemap_data(business_df, 'file_path')\n",
    "\n",
    "business_colorscale = [\n",
    "    (0.0, '#ffffff'),   # White for score 0\n",
    "    (0.01, '#ffe6d9'),   # Almost white for score >0\n",
    "    (1.0, '#ff9c66')    # Black for score 1\n",
    "]\n",
    "\n",
    "business_fig = create_treemap_visualization(\n",
    "    business_treemap_data, \n",
    "    'Business Concepts - file system based',\n",
    "    business_colorscale\n",
    ")\n",
    "\n",
    "business_fig.show()"
   ]
  },
  {
   "cell_type": "code",
   "execution_count": null,
   "metadata": {},
   "outputs": [],
   "source": []
  },
  {
   "cell_type": "markdown",
   "metadata": {},
   "source": [
    "### Create concepts based views"
   ]
  },
  {
   "cell_type": "code",
   "execution_count": 95,
   "metadata": {},
   "outputs": [
    {
     "data": {
      "application/vnd.plotly.v1+json": {
       "config": {
        "plotlyServerURL": "https://plot.ly"
       },
       "data": [
        {
         "branchvalues": "total",
         "customdata": [
          "Total files: 4<br>Avg Score: 0.97<br>Total Lines: 4,787",
          "Directory: Boundary<br>Files: 2<br>Avg Score: 1.00<br>Total Lines: 484",
          "Directory: Interactor<br>Files: 2<br>Avg Score: 0.95<br>Total Lines: 4,303",
          "File: DownloadFileResponseModel.java<br>Score: 1.00<br>Lines: 257<br>Concept: Boundary<br>Path: ../../../dropover-at/backend/src/main/java/at/dropover/files/boundary/DownloadFileResponseModel.java<br>Explanation: The code defines `DownloadFileResponseModel`, a class located in a `boundary` package. This class is...",
          "File: AddSchedulingDateRequestModel.java<br>Score: 1.00<br>Lines: 227<br>Concept: Boundary<br>Path: ../../../dropover-at/backend/src/main/java/at/dropover/scheduling/boundary/AddSchedulingDateRequestModel.java<br>Explanation: The code defines `AddSchedulingDateRequestModel`, a plain data structure intended to carry request d...",
          "File: GetRangedComments.java<br>Score: 1.00<br>Lines: 1489<br>Concept: Interactor<br>Path: ../../../dropover-at/backend/src/main/java/at/dropover/comment/interactor/GetRangedComments.java<br>Explanation: The `GetRangedComments` class is a textbook implementation of the Interactor pattern. It encapsulate...",
          "File: GetAllTodosTest.java<br>Score: 0.90<br>Lines: 2814<br>Concept: Interactor<br>Path: ../../../dropover-at/backend/src/test/java/at/dropover/todo/interactor/GetAllTodosTest.java<br>Explanation: The provided code is a test for an Interactor, not the Interactor itself. However, it provides stron..."
         ],
         "hovertemplate": "<b>%{label}</b><br>%{customdata}<extra></extra>",
         "ids": [
          "root",
          "Boundary",
          "Interactor",
          "Boundary/DownloadFileResponseModel.java",
          "Boundary/AddSchedulingDateRequestModel.java",
          "Interactor/GetRangedComments.java",
          "Interactor/GetAllTodosTest.java"
         ],
         "labels": [
          "Project dropover-at",
          "Boundary",
          "Interactor",
          "DownloadFileResponseModel.java",
          "AddSchedulingDateRequestModel.java",
          "GetRangedComments.java",
          "GetAllTodosTest.java"
         ],
         "marker": {
          "cmax": 1,
          "cmin": 0,
          "colorbar": {
           "dtick": 0.2,
           "tick0": 0,
           "tickmode": "linear",
           "title": {
            "text": "Concept Score"
           }
          },
          "colors": [
           0.975,
           1,
           0.95,
           1,
           1,
           1,
           0.9
          ],
          "colorscale": [
           [
            0,
            "#ffffff"
           ],
           [
            0.01,
            "#bfcfd4"
           ],
           [
            1,
            "#004153"
           ]
          ]
         },
         "parents": [
          "",
          "root",
          "root",
          "Boundary",
          "Boundary",
          "Interactor",
          "Interactor"
         ],
         "textfont": {
          "size": 8
         },
         "textinfo": "label+value",
         "textposition": "middle center",
         "type": "treemap",
         "values": [
          4787,
          484,
          4303,
          257,
          227,
          1489,
          2814
         ]
        }
       ],
       "layout": {
        "height": 540,
        "margin": {
         "b": 10,
         "l": 10,
         "r": 10,
         "t": 10
        },
        "template": {
         "data": {
          "bar": [
           {
            "error_x": {
             "color": "#2a3f5f"
            },
            "error_y": {
             "color": "#2a3f5f"
            },
            "marker": {
             "line": {
              "color": "#E5ECF6",
              "width": 0.5
             },
             "pattern": {
              "fillmode": "overlay",
              "size": 10,
              "solidity": 0.2
             }
            },
            "type": "bar"
           }
          ],
          "barpolar": [
           {
            "marker": {
             "line": {
              "color": "#E5ECF6",
              "width": 0.5
             },
             "pattern": {
              "fillmode": "overlay",
              "size": 10,
              "solidity": 0.2
             }
            },
            "type": "barpolar"
           }
          ],
          "carpet": [
           {
            "aaxis": {
             "endlinecolor": "#2a3f5f",
             "gridcolor": "white",
             "linecolor": "white",
             "minorgridcolor": "white",
             "startlinecolor": "#2a3f5f"
            },
            "baxis": {
             "endlinecolor": "#2a3f5f",
             "gridcolor": "white",
             "linecolor": "white",
             "minorgridcolor": "white",
             "startlinecolor": "#2a3f5f"
            },
            "type": "carpet"
           }
          ],
          "choropleth": [
           {
            "colorbar": {
             "outlinewidth": 0,
             "ticks": ""
            },
            "type": "choropleth"
           }
          ],
          "contour": [
           {
            "colorbar": {
             "outlinewidth": 0,
             "ticks": ""
            },
            "colorscale": [
             [
              0,
              "#0d0887"
             ],
             [
              0.1111111111111111,
              "#46039f"
             ],
             [
              0.2222222222222222,
              "#7201a8"
             ],
             [
              0.3333333333333333,
              "#9c179e"
             ],
             [
              0.4444444444444444,
              "#bd3786"
             ],
             [
              0.5555555555555556,
              "#d8576b"
             ],
             [
              0.6666666666666666,
              "#ed7953"
             ],
             [
              0.7777777777777778,
              "#fb9f3a"
             ],
             [
              0.8888888888888888,
              "#fdca26"
             ],
             [
              1,
              "#f0f921"
             ]
            ],
            "type": "contour"
           }
          ],
          "contourcarpet": [
           {
            "colorbar": {
             "outlinewidth": 0,
             "ticks": ""
            },
            "type": "contourcarpet"
           }
          ],
          "heatmap": [
           {
            "colorbar": {
             "outlinewidth": 0,
             "ticks": ""
            },
            "colorscale": [
             [
              0,
              "#0d0887"
             ],
             [
              0.1111111111111111,
              "#46039f"
             ],
             [
              0.2222222222222222,
              "#7201a8"
             ],
             [
              0.3333333333333333,
              "#9c179e"
             ],
             [
              0.4444444444444444,
              "#bd3786"
             ],
             [
              0.5555555555555556,
              "#d8576b"
             ],
             [
              0.6666666666666666,
              "#ed7953"
             ],
             [
              0.7777777777777778,
              "#fb9f3a"
             ],
             [
              0.8888888888888888,
              "#fdca26"
             ],
             [
              1,
              "#f0f921"
             ]
            ],
            "type": "heatmap"
           }
          ],
          "histogram": [
           {
            "marker": {
             "pattern": {
              "fillmode": "overlay",
              "size": 10,
              "solidity": 0.2
             }
            },
            "type": "histogram"
           }
          ],
          "histogram2d": [
           {
            "colorbar": {
             "outlinewidth": 0,
             "ticks": ""
            },
            "colorscale": [
             [
              0,
              "#0d0887"
             ],
             [
              0.1111111111111111,
              "#46039f"
             ],
             [
              0.2222222222222222,
              "#7201a8"
             ],
             [
              0.3333333333333333,
              "#9c179e"
             ],
             [
              0.4444444444444444,
              "#bd3786"
             ],
             [
              0.5555555555555556,
              "#d8576b"
             ],
             [
              0.6666666666666666,
              "#ed7953"
             ],
             [
              0.7777777777777778,
              "#fb9f3a"
             ],
             [
              0.8888888888888888,
              "#fdca26"
             ],
             [
              1,
              "#f0f921"
             ]
            ],
            "type": "histogram2d"
           }
          ],
          "histogram2dcontour": [
           {
            "colorbar": {
             "outlinewidth": 0,
             "ticks": ""
            },
            "colorscale": [
             [
              0,
              "#0d0887"
             ],
             [
              0.1111111111111111,
              "#46039f"
             ],
             [
              0.2222222222222222,
              "#7201a8"
             ],
             [
              0.3333333333333333,
              "#9c179e"
             ],
             [
              0.4444444444444444,
              "#bd3786"
             ],
             [
              0.5555555555555556,
              "#d8576b"
             ],
             [
              0.6666666666666666,
              "#ed7953"
             ],
             [
              0.7777777777777778,
              "#fb9f3a"
             ],
             [
              0.8888888888888888,
              "#fdca26"
             ],
             [
              1,
              "#f0f921"
             ]
            ],
            "type": "histogram2dcontour"
           }
          ],
          "mesh3d": [
           {
            "colorbar": {
             "outlinewidth": 0,
             "ticks": ""
            },
            "type": "mesh3d"
           }
          ],
          "parcoords": [
           {
            "line": {
             "colorbar": {
              "outlinewidth": 0,
              "ticks": ""
             }
            },
            "type": "parcoords"
           }
          ],
          "pie": [
           {
            "automargin": true,
            "type": "pie"
           }
          ],
          "scatter": [
           {
            "fillpattern": {
             "fillmode": "overlay",
             "size": 10,
             "solidity": 0.2
            },
            "type": "scatter"
           }
          ],
          "scatter3d": [
           {
            "line": {
             "colorbar": {
              "outlinewidth": 0,
              "ticks": ""
             }
            },
            "marker": {
             "colorbar": {
              "outlinewidth": 0,
              "ticks": ""
             }
            },
            "type": "scatter3d"
           }
          ],
          "scattercarpet": [
           {
            "marker": {
             "colorbar": {
              "outlinewidth": 0,
              "ticks": ""
             }
            },
            "type": "scattercarpet"
           }
          ],
          "scattergeo": [
           {
            "marker": {
             "colorbar": {
              "outlinewidth": 0,
              "ticks": ""
             }
            },
            "type": "scattergeo"
           }
          ],
          "scattergl": [
           {
            "marker": {
             "colorbar": {
              "outlinewidth": 0,
              "ticks": ""
             }
            },
            "type": "scattergl"
           }
          ],
          "scattermap": [
           {
            "marker": {
             "colorbar": {
              "outlinewidth": 0,
              "ticks": ""
             }
            },
            "type": "scattermap"
           }
          ],
          "scattermapbox": [
           {
            "marker": {
             "colorbar": {
              "outlinewidth": 0,
              "ticks": ""
             }
            },
            "type": "scattermapbox"
           }
          ],
          "scatterpolar": [
           {
            "marker": {
             "colorbar": {
              "outlinewidth": 0,
              "ticks": ""
             }
            },
            "type": "scatterpolar"
           }
          ],
          "scatterpolargl": [
           {
            "marker": {
             "colorbar": {
              "outlinewidth": 0,
              "ticks": ""
             }
            },
            "type": "scatterpolargl"
           }
          ],
          "scatterternary": [
           {
            "marker": {
             "colorbar": {
              "outlinewidth": 0,
              "ticks": ""
             }
            },
            "type": "scatterternary"
           }
          ],
          "surface": [
           {
            "colorbar": {
             "outlinewidth": 0,
             "ticks": ""
            },
            "colorscale": [
             [
              0,
              "#0d0887"
             ],
             [
              0.1111111111111111,
              "#46039f"
             ],
             [
              0.2222222222222222,
              "#7201a8"
             ],
             [
              0.3333333333333333,
              "#9c179e"
             ],
             [
              0.4444444444444444,
              "#bd3786"
             ],
             [
              0.5555555555555556,
              "#d8576b"
             ],
             [
              0.6666666666666666,
              "#ed7953"
             ],
             [
              0.7777777777777778,
              "#fb9f3a"
             ],
             [
              0.8888888888888888,
              "#fdca26"
             ],
             [
              1,
              "#f0f921"
             ]
            ],
            "type": "surface"
           }
          ],
          "table": [
           {
            "cells": {
             "fill": {
              "color": "#EBF0F8"
             },
             "line": {
              "color": "white"
             }
            },
            "header": {
             "fill": {
              "color": "#C8D4E3"
             },
             "line": {
              "color": "white"
             }
            },
            "type": "table"
           }
          ]
         },
         "layout": {
          "annotationdefaults": {
           "arrowcolor": "#2a3f5f",
           "arrowhead": 0,
           "arrowwidth": 1
          },
          "autotypenumbers": "strict",
          "coloraxis": {
           "colorbar": {
            "outlinewidth": 0,
            "ticks": ""
           }
          },
          "colorscale": {
           "diverging": [
            [
             0,
             "#8e0152"
            ],
            [
             0.1,
             "#c51b7d"
            ],
            [
             0.2,
             "#de77ae"
            ],
            [
             0.3,
             "#f1b6da"
            ],
            [
             0.4,
             "#fde0ef"
            ],
            [
             0.5,
             "#f7f7f7"
            ],
            [
             0.6,
             "#e6f5d0"
            ],
            [
             0.7,
             "#b8e186"
            ],
            [
             0.8,
             "#7fbc41"
            ],
            [
             0.9,
             "#4d9221"
            ],
            [
             1,
             "#276419"
            ]
           ],
           "sequential": [
            [
             0,
             "#0d0887"
            ],
            [
             0.1111111111111111,
             "#46039f"
            ],
            [
             0.2222222222222222,
             "#7201a8"
            ],
            [
             0.3333333333333333,
             "#9c179e"
            ],
            [
             0.4444444444444444,
             "#bd3786"
            ],
            [
             0.5555555555555556,
             "#d8576b"
            ],
            [
             0.6666666666666666,
             "#ed7953"
            ],
            [
             0.7777777777777778,
             "#fb9f3a"
            ],
            [
             0.8888888888888888,
             "#fdca26"
            ],
            [
             1,
             "#f0f921"
            ]
           ],
           "sequentialminus": [
            [
             0,
             "#0d0887"
            ],
            [
             0.1111111111111111,
             "#46039f"
            ],
            [
             0.2222222222222222,
             "#7201a8"
            ],
            [
             0.3333333333333333,
             "#9c179e"
            ],
            [
             0.4444444444444444,
             "#bd3786"
            ],
            [
             0.5555555555555556,
             "#d8576b"
            ],
            [
             0.6666666666666666,
             "#ed7953"
            ],
            [
             0.7777777777777778,
             "#fb9f3a"
            ],
            [
             0.8888888888888888,
             "#fdca26"
            ],
            [
             1,
             "#f0f921"
            ]
           ]
          },
          "colorway": [
           "#636efa",
           "#EF553B",
           "#00cc96",
           "#ab63fa",
           "#FFA15A",
           "#19d3f3",
           "#FF6692",
           "#B6E880",
           "#FF97FF",
           "#FECB52"
          ],
          "font": {
           "color": "#2a3f5f"
          },
          "geo": {
           "bgcolor": "white",
           "lakecolor": "white",
           "landcolor": "#E5ECF6",
           "showlakes": true,
           "showland": true,
           "subunitcolor": "white"
          },
          "hoverlabel": {
           "align": "left"
          },
          "hovermode": "closest",
          "mapbox": {
           "style": "light"
          },
          "paper_bgcolor": "white",
          "plot_bgcolor": "#E5ECF6",
          "polar": {
           "angularaxis": {
            "gridcolor": "white",
            "linecolor": "white",
            "ticks": ""
           },
           "bgcolor": "#E5ECF6",
           "radialaxis": {
            "gridcolor": "white",
            "linecolor": "white",
            "ticks": ""
           }
          },
          "scene": {
           "xaxis": {
            "backgroundcolor": "#E5ECF6",
            "gridcolor": "white",
            "gridwidth": 2,
            "linecolor": "white",
            "showbackground": true,
            "ticks": "",
            "zerolinecolor": "white"
           },
           "yaxis": {
            "backgroundcolor": "#E5ECF6",
            "gridcolor": "white",
            "gridwidth": 2,
            "linecolor": "white",
            "showbackground": true,
            "ticks": "",
            "zerolinecolor": "white"
           },
           "zaxis": {
            "backgroundcolor": "#E5ECF6",
            "gridcolor": "white",
            "gridwidth": 2,
            "linecolor": "white",
            "showbackground": true,
            "ticks": "",
            "zerolinecolor": "white"
           }
          },
          "shapedefaults": {
           "line": {
            "color": "#2a3f5f"
           }
          },
          "ternary": {
           "aaxis": {
            "gridcolor": "white",
            "linecolor": "white",
            "ticks": ""
           },
           "baxis": {
            "gridcolor": "white",
            "linecolor": "white",
            "ticks": ""
           },
           "bgcolor": "#E5ECF6",
           "caxis": {
            "gridcolor": "white",
            "linecolor": "white",
            "ticks": ""
           }
          },
          "title": {
           "x": 0.05
          },
          "xaxis": {
           "automargin": true,
           "gridcolor": "white",
           "linecolor": "white",
           "ticks": "",
           "title": {
            "standoff": 15
           },
           "zerolinecolor": "white",
           "zerolinewidth": 2
          },
          "yaxis": {
           "automargin": true,
           "gridcolor": "white",
           "linecolor": "white",
           "ticks": "",
           "title": {
            "standoff": 15
           },
           "zerolinecolor": "white",
           "zerolinewidth": 2
          }
         }
        },
        "title": {
         "font": {
          "size": 16
         },
         "text": "Technical Concepts, concepts based",
         "x": 0.5,
         "xanchor": "center"
        },
        "width": 960
       }
      },
      "image/png": "[encoded data removed]"
     },
     "metadata": {},
     "output_type": "display_data"
    }
   ],
   "source": [
    "technical_treemap_data = create_treemap_data(technical_df, 'concept_path')\n",
    "\n",
    "technical_fig = create_treemap_visualization(\n",
    "    technical_treemap_data, \n",
    "    'Technical Concepts, concepts based',\n",
    "    technical_colorscale\n",
    ")\n",
    "\n",
    "technical_fig.show()"
   ]
  },
  {
   "cell_type": "code",
   "execution_count": 96,
   "metadata": {},
   "outputs": [
    {
     "data": {
      "application/vnd.plotly.v1+json": {
       "config": {
        "plotlyServerURL": "https://plot.ly"
       },
       "data": [
        {
         "branchvalues": "total",
         "customdata": [
          "Total files: 4<br>Avg Score: 0.93<br>Total Lines: 5,485",
          "Directory: Comment<br>Files: 2<br>Avg Score: 0.90<br>Total Lines: 1,679",
          "Directory: Site<br>Files: 2<br>Avg Score: 0.95<br>Total Lines: 3,806",
          "File: Site.java<br>Score: 0.90<br>Lines: 428<br>Concept: Site<br>Path: ../../../dropover-at/backend/src/main/java/at/dropover/site/entity/Site.java<br>Explanation: The code defines a Java interface named `Site`, directly matching the concept name. Its methods, suc...",
          "File: SiteGatewayTest.java<br>Score: 1.00<br>Lines: 3378<br>Concept: Site<br>Path: ../../../dropover-at/backend/src/test/java/at/dropover/site/entity/gateway/SiteGatewayTest.java<br>Explanation: The code provides abstract tests for a `SiteGateway`, which is responsible for creating and retrievi...",
          "File: GetRangedComments.java<br>Score: 1.00<br>Lines: 1489<br>Concept: Comment<br>Path: ../../../dropover-at/backend/src/main/java/at/dropover/comment/interactor/GetRangedComments.java<br>Explanation: This code directly implements the \"retrieve\" aspect of the 'Comment' concept. The `GetRangedComments...",
          "File: PostNotInPastException.java<br>Score: 0.80<br>Lines: 190<br>Concept: Comment<br>Path: ../../../dropover-at/backend/src/main/java/at/dropover/comment/interactor/exception/PostNotInPastException.java<br>Explanation: The source code defines a custom exception, `PostNotInPastException`. Its package, `at.dropover.comm..."
         ],
         "hovertemplate": "<b>%{label}</b><br>%{customdata}<extra></extra>",
         "ids": [
          "root",
          "Comment",
          "Site",
          "Site/Site.java",
          "Site/SiteGatewayTest.java",
          "Comment/GetRangedComments.java",
          "Comment/PostNotInPastException.java"
         ],
         "labels": [
          "Project dropover-at",
          "Comment",
          "Site",
          "Site.java",
          "SiteGatewayTest.java",
          "GetRangedComments.java",
          "PostNotInPastException.java"
         ],
         "marker": {
          "cmax": 1,
          "cmin": 0,
          "colorbar": {
           "dtick": 0.2,
           "tick0": 0,
           "tickmode": "linear",
           "title": {
            "text": "Concept Score"
           }
          },
          "colors": [
           0.925,
           0.9,
           0.95,
           0.9,
           1,
           1,
           0.8
          ],
          "colorscale": [
           [
            0,
            "#ffffff"
           ],
           [
            0.01,
            "#ffe6d9"
           ],
           [
            1,
            "#ff9c66"
           ]
          ]
         },
         "parents": [
          "",
          "root",
          "root",
          "Site",
          "Site",
          "Comment",
          "Comment"
         ],
         "textfont": {
          "size": 8
         },
         "textinfo": "label+value",
         "textposition": "middle center",
         "type": "treemap",
         "values": [
          5485,
          1679,
          3806,
          428,
          3378,
          1489,
          190
         ]
        }
       ],
       "layout": {
        "height": 540,
        "margin": {
         "b": 10,
         "l": 10,
         "r": 10,
         "t": 10
        },
        "template": {
         "data": {
          "bar": [
           {
            "error_x": {
             "color": "#2a3f5f"
            },
            "error_y": {
             "color": "#2a3f5f"
            },
            "marker": {
             "line": {
              "color": "#E5ECF6",
              "width": 0.5
             },
             "pattern": {
              "fillmode": "overlay",
              "size": 10,
              "solidity": 0.2
             }
            },
            "type": "bar"
           }
          ],
          "barpolar": [
           {
            "marker": {
             "line": {
              "color": "#E5ECF6",
              "width": 0.5
             },
             "pattern": {
              "fillmode": "overlay",
              "size": 10,
              "solidity": 0.2
             }
            },
            "type": "barpolar"
           }
          ],
          "carpet": [
           {
            "aaxis": {
             "endlinecolor": "#2a3f5f",
             "gridcolor": "white",
             "linecolor": "white",
             "minorgridcolor": "white",
             "startlinecolor": "#2a3f5f"
            },
            "baxis": {
             "endlinecolor": "#2a3f5f",
             "gridcolor": "white",
             "linecolor": "white",
             "minorgridcolor": "white",
             "startlinecolor": "#2a3f5f"
            },
            "type": "carpet"
           }
          ],
          "choropleth": [
           {
            "colorbar": {
             "outlinewidth": 0,
             "ticks": ""
            },
            "type": "choropleth"
           }
          ],
          "contour": [
           {
            "colorbar": {
             "outlinewidth": 0,
             "ticks": ""
            },
            "colorscale": [
             [
              0,
              "#0d0887"
             ],
             [
              0.1111111111111111,
              "#46039f"
             ],
             [
              0.2222222222222222,
              "#7201a8"
             ],
             [
              0.3333333333333333,
              "#9c179e"
             ],
             [
              0.4444444444444444,
              "#bd3786"
             ],
             [
              0.5555555555555556,
              "#d8576b"
             ],
             [
              0.6666666666666666,
              "#ed7953"
             ],
             [
              0.7777777777777778,
              "#fb9f3a"
             ],
             [
              0.8888888888888888,
              "#fdca26"
             ],
             [
              1,
              "#f0f921"
             ]
            ],
            "type": "contour"
           }
          ],
          "contourcarpet": [
           {
            "colorbar": {
             "outlinewidth": 0,
             "ticks": ""
            },
            "type": "contourcarpet"
           }
          ],
          "heatmap": [
           {
            "colorbar": {
             "outlinewidth": 0,
             "ticks": ""
            },
            "colorscale": [
             [
              0,
              "#0d0887"
             ],
             [
              0.1111111111111111,
              "#46039f"
             ],
             [
              0.2222222222222222,
              "#7201a8"
             ],
             [
              0.3333333333333333,
              "#9c179e"
             ],
             [
              0.4444444444444444,
              "#bd3786"
             ],
             [
              0.5555555555555556,
              "#d8576b"
             ],
             [
              0.6666666666666666,
              "#ed7953"
             ],
             [
              0.7777777777777778,
              "#fb9f3a"
             ],
             [
              0.8888888888888888,
              "#fdca26"
             ],
             [
              1,
              "#f0f921"
             ]
            ],
            "type": "heatmap"
           }
          ],
          "histogram": [
           {
            "marker": {
             "pattern": {
              "fillmode": "overlay",
              "size": 10,
              "solidity": 0.2
             }
            },
            "type": "histogram"
           }
          ],
          "histogram2d": [
           {
            "colorbar": {
             "outlinewidth": 0,
             "ticks": ""
            },
            "colorscale": [
             [
              0,
              "#0d0887"
             ],
             [
              0.1111111111111111,
              "#46039f"
             ],
             [
              0.2222222222222222,
              "#7201a8"
             ],
             [
              0.3333333333333333,
              "#9c179e"
             ],
             [
              0.4444444444444444,
              "#bd3786"
             ],
             [
              0.5555555555555556,
              "#d8576b"
             ],
             [
              0.6666666666666666,
              "#ed7953"
             ],
             [
              0.7777777777777778,
              "#fb9f3a"
             ],
             [
              0.8888888888888888,
              "#fdca26"
             ],
             [
              1,
              "#f0f921"
             ]
            ],
            "type": "histogram2d"
           }
          ],
          "histogram2dcontour": [
           {
            "colorbar": {
             "outlinewidth": 0,
             "ticks": ""
            },
            "colorscale": [
             [
              0,
              "#0d0887"
             ],
             [
              0.1111111111111111,
              "#46039f"
             ],
             [
              0.2222222222222222,
              "#7201a8"
             ],
             [
              0.3333333333333333,
              "#9c179e"
             ],
             [
              0.4444444444444444,
              "#bd3786"
             ],
             [
              0.5555555555555556,
              "#d8576b"
             ],
             [
              0.6666666666666666,
              "#ed7953"
             ],
             [
              0.7777777777777778,
              "#fb9f3a"
             ],
             [
              0.8888888888888888,
              "#fdca26"
             ],
             [
              1,
              "#f0f921"
             ]
            ],
            "type": "histogram2dcontour"
           }
          ],
          "mesh3d": [
           {
            "colorbar": {
             "outlinewidth": 0,
             "ticks": ""
            },
            "type": "mesh3d"
           }
          ],
          "parcoords": [
           {
            "line": {
             "colorbar": {
              "outlinewidth": 0,
              "ticks": ""
             }
            },
            "type": "parcoords"
           }
          ],
          "pie": [
           {
            "automargin": true,
            "type": "pie"
           }
          ],
          "scatter": [
           {
            "fillpattern": {
             "fillmode": "overlay",
             "size": 10,
             "solidity": 0.2
            },
            "type": "scatter"
           }
          ],
          "scatter3d": [
           {
            "line": {
             "colorbar": {
              "outlinewidth": 0,
              "ticks": ""
             }
            },
            "marker": {
             "colorbar": {
              "outlinewidth": 0,
              "ticks": ""
             }
            },
            "type": "scatter3d"
           }
          ],
          "scattercarpet": [
           {
            "marker": {
             "colorbar": {
              "outlinewidth": 0,
              "ticks": ""
             }
            },
            "type": "scattercarpet"
           }
          ],
          "scattergeo": [
           {
            "marker": {
             "colorbar": {
              "outlinewidth": 0,
              "ticks": ""
             }
            },
            "type": "scattergeo"
           }
          ],
          "scattergl": [
           {
            "marker": {
             "colorbar": {
              "outlinewidth": 0,
              "ticks": ""
             }
            },
            "type": "scattergl"
           }
          ],
          "scattermap": [
           {
            "marker": {
             "colorbar": {
              "outlinewidth": 0,
              "ticks": ""
             }
            },
            "type": "scattermap"
           }
          ],
          "scattermapbox": [
           {
            "marker": {
             "colorbar": {
              "outlinewidth": 0,
              "ticks": ""
             }
            },
            "type": "scattermapbox"
           }
          ],
          "scatterpolar": [
           {
            "marker": {
             "colorbar": {
              "outlinewidth": 0,
              "ticks": ""
             }
            },
            "type": "scatterpolar"
           }
          ],
          "scatterpolargl": [
           {
            "marker": {
             "colorbar": {
              "outlinewidth": 0,
              "ticks": ""
             }
            },
            "type": "scatterpolargl"
           }
          ],
          "scatterternary": [
           {
            "marker": {
             "colorbar": {
              "outlinewidth": 0,
              "ticks": ""
             }
            },
            "type": "scatterternary"
           }
          ],
          "surface": [
           {
            "colorbar": {
             "outlinewidth": 0,
             "ticks": ""
            },
            "colorscale": [
             [
              0,
              "#0d0887"
             ],
             [
              0.1111111111111111,
              "#46039f"
             ],
             [
              0.2222222222222222,
              "#7201a8"
             ],
             [
              0.3333333333333333,
              "#9c179e"
             ],
             [
              0.4444444444444444,
              "#bd3786"
             ],
             [
              0.5555555555555556,
              "#d8576b"
             ],
             [
              0.6666666666666666,
              "#ed7953"
             ],
             [
              0.7777777777777778,
              "#fb9f3a"
             ],
             [
              0.8888888888888888,
              "#fdca26"
             ],
             [
              1,
              "#f0f921"
             ]
            ],
            "type": "surface"
           }
          ],
          "table": [
           {
            "cells": {
             "fill": {
              "color": "#EBF0F8"
             },
             "line": {
              "color": "white"
             }
            },
            "header": {
             "fill": {
              "color": "#C8D4E3"
             },
             "line": {
              "color": "white"
             }
            },
            "type": "table"
           }
          ]
         },
         "layout": {
          "annotationdefaults": {
           "arrowcolor": "#2a3f5f",
           "arrowhead": 0,
           "arrowwidth": 1
          },
          "autotypenumbers": "strict",
          "coloraxis": {
           "colorbar": {
            "outlinewidth": 0,
            "ticks": ""
           }
          },
          "colorscale": {
           "diverging": [
            [
             0,
             "#8e0152"
            ],
            [
             0.1,
             "#c51b7d"
            ],
            [
             0.2,
             "#de77ae"
            ],
            [
             0.3,
             "#f1b6da"
            ],
            [
             0.4,
             "#fde0ef"
            ],
            [
             0.5,
             "#f7f7f7"
            ],
            [
             0.6,
             "#e6f5d0"
            ],
            [
             0.7,
             "#b8e186"
            ],
            [
             0.8,
             "#7fbc41"
            ],
            [
             0.9,
             "#4d9221"
            ],
            [
             1,
             "#276419"
            ]
           ],
           "sequential": [
            [
             0,
             "#0d0887"
            ],
            [
             0.1111111111111111,
             "#46039f"
            ],
            [
             0.2222222222222222,
             "#7201a8"
            ],
            [
             0.3333333333333333,
             "#9c179e"
            ],
            [
             0.4444444444444444,
             "#bd3786"
            ],
            [
             0.5555555555555556,
             "#d8576b"
            ],
            [
             0.6666666666666666,
             "#ed7953"
            ],
            [
             0.7777777777777778,
             "#fb9f3a"
            ],
            [
             0.8888888888888888,
             "#fdca26"
            ],
            [
             1,
             "#f0f921"
            ]
           ],
           "sequentialminus": [
            [
             0,
             "#0d0887"
            ],
            [
             0.1111111111111111,
             "#46039f"
            ],
            [
             0.2222222222222222,
             "#7201a8"
            ],
            [
             0.3333333333333333,
             "#9c179e"
            ],
            [
             0.4444444444444444,
             "#bd3786"
            ],
            [
             0.5555555555555556,
             "#d8576b"
            ],
            [
             0.6666666666666666,
             "#ed7953"
            ],
            [
             0.7777777777777778,
             "#fb9f3a"
            ],
            [
             0.8888888888888888,
             "#fdca26"
            ],
            [
             1,
             "#f0f921"
            ]
           ]
          },
          "colorway": [
           "#636efa",
           "#EF553B",
           "#00cc96",
           "#ab63fa",
           "#FFA15A",
           "#19d3f3",
           "#FF6692",
           "#B6E880",
           "#FF97FF",
           "#FECB52"
          ],
          "font": {
           "color": "#2a3f5f"
          },
          "geo": {
           "bgcolor": "white",
           "lakecolor": "white",
           "landcolor": "#E5ECF6",
           "showlakes": true,
           "showland": true,
           "subunitcolor": "white"
          },
          "hoverlabel": {
           "align": "left"
          },
          "hovermode": "closest",
          "mapbox": {
           "style": "light"
          },
          "paper_bgcolor": "white",
          "plot_bgcolor": "#E5ECF6",
          "polar": {
           "angularaxis": {
            "gridcolor": "white",
            "linecolor": "white",
            "ticks": ""
           },
           "bgcolor": "#E5ECF6",
           "radialaxis": {
            "gridcolor": "white",
            "linecolor": "white",
            "ticks": ""
           }
          },
          "scene": {
           "xaxis": {
            "backgroundcolor": "#E5ECF6",
            "gridcolor": "white",
            "gridwidth": 2,
            "linecolor": "white",
            "showbackground": true,
            "ticks": "",
            "zerolinecolor": "white"
           },
           "yaxis": {
            "backgroundcolor": "#E5ECF6",
            "gridcolor": "white",
            "gridwidth": 2,
            "linecolor": "white",
            "showbackground": true,
            "ticks": "",
            "zerolinecolor": "white"
           },
           "zaxis": {
            "backgroundcolor": "#E5ECF6",
            "gridcolor": "white",
            "gridwidth": 2,
            "linecolor": "white",
            "showbackground": true,
            "ticks": "",
            "zerolinecolor": "white"
           }
          },
          "shapedefaults": {
           "line": {
            "color": "#2a3f5f"
           }
          },
          "ternary": {
           "aaxis": {
            "gridcolor": "white",
            "linecolor": "white",
            "ticks": ""
           },
           "baxis": {
            "gridcolor": "white",
            "linecolor": "white",
            "ticks": ""
           },
           "bgcolor": "#E5ECF6",
           "caxis": {
            "gridcolor": "white",
            "linecolor": "white",
            "ticks": ""
           }
          },
          "title": {
           "x": 0.05
          },
          "xaxis": {
           "automargin": true,
           "gridcolor": "white",
           "linecolor": "white",
           "ticks": "",
           "title": {
            "standoff": 15
           },
           "zerolinecolor": "white",
           "zerolinewidth": 2
          },
          "yaxis": {
           "automargin": true,
           "gridcolor": "white",
           "linecolor": "white",
           "ticks": "",
           "title": {
            "standoff": 15
           },
           "zerolinecolor": "white",
           "zerolinewidth": 2
          }
         }
        },
        "title": {
         "font": {
          "size": 16
         },
         "text": "Business Concepts - Domain Model Analysis",
         "x": 0.5,
         "xanchor": "center"
        },
        "width": 960
       }
      },
      "image/png": "[encoded data removed]"
     },
     "metadata": {},
     "output_type": "display_data"
    }
   ],
   "source": [
    "business_treemap_data = create_treemap_data(business_df, 'concept_path')\n",
    "\n",
    "business_colorscale = [\n",
    "    (0.0, '#ffffff'),   # White for score 0\n",
    "    (0.01, '#ffe6d9'),   # Almost white for score >0\n",
    "    (1.0, '#ff9c66')    # Black for score 1\n",
    "]\n",
    "\n",
    "\n",
    "business_fig = create_treemap_visualization(\n",
    "    business_treemap_data, \n",
    "    'Business Concepts - Domain Model Analysis',\n",
    "    business_colorscale\n",
    ")\n",
    "\n",
    "business_fig.show()"
   ]
  },
  {
   "cell_type": "markdown",
   "metadata": {},
   "source": [
    "## Advanced statistics\n",
    "LLM wanted so say something about additional stuff. So here it is!"
   ]
  },
  {
   "cell_type": "code",
   "execution_count": 104,
   "metadata": {},
   "outputs": [
    {
     "data": {
      "image/png": "[encoded data removed]",
      "text/plain": [
       "<Figure size 1800x1200 with 6 Axes>"
      ]
     },
     "metadata": {},
     "output_type": "display_data"
    }
   ],
   "source": [
    "# Enhanced visualizations including unmatched files\n",
    "if not results_df.empty:\n",
    "    fig, axes = plt.subplots(2, 3, figsize=(18, 12))\n",
    "    \n",
    "    # Score distribution\n",
    "    axes[0, 0].hist(results_df['score'], bins=20, edgecolor='black', alpha=0.7)\n",
    "    axes[0, 0].set_title('Distribution of All Concept Implementation Scores')\n",
    "    axes[0, 0].set_xlabel('Score')\n",
    "    axes[0, 0].set_ylabel('Frequency')\n",
    "    \n",
    "    # Scores by concept type\n",
    "    sns.boxplot(data=results_df, x='concept_type', y='score', ax=axes[0, 1])\n",
    "    axes[0, 1].set_title('Scores by Concept Type (Including Unmatched)')\n",
    "    axes[0, 1].tick_params(axis='x', rotation=45)\n",
    "    \n",
    "    # Matched vs Unmatched distribution\n",
    "    matched_counts = results_df.groupby('concept_type').agg({\n",
    "        'concept_name': lambda x: [x.notna().sum(), x.isna().sum()]\n",
    "    })['concept_name'].apply(pd.Series)\n",
    "    matched_counts.columns = ['Matched', 'Unmatched']\n",
    "    matched_counts.plot(kind='bar', ax=axes[0, 2], stacked=True)\n",
    "    axes[0, 2].set_title('Matched vs Unmatched Files by Type')\n",
    "    axes[0, 2].set_ylabel('Number of Files')\n",
    "    axes[0, 2].tick_params(axis='x', rotation=45)\n",
    "    \n",
    "    # Top concepts by average score (excluding unmatched)\n",
    "    matched_df = results_df[results_df['concept_name'].notna()]\n",
    "    if not matched_df.empty:\n",
    "        concept_scores = matched_df.groupby('concept_name')['score'].mean().sort_values(ascending=False).head(10)\n",
    "        axes[1, 0].barh(concept_scores.index, concept_scores.values)\n",
    "        axes[1, 0].set_title('Top 10 Concepts by Average Score')\n",
    "        axes[1, 0].set_xlabel('Average Score')\n",
    "    \n",
    "    # Files per concept (excluding unmatched)\n",
    "    if not matched_df.empty:\n",
    "        files_per_concept = matched_df.groupby('concept_name').size().sort_values(ascending=False).head(10)\n",
    "        axes[1, 1].barh(files_per_concept.index, files_per_concept.values)\n",
    "        axes[1, 1].set_title('Top 10 Concepts by Number of Files')\n",
    "        axes[1, 1].set_xlabel('Number of Files')\n",
    "    \n",
    "    # Score distribution: Matched vs Unmatched\n",
    "    matched_scores = results_df[results_df['concept_name'].notna()]['score']\n",
    "    unmatched_scores = results_df[results_df['concept_name'].isna()]['score']\n",
    "    \n",
    "    axes[1, 2].hist([matched_scores, unmatched_scores], bins=15, \n",
    "                   label=['Matched Files', 'Unmatched Files'], \n",
    "                   alpha=0.7, edgecolor='black')\n",
    "    axes[1, 2].set_title('Score Distribution: Matched vs Unmatched')\n",
    "    axes[1, 2].set_xlabel('Score')\n",
    "    axes[1, 2].set_ylabel('Frequency')\n",
    "    axes[1, 2].legend()\n",
    "    \n",
    "    plt.tight_layout()\n",
    "    plt.show()"
   ]
  }
 ],
 "metadata": {
  "kernelspec": {
   "display_name": "Python 3 (ipykernel)",
   "language": "python",
   "name": "python3"
  },
  "language_info": {
   "codemirror_mode": {
    "name": "ipython",
    "version": 3
   },
   "file_extension": ".py",
   "mimetype": "text/x-python",
   "name": "python",
   "nbconvert_exporter": "python",
   "pygments_lexer": "ipython3",
   "version": "3.12.7"
  }
 },
 "nbformat": 4,
 "nbformat_minor": 4
}
