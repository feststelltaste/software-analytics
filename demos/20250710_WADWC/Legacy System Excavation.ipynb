{
 "cells": [
  {
   "cell_type": "markdown",
   "id": "013ec562",
   "metadata": {},
   "source": [
    "# Legacy System Excavation\n",
    "\n",
    "This notebook offers an archaeology-inspired analysis of a software repository.\n",
    "\n",
    "The main idea is to reveal the different *epochs* that make up a software system by visualizing its historical layers.\n",
    "To do this, directories and files are color-coded based on their creation date (specifically, the date of their first Git commit).\n",
    "This allows you to spot the foundational structures of the codebase and trace how the system evolved over time, across all source code elements."
   ]
  },
  {
   "cell_type": "markdown",
   "id": "e59f4835",
   "metadata": {},
   "source": [
    "## 1. Setup and Configuration\n",
    "\n",
    "First, we import the necessary Python libraries and configure the path to the repository we want to analyze. \n",
    "\n",
    "**Important:** You must update the `REPO_PATH` variable to the absolute path of the Git repository you want to analyze, and set the `FILE_EXT` variable to match the file extension used by the programming language in that repository."
   ]
  },
  {
   "cell_type": "code",
   "execution_count": 1,
   "id": "7d583628",
   "metadata": {},
   "outputs": [
    {
     "name": "stdout",
     "output_type": "stream",
     "text": [
      "Repository to analyze: /mnt/c/dev/repos/dropover-at\n"
     ]
    }
   ],
   "source": [
    "# --- Dependencies ---\n",
    "import os\n",
    "import subprocess\n",
    "import plotly.graph_objects as go\n",
    "from datetime import datetime\n",
    "import sys\n",
    "from collections import defaultdict\n",
    "\n",
    "# --- Configuration ---\n",
    "REPO_PATH = \"../../../dropover-at/\"\n",
    "FILE_EXT = \".java\"\n",
    "\n",
    "absolute_repo_path = os.path.abspath(REPO_PATH)\n",
    "\n",
    "print(f\"Repository to analyze: {absolute_repo_path}\")"
   ]
  },
  {
   "cell_type": "markdown",
   "id": "de79c9ff",
   "metadata": {},
   "source": [
    "## 2. Helper Functions\n",
    "\n",
    "These functions are the building blocks of our analysis. They handle the low-level tasks of interacting with Git and the file system."
   ]
  },
  {
   "cell_type": "code",
   "execution_count": 2,
   "id": "9fa79f19",
   "metadata": {},
   "outputs": [],
   "source": [
    "def get_file_creation_time(filepath):\n",
    "    \"\"\"Gets the creation timestamp of a file from its first Git commit.\"\"\"\n",
    "    try:\n",
    "        cmd = ['git', 'log', '--diff-filter=A', '--follow', '-1', '--format=%ct', os.path.basename(filepath)]\n",
    "        result = subprocess.run(\n",
    "            cmd, capture_output=True, text=True, check=True, cwd=os.path.dirname(filepath))\n",
    "        stdout = result.stdout.strip()\n",
    "        return int(stdout) if stdout else int(os.path.getmtime(filepath))\n",
    "    except (subprocess.CalledProcessError, FileNotFoundError, ValueError):\n",
    "        return int(os.path.getmtime(filepath))\n",
    "\n",
    "def get_directory_creation_time(file_creation_times, dir_path):\n",
    "    oldest_time = float('inf')\n",
    "    found_file = False\n",
    "    for path, time in file_creation_times.items():\n",
    "        if path.startswith(dir_path):\n",
    "            found_file = True\n",
    "            if time < oldest_time:\n",
    "                oldest_time = time\n",
    "    return oldest_time if found_file else 0\n",
    "\n",
    "def count_lines(filepath):\n",
    "    try:\n",
    "        with open(filepath, 'r', encoding='utf-8', errors='ignore') as f:\n",
    "            return len(f.readlines())\n",
    "    except Exception:\n",
    "        return 0"
   ]
  },
  {
   "cell_type": "markdown",
   "id": "1e3c3e4c-bb92-4be0-9bd4-84eb9c2cd6ce",
   "metadata": {},
   "source": [
    "## 3. Data Analysis"
   ]
  },
  {
   "cell_type": "markdown",
   "id": "ccdfd1e2-9281-43b8-bc74-badd415c98aa",
   "metadata": {},
   "source": [
    "### 3.1. File Discovery\n",
    "In this step, we walk through the entire repository to find every source code file. For each file, we retrieve its creation timestamp from Git and count its lines.\n",
    "\n",
    "*Hint: This will take a loooooong time for huge repositories!* "
   ]
  },
  {
   "cell_type": "code",
   "execution_count": null,
   "id": "161b0a65",
   "metadata": {},
   "outputs": [],
   "source": [
    "file_creation_times = {}\n",
    "file_line_counts = {}\n",
    "dir_paths = set()\n",
    "\n",
    "for dirpath, _, filenames in os.walk(absolute_repo_path):\n",
    "    if '.git' in dirpath:\n",
    "        continue\n",
    "    dir_paths.add(dirpath)\n",
    "    for filename in filenames:\n",
    "        if filename.endswith(FILE_EXT):\n",
    "            filepath = os.path.join(dirpath, filename)\n",
    "            file_creation_times[filepath] = get_file_creation_time(filepath)\n",
    "            file_line_counts[filepath] = count_lines(filepath)\n",
    "            \n",
    "print(f\"Found {len(file_creation_times)} java files in {len(dir_paths)} directories.\")"
   ]
  },
  {
   "cell_type": "markdown",
   "id": "a35bd7e2",
   "metadata": {},
   "source": [
    "### 3.2. Directory Sizes Calculation\n",
    "\n",
    "To ensure the treemap renders correctly, we must pre-calculate the total size (line count) of each directory. We do this by summing the line counts of all files contained within each directory and its subdirectories."
   ]
  },
  {
   "cell_type": "code",
   "execution_count": null,
   "id": "41284e8a",
   "metadata": {},
   "outputs": [],
   "source": [
    "dir_sizes = defaultdict(int)\n",
    "for file_path, line_count in file_line_counts.items():\n",
    "    parent = os.path.dirname(file_path)\n",
    "    while parent.startswith(absolute_repo_path):\n",
    "        dir_sizes[parent] += line_count\n",
    "        if parent == absolute_repo_path:\n",
    "            break\n",
    "        parent = os.path.dirname(parent)\n",
    "dir_sizes[absolute_repo_path] = sum(file_line_counts.values())\n",
    "\n",
    "print(f\"Calculated sizes for {len(dir_sizes)} directories.\")"
   ]
  },
  {
   "cell_type": "markdown",
   "id": "acd58c37",
   "metadata": {},
   "source": [
    "### 3.3. Tree Construction\n",
    "\n",
    "Now we build the hierarchical structure of the treemap. We create a list of unique IDs, labels, and parent-child relationships for every directory and file that will be displayed."
   ]
  },
  {
   "cell_type": "code",
   "execution_count": null,
   "id": "d200ed47",
   "metadata": {},
   "outputs": [],
   "source": [
    "ids = []\n",
    "labels = []\n",
    "parents = []\n",
    "values = []\n",
    "\n",
    "ids.append(absolute_repo_path)\n",
    "labels.append(os.path.basename(absolute_repo_path))\n",
    "parents.append(\"\")\n",
    "values.append(dir_sizes[absolute_repo_path])\n",
    "\n",
    "for path in sorted(list(dir_paths)):\n",
    "    if path == absolute_repo_path:\n",
    "        continue\n",
    "    parent_path = os.path.dirname(path)\n",
    "    ids.append(path)\n",
    "    labels.append(os.path.basename(path))\n",
    "    parents.append(parent_path)\n",
    "    values.append(dir_sizes.get(path, 0))\n",
    "\n",
    "for path, line_count in file_line_counts.items():\n",
    "    parent_path = os.path.dirname(path)\n",
    "    ids.append(path)\n",
    "    labels.append(os.path.basename(path))\n",
    "    parents.append(parent_path)\n",
    "    values.append(line_count)"
   ]
  },
  {
   "cell_type": "markdown",
   "id": "3bcd3a50",
   "metadata": {},
   "source": [
    "### 3.4. Color and Data Calculation\n",
    "\n",
    "In the final data processing step, we iterate through the structure we just built. We calculate the correct color and hover-text for each item, using its creation date."
   ]
  },
  {
   "cell_type": "code",
   "execution_count": null,
   "id": "563c18c1",
   "metadata": {},
   "outputs": [],
   "source": [
    "colors = []\n",
    "customdata = []\n",
    "\n",
    "for unique_id in ids:\n",
    "    is_file = unique_id in file_creation_times\n",
    "    is_dir = os.path.isdir(unique_id) and not is_file\n",
    "\n",
    "    if is_file:\n",
    "        timestamp = file_creation_times[unique_id]\n",
    "        date_str = datetime.fromtimestamp(timestamp).strftime('%Y-%m-%d') if timestamp > 0 else 'N/A'\n",
    "        customdata.append(f'Created on: {date_str}')\n",
    "        colors.append(timestamp)\n",
    "    elif is_dir:\n",
    "        timestamp = get_directory_creation_time(file_creation_times, unique_id)\n",
    "        if timestamp != float('inf') and timestamp > 0:\n",
    "            date_str = datetime.fromtimestamp(timestamp).strftime('%Y-%m-%d')\n",
    "            customdata.append(f'First commit in dir: {date_str}')\n",
    "            colors.append(timestamp)\n",
    "        else:\n",
    "            customdata.append('Directory')\n",
    "            colors.append(-1)\n",
    "    else: # Root node\n",
    "        customdata.append('Root Directory')\n",
    "        colors.append(-1)\n",
    "\n",
    "# fix values for dirs without information\n",
    "min_positive = min(x for x in colors if x > 0)\n",
    "colors = [min_positive if x == -1 else x for x in colors]"
   ]
  },
  {
   "cell_type": "markdown",
   "id": "ca6c4c60",
   "metadata": {},
   "source": [
    "## 4. Visualization\n",
    "\n",
    "Finally, we use Plotly to generate the interactive treemap. The size of each box represents the number of lines of code. The color represents the creation date for both files and directories."
   ]
  },
  {
   "cell_type": "code",
   "execution_count": null,
   "id": "8a9dcefc",
   "metadata": {
    "scrolled": true
   },
   "outputs": [],
   "source": [
    "soil_colorscale = [\n",
    "    (0.0, '#1b0f07'),   # Almost black with a brown tint\n",
    "    (0.33, '#9c5e32'),  # Rich warm brown (more saturated than before)\n",
    "    (0.66, '#d39b63'),  # Lighter and warmer mid-brown\n",
    "    (1.0, '#fdf5e6')    # Very pale sand (close to ivory)\n",
    "]\n",
    "\n",
    "fig = go.Figure(go.Treemap(\n",
    "    ids=ids,\n",
    "    labels=labels,\n",
    "    parents=parents,\n",
    "    values=values,\n",
    "    customdata=customdata,\n",
    "    hovertemplate='<b>%{label}</b><br>Lines: %{value}<br>%{customdata}<extra></extra>',\n",
    "    marker_colors=colors,\n",
    "    marker_colorscale=soil_colorscale,\n",
    "    root_color=\"grey\"\n",
    "))\n",
    "\n",
    "fig.update_layout(\n",
    "    margin=dict(t=10, l=10, r=10, b=10),\n",
    "    width=1920/2,\n",
    "    height=1080/2\n",
    ")\n",
    "\n",
    "fig.show()\n",
    "\n",
    "output_html_file = \"legacy_system_excavation.html\"\n",
    "fig.write_html(output_html_file)\n",
    "print(f\"Treemap saved as interactive HTML: {output_html_file}\")"
   ]
  }
 ],
 "metadata": {
  "kernelspec": {
   "display_name": "Python 3 (ipykernel)",
   "language": "python",
   "name": "python3"
  },
  "language_info": {
   "codemirror_mode": {
    "name": "ipython",
    "version": 3
   },
   "file_extension": ".py",
   "mimetype": "text/x-python",
   "name": "python",
   "nbconvert_exporter": "python",
   "pygments_lexer": "ipython3",
   "version": "3.12.7"
  }
 },
 "nbformat": 4,
 "nbformat_minor": 5
}
