{
 "cells": [
  {
   "cell_type": "markdown",
   "id": "d6cb3cb3",
   "metadata": {
    "slideshow": {
     "slide_type": "slide"
    }
   },
   "source": [
    "# Visualizing the progress of a language migration"
   ]
  },
  {
   "cell_type": "markdown",
   "id": "592d2ec8",
   "metadata": {
    "slideshow": {
     "slide_type": "fragment"
    }
   },
   "source": [
    "or: how to show non-developers that we're working under the hood of a software system successfully"
   ]
  },
  {
   "cell_type": "markdown",
   "id": "f59d471a",
   "metadata": {
    "slideshow": {
     "slide_type": "slide"
    }
   },
   "source": [
    "### Take a look at the raw dataset"
   ]
  },
  {
   "cell_type": "code",
   "execution_count": 1,
   "id": "368fac8c",
   "metadata": {
    "slideshow": {
     "slide_type": "-"
    }
   },
   "outputs": [
    {
     "name": "stdout",
     "output_type": "stream",
     "text": [
      "sha,timestamp,action,file_path\r\n",
      "6ef2121e6a7fd07d6475e67fe215cca6faf48ec1,2015-12-27 08:05:25,A,modules/angular2/src/common/pipes/replace_pipe.ts\r\n",
      "6ef2121e6a7fd07d6475e67fe215cca6faf48ec1,2015-12-27 08:05:25,A,modules/angular2/test/common/pipes/replace_pipe_spec.ts\r\n",
      "b0cebdba6b65c1e9e7eb5bf801ea42dc7c4a7f25,2015-12-15 16:38:27,A,modules/angular2/platform/testing/browser.ts\r\n",
      "b0cebdba6b65c1e9e7eb5bf801ea42dc7c4a7f25,2015-12-15 16:38:27,A,modules/angular2/platform/testing/browser_static.ts\r\n",
      "b0cebdba6b65c1e9e7eb5bf801ea42dc7c4a7f25,2015-12-15 16:38:27,A,modules/angular2/platform/testing/server.ts\r\n",
      "b0cebdba6b65c1e9e7eb5bf801ea42dc7c4a7f25,2015-12-15 16:38:27,A,tools/cjs-jasmine/test-cjs-main.js\r\n",
      "7ae23adaff2990cf6022af9792c449730d451d1d,2015-12-02 10:35:51,D,modules/angular2/src/compiler/command_compiler.ts\r\n",
      "7ae23adaff2990cf6022af9792c449730d451d1d,2015-12-02 10:35:51,A,modules/angular2/src/compiler/proto_view_compiler.ts\r\n",
      "7ae23adaff2990cf6022af9792c449730d451d1d,2015-12-02 10:35:51,A,modules/angular2/src/compiler/view_compiler.ts\r\n"
     ]
    }
   ],
   "source": [
    "!head ../dataset/angular_file_commit_history_subset.csv"
   ]
  },
  {
   "cell_type": "markdown",
   "id": "4cacabad",
   "metadata": {
    "slideshow": {
     "slide_type": "slide"
    }
   },
   "source": [
    "### Read in the data from Git log"
   ]
  },
  {
   "cell_type": "code",
   "execution_count": 2,
   "id": "bdc09d53",
   "metadata": {
    "slideshow": {
     "slide_type": "-"
    }
   },
   "outputs": [
    {
     "data": {
      "text/html": [
       "<div>\n",
       "<style scoped>\n",
       "    .dataframe tbody tr th:only-of-type {\n",
       "        vertical-align: middle;\n",
       "    }\n",
       "\n",
       "    .dataframe tbody tr th {\n",
       "        vertical-align: top;\n",
       "    }\n",
       "\n",
       "    .dataframe thead th {\n",
       "        text-align: right;\n",
       "    }\n",
       "</style>\n",
       "<table border=\"1\" class=\"dataframe\">\n",
       "  <thead>\n",
       "    <tr style=\"text-align: right;\">\n",
       "      <th></th>\n",
       "      <th>sha</th>\n",
       "      <th>timestamp</th>\n",
       "      <th>action</th>\n",
       "      <th>file_path</th>\n",
       "    </tr>\n",
       "  </thead>\n",
       "  <tbody>\n",
       "    <tr>\n",
       "      <th>0</th>\n",
       "      <td>6ef2121e6a7fd07d6475e67fe215cca6faf48ec1</td>\n",
       "      <td>2015-12-27 08:05:25</td>\n",
       "      <td>A</td>\n",
       "      <td>modules/angular2/src/common/pipes/replace_pipe.ts</td>\n",
       "    </tr>\n",
       "    <tr>\n",
       "      <th>1</th>\n",
       "      <td>6ef2121e6a7fd07d6475e67fe215cca6faf48ec1</td>\n",
       "      <td>2015-12-27 08:05:25</td>\n",
       "      <td>A</td>\n",
       "      <td>modules/angular2/test/common/pipes/replace_pip...</td>\n",
       "    </tr>\n",
       "    <tr>\n",
       "      <th>2</th>\n",
       "      <td>b0cebdba6b65c1e9e7eb5bf801ea42dc7c4a7f25</td>\n",
       "      <td>2015-12-15 16:38:27</td>\n",
       "      <td>A</td>\n",
       "      <td>modules/angular2/platform/testing/browser.ts</td>\n",
       "    </tr>\n",
       "    <tr>\n",
       "      <th>3</th>\n",
       "      <td>b0cebdba6b65c1e9e7eb5bf801ea42dc7c4a7f25</td>\n",
       "      <td>2015-12-15 16:38:27</td>\n",
       "      <td>A</td>\n",
       "      <td>modules/angular2/platform/testing/browser_stat...</td>\n",
       "    </tr>\n",
       "    <tr>\n",
       "      <th>4</th>\n",
       "      <td>b0cebdba6b65c1e9e7eb5bf801ea42dc7c4a7f25</td>\n",
       "      <td>2015-12-15 16:38:27</td>\n",
       "      <td>A</td>\n",
       "      <td>modules/angular2/platform/testing/server.ts</td>\n",
       "    </tr>\n",
       "  </tbody>\n",
       "</table>\n",
       "</div>"
      ],
      "text/plain": [
       "                                        sha           timestamp action  \\\n",
       "0  6ef2121e6a7fd07d6475e67fe215cca6faf48ec1 2015-12-27 08:05:25      A   \n",
       "1  6ef2121e6a7fd07d6475e67fe215cca6faf48ec1 2015-12-27 08:05:25      A   \n",
       "2  b0cebdba6b65c1e9e7eb5bf801ea42dc7c4a7f25 2015-12-15 16:38:27      A   \n",
       "3  b0cebdba6b65c1e9e7eb5bf801ea42dc7c4a7f25 2015-12-15 16:38:27      A   \n",
       "4  b0cebdba6b65c1e9e7eb5bf801ea42dc7c4a7f25 2015-12-15 16:38:27      A   \n",
       "\n",
       "                                           file_path  \n",
       "0  modules/angular2/src/common/pipes/replace_pipe.ts  \n",
       "1  modules/angular2/test/common/pipes/replace_pip...  \n",
       "2       modules/angular2/platform/testing/browser.ts  \n",
       "3  modules/angular2/platform/testing/browser_stat...  \n",
       "4        modules/angular2/platform/testing/server.ts  "
      ]
     },
     "execution_count": 2,
     "metadata": {},
     "output_type": "execute_result"
    }
   ],
   "source": [
    "import pandas as pd\n",
    "\n",
    "log = pd.read_csv(\"../dataset/angular_file_commit_history_subset.csv\", parse_dates=[1])\n",
    "log.head()"
   ]
  },
  {
   "cell_type": "markdown",
   "id": "056d09aa",
   "metadata": {
    "slideshow": {
     "slide_type": "slide"
    }
   },
   "source": [
    "### Get the info about the programming language used"
   ]
  },
  {
   "cell_type": "code",
   "execution_count": 3,
   "id": "833fd592",
   "metadata": {
    "slideshow": {
     "slide_type": "-"
    }
   },
   "outputs": [
    {
     "data": {
      "text/html": [
       "<div>\n",
       "<style scoped>\n",
       "    .dataframe tbody tr th:only-of-type {\n",
       "        vertical-align: middle;\n",
       "    }\n",
       "\n",
       "    .dataframe tbody tr th {\n",
       "        vertical-align: top;\n",
       "    }\n",
       "\n",
       "    .dataframe thead th {\n",
       "        text-align: right;\n",
       "    }\n",
       "</style>\n",
       "<table border=\"1\" class=\"dataframe\">\n",
       "  <thead>\n",
       "    <tr style=\"text-align: right;\">\n",
       "      <th></th>\n",
       "      <th>sha</th>\n",
       "      <th>timestamp</th>\n",
       "      <th>action</th>\n",
       "      <th>file_path</th>\n",
       "      <th>lang</th>\n",
       "    </tr>\n",
       "  </thead>\n",
       "  <tbody>\n",
       "    <tr>\n",
       "      <th>0</th>\n",
       "      <td>6ef2121e6a7fd07d6475e67fe215cca6faf48ec1</td>\n",
       "      <td>2015-12-27 08:05:25</td>\n",
       "      <td>A</td>\n",
       "      <td>modules/angular2/src/common/pipes/replace_pipe.ts</td>\n",
       "      <td>ts</td>\n",
       "    </tr>\n",
       "    <tr>\n",
       "      <th>1</th>\n",
       "      <td>6ef2121e6a7fd07d6475e67fe215cca6faf48ec1</td>\n",
       "      <td>2015-12-27 08:05:25</td>\n",
       "      <td>A</td>\n",
       "      <td>modules/angular2/test/common/pipes/replace_pip...</td>\n",
       "      <td>ts</td>\n",
       "    </tr>\n",
       "    <tr>\n",
       "      <th>2</th>\n",
       "      <td>b0cebdba6b65c1e9e7eb5bf801ea42dc7c4a7f25</td>\n",
       "      <td>2015-12-15 16:38:27</td>\n",
       "      <td>A</td>\n",
       "      <td>modules/angular2/platform/testing/browser.ts</td>\n",
       "      <td>ts</td>\n",
       "    </tr>\n",
       "    <tr>\n",
       "      <th>3</th>\n",
       "      <td>b0cebdba6b65c1e9e7eb5bf801ea42dc7c4a7f25</td>\n",
       "      <td>2015-12-15 16:38:27</td>\n",
       "      <td>A</td>\n",
       "      <td>modules/angular2/platform/testing/browser_stat...</td>\n",
       "      <td>ts</td>\n",
       "    </tr>\n",
       "    <tr>\n",
       "      <th>4</th>\n",
       "      <td>b0cebdba6b65c1e9e7eb5bf801ea42dc7c4a7f25</td>\n",
       "      <td>2015-12-15 16:38:27</td>\n",
       "      <td>A</td>\n",
       "      <td>modules/angular2/platform/testing/server.ts</td>\n",
       "      <td>ts</td>\n",
       "    </tr>\n",
       "  </tbody>\n",
       "</table>\n",
       "</div>"
      ],
      "text/plain": [
       "                                        sha           timestamp action  \\\n",
       "0  6ef2121e6a7fd07d6475e67fe215cca6faf48ec1 2015-12-27 08:05:25      A   \n",
       "1  6ef2121e6a7fd07d6475e67fe215cca6faf48ec1 2015-12-27 08:05:25      A   \n",
       "2  b0cebdba6b65c1e9e7eb5bf801ea42dc7c4a7f25 2015-12-15 16:38:27      A   \n",
       "3  b0cebdba6b65c1e9e7eb5bf801ea42dc7c4a7f25 2015-12-15 16:38:27      A   \n",
       "4  b0cebdba6b65c1e9e7eb5bf801ea42dc7c4a7f25 2015-12-15 16:38:27      A   \n",
       "\n",
       "                                           file_path lang  \n",
       "0  modules/angular2/src/common/pipes/replace_pipe.ts   ts  \n",
       "1  modules/angular2/test/common/pipes/replace_pip...   ts  \n",
       "2       modules/angular2/platform/testing/browser.ts   ts  \n",
       "3  modules/angular2/platform/testing/browser_stat...   ts  \n",
       "4        modules/angular2/platform/testing/server.ts   ts  "
      ]
     },
     "execution_count": 3,
     "metadata": {},
     "output_type": "execute_result"
    }
   ],
   "source": [
    "log['lang'] = log['file_path'].str.rsplit(\".\", n=1).str[-1]\n",
    "log.head()"
   ]
  },
  {
   "cell_type": "markdown",
   "id": "a6e57fc4",
   "metadata": {
    "slideshow": {
     "slide_type": "slide"
    }
   },
   "source": [
    "### Map added and deleted lines to numbers"
   ]
  },
  {
   "cell_type": "code",
   "execution_count": 4,
   "id": "4bbc1043",
   "metadata": {
    "slideshow": {
     "slide_type": "-"
    }
   },
   "outputs": [
    {
     "data": {
      "text/html": [
       "<div>\n",
       "<style scoped>\n",
       "    .dataframe tbody tr th:only-of-type {\n",
       "        vertical-align: middle;\n",
       "    }\n",
       "\n",
       "    .dataframe tbody tr th {\n",
       "        vertical-align: top;\n",
       "    }\n",
       "\n",
       "    .dataframe thead th {\n",
       "        text-align: right;\n",
       "    }\n",
       "</style>\n",
       "<table border=\"1\" class=\"dataframe\">\n",
       "  <thead>\n",
       "    <tr style=\"text-align: right;\">\n",
       "      <th></th>\n",
       "      <th>sha</th>\n",
       "      <th>timestamp</th>\n",
       "      <th>action</th>\n",
       "      <th>file_path</th>\n",
       "      <th>lang</th>\n",
       "      <th>count</th>\n",
       "    </tr>\n",
       "  </thead>\n",
       "  <tbody>\n",
       "    <tr>\n",
       "      <th>0</th>\n",
       "      <td>6ef2121e6a7fd07d6475e67fe215cca6faf48ec1</td>\n",
       "      <td>2015-12-27 08:05:25</td>\n",
       "      <td>A</td>\n",
       "      <td>modules/angular2/src/common/pipes/replace_pipe.ts</td>\n",
       "      <td>ts</td>\n",
       "      <td>1.0</td>\n",
       "    </tr>\n",
       "    <tr>\n",
       "      <th>1</th>\n",
       "      <td>6ef2121e6a7fd07d6475e67fe215cca6faf48ec1</td>\n",
       "      <td>2015-12-27 08:05:25</td>\n",
       "      <td>A</td>\n",
       "      <td>modules/angular2/test/common/pipes/replace_pip...</td>\n",
       "      <td>ts</td>\n",
       "      <td>1.0</td>\n",
       "    </tr>\n",
       "    <tr>\n",
       "      <th>2</th>\n",
       "      <td>b0cebdba6b65c1e9e7eb5bf801ea42dc7c4a7f25</td>\n",
       "      <td>2015-12-15 16:38:27</td>\n",
       "      <td>A</td>\n",
       "      <td>modules/angular2/platform/testing/browser.ts</td>\n",
       "      <td>ts</td>\n",
       "      <td>1.0</td>\n",
       "    </tr>\n",
       "    <tr>\n",
       "      <th>3</th>\n",
       "      <td>b0cebdba6b65c1e9e7eb5bf801ea42dc7c4a7f25</td>\n",
       "      <td>2015-12-15 16:38:27</td>\n",
       "      <td>A</td>\n",
       "      <td>modules/angular2/platform/testing/browser_stat...</td>\n",
       "      <td>ts</td>\n",
       "      <td>1.0</td>\n",
       "    </tr>\n",
       "    <tr>\n",
       "      <th>4</th>\n",
       "      <td>b0cebdba6b65c1e9e7eb5bf801ea42dc7c4a7f25</td>\n",
       "      <td>2015-12-15 16:38:27</td>\n",
       "      <td>A</td>\n",
       "      <td>modules/angular2/platform/testing/server.ts</td>\n",
       "      <td>ts</td>\n",
       "      <td>1.0</td>\n",
       "    </tr>\n",
       "  </tbody>\n",
       "</table>\n",
       "</div>"
      ],
      "text/plain": [
       "                                        sha           timestamp action  \\\n",
       "0  6ef2121e6a7fd07d6475e67fe215cca6faf48ec1 2015-12-27 08:05:25      A   \n",
       "1  6ef2121e6a7fd07d6475e67fe215cca6faf48ec1 2015-12-27 08:05:25      A   \n",
       "2  b0cebdba6b65c1e9e7eb5bf801ea42dc7c4a7f25 2015-12-15 16:38:27      A   \n",
       "3  b0cebdba6b65c1e9e7eb5bf801ea42dc7c4a7f25 2015-12-15 16:38:27      A   \n",
       "4  b0cebdba6b65c1e9e7eb5bf801ea42dc7c4a7f25 2015-12-15 16:38:27      A   \n",
       "\n",
       "                                           file_path lang  count  \n",
       "0  modules/angular2/src/common/pipes/replace_pipe.ts   ts    1.0  \n",
       "1  modules/angular2/test/common/pipes/replace_pip...   ts    1.0  \n",
       "2       modules/angular2/platform/testing/browser.ts   ts    1.0  \n",
       "3  modules/angular2/platform/testing/browser_stat...   ts    1.0  \n",
       "4        modules/angular2/platform/testing/server.ts   ts    1.0  "
      ]
     },
     "execution_count": 4,
     "metadata": {},
     "output_type": "execute_result"
    }
   ],
   "source": [
    "log.loc[log['action'] == \"A\", \"count\"] = 1\n",
    "log.loc[log['action'] == \"D\", \"count\"] = -1\n",
    "log.head()"
   ]
  },
  {
   "cell_type": "markdown",
   "id": "6adaca80",
   "metadata": {
    "slideshow": {
     "slide_type": "slide"
    }
   },
   "source": [
    "### Group changes to weekly numbers"
   ]
  },
  {
   "cell_type": "code",
   "execution_count": 5,
   "id": "973400fb",
   "metadata": {
    "slideshow": {
     "slide_type": "-"
    }
   },
   "outputs": [
    {
     "data": {
      "text/plain": [
       "timestamp   lang\n",
       "2014-09-21  js      24.0\n",
       "2014-09-28  js      21.0\n",
       "2014-10-05  js      22.0\n",
       "2014-10-12  js       5.0\n",
       "2014-10-19  js       6.0\n",
       "Name: count, dtype: float64"
      ]
     },
     "execution_count": 5,
     "metadata": {},
     "output_type": "execute_result"
    }
   ],
   "source": [
    "log_timed = log.groupby(\n",
    "    [pd.Grouper(key=\"timestamp\", freq=\"1w\"), \"lang\"])['count'].sum()\n",
    "log_timed.head()"
   ]
  },
  {
   "cell_type": "markdown",
   "id": "19e4de6a",
   "metadata": {
    "slideshow": {
     "slide_type": "slide"
    }
   },
   "source": [
    "### Calculate data for showing the progress"
   ]
  },
  {
   "cell_type": "code",
   "execution_count": 6,
   "id": "54907099",
   "metadata": {
    "slideshow": {
     "slide_type": "-"
    }
   },
   "outputs": [
    {
     "data": {
      "text/html": [
       "<div>\n",
       "<style scoped>\n",
       "    .dataframe tbody tr th:only-of-type {\n",
       "        vertical-align: middle;\n",
       "    }\n",
       "\n",
       "    .dataframe tbody tr th {\n",
       "        vertical-align: top;\n",
       "    }\n",
       "\n",
       "    .dataframe thead th {\n",
       "        text-align: right;\n",
       "    }\n",
       "</style>\n",
       "<table border=\"1\" class=\"dataframe\">\n",
       "  <thead>\n",
       "    <tr style=\"text-align: right;\">\n",
       "      <th>lang</th>\n",
       "      <th>js</th>\n",
       "      <th>ts</th>\n",
       "    </tr>\n",
       "    <tr>\n",
       "      <th>timestamp</th>\n",
       "      <th></th>\n",
       "      <th></th>\n",
       "    </tr>\n",
       "  </thead>\n",
       "  <tbody>\n",
       "    <tr>\n",
       "      <th>2014-09-21</th>\n",
       "      <td>24.0</td>\n",
       "      <td>0.0</td>\n",
       "    </tr>\n",
       "    <tr>\n",
       "      <th>2014-09-28</th>\n",
       "      <td>45.0</td>\n",
       "      <td>0.0</td>\n",
       "    </tr>\n",
       "    <tr>\n",
       "      <th>2014-10-05</th>\n",
       "      <td>67.0</td>\n",
       "      <td>0.0</td>\n",
       "    </tr>\n",
       "    <tr>\n",
       "      <th>2014-10-12</th>\n",
       "      <td>72.0</td>\n",
       "      <td>0.0</td>\n",
       "    </tr>\n",
       "    <tr>\n",
       "      <th>2014-10-19</th>\n",
       "      <td>78.0</td>\n",
       "      <td>0.0</td>\n",
       "    </tr>\n",
       "  </tbody>\n",
       "</table>\n",
       "</div>"
      ],
      "text/plain": [
       "lang          js   ts\n",
       "timestamp            \n",
       "2014-09-21  24.0  0.0\n",
       "2014-09-28  45.0  0.0\n",
       "2014-10-05  67.0  0.0\n",
       "2014-10-12  72.0  0.0\n",
       "2014-10-19  78.0  0.0"
      ]
     },
     "execution_count": 6,
     "metadata": {},
     "output_type": "execute_result"
    }
   ],
   "source": [
    "log_timed_unstacked = log_timed.unstack().fillna(0).cumsum()\n",
    "log_timed_unstacked.head()"
   ]
  },
  {
   "cell_type": "markdown",
   "id": "d564b342",
   "metadata": {
    "slideshow": {
     "slide_type": "slide"
    }
   },
   "source": [
    "### Visualize the progress of the migration"
   ]
  },
  {
   "cell_type": "code",
   "execution_count": 7,
   "id": "c00d7b1c",
   "metadata": {
    "slideshow": {
     "slide_type": "-"
    }
   },
   "outputs": [
    {
     "data": {
      "image/png": "[encoded data removed]",
      "text/plain": [
       "<Figure size 640x480 with 1 Axes>"
      ]
     },
     "metadata": {},
     "output_type": "display_data"
    }
   ],
   "source": [
    "log_timed_unstacked.plot();"
   ]
  },
  {
   "cell_type": "markdown",
   "id": "0388a955",
   "metadata": {
    "slideshow": {
     "slide_type": "slide"
    }
   },
   "source": [
    "### End"
   ]
  }
 ],
 "metadata": {
  "kernelspec": {
   "display_name": "Python 3 (ipykernel)",
   "language": "python",
   "name": "python3"
  },
  "language_info": {
   "codemirror_mode": {
    "name": "ipython",
    "version": 3
   },
   "file_extension": ".py",
   "mimetype": "text/x-python",
   "name": "python",
   "nbconvert_exporter": "python",
   "pygments_lexer": "ipython3",
   "version": "3.11.7"
  },
  "rise": {
   "controls": false,
   "showSlideNumber": "speaker",
   "slideNumber ": "false",
   "transition": "none"
  }
 },
 "nbformat": 4,
 "nbformat_minor": 5
}
