{
 "cells": [
  {
   "cell_type": "markdown",
   "metadata": {
    "slideshow": {
     "slide_type": "slide"
    }
   },
   "source": [
    "# Proof of work for framework migrations\n",
    "\n",
    "Jupyter Notebook Demo with Python, pandas and matplotlib."
   ]
  },
  {
   "cell_type": "markdown",
   "metadata": {
    "slideshow": {
     "slide_type": "skip"
    }
   },
   "source": [
    "## Context\n",
    "\n",
    "This analysis shows the progress of the rewrite work from Technical Requirement AB311. Here, the standardization towards JavaEE 8 has to be carried out. In the course of this, the database access technology JPA\\* has to be used instead of JDBC\\*\\*.\n",
    "\n",
    "<sub><sup>\\*JPA: Java Persistence API (newer way of accessing a database)</sub></sup><br/>\n",
    "<sub><sup>\\*\\*JDBC: Java Database Connectivity (classic direct access to database)</sub></sup>\n"
   ]
  },
  {
   "cell_type": "markdown",
   "metadata": {
    "slideshow": {
     "slide_type": "skip"
    }
   },
   "source": [
    "## Idea\n",
    "\n",
    "**Tracking of changes via the version control system**\n",
    "\n",
    "Importing the development history with project status as of 01/15/2019 from the software version control system.\n",
    "\n",
    "<sup>Please note that this is synthetic / generated data, as the real dataset is not available. More details about the generation [see this notebook](https://github.com/feststelltaste/software-analytics/blob/master/notebooks/Generating%20Synthetic%20Data%20based%20on%20a%20Git%20Log.ipynb).</sup>"
   ]
  },
  {
   "cell_type": "code",
   "execution_count": 1,
   "metadata": {
    "slideshow": {
     "slide_type": "skip"
    }
   },
   "outputs": [
    {
     "data": {
      "text/html": [
       "<div>\n",
       "<style scoped>\n",
       "    .dataframe tbody tr th:only-of-type {\n",
       "        vertical-align: middle;\n",
       "    }\n",
       "\n",
       "    .dataframe tbody tr th {\n",
       "        vertical-align: top;\n",
       "    }\n",
       "\n",
       "    .dataframe thead th {\n",
       "        text-align: right;\n",
       "    }\n",
       "</style>\n",
       "<table border=\"1\" class=\"dataframe\">\n",
       "  <thead>\n",
       "    <tr style=\"text-align: right;\">\n",
       "      <th></th>\n",
       "      <th>additions</th>\n",
       "      <th>deletions</th>\n",
       "      <th>file</th>\n",
       "      <th>timestamp</th>\n",
       "    </tr>\n",
       "  </thead>\n",
       "  <tbody>\n",
       "    <tr>\n",
       "      <th>0</th>\n",
       "      <td>19</td>\n",
       "      <td>0</td>\n",
       "      <td>repository/jpa/JpaOwnerRepositoryImpl.java</td>\n",
       "      <td>2017-12-31 19:41:29</td>\n",
       "    </tr>\n",
       "    <tr>\n",
       "      <th>1</th>\n",
       "      <td>55</td>\n",
       "      <td>0</td>\n",
       "      <td>repository/jpa/JpaVisitRepositoryImpl.java</td>\n",
       "      <td>2017-12-30 12:48:20</td>\n",
       "    </tr>\n",
       "    <tr>\n",
       "      <th>2</th>\n",
       "      <td>29</td>\n",
       "      <td>0</td>\n",
       "      <td>repository/jpa/JpaVisitRepositoryImpl.java</td>\n",
       "      <td>2017-12-30 12:48:20</td>\n",
       "    </tr>\n",
       "    <tr>\n",
       "      <th>3</th>\n",
       "      <td>0</td>\n",
       "      <td>99</td>\n",
       "      <td>web/VisitController.java</td>\n",
       "      <td>2017-12-30 00:38:54</td>\n",
       "    </tr>\n",
       "    <tr>\n",
       "      <th>4</th>\n",
       "      <td>19</td>\n",
       "      <td>0</td>\n",
       "      <td>model/Pet.java</td>\n",
       "      <td>2017-12-30 00:38:54</td>\n",
       "    </tr>\n",
       "  </tbody>\n",
       "</table>\n",
       "</div>"
      ],
      "text/plain": [
       "   additions  deletions                                        file  \\\n",
       "0         19          0  repository/jpa/JpaOwnerRepositoryImpl.java   \n",
       "1         55          0  repository/jpa/JpaVisitRepositoryImpl.java   \n",
       "2         29          0  repository/jpa/JpaVisitRepositoryImpl.java   \n",
       "3          0         99                    web/VisitController.java   \n",
       "4         19          0                              model/Pet.java   \n",
       "\n",
       "            timestamp  \n",
       "0 2017-12-31 19:41:29  \n",
       "1 2017-12-30 12:48:20  \n",
       "2 2017-12-30 12:48:20  \n",
       "3 2017-12-30 00:38:54  \n",
       "4 2017-12-30 00:38:54  "
      ]
     },
     "execution_count": 1,
     "metadata": {},
     "output_type": "execute_result"
    }
   ],
   "source": [
    "import pandas as pd\n",
    "log = pd.read_csv(\"../dataset/git_log_refactoring_simple.csv\", parse_dates=[3])\n",
    "log.head()"
   ]
  },
  {
   "cell_type": "markdown",
   "metadata": {
    "slideshow": {
     "slide_type": "skip"
    }
   },
   "source": [
    "### Detection of the framework components\n",
    "Using a regular expression, the two database access technologies can be extracted from the file path. All other files are filtered out using `dropna()`."
   ]
  },
  {
   "cell_type": "code",
   "execution_count": 2,
   "metadata": {
    "slideshow": {
     "slide_type": "skip"
    }
   },
   "outputs": [
    {
     "data": {
      "text/html": [
       "<div>\n",
       "<style scoped>\n",
       "    .dataframe tbody tr th:only-of-type {\n",
       "        vertical-align: middle;\n",
       "    }\n",
       "\n",
       "    .dataframe tbody tr th {\n",
       "        vertical-align: top;\n",
       "    }\n",
       "\n",
       "    .dataframe thead th {\n",
       "        text-align: right;\n",
       "    }\n",
       "</style>\n",
       "<table border=\"1\" class=\"dataframe\">\n",
       "  <thead>\n",
       "    <tr style=\"text-align: right;\">\n",
       "      <th></th>\n",
       "      <th>additions</th>\n",
       "      <th>deletions</th>\n",
       "      <th>file</th>\n",
       "      <th>timestamp</th>\n",
       "      <th>tech</th>\n",
       "    </tr>\n",
       "  </thead>\n",
       "  <tbody>\n",
       "    <tr>\n",
       "      <th>0</th>\n",
       "      <td>19</td>\n",
       "      <td>0</td>\n",
       "      <td>repository/jpa/JpaOwnerRepositoryImpl.java</td>\n",
       "      <td>2017-12-31 19:41:29</td>\n",
       "      <td>jpa</td>\n",
       "    </tr>\n",
       "    <tr>\n",
       "      <th>1</th>\n",
       "      <td>55</td>\n",
       "      <td>0</td>\n",
       "      <td>repository/jpa/JpaVisitRepositoryImpl.java</td>\n",
       "      <td>2017-12-30 12:48:20</td>\n",
       "      <td>jpa</td>\n",
       "    </tr>\n",
       "    <tr>\n",
       "      <th>2</th>\n",
       "      <td>29</td>\n",
       "      <td>0</td>\n",
       "      <td>repository/jpa/JpaVisitRepositoryImpl.java</td>\n",
       "      <td>2017-12-30 12:48:20</td>\n",
       "      <td>jpa</td>\n",
       "    </tr>\n",
       "    <tr>\n",
       "      <th>25</th>\n",
       "      <td>0</td>\n",
       "      <td>47</td>\n",
       "      <td>repository/jpa/package-info.java</td>\n",
       "      <td>2017-12-29 15:28:42</td>\n",
       "      <td>jpa</td>\n",
       "    </tr>\n",
       "    <tr>\n",
       "      <th>103</th>\n",
       "      <td>0</td>\n",
       "      <td>26</td>\n",
       "      <td>repository/jpa/JpaOwnerRepositoryImpl.java</td>\n",
       "      <td>2017-12-25 01:27:16</td>\n",
       "      <td>jpa</td>\n",
       "    </tr>\n",
       "  </tbody>\n",
       "</table>\n",
       "</div>"
      ],
      "text/plain": [
       "     additions  deletions                                        file  \\\n",
       "0           19          0  repository/jpa/JpaOwnerRepositoryImpl.java   \n",
       "1           55          0  repository/jpa/JpaVisitRepositoryImpl.java   \n",
       "2           29          0  repository/jpa/JpaVisitRepositoryImpl.java   \n",
       "25           0         47            repository/jpa/package-info.java   \n",
       "103          0         26  repository/jpa/JpaOwnerRepositoryImpl.java   \n",
       "\n",
       "              timestamp tech  \n",
       "0   2017-12-31 19:41:29  jpa  \n",
       "1   2017-12-30 12:48:20  jpa  \n",
       "2   2017-12-30 12:48:20  jpa  \n",
       "25  2017-12-29 15:28:42  jpa  \n",
       "103 2017-12-25 01:27:16  jpa  "
      ]
     },
     "execution_count": 2,
     "metadata": {},
     "output_type": "execute_result"
    }
   ],
   "source": [
    "log['tech'] = log['file'].str.extract(\"/(jpa|jdbc)/\")\n",
    "log = log.dropna()\n",
    "log.head()"
   ]
  },
  {
   "cell_type": "markdown",
   "metadata": {
    "slideshow": {
     "slide_type": "skip"
    }
   },
   "source": [
    "## Analysis"
   ]
  },
  {
   "cell_type": "markdown",
   "metadata": {
    "slideshow": {
     "slide_type": "skip"
    }
   },
   "source": [
    "### Work progress\n",
    "To track the progress, we calculate the changed source code lines as an approximation."
   ]
  },
  {
   "cell_type": "code",
   "execution_count": 3,
   "metadata": {
    "slideshow": {
     "slide_type": "skip"
    }
   },
   "outputs": [
    {
     "data": {
      "text/html": [
       "<div>\n",
       "<style scoped>\n",
       "    .dataframe tbody tr th:only-of-type {\n",
       "        vertical-align: middle;\n",
       "    }\n",
       "\n",
       "    .dataframe tbody tr th {\n",
       "        vertical-align: top;\n",
       "    }\n",
       "\n",
       "    .dataframe thead th {\n",
       "        text-align: right;\n",
       "    }\n",
       "</style>\n",
       "<table border=\"1\" class=\"dataframe\">\n",
       "  <thead>\n",
       "    <tr style=\"text-align: right;\">\n",
       "      <th></th>\n",
       "      <th>additions</th>\n",
       "      <th>deletions</th>\n",
       "      <th>file</th>\n",
       "      <th>timestamp</th>\n",
       "      <th>tech</th>\n",
       "      <th>lines</th>\n",
       "    </tr>\n",
       "  </thead>\n",
       "  <tbody>\n",
       "    <tr>\n",
       "      <th>0</th>\n",
       "      <td>19</td>\n",
       "      <td>0</td>\n",
       "      <td>repository/jpa/JpaOwnerRepositoryImpl.java</td>\n",
       "      <td>2017-12-31 19:41:29</td>\n",
       "      <td>jpa</td>\n",
       "      <td>19</td>\n",
       "    </tr>\n",
       "    <tr>\n",
       "      <th>1</th>\n",
       "      <td>55</td>\n",
       "      <td>0</td>\n",
       "      <td>repository/jpa/JpaVisitRepositoryImpl.java</td>\n",
       "      <td>2017-12-30 12:48:20</td>\n",
       "      <td>jpa</td>\n",
       "      <td>55</td>\n",
       "    </tr>\n",
       "    <tr>\n",
       "      <th>2</th>\n",
       "      <td>29</td>\n",
       "      <td>0</td>\n",
       "      <td>repository/jpa/JpaVisitRepositoryImpl.java</td>\n",
       "      <td>2017-12-30 12:48:20</td>\n",
       "      <td>jpa</td>\n",
       "      <td>29</td>\n",
       "    </tr>\n",
       "    <tr>\n",
       "      <th>25</th>\n",
       "      <td>0</td>\n",
       "      <td>47</td>\n",
       "      <td>repository/jpa/package-info.java</td>\n",
       "      <td>2017-12-29 15:28:42</td>\n",
       "      <td>jpa</td>\n",
       "      <td>-47</td>\n",
       "    </tr>\n",
       "    <tr>\n",
       "      <th>103</th>\n",
       "      <td>0</td>\n",
       "      <td>26</td>\n",
       "      <td>repository/jpa/JpaOwnerRepositoryImpl.java</td>\n",
       "      <td>2017-12-25 01:27:16</td>\n",
       "      <td>jpa</td>\n",
       "      <td>-26</td>\n",
       "    </tr>\n",
       "  </tbody>\n",
       "</table>\n",
       "</div>"
      ],
      "text/plain": [
       "     additions  deletions                                        file  \\\n",
       "0           19          0  repository/jpa/JpaOwnerRepositoryImpl.java   \n",
       "1           55          0  repository/jpa/JpaVisitRepositoryImpl.java   \n",
       "2           29          0  repository/jpa/JpaVisitRepositoryImpl.java   \n",
       "25           0         47            repository/jpa/package-info.java   \n",
       "103          0         26  repository/jpa/JpaOwnerRepositoryImpl.java   \n",
       "\n",
       "              timestamp tech  lines  \n",
       "0   2017-12-31 19:41:29  jpa     19  \n",
       "1   2017-12-30 12:48:20  jpa     55  \n",
       "2   2017-12-30 12:48:20  jpa     29  \n",
       "25  2017-12-29 15:28:42  jpa    -47  \n",
       "103 2017-12-25 01:27:16  jpa    -26  "
      ]
     },
     "execution_count": 3,
     "metadata": {},
     "output_type": "execute_result"
    }
   ],
   "source": [
    "log['lines'] = log['additions'] - log['deletions']\n",
    "log.head()"
   ]
  },
  {
   "cell_type": "markdown",
   "metadata": {
    "slideshow": {
     "slide_type": "skip"
    }
   },
   "source": [
    "### Time summary\n",
    "The respective progresses are merged according to their timestamps."
   ]
  },
  {
   "cell_type": "code",
   "execution_count": 4,
   "metadata": {
    "slideshow": {
     "slide_type": "skip"
    }
   },
   "outputs": [
    {
     "data": {
      "text/plain": [
       "timestamp            tech\n",
       "2013-05-15 03:35:33  jdbc    250\n",
       "2013-05-16 02:15:44  jdbc     50\n",
       "2013-05-17 15:12:26  jdbc     78\n",
       "2013-05-24 05:52:31  jdbc    142\n",
       "2013-05-28 08:15:35  jdbc    123\n",
       "Name: lines, dtype: int64"
      ]
     },
     "execution_count": 4,
     "metadata": {},
     "output_type": "execute_result"
    }
   ],
   "source": [
    "log_timed = log.groupby(['timestamp', 'tech']).lines.sum()\n",
    "log_timed.head()"
   ]
  },
  {
   "cell_type": "markdown",
   "metadata": {
    "slideshow": {
     "slide_type": "skip"
    }
   },
   "source": [
    "### Visualization\n",
    "For the comparison of progress, both technologies are listed side by side."
   ]
  },
  {
   "cell_type": "code",
   "execution_count": 5,
   "metadata": {
    "slideshow": {
     "slide_type": "skip"
    }
   },
   "outputs": [
    {
     "data": {
      "text/html": [
       "<div>\n",
       "<style scoped>\n",
       "    .dataframe tbody tr th:only-of-type {\n",
       "        vertical-align: middle;\n",
       "    }\n",
       "\n",
       "    .dataframe tbody tr th {\n",
       "        vertical-align: top;\n",
       "    }\n",
       "\n",
       "    .dataframe thead th {\n",
       "        text-align: right;\n",
       "    }\n",
       "</style>\n",
       "<table border=\"1\" class=\"dataframe\">\n",
       "  <thead>\n",
       "    <tr style=\"text-align: right;\">\n",
       "      <th>tech</th>\n",
       "      <th>jdbc</th>\n",
       "      <th>jpa</th>\n",
       "    </tr>\n",
       "    <tr>\n",
       "      <th>timestamp</th>\n",
       "      <th></th>\n",
       "      <th></th>\n",
       "    </tr>\n",
       "  </thead>\n",
       "  <tbody>\n",
       "    <tr>\n",
       "      <th>2013-05-15 03:35:33</th>\n",
       "      <td>250.0</td>\n",
       "      <td>0.0</td>\n",
       "    </tr>\n",
       "    <tr>\n",
       "      <th>2013-05-16 02:15:44</th>\n",
       "      <td>300.0</td>\n",
       "      <td>0.0</td>\n",
       "    </tr>\n",
       "    <tr>\n",
       "      <th>2013-05-17 15:12:26</th>\n",
       "      <td>378.0</td>\n",
       "      <td>0.0</td>\n",
       "    </tr>\n",
       "    <tr>\n",
       "      <th>2013-05-24 05:52:31</th>\n",
       "      <td>520.0</td>\n",
       "      <td>0.0</td>\n",
       "    </tr>\n",
       "    <tr>\n",
       "      <th>2013-05-28 08:15:35</th>\n",
       "      <td>643.0</td>\n",
       "      <td>0.0</td>\n",
       "    </tr>\n",
       "  </tbody>\n",
       "</table>\n",
       "</div>"
      ],
      "text/plain": [
       "tech                  jdbc  jpa\n",
       "timestamp                      \n",
       "2013-05-15 03:35:33  250.0  0.0\n",
       "2013-05-16 02:15:44  300.0  0.0\n",
       "2013-05-17 15:12:26  378.0  0.0\n",
       "2013-05-24 05:52:31  520.0  0.0\n",
       "2013-05-28 08:15:35  643.0  0.0"
      ]
     },
     "execution_count": 5,
     "metadata": {},
     "output_type": "execute_result"
    }
   ],
   "source": [
    "log_progress = log_timed.unstack().fillna(0).cumsum()\n",
    "log_progress.head()"
   ]
  },
  {
   "cell_type": "markdown",
   "metadata": {
    "slideshow": {
     "slide_type": "slide"
    }
   },
   "source": [
    "### Current status of framework migration\n",
    "Results according to line changes per technology."
   ]
  },
  {
   "cell_type": "code",
   "execution_count": 6,
   "metadata": {
    "slideshow": {
     "slide_type": "-"
    }
   },
   "outputs": [
    {
     "data": {
      "image/png": "[encoded data removed]",
      "text/plain": [
       "<Figure size 1080x576 with 1 Axes>"
      ]
     },
     "metadata": {
      "image/png": {
       "height": 447,
       "width": 890
      },
      "needs_background": "light"
     },
     "output_type": "display_data"
    }
   ],
   "source": [
    "log_progress.plot(figsize=[15,8]);"
   ]
  },
  {
   "cell_type": "markdown",
   "metadata": {
    "slideshow": {
     "slide_type": "slide"
    }
   },
   "source": [
    "## Conclusion\n",
    "- The  work has progressed well\n",
    "- There are no more changes in the JDBC part\n",
    "- A complete deletion of the remaining JDBC parts can take place in the next two sprints, since everything has already been converted to JPA"
   ]
  }
 ],
 "metadata": {
  "kernelspec": {
   "display_name": "Python 3",
   "language": "python",
   "name": "python3"
  },
  "language_info": {
   "codemirror_mode": {
    "name": "ipython",
    "version": 3
   },
   "file_extension": ".py",
   "mimetype": "text/x-python",
   "name": "python",
   "nbconvert_exporter": "python",
   "pygments_lexer": "ipython3",
   "version": "3.8.3"
  },
  "rise": {
   "controls": false,
   "showSlideNumber": "speaker",
   "slideNumber ": "false",
   "transition": "none"
  }
 },
 "nbformat": 4,
 "nbformat_minor": 2
}
