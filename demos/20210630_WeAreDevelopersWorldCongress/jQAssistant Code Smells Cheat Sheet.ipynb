{
 "cells": [
  {
   "cell_type": "markdown",
   "metadata": {
    "slideshow": {
     "slide_type": "slide"
    }
   },
   "source": [
    "# jQAssistant Demo\n",
    "* Neo4j-Server starten\n",
    " * `mvn jqassistant:server`\n",
    "* Browser öffnen\n",
    " * http://localhost:7474/browser/\n",
    "* jQAssistant Dokumentation: http://buschmais.github.io/jqassistant/doc/1.3.0/#_java_plugin\n",
    " "
   ]
  },
  {
   "cell_type": "markdown",
   "metadata": {
    "slideshow": {
     "slide_type": "slide"
    }
   },
   "source": [
    "## Beispiel-Queries"
   ]
  },
  {
   "cell_type": "markdown",
   "metadata": {
    "slideshow": {
     "slide_type": "slide"
    }
   },
   "source": [
    "### Setup\n",
    "Cypher Extension für Jupyter laden"
   ]
  },
  {
   "cell_type": "code",
   "execution_count": 1,
   "metadata": {
    "slideshow": {
     "slide_type": "-"
    }
   },
   "outputs": [],
   "source": [
    "%load_ext cypher"
   ]
  },
  {
   "cell_type": "markdown",
   "metadata": {
    "slideshow": {
     "slide_type": "slide"
    }
   },
   "source": [
    "### TOP 10 Klasse mit den meisten Methoden auflisten"
   ]
  },
  {
   "cell_type": "code",
   "execution_count": 2,
   "metadata": {
    "slideshow": {
     "slide_type": "-"
    }
   },
   "outputs": [
    {
     "name": "stdout",
     "output_type": "stream",
     "text": [
      "10 rows affected.\n"
     ]
    },
    {
     "data": {
      "text/html": [
       "<table>\n",
       "    <tr>\n",
       "        <th>Typ</th>\n",
       "        <th>Methodenanzahl</th>\n",
       "    </tr>\n",
       "    <tr>\n",
       "        <td>org.springframework.samples.petclinic.model.Owner</td>\n",
       "        <td>21</td>\n",
       "    </tr>\n",
       "    <tr>\n",
       "        <td>org.springframework.samples.petclinic.model.Pet</td>\n",
       "        <td>16</td>\n",
       "    </tr>\n",
       "    <tr>\n",
       "        <td>org.springframework.samples.petclinic.web.OwnerControllerTests</td>\n",
       "        <td>13</td>\n",
       "    </tr>\n",
       "    <tr>\n",
       "        <td>org.springframework.samples.petclinic.service.AbstractClinicServiceTests</td>\n",
       "        <td>12</td>\n",
       "    </tr>\n",
       "    <tr>\n",
       "        <td>org.springframework.samples.petclinic.model.Vet</td>\n",
       "        <td>11</td>\n",
       "    </tr>\n",
       "    <tr>\n",
       "        <td>org.springframework.samples.petclinic.service.ClinicServiceImpl</td>\n",
       "        <td>11</td>\n",
       "    </tr>\n",
       "    <tr>\n",
       "        <td>org.springframework.samples.petclinic.repository.jdbc.JdbcPet</td>\n",
       "        <td>10</td>\n",
       "    </tr>\n",
       "    <tr>\n",
       "        <td>org.springframework.samples.petclinic.model.Visit</td>\n",
       "        <td>10</td>\n",
       "    </tr>\n",
       "    <tr>\n",
       "        <td>org.springframework.samples.petclinic.web.OwnerController</td>\n",
       "        <td>9</td>\n",
       "    </tr>\n",
       "    <tr>\n",
       "        <td>org.springframework.samples.petclinic.service.ClinicService</td>\n",
       "        <td>9</td>\n",
       "    </tr>\n",
       "</table>"
      ],
      "text/plain": [
       "[['org.springframework.samples.petclinic.model.Owner', 21],\n",
       " ['org.springframework.samples.petclinic.model.Pet', 16],\n",
       " ['org.springframework.samples.petclinic.web.OwnerControllerTests', 13],\n",
       " ['org.springframework.samples.petclinic.service.AbstractClinicServiceTests',\n",
       "  12],\n",
       " ['org.springframework.samples.petclinic.model.Vet', 11],\n",
       " ['org.springframework.samples.petclinic.service.ClinicServiceImpl', 11],\n",
       " ['org.springframework.samples.petclinic.repository.jdbc.JdbcPet', 10],\n",
       " ['org.springframework.samples.petclinic.model.Visit', 10],\n",
       " ['org.springframework.samples.petclinic.web.OwnerController', 9],\n",
       " ['org.springframework.samples.petclinic.service.ClinicService', 9]]"
      ]
     },
     "execution_count": 2,
     "metadata": {},
     "output_type": "execute_result"
    }
   ],
   "source": [
    "%%cypher\n",
    "MATCH \n",
    "  (t:Type)-[:DECLARES]->(m:Method)\n",
    "RETURN t.fqn as Typ, COUNT(m) as Methodenanzahl\n",
    "ORDER BY Methodenanzahl DESC\n",
    "LIMIT 10"
   ]
  },
  {
   "cell_type": "markdown",
   "metadata": {
    "slideshow": {
     "slide_type": "slide"
    }
   },
   "source": [
    "### Statische, geschriebene Variablen"
   ]
  },
  {
   "cell_type": "code",
   "execution_count": 3,
   "metadata": {
    "slideshow": {
     "slide_type": "-"
    }
   },
   "outputs": [
    {
     "name": "stdout",
     "output_type": "stream",
     "text": [
      "3 rows affected.\n"
     ]
    },
    {
     "data": {
      "text/html": [
       "<table>\n",
       "    <tr>\n",
       "        <th>InClass</th>\n",
       "        <th>theMethod</th>\n",
       "        <th>writesInLine</th>\n",
       "        <th>toStaticField</th>\n",
       "    </tr>\n",
       "    <tr>\n",
       "        <td>OwnerController</td>\n",
       "        <td>processFindForm</td>\n",
       "        <td>112</td>\n",
       "        <td>ownersIndexes</td>\n",
       "    </tr>\n",
       "    <tr>\n",
       "        <td>OwnerController</td>\n",
       "        <td>processFindForm</td>\n",
       "        <td>112</td>\n",
       "        <td>ownersIndexes</td>\n",
       "    </tr>\n",
       "    <tr>\n",
       "        <td>BrokenSingleton</td>\n",
       "        <td>getInstance</td>\n",
       "        <td>11</td>\n",
       "        <td>INSTANCE</td>\n",
       "    </tr>\n",
       "</table>"
      ],
      "text/plain": [
       "[['OwnerController', 'processFindForm', 112, 'ownersIndexes'],\n",
       " ['OwnerController', 'processFindForm', 112, 'ownersIndexes'],\n",
       " ['BrokenSingleton', 'getInstance', 11, 'INSTANCE']]"
      ]
     },
     "execution_count": 3,
     "metadata": {},
     "output_type": "execute_result"
    }
   ],
   "source": [
    "%%cypher\n",
    "MATCH (c:Class)-[:DECLARES]->(f:Field)<-[w:WRITES]-(m:Method)\n",
    "WHERE \n",
    "    EXISTS(f.static) AND NOT EXISTS(f.final)\n",
    "RETURN \n",
    "    c.name as InClass, \n",
    "    m.name as theMethod, \n",
    "    w.lineNumber as writesInLine, \n",
    "    f.name as toStaticField"
   ]
  },
  {
   "cell_type": "markdown",
   "metadata": {
    "slideshow": {
     "slide_type": "slide"
    }
   },
   "source": [
    "### Zyklischen Abhängigkeiten zwischen Packages"
   ]
  },
  {
   "cell_type": "code",
   "execution_count": 4,
   "metadata": {
    "slideshow": {
     "slide_type": "-"
    }
   },
   "outputs": [
    {
     "name": "stdout",
     "output_type": "stream",
     "text": [
      "6 rows affected.\n"
     ]
    },
    {
     "data": {
      "text/html": [
       "<table>\n",
       "    <tr>\n",
       "        <th>Package</th>\n",
       "        <th>Cycle</th>\n",
       "    </tr>\n",
       "    <tr>\n",
       "        <td>{&#x27;fileName&#x27;: &#x27;/org/springframework/samples/petclinic/model&#x27;, &#x27;fqn&#x27;: &#x27;org.springframework.samples.petclinic.model&#x27;, &#x27;name&#x27;: &#x27;model&#x27;}</td>\n",
       "        <td>[&#x27;org.springframework.samples.petclinic.repository&#x27;, &#x27;org.springframework.samples.petclinic.model&#x27;]</td>\n",
       "    </tr>\n",
       "    <tr>\n",
       "        <td>{&#x27;fqn&#x27;: &#x27;org.springframework.samples.petclinic.repository&#x27;, &#x27;fileName&#x27;: &#x27;/org/springframework/samples/petclinic/repository&#x27;, &#x27;name&#x27;: &#x27;repository&#x27;}</td>\n",
       "        <td>[&#x27;org.springframework.samples.petclinic.util&#x27;, &#x27;org.springframework.samples.petclinic.model&#x27;, &#x27;org.springframework.samples.petclinic.repository&#x27;]</td>\n",
       "    </tr>\n",
       "    <tr>\n",
       "        <td>{&#x27;fqn&#x27;: &#x27;org.springframework.samples.petclinic.repository&#x27;, &#x27;fileName&#x27;: &#x27;/org/springframework/samples/petclinic/repository&#x27;, &#x27;name&#x27;: &#x27;repository&#x27;}</td>\n",
       "        <td>[&#x27;org.springframework.samples.petclinic.model&#x27;, &#x27;org.springframework.samples.petclinic.repository&#x27;]</td>\n",
       "    </tr>\n",
       "    <tr>\n",
       "        <td>{&#x27;fqn&#x27;: &#x27;org.springframework.samples.petclinic.service&#x27;, &#x27;fileName&#x27;: &#x27;/org/springframework/samples/petclinic/service&#x27;, &#x27;name&#x27;: &#x27;service&#x27;}</td>\n",
       "        <td>[&#x27;org.springframework.samples.petclinic.web&#x27;, &#x27;org.springframework.samples.petclinic.service&#x27;]</td>\n",
       "    </tr>\n",
       "    <tr>\n",
       "        <td>{&#x27;fileName&#x27;: &#x27;/org/springframework/samples/petclinic/util&#x27;, &#x27;fqn&#x27;: &#x27;org.springframework.samples.petclinic.util&#x27;, &#x27;name&#x27;: &#x27;util&#x27;}</td>\n",
       "        <td>[&#x27;org.springframework.samples.petclinic.model&#x27;, &#x27;org.springframework.samples.petclinic.repository&#x27;, &#x27;org.springframework.samples.petclinic.util&#x27;]</td>\n",
       "    </tr>\n",
       "    <tr>\n",
       "        <td>{&#x27;fileName&#x27;: &#x27;/org/springframework/samples/petclinic/web&#x27;, &#x27;fqn&#x27;: &#x27;org.springframework.samples.petclinic.web&#x27;, &#x27;name&#x27;: &#x27;web&#x27;}</td>\n",
       "        <td>[&#x27;org.springframework.samples.petclinic.service&#x27;, &#x27;org.springframework.samples.petclinic.web&#x27;]</td>\n",
       "    </tr>\n",
       "</table>"
      ],
      "text/plain": [
       "[[{'fileName': '/org/springframework/samples/petclinic/model',\n",
       "   'fqn': 'org.springframework.samples.petclinic.model',\n",
       "   'name': 'model'},\n",
       "  ['org.springframework.samples.petclinic.repository',\n",
       "   'org.springframework.samples.petclinic.model']],\n",
       " [{'fqn': 'org.springframework.samples.petclinic.repository',\n",
       "   'fileName': '/org/springframework/samples/petclinic/repository',\n",
       "   'name': 'repository'},\n",
       "  ['org.springframework.samples.petclinic.util',\n",
       "   'org.springframework.samples.petclinic.model',\n",
       "   'org.springframework.samples.petclinic.repository']],\n",
       " [{'fqn': 'org.springframework.samples.petclinic.repository',\n",
       "   'fileName': '/org/springframework/samples/petclinic/repository',\n",
       "   'name': 'repository'},\n",
       "  ['org.springframework.samples.petclinic.model',\n",
       "   'org.springframework.samples.petclinic.repository']],\n",
       " [{'fqn': 'org.springframework.samples.petclinic.service',\n",
       "   'fileName': '/org/springframework/samples/petclinic/service',\n",
       "   'name': 'service'},\n",
       "  ['org.springframework.samples.petclinic.web',\n",
       "   'org.springframework.samples.petclinic.service']],\n",
       " [{'fileName': '/org/springframework/samples/petclinic/util',\n",
       "   'fqn': 'org.springframework.samples.petclinic.util',\n",
       "   'name': 'util'},\n",
       "  ['org.springframework.samples.petclinic.model',\n",
       "   'org.springframework.samples.petclinic.repository',\n",
       "   'org.springframework.samples.petclinic.util']],\n",
       " [{'fileName': '/org/springframework/samples/petclinic/web',\n",
       "   'fqn': 'org.springframework.samples.petclinic.web',\n",
       "   'name': 'web'},\n",
       "  ['org.springframework.samples.petclinic.service',\n",
       "   'org.springframework.samples.petclinic.web']]]"
      ]
     },
     "execution_count": 4,
     "metadata": {},
     "output_type": "execute_result"
    }
   ],
   "source": [
    "%%cypher\n",
    "MATCH\n",
    "    (p1:Package)-[:DEPENDS_ON]->(p2:Package),\n",
    "    path=shortestPath((p2)-[:DEPENDS_ON*]->(p1))\n",
    "WHERE\n",
    "    p1<>p2\n",
    "RETURN\n",
    "    p1 AS Package, EXTRACT(p IN nodes(path) | p.fqn) AS Cycle\n",
    "ORDER BY\n",
    "    Package.fqn"
   ]
  },
  {
   "cell_type": "markdown",
   "metadata": {
    "slideshow": {
     "slide_type": "slide"
    }
   },
   "source": [
    "### Aggregation von Werten über fachliche Bereiche"
   ]
  },
  {
   "cell_type": "code",
   "execution_count": 5,
   "metadata": {
    "slideshow": {
     "slide_type": "-"
    }
   },
   "outputs": [
    {
     "name": "stdout",
     "output_type": "stream",
     "text": [
      "0 rows affected.\n"
     ]
    },
    {
     "data": {
      "text/html": [
       "<table>\n",
       "    <tr>\n",
       "        <th>ASubdomain</th>\n",
       "        <th>Types</th>\n",
       "        <th>Changes</th>\n",
       "    </tr>\n",
       "</table>"
      ],
      "text/plain": [
       "[]"
      ]
     },
     "execution_count": 5,
     "metadata": {},
     "output_type": "execute_result"
    }
   ],
   "source": [
    "%%cypher\n",
    "MATCH \n",
    "  (t:Type)-[:BELONGS_TO]->(s:Subdomain),\n",
    "  (t)-[:HAS_CHANGE]->(ch:Change)\n",
    "RETURN \n",
    "  s.name as ASubdomain,\n",
    "  COUNT(DISTINCT t) as Types,\n",
    "  COUNT(DISTINCT ch) as Changes\n",
    "ORDER BY Types DESC"
   ]
  },
  {
   "cell_type": "markdown",
   "metadata": {
    "slideshow": {
     "slide_type": "slide"
    }
   },
   "source": [
    "### Code-Abhängigkeiten zwischen fachlichen Bereiche"
   ]
  },
  {
   "cell_type": "code",
   "execution_count": 6,
   "metadata": {
    "slideshow": {
     "slide_type": "-"
    }
   },
   "outputs": [
    {
     "name": "stdout",
     "output_type": "stream",
     "text": [
      "0 rows affected.\n"
     ]
    },
    {
     "data": {
      "text/html": [
       "<table>\n",
       "    <tr>\n",
       "        <th>Subdomain</th>\n",
       "        <th>Dependencies</th>\n",
       "    </tr>\n",
       "</table>"
      ],
      "text/plain": [
       "[]"
      ]
     },
     "execution_count": 6,
     "metadata": {},
     "output_type": "execute_result"
    }
   ],
   "source": [
    "%%cypher\n",
    "MATCH\n",
    "  (t1:Type)-[:BELONGS_TO]->(s1:Subdomain),\n",
    "  (t2:Type)-[:BELONGS_TO]->(s2:Subdomain),\n",
    "  (t1)-[d:DEPENDS_ON]->(t2)\n",
    "WHERE\n",
    "  s1 <> s2\n",
    "WITH\n",
    "  s1, s2, count(d) as weight\n",
    "RETURN\n",
    "  s1.name as Subdomain, collect(s2.name) as Dependencies\n",
    "ORDER BY\n",
    "  Subdomain"
   ]
  }
 ],
 "metadata": {
  "celltoolbar": "Slideshow",
  "kernelspec": {
   "display_name": "Python 3",
   "language": "python",
   "name": "python3"
  },
  "language_info": {
   "codemirror_mode": {
    "name": "ipython",
    "version": 3
   },
   "file_extension": ".py",
   "mimetype": "text/x-python",
   "name": "python",
   "nbconvert_exporter": "python",
   "pygments_lexer": "ipython3",
   "version": "3.8.3"
  }
 },
 "nbformat": 4,
 "nbformat_minor": 2
}
