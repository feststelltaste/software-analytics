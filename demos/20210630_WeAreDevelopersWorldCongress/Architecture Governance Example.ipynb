{
 "cells": [
  {
   "cell_type": "markdown",
   "metadata": {},
   "source": [
    "# Introduction\n",
    "\n",
    "Software architects have to make sure that the communicated software architecture blueprints exist in the real world. For this, manual inspections as well as automated measurements are needed to avoid surprises.\n",
    "\n",
    "In this notebook, I want to show how software architects can define and check for architectural governance rules for Java applications using [jQAssistant](https://jqassistant.org/) and [Neo4j](https://neo4j.com/)."
   ]
  },
  {
   "cell_type": "markdown",
   "metadata": {},
   "source": [
    "# Idea\n",
    "This notebook shows an approach to check for architectural rules using the structural code analyzer jQAssistant in combination with the graph database Neo4j. jQAssistant scans several artifacts (Java Bytecode, Git history, Maven Dependencies, and so on) and stores the structural information into the Neo4j database. \n",
    "\n",
    "<img src=\"../resources/fitness_functions_with_jqassistant.png\" style=\"width:80%;\"/>\n",
    "\n",
    "<div align=center><small>Figure 1: Overview of the analysis pipeline</small></div>"
   ]
  },
  {
   "cell_type": "markdown",
   "metadata": {},
   "source": [
    "# Setup\n",
    "If you want to execute the notebook, you also need to build the example project and run a Neo4j instance in the background. You can find the instructions [here](https://github.com/JavaOnAutobahn/spring-petclinic/blob/master/readme.md).\n",
    "\n",
    "Load extension for querying the Neo4j graph database via [Cypher](https://neo4j.com/developer/cypher-query-language/)."
   ]
  },
  {
   "cell_type": "code",
   "execution_count": 1,
   "metadata": {},
   "outputs": [],
   "source": [
    "%load_ext cypher"
   ]
  },
  {
   "cell_type": "markdown",
   "metadata": {},
   "source": [
    "# Define Concerns\n",
    "In the application at hand (a fork of the Spring PetClinic project), there are Java classes called Entitys, that represent the database table. Each of these classes is marked by a special interface `@Entity`. We can find these classes by querying the graph database and create a higher level concern (or concept) to make further searches easier.\n",
    "\n",
    "The following query defines Entitys and returns all found Entitys in the scanned codebase.\n"
   ]
  },
  {
   "cell_type": "code",
   "execution_count": 2,
   "metadata": {},
   "outputs": [
    {
     "name": "stdout",
     "output_type": "stream",
     "text": [
      "6 rows affected.\n"
     ]
    },
    {
     "data": {
      "text/html": [
       "<table>\n",
       "    <tr>\n",
       "        <th>Entity</th>\n",
       "    </tr>\n",
       "    <tr>\n",
       "        <td>org.springframework.samples.petclinic.model.Owner</td>\n",
       "    </tr>\n",
       "    <tr>\n",
       "        <td>org.springframework.samples.petclinic.model.Visit</td>\n",
       "    </tr>\n",
       "    <tr>\n",
       "        <td>org.springframework.samples.petclinic.repository.PetType</td>\n",
       "    </tr>\n",
       "    <tr>\n",
       "        <td>org.springframework.samples.petclinic.model.Pet</td>\n",
       "    </tr>\n",
       "    <tr>\n",
       "        <td>org.springframework.samples.petclinic.model.Vet</td>\n",
       "    </tr>\n",
       "    <tr>\n",
       "        <td>org.springframework.samples.petclinic.model.Specialty</td>\n",
       "    </tr>\n",
       "</table>"
      ],
      "text/plain": [
       "[['org.springframework.samples.petclinic.model.Owner'],\n",
       " ['org.springframework.samples.petclinic.model.Visit'],\n",
       " ['org.springframework.samples.petclinic.repository.PetType'],\n",
       " ['org.springframework.samples.petclinic.model.Pet'],\n",
       " ['org.springframework.samples.petclinic.model.Vet'],\n",
       " ['org.springframework.samples.petclinic.model.Specialty']]"
      ]
     },
     "execution_count": 2,
     "metadata": {},
     "output_type": "execute_result"
    }
   ],
   "source": [
    "%%cypher\n",
    "MATCH\n",
    "  (t:Type)-[:ANNOTATED_BY]->()-[:OF_TYPE]->(a:Type)\n",
    "WHERE\n",
    "  a.fqn=\"javax.persistence.Entity\"\n",
    "SET\n",
    "  t:Entity\n",
    "RETURN\n",
    "  t.fqn AS Entity"
   ]
  },
  {
   "cell_type": "markdown",
   "metadata": {},
   "source": [
    "# Rule Definition\n",
    "\n",
    "Because we want to enable developers to quickly identify Entities in the application, we use the Java package names to define were all the Entities are placed. Thus, Entities must be placed in a package named `model`.\n",
    "\n",
    "The following query lists all existing Entities in the scanned codebase:\n"
   ]
  },
  {
   "cell_type": "code",
   "execution_count": 3,
   "metadata": {},
   "outputs": [
    {
     "name": "stdout",
     "output_type": "stream",
     "text": [
      "5 rows affected.\n"
     ]
    },
    {
     "data": {
      "text/html": [
       "<table>\n",
       "    <tr>\n",
       "        <th>Entity</th>\n",
       "        <th>Package</th>\n",
       "    </tr>\n",
       "    <tr>\n",
       "        <td>org.springframework.samples.petclinic.model.Owner</td>\n",
       "        <td>model</td>\n",
       "    </tr>\n",
       "    <tr>\n",
       "        <td>org.springframework.samples.petclinic.model.Pet</td>\n",
       "        <td>model</td>\n",
       "    </tr>\n",
       "    <tr>\n",
       "        <td>org.springframework.samples.petclinic.model.Visit</td>\n",
       "        <td>model</td>\n",
       "    </tr>\n",
       "    <tr>\n",
       "        <td>org.springframework.samples.petclinic.model.Specialty</td>\n",
       "        <td>model</td>\n",
       "    </tr>\n",
       "    <tr>\n",
       "        <td>org.springframework.samples.petclinic.model.Vet</td>\n",
       "        <td>model</td>\n",
       "    </tr>\n",
       "</table>"
      ],
      "text/plain": [
       "[['org.springframework.samples.petclinic.model.Owner', 'model'],\n",
       " ['org.springframework.samples.petclinic.model.Pet', 'model'],\n",
       " ['org.springframework.samples.petclinic.model.Visit', 'model'],\n",
       " ['org.springframework.samples.petclinic.model.Specialty', 'model'],\n",
       " ['org.springframework.samples.petclinic.model.Vet', 'model']]"
      ]
     },
     "execution_count": 3,
     "metadata": {},
     "output_type": "execute_result"
    }
   ],
   "source": [
    "%%cypher\n",
    "MATCH (e:Entity)<-[:CONTAINS]-(p:Package)\n",
    "WHERE p.name = \"model\"\n",
    "RETURN e.fqn as Entity, p.name as Package"
   ]
  },
  {
   "cell_type": "markdown",
   "metadata": {},
   "source": [
    "# Rule Violations\n",
    "\n",
    "The following query lists all Enties that doesn't comply to the rule above:"
   ]
  },
  {
   "cell_type": "code",
   "execution_count": 4,
   "metadata": {},
   "outputs": [
    {
     "name": "stdout",
     "output_type": "stream",
     "text": [
      "1 rows affected.\n"
     ]
    },
    {
     "data": {
      "text/html": [
       "<table>\n",
       "    <tr>\n",
       "        <th>MisplacedEntity</th>\n",
       "        <th>WrongPackage</th>\n",
       "    </tr>\n",
       "    <tr>\n",
       "        <td>org.springframework.samples.petclinic.repository.PetType</td>\n",
       "        <td>repository</td>\n",
       "    </tr>\n",
       "</table>"
      ],
      "text/plain": [
       "[['org.springframework.samples.petclinic.repository.PetType', 'repository']]"
      ]
     },
     "execution_count": 4,
     "metadata": {},
     "output_type": "execute_result"
    }
   ],
   "source": [
    "%%cypher\n",
    "MATCH (e:Entity)<-[:CONTAINS]-(p:Package)\n",
    "WHERE p.name <> \"model\"\n",
    "RETURN e.fqn as MisplacedEntity, p.name as WrongPackage"
   ]
  }
 ],
 "metadata": {
  "kernelspec": {
   "display_name": "Python 3",
   "language": "python",
   "name": "python3"
  },
  "language_info": {
   "codemirror_mode": {
    "name": "ipython",
    "version": 3
   },
   "file_extension": ".py",
   "mimetype": "text/x-python",
   "name": "python",
   "nbconvert_exporter": "python",
   "pygments_lexer": "ipython3",
   "version": "3.8.3"
  }
 },
 "nbformat": 4,
 "nbformat_minor": 2
}
