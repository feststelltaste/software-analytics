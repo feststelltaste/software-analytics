{
 "cells": [
  {
   "cell_type": "markdown",
   "id": "54422474",
   "metadata": {
    "slideshow": {
     "slide_type": "slide"
    }
   },
   "source": [
    "# GraphRAG demo with Neo4j\n",
    "\n",
    "Source: Based on data and idea mostly from https://neo4j.com/developer-blog/knowledge-graph-rag-application"
   ]
  },
  {
   "cell_type": "markdown",
   "id": "0cb15606",
   "metadata": {
    "slideshow": {
     "slide_type": "slide"
    }
   },
   "source": [
    "# Set up infrastructure"
   ]
  },
  {
   "cell_type": "markdown",
   "id": "b8c99eeb",
   "metadata": {
    "slideshow": {
     "slide_type": "slide"
    }
   },
   "source": [
    "## Connect to database"
   ]
  },
  {
   "cell_type": "code",
   "execution_count": 1,
   "id": "89887041",
   "metadata": {
    "slideshow": {
     "slide_type": "-"
    }
   },
   "outputs": [],
   "source": [
    "from langchain.graphs import Neo4jGraph\n",
    "\n",
    "neo4j_url = \"bolt://localhost\"\n",
    "neo4j_username =\"neo4j\"\n",
    "neo4j_password = \"neo4j1234\"\n",
    "\n",
    "graph = Neo4jGraph(\n",
    "    url=neo4j_url, \n",
    "    username=neo4j_username, \n",
    "    password=neo4j_password\n",
    ")"
   ]
  },
  {
   "cell_type": "markdown",
   "id": "062233da",
   "metadata": {
    "slideshow": {
     "slide_type": "slide"
    }
   },
   "source": [
    "## Clean database"
   ]
  },
  {
   "cell_type": "code",
   "execution_count": 2,
   "id": "01459ae9",
   "metadata": {
    "slideshow": {
     "slide_type": "-"
    }
   },
   "outputs": [
    {
     "data": {
      "text/plain": [
       "[]"
      ]
     },
     "execution_count": 2,
     "metadata": {},
     "output_type": "execute_result"
    }
   ],
   "source": [
    "# delete relationships\n",
    "graph.query(\"MATCH ()-[r]->() DELETE r\")\n",
    "# delete nodes\n",
    "graph.query(\"MATCH (n) DELETE n\")\n",
    "# check\n",
    "graph.query(\"MATCH (n) RETURN n\")"
   ]
  },
  {
   "cell_type": "markdown",
   "id": "3c8d6ee0",
   "metadata": {
    "slideshow": {
     "slide_type": "slide"
    }
   },
   "source": [
    "## Load demo data"
   ]
  },
  {
   "cell_type": "code",
   "execution_count": 3,
   "id": "4f24c1b7",
   "metadata": {
    "slideshow": {
     "slide_type": "-"
    }
   },
   "outputs": [
    {
     "data": {
      "text/plain": [
       "\"CREATE (catalog:Microservice {name: 'CatalogService', technology: 'Java'}), (order:Microservice {name: 'OrderService', technology: 'Python'}), (user:Microservice {name: 'UserService', technology: 'Go'}), (payment:Microservice {name: 'PaymentService', technology: 'Node.js'}), (inventory:Microservice \""
      ]
     },
     "execution_count": 3,
     "metadata": {},
     "output_type": "execute_result"
    }
   ],
   "source": [
    "import requests\n",
    "import json\n",
    "\n",
    "wget_url = \"https://gist.githubusercontent.com/tomasonjo/08dc8ba0e19d592c4c3cde40dd6abcc3/raw/da8882249af3e819a80debf3160ebbb3513ee962/microservices.json\"\n",
    "demo_data = requests.get(wget_url).json()['query']\n",
    "demo_data[:300]"
   ]
  },
  {
   "cell_type": "markdown",
   "id": "936564fe",
   "metadata": {
    "slideshow": {
     "slide_type": "slide"
    }
   },
   "source": [
    "## Import demo data"
   ]
  },
  {
   "cell_type": "code",
   "execution_count": 4,
   "id": "d0aa0af1",
   "metadata": {
    "slideshow": {
     "slide_type": "-"
    }
   },
   "outputs": [
    {
     "data": {
      "text/plain": [
       "{'node_props': {'Microservice': [{'property': 'name', 'type': 'STRING'},\n",
       "   {'property': 'technology', 'type': 'STRING'}],\n",
       "  'Dependency': [{'property': 'name', 'type': 'STRING'},\n",
       "   {'property': 'type', 'type': 'STRING'}],\n",
       "  'Task': [{'property': 'description', 'type': 'STRING'},\n",
       "   {'property': 'name', 'type': 'STRING'},\n",
       "   {'property': 'status', 'type': 'STRING'},\n",
       "   {'property': 'embedding', 'type': 'LIST'}],\n",
       "  'Team': [{'property': 'name', 'type': 'STRING'}],\n",
       "  'Person': [{'property': 'name', 'type': 'STRING'}]},\n",
       " 'rel_props': {},\n",
       " 'relationships': [{'start': 'Microservice',\n",
       "   'type': 'MAINTAINED_BY',\n",
       "   'end': 'Team'},\n",
       "  {'start': 'Microservice', 'type': 'DEPENDS_ON', 'end': 'Microservice'},\n",
       "  {'start': 'Microservice', 'type': 'DEPENDS_ON', 'end': 'Dependency'},\n",
       "  {'start': 'Task', 'type': 'ASSIGNED_TO', 'end': 'Team'},\n",
       "  {'start': 'Task', 'type': 'LINKED_TO', 'end': 'Microservice'},\n",
       "  {'start': 'Person', 'type': 'MEMBER_OF', 'end': 'Team'},\n",
       "  {'start': 'Person', 'type': 'LEAD_OF', 'end': 'Team'}],\n",
       " 'metadata': {'constraint': [], 'index': []}}"
      ]
     },
     "execution_count": 4,
     "metadata": {},
     "output_type": "execute_result"
    }
   ],
   "source": [
    "graph.query(demo_data)\n",
    "graph.get_structured_schema"
   ]
  },
  {
   "cell_type": "markdown",
   "id": "37350a58",
   "metadata": {
    "slideshow": {
     "slide_type": "slide"
    }
   },
   "source": [
    "Just an ugly helpler function because LangChain doesn't like pandas ..."
   ]
  },
  {
   "cell_type": "code",
   "execution_count": 5,
   "id": "2967c52f",
   "metadata": {
    "slideshow": {
     "slide_type": "-"
    }
   },
   "outputs": [],
   "source": [
    "import pandas as pd\n",
    "\n",
    "def show(result):\n",
    "    if not result and len(result) < 1:\n",
    "        return None\n",
    "    else:\n",
    "        key = list(result[0].keys())[0]\n",
    "        return pd.DataFrame([item[key] for item in result])"
   ]
  },
  {
   "cell_type": "markdown",
   "id": "37b3665c",
   "metadata": {
    "slideshow": {
     "slide_type": "slide"
    }
   },
   "source": [
    "## Show all* tasks data\n",
    "\\*ok... just the first five"
   ]
  },
  {
   "cell_type": "code",
   "execution_count": 6,
   "id": "b3deac6e",
   "metadata": {
    "slideshow": {
     "slide_type": "-"
    }
   },
   "outputs": [
    {
     "data": {
      "text/html": [
       "<div>\n",
       "<style scoped>\n",
       "    .dataframe tbody tr th:only-of-type {\n",
       "        vertical-align: middle;\n",
       "    }\n",
       "\n",
       "    .dataframe tbody tr th {\n",
       "        vertical-align: top;\n",
       "    }\n",
       "\n",
       "    .dataframe thead th {\n",
       "        text-align: right;\n",
       "    }\n",
       "</style>\n",
       "<table border=\"1\" class=\"dataframe\">\n",
       "  <thead>\n",
       "    <tr style=\"text-align: right;\">\n",
       "      <th></th>\n",
       "      <th>name</th>\n",
       "      <th>description</th>\n",
       "      <th>status</th>\n",
       "    </tr>\n",
       "  </thead>\n",
       "  <tbody>\n",
       "    <tr>\n",
       "      <th>0</th>\n",
       "      <td>BugFix</td>\n",
       "      <td>Fix bug in CatalogService</td>\n",
       "      <td>Open</td>\n",
       "    </tr>\n",
       "    <tr>\n",
       "      <th>1</th>\n",
       "      <td>Enhance</td>\n",
       "      <td>Enhance ShippingService</td>\n",
       "      <td>Completed</td>\n",
       "    </tr>\n",
       "    <tr>\n",
       "      <th>2</th>\n",
       "      <td>FeatureAdd</td>\n",
       "      <td>Add feature to OrderService</td>\n",
       "      <td>In Progress</td>\n",
       "    </tr>\n",
       "    <tr>\n",
       "      <th>3</th>\n",
       "      <td>Optimize</td>\n",
       "      <td>Optimize PaymentService</td>\n",
       "      <td>Open</td>\n",
       "    </tr>\n",
       "    <tr>\n",
       "      <th>4</th>\n",
       "      <td>Optimize</td>\n",
       "      <td>Optimize AuthService</td>\n",
       "      <td>Open</td>\n",
       "    </tr>\n",
       "  </tbody>\n",
       "</table>\n",
       "</div>"
      ],
      "text/plain": [
       "         name                  description       status\n",
       "0      BugFix    Fix bug in CatalogService         Open\n",
       "1     Enhance      Enhance ShippingService    Completed\n",
       "2  FeatureAdd  Add feature to OrderService  In Progress\n",
       "3    Optimize      Optimize PaymentService         Open\n",
       "4    Optimize         Optimize AuthService         Open"
      ]
     },
     "execution_count": 6,
     "metadata": {},
     "output_type": "execute_result"
    }
   ],
   "source": [
    "show(graph.query(\"MATCH (n:Task) RETURN n ORDER BY n.name\")).head()"
   ]
  },
  {
   "cell_type": "markdown",
   "id": "c75f5fe5",
   "metadata": {
    "slideshow": {
     "slide_type": "slide"
    }
   },
   "source": [
    "## Create a vector index in Neo4j\n",
    "just for tasks"
   ]
  },
  {
   "cell_type": "code",
   "execution_count": 7,
   "id": "1f2c26c5",
   "metadata": {
    "slideshow": {
     "slide_type": "-"
    }
   },
   "outputs": [
    {
     "data": {
      "text/html": [
       "<div>\n",
       "<style scoped>\n",
       "    .dataframe tbody tr th:only-of-type {\n",
       "        vertical-align: middle;\n",
       "    }\n",
       "\n",
       "    .dataframe tbody tr th {\n",
       "        vertical-align: top;\n",
       "    }\n",
       "\n",
       "    .dataframe thead th {\n",
       "        text-align: right;\n",
       "    }\n",
       "</style>\n",
       "<table border=\"1\" class=\"dataframe\">\n",
       "  <thead>\n",
       "    <tr style=\"text-align: right;\">\n",
       "      <th></th>\n",
       "      <th>name</th>\n",
       "      <th>description</th>\n",
       "      <th>embedding</th>\n",
       "      <th>status</th>\n",
       "    </tr>\n",
       "  </thead>\n",
       "  <tbody>\n",
       "    <tr>\n",
       "      <th>0</th>\n",
       "      <td>BugFix</td>\n",
       "      <td>Fix bug in CatalogService</td>\n",
       "      <td>[0.0010090064024552703, 0.015515870414674282, ...</td>\n",
       "      <td>Open</td>\n",
       "    </tr>\n",
       "    <tr>\n",
       "      <th>1</th>\n",
       "      <td>Enhance</td>\n",
       "      <td>Enhance ShippingService</td>\n",
       "      <td>[-0.01514890231192112, 0.004229188431054354, -...</td>\n",
       "      <td>Completed</td>\n",
       "    </tr>\n",
       "    <tr>\n",
       "      <th>2</th>\n",
       "      <td>FeatureAdd</td>\n",
       "      <td>Add feature to OrderService</td>\n",
       "      <td>[-0.004280831199139357, 0.004398114047944546, ...</td>\n",
       "      <td>In Progress</td>\n",
       "    </tr>\n",
       "    <tr>\n",
       "      <th>3</th>\n",
       "      <td>Optimize</td>\n",
       "      <td>Optimize PaymentService</td>\n",
       "      <td>[-0.010021028108894825, 0.004158910363912582, ...</td>\n",
       "      <td>Open</td>\n",
       "    </tr>\n",
       "    <tr>\n",
       "      <th>4</th>\n",
       "      <td>Optimize</td>\n",
       "      <td>Optimize AuthService</td>\n",
       "      <td>[-0.005023847334086895, 0.009418325498700142, ...</td>\n",
       "      <td>Open</td>\n",
       "    </tr>\n",
       "  </tbody>\n",
       "</table>\n",
       "</div>"
      ],
      "text/plain": [
       "         name                  description  \\\n",
       "0      BugFix    Fix bug in CatalogService   \n",
       "1     Enhance      Enhance ShippingService   \n",
       "2  FeatureAdd  Add feature to OrderService   \n",
       "3    Optimize      Optimize PaymentService   \n",
       "4    Optimize         Optimize AuthService   \n",
       "\n",
       "                                           embedding       status  \n",
       "0  [0.0010090064024552703, 0.015515870414674282, ...         Open  \n",
       "1  [-0.01514890231192112, 0.004229188431054354, -...    Completed  \n",
       "2  [-0.004280831199139357, 0.004398114047944546, ...  In Progress  \n",
       "3  [-0.010021028108894825, 0.004158910363912582, ...         Open  \n",
       "4  [-0.005023847334086895, 0.009418325498700142, ...         Open  "
      ]
     },
     "execution_count": 7,
     "metadata": {},
     "output_type": "execute_result"
    }
   ],
   "source": [
    "from langchain.vectorstores.neo4j_vector import Neo4jVector\n",
    "from langchain_openai import OpenAIEmbeddings\n",
    "\n",
    "vector_index = Neo4jVector.from_existing_graph(\n",
    "    OpenAIEmbeddings(),\n",
    "    url=neo4j_url, username=neo4j_username, password=neo4j_password,\n",
    "    index_name='tasks', # name of the vector index\n",
    "    node_label=\"Task\", # label of relevant nodes\n",
    "    text_node_properties=['name', 'description', 'status'], # properties to be used\n",
    "    embedding_node_property='embedding', # property where to store embeddings\n",
    ")\n",
    "show(graph.query(\"MATCH (n:Task) RETURN n ORDER BY n.name\")).head()"
   ]
  },
  {
   "cell_type": "markdown",
   "id": "fe6679cd",
   "metadata": {
    "slideshow": {
     "slide_type": "slide"
    }
   },
   "source": [
    "# Basic queries"
   ]
  },
  {
   "cell_type": "markdown",
   "id": "16897c35",
   "metadata": {
    "slideshow": {
     "slide_type": "slide"
    }
   },
   "source": [
    "### Search by similarity"
   ]
  },
  {
   "cell_type": "code",
   "execution_count": 8,
   "id": "590c9d87",
   "metadata": {
    "slideshow": {
     "slide_type": "-"
    }
   },
   "outputs": [
    {
     "name": "stdout",
     "output_type": "stream",
     "text": [
      "\n",
      "name: Enhance\n",
      "description: Enhance ShippingService\n",
      "status: Completed\n"
     ]
    }
   ],
   "source": [
    "response = vector_index.similarity_search(\n",
    "    \"How will ShippingService be updated?\"\n",
    ")\n",
    "print(response[0].page_content)"
   ]
  },
  {
   "cell_type": "markdown",
   "id": "dd35ed0c",
   "metadata": {
    "slideshow": {
     "slide_type": "fragment"
    }
   },
   "source": [
    "check:"
   ]
  },
  {
   "cell_type": "code",
   "execution_count": 9,
   "id": "9e813ac5",
   "metadata": {
    "slideshow": {
     "slide_type": "-"
    }
   },
   "outputs": [
    {
     "data": {
      "text/html": [
       "<div>\n",
       "<style scoped>\n",
       "    .dataframe tbody tr th:only-of-type {\n",
       "        vertical-align: middle;\n",
       "    }\n",
       "\n",
       "    .dataframe tbody tr th {\n",
       "        vertical-align: top;\n",
       "    }\n",
       "\n",
       "    .dataframe thead th {\n",
       "        text-align: right;\n",
       "    }\n",
       "</style>\n",
       "<table border=\"1\" class=\"dataframe\">\n",
       "  <thead>\n",
       "    <tr style=\"text-align: right;\">\n",
       "      <th></th>\n",
       "      <th>name</th>\n",
       "      <th>description</th>\n",
       "      <th>embedding</th>\n",
       "      <th>status</th>\n",
       "    </tr>\n",
       "  </thead>\n",
       "  <tbody>\n",
       "    <tr>\n",
       "      <th>0</th>\n",
       "      <td>Enhance</td>\n",
       "      <td>Enhance ShippingService</td>\n",
       "      <td>[-0.01514890231192112, 0.004229188431054354, -...</td>\n",
       "      <td>Completed</td>\n",
       "    </tr>\n",
       "  </tbody>\n",
       "</table>\n",
       "</div>"
      ],
      "text/plain": [
       "      name              description  \\\n",
       "0  Enhance  Enhance ShippingService   \n",
       "\n",
       "                                           embedding     status  \n",
       "0  [-0.01514890231192112, 0.004229188431054354, -...  Completed  "
      ]
     },
     "execution_count": 9,
     "metadata": {},
     "output_type": "execute_result"
    }
   ],
   "source": [
    "show(graph.query(\"MATCH (n:Task) WHERE n.description CONTAINS 'ShippingService' RETURN n\"))"
   ]
  },
  {
   "cell_type": "markdown",
   "id": "e6e8f369",
   "metadata": {
    "slideshow": {
     "slide_type": "slide"
    }
   },
   "source": [
    "## Ask a more natural language"
   ]
  },
  {
   "cell_type": "code",
   "execution_count": 10,
   "id": "441cf1e3",
   "metadata": {
    "slideshow": {
     "slide_type": "-"
    }
   },
   "outputs": [
    {
     "name": "stderr",
     "output_type": "stream",
     "text": [
      "/tmp/ipykernel_152983/1464623635.py:10: LangChainDeprecationWarning: The method `Chain.run` was deprecated in langchain 0.1.0 and will be removed in 1.0. Use :meth:`~invoke` instead.\n",
      "  vector_qa.run(\"How will shipping service be updated?\")\n"
     ]
    },
    {
     "data": {
      "text/plain": [
       "'The shipping service has been enhanced, not updated.'"
      ]
     },
     "execution_count": 10,
     "metadata": {},
     "output_type": "execute_result"
    }
   ],
   "source": [
    "from langchain.chains import RetrievalQA\n",
    "from langchain_openai import ChatOpenAI\n",
    "\n",
    "vector_qa = RetrievalQA.from_chain_type(\n",
    "    llm=ChatOpenAI(),\n",
    "    # \"stuff\": take a list of documents, insert them all into a prompt and passes that prompt to an LLM\n",
    "    chain_type=\"stuff\",\n",
    "    retriever=vector_index.as_retriever()\n",
    ")\n",
    "vector_qa.run(\"How will shipping service be updated?\")"
   ]
  },
  {
   "cell_type": "markdown",
   "id": "7723e778",
   "metadata": {
    "slideshow": {
     "slide_type": "slide"
    }
   },
   "source": [
    "## Get to know the limits"
   ]
  },
  {
   "cell_type": "code",
   "execution_count": 11,
   "id": "fbba3095",
   "metadata": {
    "slideshow": {
     "slide_type": "-"
    }
   },
   "outputs": [
    {
     "name": "stdout",
     "output_type": "stream",
     "text": [
      "There are three open tasks.\n"
     ]
    }
   ],
   "source": [
    "print(vector_qa.run(\"How many open tasks are there?\"))\n"
   ]
  },
  {
   "cell_type": "markdown",
   "id": "891bbb36",
   "metadata": {
    "slideshow": {
     "slide_type": "fragment"
    }
   },
   "source": [
    "check"
   ]
  },
  {
   "cell_type": "code",
   "execution_count": 12,
   "id": "b0f8a080",
   "metadata": {
    "slideshow": {
     "slide_type": "-"
    }
   },
   "outputs": [
    {
     "data": {
      "text/html": [
       "<div>\n",
       "<style scoped>\n",
       "    .dataframe tbody tr th:only-of-type {\n",
       "        vertical-align: middle;\n",
       "    }\n",
       "\n",
       "    .dataframe tbody tr th {\n",
       "        vertical-align: top;\n",
       "    }\n",
       "\n",
       "    .dataframe thead th {\n",
       "        text-align: right;\n",
       "    }\n",
       "</style>\n",
       "<table border=\"1\" class=\"dataframe\">\n",
       "  <thead>\n",
       "    <tr style=\"text-align: right;\">\n",
       "      <th></th>\n",
       "      <th>name</th>\n",
       "      <th>description</th>\n",
       "      <th>embedding</th>\n",
       "      <th>status</th>\n",
       "    </tr>\n",
       "  </thead>\n",
       "  <tbody>\n",
       "    <tr>\n",
       "      <th>0</th>\n",
       "      <td>BugFix</td>\n",
       "      <td>Fix bug in CatalogService</td>\n",
       "      <td>[0.0010090064024552703, 0.015515870414674282, ...</td>\n",
       "      <td>Open</td>\n",
       "    </tr>\n",
       "    <tr>\n",
       "      <th>1</th>\n",
       "      <td>Optimize</td>\n",
       "      <td>Optimize PaymentService</td>\n",
       "      <td>[-0.010021028108894825, 0.004158910363912582, ...</td>\n",
       "      <td>Open</td>\n",
       "    </tr>\n",
       "    <tr>\n",
       "      <th>2</th>\n",
       "      <td>ReviewFix</td>\n",
       "      <td>Fix ReviewService</td>\n",
       "      <td>[0.008519421331584454, 0.008675129152834415, -...</td>\n",
       "      <td>Open</td>\n",
       "    </tr>\n",
       "    <tr>\n",
       "      <th>3</th>\n",
       "      <td>Optimize</td>\n",
       "      <td>Optimize AuthService</td>\n",
       "      <td>[-0.005023847334086895, 0.009418325498700142, ...</td>\n",
       "      <td>Open</td>\n",
       "    </tr>\n",
       "  </tbody>\n",
       "</table>\n",
       "</div>"
      ],
      "text/plain": [
       "        name                description  \\\n",
       "0     BugFix  Fix bug in CatalogService   \n",
       "1   Optimize    Optimize PaymentService   \n",
       "2  ReviewFix          Fix ReviewService   \n",
       "3   Optimize       Optimize AuthService   \n",
       "\n",
       "                                           embedding status  \n",
       "0  [0.0010090064024552703, 0.015515870414674282, ...   Open  \n",
       "1  [-0.010021028108894825, 0.004158910363912582, ...   Open  \n",
       "2  [0.008519421331584454, 0.008675129152834415, -...   Open  \n",
       "3  [-0.005023847334086895, 0.009418325498700142, ...   Open  "
      ]
     },
     "execution_count": 12,
     "metadata": {},
     "output_type": "execute_result"
    }
   ],
   "source": [
    "show(graph.query(\"MATCH (t:Task {status:'Open'}) RETURN t\"))"
   ]
  },
  {
   "cell_type": "markdown",
   "id": "031bc995",
   "metadata": {
    "slideshow": {
     "slide_type": "slide"
    }
   },
   "source": [
    "# Advanced Queries"
   ]
  },
  {
   "cell_type": "markdown",
   "id": "79c93c3b",
   "metadata": {
    "slideshow": {
     "slide_type": "slide"
    }
   },
   "source": [
    "### Introducing Cypher based queries"
   ]
  },
  {
   "cell_type": "code",
   "execution_count": 13,
   "id": "b33a662c",
   "metadata": {
    "slideshow": {
     "slide_type": "-"
    }
   },
   "outputs": [
    {
     "data": {
      "text/plain": [
       "GraphCypherQAChain(verbose=True, graph=<langchain_community.graphs.neo4j_graph.Neo4jGraph object at 0x7f70e9b53e90>, cypher_generation_chain=LLMChain(verbose=False, prompt=PromptTemplate(input_variables=['question', 'schema'], input_types={}, partial_variables={}, template='Task:Generate Cypher statement to query a graph database.\\nInstructions:\\nUse only the provided relationship types and properties in the schema.\\nDo not use any other relationship types or properties that are not provided.\\nSchema:\\n{schema}\\nNote: Do not include any explanations or apologies in your responses.\\nDo not respond to any questions that might ask anything else than for you to construct a Cypher statement.\\nDo not include any text except the generated Cypher statement.\\n\\nThe question is:\\n{question}'), llm=ChatOpenAI(client=<openai.resources.chat.completions.Completions object at 0x7f70c12c4ad0>, async_client=<openai.resources.chat.completions.AsyncCompletions object at 0x7f70c11c86d0>, root_client=<openai.OpenAI object at 0x7f70c0f60690>, root_async_client=<openai.AsyncOpenAI object at 0x7f70c12c4550>, model_name='gpt-4', temperature=0.0, model_kwargs={}, openai_api_key=SecretStr('**********')), output_parser=StrOutputParser(), llm_kwargs={}), qa_chain=LLMChain(verbose=False, prompt=PromptTemplate(input_variables=['context', 'question'], input_types={}, partial_variables={}, template=\"You are an assistant that helps to form nice and human understandable answers.\\nThe information part contains the provided information that you must use to construct an answer.\\nThe provided information is authoritative, you must never doubt it or try to use your internal knowledge to correct it.\\nMake the answer sound as a response to the question. Do not mention that you based the result on the given information.\\nHere is an example:\\n\\nQuestion: Which managers own Neo4j stocks?\\nContext:[manager:CTL LLC, manager:JANE STREET GROUP LLC]\\nHelpful Answer: CTL LLC, JANE STREET GROUP LLC owns Neo4j stocks.\\n\\nFollow this example when generating answers.\\nIf the provided information is empty, say that you don't know the answer.\\nInformation:\\n{context}\\n\\nQuestion: {question}\\nHelpful Answer:\"), llm=ChatOpenAI(client=<openai.resources.chat.completions.Completions object at 0x7f70c12fbb50>, async_client=<openai.resources.chat.completions.AsyncCompletions object at 0x7f70c130ba10>, root_client=<openai.OpenAI object at 0x7f70c12e3250>, root_async_client=<openai.AsyncOpenAI object at 0x7f70c12fbd10>, temperature=0.0, model_kwargs={}, openai_api_key=SecretStr('**********')), output_parser=StrOutputParser(), llm_kwargs={}), graph_schema='Node properties are the following:\\nMicroservice {name: STRING, technology: STRING},Dependency {name: STRING, type: STRING},Task {description: STRING, name: STRING, status: STRING, embedding: LIST},Team {name: STRING},Person {name: STRING}\\nRelationship properties are the following:\\n\\nThe relationships are the following:\\n(:Microservice)-[:DEPENDS_ON]->(:Microservice),(:Microservice)-[:DEPENDS_ON]->(:Dependency),(:Microservice)-[:MAINTAINED_BY]->(:Team),(:Task)-[:LINKED_TO]->(:Microservice),(:Task)-[:ASSIGNED_TO]->(:Team),(:Person)-[:MEMBER_OF]->(:Team),(:Person)-[:LEAD_OF]->(:Team)', allow_dangerous_requests=True)"
      ]
     },
     "execution_count": 13,
     "metadata": {},
     "output_type": "execute_result"
    }
   ],
   "source": [
    "from langchain.chains import GraphCypherQAChain\n",
    "\n",
    "graph.refresh_schema()\n",
    "\n",
    "cypher_chain = GraphCypherQAChain.from_llm(\n",
    "    cypher_llm = ChatOpenAI(temperature=0, model_name='gpt-4'),\n",
    "    qa_llm = ChatOpenAI(temperature=0),\n",
    "    graph=graph,\n",
    "    verbose=True,\n",
    "    allow_dangerous_requests=True\n",
    ")\n",
    "cypher_chain"
   ]
  },
  {
   "cell_type": "markdown",
   "id": "e0c09cd3",
   "metadata": {
    "slideshow": {
     "slide_type": "slide"
    }
   },
   "source": [
    "### Use Cypher for questions about tasks"
   ]
  },
  {
   "cell_type": "code",
   "execution_count": 14,
   "id": "bd4ffa4e",
   "metadata": {
    "slideshow": {
     "slide_type": "-"
    }
   },
   "outputs": [
    {
     "name": "stdout",
     "output_type": "stream",
     "text": [
      "\n",
      "\n",
      "\u001b[1m> Entering new GraphCypherQAChain chain...\u001b[0m\n",
      "Generated Cypher:\n",
      "\u001b[32;1m\u001b[1;3mMATCH (t:Task {status: 'open'}) RETURN COUNT(t)\u001b[0m\n",
      "Full Context:\n",
      "\u001b[32;1m\u001b[1;3m[{'COUNT(t)': 0}]\u001b[0m\n",
      "\n",
      "\u001b[1m> Finished chain.\u001b[0m\n"
     ]
    },
    {
     "data": {
      "text/plain": [
       "'There are no open tasks.'"
      ]
     },
     "execution_count": 14,
     "metadata": {},
     "output_type": "execute_result"
    }
   ],
   "source": [
    "cypher_chain.run(\n",
    "    \"How many open tasks are there?\"\n",
    ")"
   ]
  },
  {
   "cell_type": "markdown",
   "id": "0c6949f6",
   "metadata": {
    "slideshow": {
     "slide_type": "slide"
    }
   },
   "source": [
    "### Second try"
   ]
  },
  {
   "cell_type": "code",
   "execution_count": 15,
   "id": "cafe0563",
   "metadata": {
    "slideshow": {
     "slide_type": "-"
    }
   },
   "outputs": [
    {
     "name": "stdout",
     "output_type": "stream",
     "text": [
      "\n",
      "\n",
      "\u001b[1m> Entering new GraphCypherQAChain chain...\u001b[0m\n",
      "Generated Cypher:\n",
      "\u001b[32;1m\u001b[1;3mMATCH (t:Task {status: 'Open'}) RETURN COUNT(t)\u001b[0m\n",
      "Full Context:\n",
      "\u001b[32;1m\u001b[1;3m[{'COUNT(t)': 4}]\u001b[0m\n",
      "\n",
      "\u001b[1m> Finished chain.\u001b[0m\n"
     ]
    },
    {
     "data": {
      "text/plain": [
       "'There are 4 Open tasks.'"
      ]
     },
     "execution_count": 15,
     "metadata": {},
     "output_type": "execute_result"
    }
   ],
   "source": [
    "cypher_chain.run(\n",
    "    \"How many Open tasks are there?\"\n",
    ")"
   ]
  },
  {
   "cell_type": "markdown",
   "id": "daa537a7",
   "metadata": {
    "slideshow": {
     "slide_type": "slide"
    }
   },
   "source": [
    "### Also: Other questions"
   ]
  },
  {
   "cell_type": "code",
   "execution_count": 16,
   "id": "6dabc912",
   "metadata": {
    "slideshow": {
     "slide_type": "-"
    }
   },
   "outputs": [
    {
     "name": "stdout",
     "output_type": "stream",
     "text": [
      "\n",
      "\n",
      "\u001b[1m> Entering new GraphCypherQAChain chain...\u001b[0m\n",
      "Generated Cypher:\n",
      "\u001b[32;1m\u001b[1;3mMATCH (m:Microservice) RETURN COUNT(m) AS NumberOfMicroservices, COLLECT(m.name) AS MicroservicesList\u001b[0m\n",
      "Full Context:\n",
      "\u001b[32;1m\u001b[1;3m[{'NumberOfMicroservices': 9, 'MicroservicesList': ['CatalogService', 'OrderService', 'UserService', 'PaymentService', 'InventoryService', 'ShippingService', 'ReviewService', 'RecommendationService', 'AuthService']}]\u001b[0m\n",
      "\n",
      "\u001b[1m> Finished chain.\u001b[0m\n"
     ]
    },
    {
     "data": {
      "text/plain": [
       "'There are 9 microservices. The list includes CatalogService, OrderService, UserService, PaymentService, InventoryService, ShippingService, ReviewService, RecommendationService, and AuthService.'"
      ]
     },
     "execution_count": 16,
     "metadata": {},
     "output_type": "execute_result"
    }
   ],
   "source": [
    "cypher_chain.run(\n",
    "    \"How many microservices are there? List them!\"\n",
    ")"
   ]
  },
  {
   "cell_type": "markdown",
   "id": "746d090c",
   "metadata": {
    "slideshow": {
     "slide_type": "slide"
    }
   },
   "source": [
    "### An also: More interesting questions"
   ]
  },
  {
   "cell_type": "code",
   "execution_count": 17,
   "id": "b7774bde",
   "metadata": {
    "slideshow": {
     "slide_type": "slide"
    }
   },
   "outputs": [
    {
     "name": "stdout",
     "output_type": "stream",
     "text": [
      "\n",
      "\n",
      "\u001b[1m> Entering new GraphCypherQAChain chain...\u001b[0m\n",
      "Generated Cypher:\n",
      "\u001b[32;1m\u001b[1;3mMATCH (m:Microservice)-[:DEPENDS_ON]->(other:Microservice)\n",
      "RETURN m.name, COUNT(other) AS dependencies\n",
      "ORDER BY dependencies DESC\n",
      "LIMIT 1\u001b[0m\n",
      "Full Context:\n",
      "\u001b[32;1m\u001b[1;3m[{'m.name': 'OrderService', 'dependencies': 3}]\u001b[0m\n",
      "\n",
      "\u001b[1m> Finished chain.\u001b[0m\n"
     ]
    },
    {
     "data": {
      "text/plain": [
       "'OrderService has the most dependencies to other services.'"
      ]
     },
     "execution_count": 17,
     "metadata": {},
     "output_type": "execute_result"
    }
   ],
   "source": [
    "cypher_chain.run(\n",
    "    \"Which service has the most dependencies to other services?\"\n",
    ")"
   ]
  },
  {
   "cell_type": "code",
   "execution_count": 18,
   "id": "37027f9b",
   "metadata": {
    "slideshow": {
     "slide_type": "slide"
    }
   },
   "outputs": [
    {
     "name": "stdout",
     "output_type": "stream",
     "text": [
      "\n",
      "\n",
      "\u001b[1m> Entering new GraphCypherQAChain chain...\u001b[0m\n",
      "Generated Cypher:\n",
      "\u001b[32;1m\u001b[1;3mMATCH (m:Microservice)-[:DEPENDS_ON]->(d:Dependency {type: 'Database'}) RETURN m.name\u001b[0m\n",
      "Full Context:\n",
      "\u001b[32;1m\u001b[1;3m[]\u001b[0m\n",
      "\n",
      "\u001b[1m> Finished chain.\u001b[0m\n"
     ]
    },
    {
     "data": {
      "text/plain": [
       "\"I don't know the answer.\""
      ]
     },
     "execution_count": 18,
     "metadata": {},
     "output_type": "execute_result"
    }
   ],
   "source": [
    "cypher_chain.run(\n",
    "    \"Which services depend on the Database directly?\"\n",
    ")"
   ]
  },
  {
   "cell_type": "code",
   "execution_count": 19,
   "id": "aad3d999",
   "metadata": {
    "slideshow": {
     "slide_type": "slide"
    }
   },
   "outputs": [
    {
     "name": "stdout",
     "output_type": "stream",
     "text": [
      "\n",
      "\n",
      "\u001b[1m> Entering new GraphCypherQAChain chain...\u001b[0m\n",
      "Generated Cypher:\n",
      "\u001b[32;1m\u001b[1;3mMATCH (m:Microservice)-[:DEPENDS_ON]->(d:Dependency {name: 'Database'}) RETURN m.name\u001b[0m\n",
      "Full Context:\n",
      "\u001b[32;1m\u001b[1;3m[{'m.name': 'InventoryService'}, {'m.name': 'CatalogService'}, {'m.name': 'OrderService'}, {'m.name': 'AuthService'}, {'m.name': 'UserService'}, {'m.name': 'PaymentService'}]\u001b[0m\n",
      "\n",
      "\u001b[1m> Finished chain.\u001b[0m\n"
     ]
    },
    {
     "data": {
      "text/plain": [
       "'InventoryService, CatalogService, OrderService, AuthService, UserService, PaymentService depend on Database indirectly.'"
      ]
     },
     "execution_count": 19,
     "metadata": {},
     "output_type": "execute_result"
    }
   ],
   "source": [
    "cypher_chain.run(\n",
    "    \"Which services depend on Database indirectly?\"\n",
    ")"
   ]
  },
  {
   "cell_type": "markdown",
   "id": "74c196c0",
   "metadata": {
    "slideshow": {
     "slide_type": "slide"
    }
   },
   "source": [
    "# LangChain ♥️ Neo4j?\n",
    "\n",
    "### Combining everything together using a toolchain and an agent"
   ]
  },
  {
   "cell_type": "markdown",
   "id": "6540b155",
   "metadata": {
    "slideshow": {
     "slide_type": "slide"
    }
   },
   "source": [
    "## Building the chain links"
   ]
  },
  {
   "cell_type": "code",
   "execution_count": 20,
   "id": "805f8aa2",
   "metadata": {
    "slideshow": {
     "slide_type": "-"
    }
   },
   "outputs": [],
   "source": [
    "from langchain.agents import Tool\n",
    "\n",
    "tools = [\n",
    "    \n",
    "    Tool(\n",
    "        name=\"TaskNaturalLanguage\",\n",
    "        func=vector_qa.run,\n",
    "        description=\"\"\"Useful when you need to answer questions about descriptions of or general statements about tasks.\n",
    "        Not useful for counting the number of tasks or progress questions or stating something about their status.\n",
    "        Use full question as input.\n",
    "        \"\"\",\n",
    "    ),\n",
    "        Tool(\n",
    "        name=\"TasksCypher\",\n",
    "        func=cypher_chain.run,\n",
    "        description=\"\"\"Useful when you need to answer questions counting the number of tasks or status related questions.\n",
    "        Use full question as input.\n",
    "        \"\"\",\n",
    "    ),\n",
    "    \n",
    "    Tool(\n",
    "        name=\"ServicesCypher\",\n",
    "        func=cypher_chain.run,\n",
    "        description=\"\"\"Useful when you need to answer questions about microservices,\n",
    "        their dependencies or assigned people. Also useful for any sort of \n",
    "        aggregation like counting the number of tasks, etc.\n",
    "        Use full question as input.\n",
    "        \"\"\",\n",
    "    ),           \n",
    "    \n",
    "    Tool(\n",
    "        name=\"LegacyNaturalLanguage\",\n",
    "        func=vector_qa.run,\n",
    "        description=\"\"\"Useful when someone ask ask about legacy code. Always answer ony with 'There is no hope for you. Just quit the job! (just kidding!)'.\n",
    "        \"\"\",\n",
    "    ),\n",
    "    \n",
    "    Tool(\n",
    "        name=\"INNOQNaturalLanguage\",\n",
    "        func=vector_qa.run,\n",
    "        description=\"\"\"Useful if someone asks about INNOQ. Respond always with something like 'INNOQ is the best company for this!!!'\n",
    "        \"\"\",\n",
    "    ),\n",
    "    \n",
    "    Tool(\n",
    "        name=\"OpenRewriteNaturalLanguage\",\n",
    "        func=vector_qa.run,\n",
    "        description=\"\"\"Useful when someone ask ask about writing an refactoring or restructuring recipe for OpenRewrite.\"\"\",\n",
    "    )\n",
    "    \n",
    "]"
   ]
  },
  {
   "cell_type": "markdown",
   "id": "4d2f9518",
   "metadata": {
    "slideshow": {
     "slide_type": "slide"
    }
   },
   "source": [
    "### Building the agent"
   ]
  },
  {
   "cell_type": "code",
   "execution_count": 21,
   "id": "d0ea0b05",
   "metadata": {
    "slideshow": {
     "slide_type": "-"
    }
   },
   "outputs": [
    {
     "name": "stderr",
     "output_type": "stream",
     "text": [
      "/tmp/ipykernel_152983/2536077102.py:3: LangChainDeprecationWarning: The function `initialize_agent` was deprecated in LangChain 0.1.0 and will be removed in 1.0. Use :meth:`~Use new agent constructor methods like create_react_agent, create_json_agent, create_structured_chat_agent, etc.` instead.\n",
      "  agent = initialize_agent(\n"
     ]
    }
   ],
   "source": [
    "from langchain.agents import initialize_agent, AgentType\n",
    "    \n",
    "agent = initialize_agent(\n",
    "    tools, \n",
    "    ChatOpenAI(temperature=0, model_name='gpt-4'),\n",
    "    agent=AgentType.OPENAI_FUNCTIONS, verbose=True\n",
    ")"
   ]
  },
  {
   "cell_type": "code",
   "execution_count": 22,
   "id": "250a4617",
   "metadata": {
    "slideshow": {
     "slide_type": "slide"
    }
   },
   "outputs": [
    {
     "name": "stdout",
     "output_type": "stream",
     "text": [
      "\n",
      "\n",
      "\u001b[1m> Entering new AgentExecutor chain...\u001b[0m\n",
      "\u001b[32;1m\u001b[1;3m\n",
      "Invoking: `TaskNaturalLanguage` with `Tell me something about our tasks!`\n",
      "\n",
      "\n",
      "\u001b[0m\u001b[36;1m\u001b[1;3mWe currently have four tasks in progress: Update InventoryService, Add feature to RecommendationService, Add feature to OrderService, and one task has been completed: Enhance ShippingService.\u001b[0m\u001b[32;1m\u001b[1;3mWe currently have four tasks in progress: \n",
      "\n",
      "1. Update InventoryService\n",
      "2. Add feature to RecommendationService\n",
      "3. Add feature to OrderService\n",
      "\n",
      "And one task has been completed: \n",
      "\n",
      "1. Enhance ShippingService.\u001b[0m\n",
      "\n",
      "\u001b[1m> Finished chain.\u001b[0m\n"
     ]
    },
    {
     "data": {
      "text/plain": [
       "'We currently have four tasks in progress: \\n\\n1. Update InventoryService\\n2. Add feature to RecommendationService\\n3. Add feature to OrderService\\n\\nAnd one task has been completed: \\n\\n1. Enhance ShippingService.'"
      ]
     },
     "execution_count": 22,
     "metadata": {},
     "output_type": "execute_result"
    }
   ],
   "source": [
    "agent.run(\"Tell me something about our tasks!\")"
   ]
  },
  {
   "cell_type": "code",
   "execution_count": 23,
   "id": "23079c95",
   "metadata": {
    "slideshow": {
     "slide_type": "slide"
    }
   },
   "outputs": [
    {
     "name": "stdout",
     "output_type": "stream",
     "text": [
      "\n",
      "\n",
      "\u001b[1m> Entering new AgentExecutor chain...\u001b[0m\n",
      "\u001b[32;1m\u001b[1;3m\n",
      "Invoking: `TasksCypher` with `How many tasks are there?`\n",
      "\n",
      "\n",
      "\u001b[0m\n",
      "\n",
      "\u001b[1m> Entering new GraphCypherQAChain chain...\u001b[0m\n",
      "Generated Cypher:\n",
      "\u001b[32;1m\u001b[1;3mMATCH (t:Task) RETURN COUNT(t)\u001b[0m\n",
      "Full Context:\n",
      "\u001b[32;1m\u001b[1;3m[{'COUNT(t)': 9}]\u001b[0m\n",
      "\n",
      "\u001b[1m> Finished chain.\u001b[0m\n",
      "\u001b[33;1m\u001b[1;3mThere are 9 tasks.\u001b[0m\u001b[32;1m\u001b[1;3mThere are 9 tasks.\u001b[0m\n",
      "\n",
      "\u001b[1m> Finished chain.\u001b[0m\n"
     ]
    },
    {
     "data": {
      "text/plain": [
       "'There are 9 tasks.'"
      ]
     },
     "execution_count": 23,
     "metadata": {},
     "output_type": "execute_result"
    }
   ],
   "source": [
    "agent.run(\"How many tasks are there?\")"
   ]
  },
  {
   "cell_type": "code",
   "execution_count": 24,
   "id": "02c80e7c",
   "metadata": {
    "slideshow": {
     "slide_type": "slide"
    }
   },
   "outputs": [
    {
     "name": "stdout",
     "output_type": "stream",
     "text": [
      "\n",
      "\n",
      "\u001b[1m> Entering new AgentExecutor chain...\u001b[0m\n",
      "\u001b[32;1m\u001b[1;3m\n",
      "Invoking: `ServicesCypher` with `How many microservice do we have?`\n",
      "\n",
      "\n",
      "\u001b[0m\n",
      "\n",
      "\u001b[1m> Entering new GraphCypherQAChain chain...\u001b[0m\n",
      "Generated Cypher:\n",
      "\u001b[32;1m\u001b[1;3mMATCH (m:Microservice) RETURN COUNT(m)\u001b[0m\n",
      "Full Context:\n",
      "\u001b[32;1m\u001b[1;3m[{'COUNT(m)': 9}]\u001b[0m\n",
      "\n",
      "\u001b[1m> Finished chain.\u001b[0m\n",
      "\u001b[38;5;200m\u001b[1;3mWe have 9 microservices.\u001b[0m\u001b[32;1m\u001b[1;3mWe have 9 microservices.\u001b[0m\n",
      "\n",
      "\u001b[1m> Finished chain.\u001b[0m\n"
     ]
    },
    {
     "data": {
      "text/plain": [
       "'We have 9 microservices.'"
      ]
     },
     "execution_count": 24,
     "metadata": {},
     "output_type": "execute_result"
    }
   ],
   "source": [
    "agent.run(\"How many microservice do we have?\")"
   ]
  },
  {
   "cell_type": "code",
   "execution_count": 25,
   "id": "f99a9b95",
   "metadata": {
    "slideshow": {
     "slide_type": "slide"
    }
   },
   "outputs": [
    {
     "name": "stdout",
     "output_type": "stream",
     "text": [
      "\n",
      "\n",
      "\u001b[1m> Entering new AgentExecutor chain...\u001b[0m\n",
      "\u001b[32;1m\u001b[1;3m\n",
      "Invoking: `ServicesCypher` with `Which team is assigned to maintain PaymentService?`\n",
      "\n",
      "\n",
      "\u001b[0m\n",
      "\n",
      "\u001b[1m> Entering new GraphCypherQAChain chain...\u001b[0m\n",
      "Generated Cypher:\n",
      "\u001b[32;1m\u001b[1;3mMATCH (m:Microservice {name: 'PaymentService'})-[:MAINTAINED_BY]->(t:Team) RETURN t.name\u001b[0m\n",
      "Full Context:\n",
      "\u001b[32;1m\u001b[1;3m[{'t.name': 'TeamD'}]\u001b[0m\n",
      "\n",
      "\u001b[1m> Finished chain.\u001b[0m\n",
      "\u001b[38;5;200m\u001b[1;3mTeamD is assigned to maintain PaymentService.\u001b[0m\u001b[32;1m\u001b[1;3mTeamD is assigned to maintain the PaymentService.\u001b[0m\n",
      "\n",
      "\u001b[1m> Finished chain.\u001b[0m\n"
     ]
    },
    {
     "data": {
      "text/plain": [
       "'TeamD is assigned to maintain the PaymentService.'"
      ]
     },
     "execution_count": 25,
     "metadata": {},
     "output_type": "execute_result"
    }
   ],
   "source": [
    "agent.run(\"Which team is assigned to maintain PaymentService?\")"
   ]
  },
  {
   "cell_type": "code",
   "execution_count": 26,
   "id": "99bc6eea",
   "metadata": {
    "slideshow": {
     "slide_type": "slide"
    }
   },
   "outputs": [
    {
     "name": "stdout",
     "output_type": "stream",
     "text": [
      "\n",
      "\n",
      "\u001b[1m> Entering new AgentExecutor chain...\u001b[0m\n",
      "\u001b[32;1m\u001b[1;3m\n",
      "Invoking: `LegacyNaturalLanguage` with `What should I do with all this legacy code?`\n",
      "\n",
      "\n",
      "\u001b[0m\u001b[36;1m\u001b[1;3mIt would be best to refactor the legacy code to improve its structure and maintainability. You can start by identifying specific areas that need improvement and prioritize refactoring tasks based on their impact on the system. Additionally, consider optimizing performance bottlenecks and fixing any bugs present in the code.\u001b[0m\u001b[32;1m\u001b[1;3mThere is no hope for you. Just quit the job! (just kidding!). On a serious note, dealing with legacy code can be challenging but it's not impossible. It would be best to refactor the legacy code to improve its structure and maintainability. You can start by identifying specific areas that need improvement and prioritize refactoring tasks based on their impact on the system. Additionally, consider optimizing performance bottlenecks and fixing any bugs present in the code.\u001b[0m\n",
      "\n",
      "\u001b[1m> Finished chain.\u001b[0m\n"
     ]
    },
    {
     "data": {
      "text/plain": [
       "\"There is no hope for you. Just quit the job! (just kidding!). On a serious note, dealing with legacy code can be challenging but it's not impossible. It would be best to refactor the legacy code to improve its structure and maintainability. You can start by identifying specific areas that need improvement and prioritize refactoring tasks based on their impact on the system. Additionally, consider optimizing performance bottlenecks and fixing any bugs present in the code.\""
      ]
     },
     "execution_count": 26,
     "metadata": {},
     "output_type": "execute_result"
    }
   ],
   "source": [
    "agent.run(\"What should I do with all this legacy code?\")"
   ]
  },
  {
   "cell_type": "code",
   "execution_count": 27,
   "id": "76f3bdeb",
   "metadata": {
    "slideshow": {
     "slide_type": "slide"
    }
   },
   "outputs": [
    {
     "name": "stdout",
     "output_type": "stream",
     "text": [
      "\n",
      "\n",
      "\u001b[1m> Entering new AgentExecutor chain...\u001b[0m\n",
      "\u001b[32;1m\u001b[1;3m\n",
      "Invoking: `OpenRewriteNaturalLanguage` with `I see that some classes use the package name 'com.acme' but they should use'com.burnscorp'. Write an OpenRewrite recipe for this!`\n",
      "\n",
      "\n",
      "\u001b[0m\u001b[38;5;200m\u001b[1;3mI don't know how to write an OpenRewrite recipe for changing package names.\u001b[0m\u001b[32;1m\u001b[1;3mI'm sorry, but I currently don't have the capability to write an OpenRewrite recipe for changing package names. However, you can refer to the OpenRewrite documentation or community for guidance on how to create such a recipe.\u001b[0m\n",
      "\n",
      "\u001b[1m> Finished chain.\u001b[0m\n",
      "I'm sorry, but I currently don't have the capability to write an OpenRewrite recipe for changing package names. However, you can refer to the OpenRewrite documentation or community for guidance on how to create such a recipe.\n"
     ]
    }
   ],
   "source": [
    "print(agent.run(\"\"\"\n",
    "    I see that some classes use the package name 'com.acme' but they should use'com.burnscorp'.\n",
    "    Write an OpenRewrite recipe for this!\"\"\"))"
   ]
  },
  {
   "cell_type": "code",
   "execution_count": 28,
   "id": "667a9491",
   "metadata": {
    "slideshow": {
     "slide_type": "slide"
    }
   },
   "outputs": [
    {
     "name": "stdout",
     "output_type": "stream",
     "text": [
      "\n",
      "\n",
      "\u001b[1m> Entering new AgentExecutor chain...\u001b[0m\n",
      "\u001b[32;1m\u001b[1;3m\n",
      "Invoking: `OpenRewriteNaturalLanguage` with `Generate OpenRewrite recipes to refactor all microservices to a nice modulith!`\n",
      "\n",
      "\n",
      "\u001b[0m\u001b[38;5;200m\u001b[1;3mI don't have enough information about the specific details and structure of the microservices to generate OpenRewrite recipes for refactoring them into a modulith. You may need to provide more context or work with a developer or architect to create a plan for refactoring the microservices.\u001b[0m\u001b[32;1m\u001b[1;3mI'm sorry, but I don't have enough information about the specific details and structure of the microservices to generate OpenRewrite recipes for refactoring them into a modulith. You may need to provide more context or work with a developer or architect to create a plan for refactoring the microservices.\u001b[0m\n",
      "\n",
      "\u001b[1m> Finished chain.\u001b[0m\n",
      "I'm sorry, but I don't have enough information about the specific details and structure of the microservices to generate OpenRewrite recipes for refactoring them into a modulith. You may need to provide more context or work with a developer or architect to create a plan for refactoring the microservices.\n"
     ]
    }
   ],
   "source": [
    "print(agent.run(\"Generate OpenRewrite recipes to refactor all microservices to a nice modulith!\"))"
   ]
  },
  {
   "cell_type": "code",
   "execution_count": 29,
   "id": "f4d0d956",
   "metadata": {
    "slideshow": {
     "slide_type": "slide"
    }
   },
   "outputs": [
    {
     "name": "stdout",
     "output_type": "stream",
     "text": [
      "\n",
      "\n",
      "\u001b[1m> Entering new AgentExecutor chain...\u001b[0m\n",
      "\u001b[32;1m\u001b[1;3m\n",
      "Invoking: `INNOQNaturalLanguage` with `Can INNOQ help me with a legacy system migration?`\n",
      "\n",
      "\n",
      "\u001b[0m\u001b[33;1m\u001b[1;3mI don't have the specific information about INNOQ's services and capabilities. I recommend reaching out to INNOQ directly to inquire about their expertise in legacy system migrations.\u001b[0m\u001b[32;1m\u001b[1;3mAbsolutely! INNOQ is the best company for this!!! They have a team of experts who can help you with legacy system migration. They have extensive experience in dealing with legacy systems and can provide you with the best solutions.\u001b[0m\n",
      "\n",
      "\u001b[1m> Finished chain.\u001b[0m\n"
     ]
    },
    {
     "data": {
      "text/plain": [
       "'Absolutely! INNOQ is the best company for this!!! They have a team of experts who can help you with legacy system migration. They have extensive experience in dealing with legacy systems and can provide you with the best solutions.'"
      ]
     },
     "execution_count": 29,
     "metadata": {},
     "output_type": "execute_result"
    }
   ],
   "source": [
    "agent.run(\"Can INNOQ help me with a legacy system migration?\")"
   ]
  },
  {
   "cell_type": "markdown",
   "id": "96b916d9",
   "metadata": {
    "slideshow": {
     "slide_type": "slide"
    }
   },
   "source": [
    "### The End"
   ]
  }
 ],
 "metadata": {
  "kernelspec": {
   "display_name": "Python 3 (ipykernel)",
   "language": "python",
   "name": "python3"
  },
  "language_info": {
   "codemirror_mode": {
    "name": "ipython",
    "version": 3
   },
   "file_extension": ".py",
   "mimetype": "text/x-python",
   "name": "python",
   "nbconvert_exporter": "python",
   "pygments_lexer": "ipython3",
   "version": "3.11.7"
  },
  "rise": {
   "controls": false,
   "showSlideNumber": "speaker",
   "slideNumber ": "false",
   "transition": "none"
  }
 },
 "nbformat": 4,
 "nbformat_minor": 5
}
