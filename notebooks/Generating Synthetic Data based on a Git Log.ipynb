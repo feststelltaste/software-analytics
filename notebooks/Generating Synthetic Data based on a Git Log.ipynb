{
 "cells": [
  {
   "cell_type": "markdown",
   "metadata": {},
   "source": [
    "## Context\n",
    "\n",
    "Often, it isn't possible to get the real data where we applied our analysis. In these cases, we can generate similar dataset that contain similar phenomena based on real data. This notebook shows an example about how we can do it."
   ]
  },
  {
   "cell_type": "markdown",
   "metadata": {},
   "source": [
    "## Get base data\n",
    "The data, we want to derive another dataset. It's just there to get some realistic file names"
   ]
  },
  {
   "cell_type": "code",
   "execution_count": 1,
   "metadata": {},
   "outputs": [
    {
     "data": {
      "text/html": [
       "<div>\n",
       "<style scoped>\n",
       "    .dataframe tbody tr th:only-of-type {\n",
       "        vertical-align: middle;\n",
       "    }\n",
       "\n",
       "    .dataframe tbody tr th {\n",
       "        vertical-align: top;\n",
       "    }\n",
       "\n",
       "    .dataframe thead th {\n",
       "        text-align: right;\n",
       "    }\n",
       "</style>\n",
       "<table border=\"1\" class=\"dataframe\">\n",
       "  <thead>\n",
       "    <tr style=\"text-align: right;\">\n",
       "      <th></th>\n",
       "      <th>additions</th>\n",
       "      <th>deletions</th>\n",
       "      <th>file</th>\n",
       "      <th>sha</th>\n",
       "      <th>timestamp</th>\n",
       "      <th>author</th>\n",
       "    </tr>\n",
       "  </thead>\n",
       "  <tbody>\n",
       "    <tr>\n",
       "      <th>1</th>\n",
       "      <td>1</td>\n",
       "      <td>1</td>\n",
       "      <td>pom.xml</td>\n",
       "      <td>f96d80e</td>\n",
       "      <td>2018-06-12 08:32:28</td>\n",
       "      <td>Dirk Mahler</td>\n",
       "    </tr>\n",
       "    <tr>\n",
       "      <th>3</th>\n",
       "      <td>5</td>\n",
       "      <td>5</td>\n",
       "      <td>jqassistant/layer.adoc</td>\n",
       "      <td>d6e9509</td>\n",
       "      <td>2018-05-30 14:59:44</td>\n",
       "      <td>Dirk Mahler</td>\n",
       "    </tr>\n",
       "    <tr>\n",
       "      <th>5</th>\n",
       "      <td>1</td>\n",
       "      <td>1</td>\n",
       "      <td>jqassistant/layer.adoc</td>\n",
       "      <td>87b88d9</td>\n",
       "      <td>2018-05-18 22:43:32</td>\n",
       "      <td>Dirk Mahler</td>\n",
       "    </tr>\n",
       "    <tr>\n",
       "      <th>7</th>\n",
       "      <td>4</td>\n",
       "      <td>0</td>\n",
       "      <td>pom.xml</td>\n",
       "      <td>ebb50e0</td>\n",
       "      <td>2018-05-17 20:51:14</td>\n",
       "      <td>Dirk Mahler</td>\n",
       "    </tr>\n",
       "    <tr>\n",
       "      <th>9</th>\n",
       "      <td>1</td>\n",
       "      <td>1</td>\n",
       "      <td>jqassistant/index.adoc</td>\n",
       "      <td>b9b6dcf</td>\n",
       "      <td>2018-05-16 21:32:29</td>\n",
       "      <td>Dirk Mahler</td>\n",
       "    </tr>\n",
       "  </tbody>\n",
       "</table>\n",
       "</div>"
      ],
      "text/plain": [
       "  additions deletions                    file      sha           timestamp  \\\n",
       "1         1         1                 pom.xml  f96d80e 2018-06-12 08:32:28   \n",
       "3         5         5  jqassistant/layer.adoc  d6e9509 2018-05-30 14:59:44   \n",
       "5         1         1  jqassistant/layer.adoc  87b88d9 2018-05-18 22:43:32   \n",
       "7         4         0                 pom.xml  ebb50e0 2018-05-17 20:51:14   \n",
       "9         1         1  jqassistant/index.adoc  b9b6dcf 2018-05-16 21:32:29   \n",
       "\n",
       "        author  \n",
       "1  Dirk Mahler  \n",
       "3  Dirk Mahler  \n",
       "5  Dirk Mahler  \n",
       "7  Dirk Mahler  \n",
       "9  Dirk Mahler  "
      ]
     },
     "execution_count": 1,
     "metadata": {},
     "output_type": "execute_result"
    }
   ],
   "source": [
    "from lib.ozapfdis import git_tc\n",
    "\n",
    "log = git_tc.log_numstat(\"C:/dev/repos/buschmais-spring-petclinic\")\n",
    "log.head()"
   ]
  },
  {
   "cell_type": "code",
   "execution_count": 2,
   "metadata": {},
   "outputs": [
    {
     "data": {
      "text/html": [
       "<div>\n",
       "<style scoped>\n",
       "    .dataframe tbody tr th:only-of-type {\n",
       "        vertical-align: middle;\n",
       "    }\n",
       "\n",
       "    .dataframe tbody tr th {\n",
       "        vertical-align: top;\n",
       "    }\n",
       "\n",
       "    .dataframe thead th {\n",
       "        text-align: right;\n",
       "    }\n",
       "</style>\n",
       "<table border=\"1\" class=\"dataframe\">\n",
       "  <thead>\n",
       "    <tr style=\"text-align: right;\">\n",
       "      <th></th>\n",
       "      <th>additions</th>\n",
       "      <th>deletions</th>\n",
       "      <th>file</th>\n",
       "      <th>sha</th>\n",
       "      <th>timestamp</th>\n",
       "      <th>author</th>\n",
       "      <th>type</th>\n",
       "    </tr>\n",
       "  </thead>\n",
       "  <tbody>\n",
       "    <tr>\n",
       "      <th>234</th>\n",
       "      <td>4</td>\n",
       "      <td>5</td>\n",
       "      <td>src/test/java/org/springframework/samples/petc...</td>\n",
       "      <td>e525415</td>\n",
       "      <td>2016-08-19 16:54:56</td>\n",
       "      <td>Antoine Rey</td>\n",
       "      <td>other</td>\n",
       "    </tr>\n",
       "    <tr>\n",
       "      <th>235</th>\n",
       "      <td>25</td>\n",
       "      <td>7</td>\n",
       "      <td>src/test/java/org/springframework/samples/petc...</td>\n",
       "      <td>e525415</td>\n",
       "      <td>2016-08-19 16:54:56</td>\n",
       "      <td>Antoine Rey</td>\n",
       "      <td>other</td>\n",
       "    </tr>\n",
       "    <tr>\n",
       "      <th>236</th>\n",
       "      <td>21</td>\n",
       "      <td>9</td>\n",
       "      <td>src/test/java/org/springframework/samples/petc...</td>\n",
       "      <td>e525415</td>\n",
       "      <td>2016-08-19 16:54:56</td>\n",
       "      <td>Antoine Rey</td>\n",
       "      <td>other</td>\n",
       "    </tr>\n",
       "    <tr>\n",
       "      <th>237</th>\n",
       "      <td>23</td>\n",
       "      <td>3</td>\n",
       "      <td>src/test/java/org/springframework/samples/petc...</td>\n",
       "      <td>e525415</td>\n",
       "      <td>2016-08-19 16:54:56</td>\n",
       "      <td>Antoine Rey</td>\n",
       "      <td>other</td>\n",
       "    </tr>\n",
       "    <tr>\n",
       "      <th>238</th>\n",
       "      <td>10</td>\n",
       "      <td>6</td>\n",
       "      <td>src/test/java/org/springframework/samples/petc...</td>\n",
       "      <td>e525415</td>\n",
       "      <td>2016-08-19 16:54:56</td>\n",
       "      <td>Antoine Rey</td>\n",
       "      <td>other</td>\n",
       "    </tr>\n",
       "  </tbody>\n",
       "</table>\n",
       "</div>"
      ],
      "text/plain": [
       "    additions deletions                                               file  \\\n",
       "234         4         5  src/test/java/org/springframework/samples/petc...   \n",
       "235        25         7  src/test/java/org/springframework/samples/petc...   \n",
       "236        21         9  src/test/java/org/springframework/samples/petc...   \n",
       "237        23         3  src/test/java/org/springframework/samples/petc...   \n",
       "238        10         6  src/test/java/org/springframework/samples/petc...   \n",
       "\n",
       "         sha           timestamp       author   type  \n",
       "234  e525415 2016-08-19 16:54:56  Antoine Rey  other  \n",
       "235  e525415 2016-08-19 16:54:56  Antoine Rey  other  \n",
       "236  e525415 2016-08-19 16:54:56  Antoine Rey  other  \n",
       "237  e525415 2016-08-19 16:54:56  Antoine Rey  other  \n",
       "238  e525415 2016-08-19 16:54:56  Antoine Rey  other  "
      ]
     },
     "execution_count": 2,
     "metadata": {},
     "output_type": "execute_result"
    }
   ],
   "source": [
    "log = log[log.file.str.contains(\".java\")]\n",
    "log.loc[log.file.str.contains(\"/jdbc/\"), 'type'] = \"jdbc\"\n",
    "log.loc[log.file.str.contains(\"/jpa/\"), 'type'] = \"jpa\"\n",
    "log.loc[log.type.isna(), 'type'] = \"other\"\n",
    "log.head()"
   ]
  },
  {
   "cell_type": "markdown",
   "metadata": {},
   "source": [
    "## Create synthetic dataset 1\n",
    "For the first technology, where \"JDBC\" was used."
   ]
  },
  {
   "cell_type": "markdown",
   "metadata": {},
   "source": [
    "### Create committed lines"
   ]
  },
  {
   "cell_type": "code",
   "execution_count": 3,
   "metadata": {},
   "outputs": [
    {
     "data": {
      "text/html": [
       "<div>\n",
       "<style scoped>\n",
       "    .dataframe tbody tr th:only-of-type {\n",
       "        vertical-align: middle;\n",
       "    }\n",
       "\n",
       "    .dataframe tbody tr th {\n",
       "        vertical-align: top;\n",
       "    }\n",
       "\n",
       "    .dataframe thead th {\n",
       "        text-align: right;\n",
       "    }\n",
       "</style>\n",
       "<table border=\"1\" class=\"dataframe\">\n",
       "  <thead>\n",
       "    <tr style=\"text-align: right;\">\n",
       "      <th></th>\n",
       "      <th>lines</th>\n",
       "    </tr>\n",
       "  </thead>\n",
       "  <tbody>\n",
       "    <tr>\n",
       "      <th>0</th>\n",
       "      <td>118</td>\n",
       "    </tr>\n",
       "    <tr>\n",
       "      <th>1</th>\n",
       "      <td>50</td>\n",
       "    </tr>\n",
       "    <tr>\n",
       "      <th>2</th>\n",
       "      <td>78</td>\n",
       "    </tr>\n",
       "    <tr>\n",
       "      <th>3</th>\n",
       "      <td>142</td>\n",
       "    </tr>\n",
       "    <tr>\n",
       "      <th>4</th>\n",
       "      <td>123</td>\n",
       "    </tr>\n",
       "  </tbody>\n",
       "</table>\n",
       "</div>"
      ],
      "text/plain": [
       "   lines\n",
       "0    118\n",
       "1     50\n",
       "2     78\n",
       "3    142\n",
       "4    123"
      ]
     },
     "execution_count": 3,
     "metadata": {},
     "output_type": "execute_result"
    }
   ],
   "source": [
    "import numpy as np\n",
    "import pandas as pd\n",
    "\n",
    "np.random.seed(0)\n",
    "# adding period\n",
    "added_lines = [int(np.random.normal(30,50)) for i in range(0,600)]\n",
    "# deleting period\n",
    "added_lines.extend([int(np.random.normal(-50,100)) for i in range(0,200)])\n",
    "added_lines.extend([int(np.random.normal(-2,20)) for i in range(0,200)])\n",
    "added_lines.extend([int(np.random.normal(-3,10)) for i in range(0,200)])\n",
    "df_jdbc = pd.DataFrame()\n",
    "df_jdbc['lines'] = added_lines\n",
    "df_jdbc.head()"
   ]
  },
  {
   "cell_type": "markdown",
   "metadata": {},
   "source": [
    "### Add timestamp"
   ]
  },
  {
   "cell_type": "code",
   "execution_count": 4,
   "metadata": {},
   "outputs": [
    {
     "data": {
      "text/plain": [
       "0   00:00:00\n",
       "1   00:00:01\n",
       "2   00:00:02\n",
       "3   00:00:03\n",
       "4   00:00:04\n",
       "dtype: timedelta64[ns]"
      ]
     },
     "execution_count": 4,
     "metadata": {},
     "output_type": "execute_result"
    }
   ],
   "source": [
    "times = pd.timedelta_range(\"00:00:00\",\"23:59:59\", freq=\"s\")\n",
    "times = pd.Series(times)\n",
    "times.head()"
   ]
  },
  {
   "cell_type": "code",
   "execution_count": 5,
   "metadata": {},
   "outputs": [
    {
     "data": {
      "text/plain": [
       "0   2013-05-15 03:35:33\n",
       "1   2013-05-16 02:15:44\n",
       "2   2013-05-17 15:12:26\n",
       "3   2013-05-20 00:16:06\n",
       "4   2013-05-21 17:43:53\n",
       "dtype: datetime64[ns]"
      ]
     },
     "execution_count": 5,
     "metadata": {},
     "output_type": "execute_result"
    }
   ],
   "source": [
    "dates = pd.date_range('2013-05-15', '2017-07-23')\n",
    "dates = pd.to_datetime(dates)\n",
    "dates = dates[~dates.dayofweek.isin([5,6])]\n",
    "dates = pd.Series(dates)\n",
    "dates = dates.add(times.sample(len(dates), replace=True).values)\n",
    "dates.head()"
   ]
  },
  {
   "cell_type": "code",
   "execution_count": 6,
   "metadata": {},
   "outputs": [
    {
     "data": {
      "text/html": [
       "<div>\n",
       "<style scoped>\n",
       "    .dataframe tbody tr th:only-of-type {\n",
       "        vertical-align: middle;\n",
       "    }\n",
       "\n",
       "    .dataframe tbody tr th {\n",
       "        vertical-align: top;\n",
       "    }\n",
       "\n",
       "    .dataframe thead th {\n",
       "        text-align: right;\n",
       "    }\n",
       "</style>\n",
       "<table border=\"1\" class=\"dataframe\">\n",
       "  <thead>\n",
       "    <tr style=\"text-align: right;\">\n",
       "      <th></th>\n",
       "      <th>lines</th>\n",
       "      <th>timestamp</th>\n",
       "    </tr>\n",
       "  </thead>\n",
       "  <tbody>\n",
       "    <tr>\n",
       "      <th>0</th>\n",
       "      <td>118</td>\n",
       "      <td>2013-05-15 03:35:33</td>\n",
       "    </tr>\n",
       "    <tr>\n",
       "      <th>1</th>\n",
       "      <td>50</td>\n",
       "      <td>2013-05-16 02:15:44</td>\n",
       "    </tr>\n",
       "    <tr>\n",
       "      <th>2</th>\n",
       "      <td>78</td>\n",
       "      <td>2013-05-17 15:12:26</td>\n",
       "    </tr>\n",
       "    <tr>\n",
       "      <th>3</th>\n",
       "      <td>142</td>\n",
       "      <td>2013-05-24 05:52:31</td>\n",
       "    </tr>\n",
       "    <tr>\n",
       "      <th>4</th>\n",
       "      <td>123</td>\n",
       "      <td>2013-05-28 08:15:35</td>\n",
       "    </tr>\n",
       "  </tbody>\n",
       "</table>\n",
       "</div>"
      ],
      "text/plain": [
       "   lines           timestamp\n",
       "0    118 2013-05-15 03:35:33\n",
       "1     50 2013-05-16 02:15:44\n",
       "2     78 2013-05-17 15:12:26\n",
       "3    142 2013-05-24 05:52:31\n",
       "4    123 2013-05-28 08:15:35"
      ]
     },
     "execution_count": 6,
     "metadata": {},
     "output_type": "execute_result"
    }
   ],
   "source": [
    "df_jdbc['timestamp'] = dates.sample(len(df_jdbc), replace=True).sort_values().reset_index(drop=True)\n",
    "df_jdbc = df_jdbc.sort_index()\n",
    "df_jdbc.head()"
   ]
  },
  {
   "cell_type": "markdown",
   "metadata": {},
   "source": [
    "### Treat first commit separetely\n",
    "Set a fixed value because we have to start with some code at the beginning"
   ]
  },
  {
   "cell_type": "code",
   "execution_count": 7,
   "metadata": {},
   "outputs": [
    {
     "data": {
      "text/html": [
       "<div>\n",
       "<style scoped>\n",
       "    .dataframe tbody tr th:only-of-type {\n",
       "        vertical-align: middle;\n",
       "    }\n",
       "\n",
       "    .dataframe tbody tr th {\n",
       "        vertical-align: top;\n",
       "    }\n",
       "\n",
       "    .dataframe thead th {\n",
       "        text-align: right;\n",
       "    }\n",
       "</style>\n",
       "<table border=\"1\" class=\"dataframe\">\n",
       "  <thead>\n",
       "    <tr style=\"text-align: right;\">\n",
       "      <th></th>\n",
       "      <th>lines</th>\n",
       "      <th>timestamp</th>\n",
       "    </tr>\n",
       "  </thead>\n",
       "  <tbody>\n",
       "    <tr>\n",
       "      <th>0</th>\n",
       "      <td>250</td>\n",
       "      <td>2013-05-15 03:35:33</td>\n",
       "    </tr>\n",
       "    <tr>\n",
       "      <th>1</th>\n",
       "      <td>50</td>\n",
       "      <td>2013-05-16 02:15:44</td>\n",
       "    </tr>\n",
       "    <tr>\n",
       "      <th>2</th>\n",
       "      <td>78</td>\n",
       "      <td>2013-05-17 15:12:26</td>\n",
       "    </tr>\n",
       "    <tr>\n",
       "      <th>3</th>\n",
       "      <td>142</td>\n",
       "      <td>2013-05-24 05:52:31</td>\n",
       "    </tr>\n",
       "    <tr>\n",
       "      <th>4</th>\n",
       "      <td>123</td>\n",
       "      <td>2013-05-28 08:15:35</td>\n",
       "    </tr>\n",
       "  </tbody>\n",
       "</table>\n",
       "</div>"
      ],
      "text/plain": [
       "   lines           timestamp\n",
       "0    250 2013-05-15 03:35:33\n",
       "1     50 2013-05-16 02:15:44\n",
       "2     78 2013-05-17 15:12:26\n",
       "3    142 2013-05-24 05:52:31\n",
       "4    123 2013-05-28 08:15:35"
      ]
     },
     "execution_count": 7,
     "metadata": {},
     "output_type": "execute_result"
    }
   ],
   "source": [
    "df_jdbc.loc[0, 'lines'] = 250\n",
    "df_jdbc.head()"
   ]
  },
  {
   "cell_type": "code",
   "execution_count": 8,
   "metadata": {},
   "outputs": [],
   "source": [
    "df_jdbc = df_jdbc"
   ]
  },
  {
   "cell_type": "markdown",
   "metadata": {},
   "source": [
    "### Add file names\n",
    "Sample file names including their paths from an existing dataset"
   ]
  },
  {
   "cell_type": "code",
   "execution_count": 9,
   "metadata": {},
   "outputs": [],
   "source": [
    "df_jdbc['file'] = log[log['type'] == 'jdbc']['file'].sample(len(df_jdbc), replace=True).values"
   ]
  },
  {
   "cell_type": "markdown",
   "metadata": {},
   "source": [
    "### Check dataset"
   ]
  },
  {
   "cell_type": "code",
   "execution_count": 10,
   "metadata": {},
   "outputs": [
    {
     "data": {
      "text/plain": [
       "<matplotlib.axes._subplots.AxesSubplot at 0x1e7b24efe10>"
      ]
     },
     "execution_count": 10,
     "metadata": {},
     "output_type": "execute_result"
    },
    {
     "data": {
      "image/png": "[encoded data removed]",
      "text/plain": [
       "<matplotlib.figure.Figure at 0x1e7b1eb77b8>"
      ]
     },
     "metadata": {},
     "output_type": "display_data"
    }
   ],
   "source": [
    "%matplotlib inline\n",
    "df_jdbc.lines.hist()"
   ]
  },
  {
   "cell_type": "markdown",
   "metadata": {},
   "source": [
    "Sum up the data and check if it was created as wanted."
   ]
  },
  {
   "cell_type": "code",
   "execution_count": 11,
   "metadata": {},
   "outputs": [
    {
     "data": {
      "text/plain": [
       "<matplotlib.axes._subplots.AxesSubplot at 0x1e7b25926d8>"
      ]
     },
     "execution_count": 11,
     "metadata": {},
     "output_type": "execute_result"
    },
    {
     "data": {
      "image/png": "[encoded data removed]",
      "text/plain": [
       "<matplotlib.figure.Figure at 0x1e7b2349518>"
      ]
     },
     "metadata": {},
     "output_type": "display_data"
    }
   ],
   "source": [
    "df_jdbc_timed = df_jdbc.set_index('timestamp')\n",
    "df_jdbc_timed['count'] = df_jdbc_timed.lines.cumsum()\n",
    "df_jdbc_timed['count'].plot()"
   ]
  },
  {
   "cell_type": "code",
   "execution_count": 12,
   "metadata": {},
   "outputs": [
    {
     "data": {
      "text/plain": [
       "Timestamp('2017-07-21 19:02:47')"
      ]
     },
     "execution_count": 12,
     "metadata": {},
     "output_type": "execute_result"
    }
   ],
   "source": [
    "last_non_zero_timestamp = df_jdbc_timed[df_jdbc_timed['count'] >= 0].index.max()\n",
    "last_non_zero_timestamp"
   ]
  },
  {
   "cell_type": "code",
   "execution_count": 13,
   "metadata": {},
   "outputs": [
    {
     "data": {
      "text/html": [
       "<div>\n",
       "<style scoped>\n",
       "    .dataframe tbody tr th:only-of-type {\n",
       "        vertical-align: middle;\n",
       "    }\n",
       "\n",
       "    .dataframe tbody tr th {\n",
       "        vertical-align: top;\n",
       "    }\n",
       "\n",
       "    .dataframe thead th {\n",
       "        text-align: right;\n",
       "    }\n",
       "</style>\n",
       "<table border=\"1\" class=\"dataframe\">\n",
       "  <thead>\n",
       "    <tr style=\"text-align: right;\">\n",
       "      <th></th>\n",
       "      <th>lines</th>\n",
       "      <th>timestamp</th>\n",
       "      <th>file</th>\n",
       "    </tr>\n",
       "  </thead>\n",
       "  <tbody>\n",
       "    <tr>\n",
       "      <th>0</th>\n",
       "      <td>250</td>\n",
       "      <td>2013-05-15 03:35:33</td>\n",
       "      <td>src/main/java/org/springframework/samples/petc...</td>\n",
       "    </tr>\n",
       "    <tr>\n",
       "      <th>1</th>\n",
       "      <td>50</td>\n",
       "      <td>2013-05-16 02:15:44</td>\n",
       "      <td>src/main/java/org/springframework/samples/petc...</td>\n",
       "    </tr>\n",
       "    <tr>\n",
       "      <th>2</th>\n",
       "      <td>78</td>\n",
       "      <td>2013-05-17 15:12:26</td>\n",
       "      <td>src/main/java/org/springframework/samples/petc...</td>\n",
       "    </tr>\n",
       "    <tr>\n",
       "      <th>3</th>\n",
       "      <td>142</td>\n",
       "      <td>2013-05-24 05:52:31</td>\n",
       "      <td>src/main/java/org/springframework/samples/petc...</td>\n",
       "    </tr>\n",
       "    <tr>\n",
       "      <th>4</th>\n",
       "      <td>123</td>\n",
       "      <td>2013-05-28 08:15:35</td>\n",
       "      <td>src/main/java/org/springframework/samples/petc...</td>\n",
       "    </tr>\n",
       "  </tbody>\n",
       "</table>\n",
       "</div>"
      ],
      "text/plain": [
       "   lines           timestamp  \\\n",
       "0    250 2013-05-15 03:35:33   \n",
       "1     50 2013-05-16 02:15:44   \n",
       "2     78 2013-05-17 15:12:26   \n",
       "3    142 2013-05-24 05:52:31   \n",
       "4    123 2013-05-28 08:15:35   \n",
       "\n",
       "                                                file  \n",
       "0  src/main/java/org/springframework/samples/petc...  \n",
       "1  src/main/java/org/springframework/samples/petc...  \n",
       "2  src/main/java/org/springframework/samples/petc...  \n",
       "3  src/main/java/org/springframework/samples/petc...  \n",
       "4  src/main/java/org/springframework/samples/petc...  "
      ]
     },
     "execution_count": 13,
     "metadata": {},
     "output_type": "execute_result"
    }
   ],
   "source": [
    "df_jdbc = df_jdbc[df_jdbc.timestamp <= last_non_zero_timestamp]\n",
    "df_jdbc.head()"
   ]
  },
  {
   "cell_type": "markdown",
   "metadata": {},
   "source": [
    "## Create synthetic dataset 2"
   ]
  },
  {
   "cell_type": "code",
   "execution_count": 14,
   "metadata": {},
   "outputs": [
    {
     "data": {
      "text/html": [
       "<div>\n",
       "<style scoped>\n",
       "    .dataframe tbody tr th:only-of-type {\n",
       "        vertical-align: middle;\n",
       "    }\n",
       "\n",
       "    .dataframe tbody tr th {\n",
       "        vertical-align: top;\n",
       "    }\n",
       "\n",
       "    .dataframe thead th {\n",
       "        text-align: right;\n",
       "    }\n",
       "</style>\n",
       "<table border=\"1\" class=\"dataframe\">\n",
       "  <thead>\n",
       "    <tr style=\"text-align: right;\">\n",
       "      <th></th>\n",
       "      <th>lines</th>\n",
       "      <th>timestamp</th>\n",
       "      <th>file</th>\n",
       "    </tr>\n",
       "  </thead>\n",
       "  <tbody>\n",
       "    <tr>\n",
       "      <th>0</th>\n",
       "      <td>150</td>\n",
       "      <td>2015-05-17 15:12:26</td>\n",
       "      <td>src/main/java/org/springframework/samples/petc...</td>\n",
       "    </tr>\n",
       "    <tr>\n",
       "      <th>1</th>\n",
       "      <td>86</td>\n",
       "      <td>2015-05-20 00:16:06</td>\n",
       "      <td>src/main/java/org/springframework/samples/petc...</td>\n",
       "    </tr>\n",
       "    <tr>\n",
       "      <th>2</th>\n",
       "      <td>-27</td>\n",
       "      <td>2015-05-24 05:52:31</td>\n",
       "      <td>src/main/java/org/springframework/samples/petc...</td>\n",
       "    </tr>\n",
       "    <tr>\n",
       "      <th>3</th>\n",
       "      <td>14</td>\n",
       "      <td>2015-06-04 21:09:15</td>\n",
       "      <td>src/main/java/org/springframework/samples/petc...</td>\n",
       "    </tr>\n",
       "    <tr>\n",
       "      <th>4</th>\n",
       "      <td>66</td>\n",
       "      <td>2015-06-06 19:22:39</td>\n",
       "      <td>src/main/java/org/springframework/samples/petc...</td>\n",
       "    </tr>\n",
       "  </tbody>\n",
       "</table>\n",
       "</div>"
      ],
      "text/plain": [
       "   lines           timestamp  \\\n",
       "0    150 2015-05-17 15:12:26   \n",
       "1     86 2015-05-20 00:16:06   \n",
       "2    -27 2015-05-24 05:52:31   \n",
       "3     14 2015-06-04 21:09:15   \n",
       "4     66 2015-06-06 19:22:39   \n",
       "\n",
       "                                                file  \n",
       "0  src/main/java/org/springframework/samples/petc...  \n",
       "1  src/main/java/org/springframework/samples/petc...  \n",
       "2  src/main/java/org/springframework/samples/petc...  \n",
       "3  src/main/java/org/springframework/samples/petc...  \n",
       "4  src/main/java/org/springframework/samples/petc...  "
      ]
     },
     "execution_count": 14,
     "metadata": {},
     "output_type": "execute_result"
    }
   ],
   "source": [
    "df_jpa = pd.DataFrame([int(np.random.normal(20,50)) for i in range(0,600)], columns=['lines'])\n",
    "df_jpa.loc[0,'lines'] = 150\n",
    "df_jpa['timestamp'] = pd.DateOffset(years=2) + dates.sample(len(df_jpa), replace=True).sort_values().reset_index(drop=True)\n",
    "df_jpa = df_jpa.sort_index()\n",
    "df_jpa['file'] = log[log['type'] == 'jpa']['file'].sample(len(df_jpa), replace=True).values\n",
    "df_jpa.head()"
   ]
  },
  {
   "cell_type": "markdown",
   "metadata": {},
   "source": [
    "### Check dataset"
   ]
  },
  {
   "cell_type": "code",
   "execution_count": 15,
   "metadata": {},
   "outputs": [
    {
     "data": {
      "text/plain": [
       "<matplotlib.axes._subplots.AxesSubplot at 0x1e7b2613898>"
      ]
     },
     "execution_count": 15,
     "metadata": {},
     "output_type": "execute_result"
    },
    {
     "data": {
      "image/png": "[encoded data removed]",
      "text/plain": [
       "<matplotlib.figure.Figure at 0x1e7b26b3a90>"
      ]
     },
     "metadata": {},
     "output_type": "display_data"
    }
   ],
   "source": [
    "df_jpa.lines.hist()"
   ]
  },
  {
   "cell_type": "code",
   "execution_count": 16,
   "metadata": {},
   "outputs": [
    {
     "data": {
      "text/plain": [
       "<matplotlib.axes._subplots.AxesSubplot at 0x1e7b372c6d8>"
      ]
     },
     "execution_count": 16,
     "metadata": {},
     "output_type": "execute_result"
    },
    {
     "data": {
      "image/png": "[encoded data removed]",
      "text/plain": [
       "<matplotlib.figure.Figure at 0x1e7b261b940>"
      ]
     },
     "metadata": {},
     "output_type": "display_data"
    }
   ],
   "source": [
    "df_jpa_timed = df_jpa.set_index('timestamp')\n",
    "df_jpa_timed['count'] = df_jpa_timed.lines.cumsum()\n",
    "df_jpa_timed['count'].plot()"
   ]
  },
  {
   "cell_type": "markdown",
   "metadata": {},
   "source": [
    "### Add some noise"
   ]
  },
  {
   "cell_type": "code",
   "execution_count": 17,
   "metadata": {},
   "outputs": [
    {
     "data": {
      "text/plain": [
       "0   2013-05-15 17:36:46\n",
       "1   2013-05-16 22:05:34\n",
       "2   2013-05-17 19:27:07\n",
       "3   2013-05-20 06:28:34\n",
       "4   2013-05-21 03:46:00\n",
       "dtype: datetime64[ns]"
      ]
     },
     "execution_count": 17,
     "metadata": {},
     "output_type": "execute_result"
    }
   ],
   "source": [
    "dates_other = pd.date_range(df_jdbc.timestamp.min(), df_jpa.timestamp.max())\n",
    "dates_other = pd.to_datetime(dates_other)\n",
    "dates_other = dates_other[~dates_other.dayofweek.isin([5,6])]\n",
    "dates_other = pd.Series(dates_other)\n",
    "dates_other = dates_other.add(times.sample(len(dates_other), replace=True).values)\n",
    "dates_other.head()"
   ]
  },
  {
   "cell_type": "code",
   "execution_count": 18,
   "metadata": {},
   "outputs": [
    {
     "data": {
      "text/html": [
       "<div>\n",
       "<style scoped>\n",
       "    .dataframe tbody tr th:only-of-type {\n",
       "        vertical-align: middle;\n",
       "    }\n",
       "\n",
       "    .dataframe tbody tr th {\n",
       "        vertical-align: top;\n",
       "    }\n",
       "\n",
       "    .dataframe thead th {\n",
       "        text-align: right;\n",
       "    }\n",
       "</style>\n",
       "<table border=\"1\" class=\"dataframe\">\n",
       "  <thead>\n",
       "    <tr style=\"text-align: right;\">\n",
       "      <th></th>\n",
       "      <th>lines</th>\n",
       "      <th>timestamp</th>\n",
       "      <th>file</th>\n",
       "    </tr>\n",
       "  </thead>\n",
       "  <tbody>\n",
       "    <tr>\n",
       "      <th>0</th>\n",
       "      <td>38</td>\n",
       "      <td>2013-05-15 17:36:46</td>\n",
       "      <td>src/test/java/org/springframework/samples/petc...</td>\n",
       "    </tr>\n",
       "    <tr>\n",
       "      <th>1</th>\n",
       "      <td>74</td>\n",
       "      <td>2013-05-15 17:36:46</td>\n",
       "      <td>src/main/java/org/springframework/samples/petc...</td>\n",
       "    </tr>\n",
       "    <tr>\n",
       "      <th>2</th>\n",
       "      <td>143</td>\n",
       "      <td>2013-05-15 17:36:46</td>\n",
       "      <td>src/main/java/org/springframework/samples/petc...</td>\n",
       "    </tr>\n",
       "    <tr>\n",
       "      <th>3</th>\n",
       "      <td>-54</td>\n",
       "      <td>2013-05-15 17:36:46</td>\n",
       "      <td>src/test/java/org/springframework/samples/petc...</td>\n",
       "    </tr>\n",
       "    <tr>\n",
       "      <th>4</th>\n",
       "      <td>-46</td>\n",
       "      <td>2013-05-15 17:36:46</td>\n",
       "      <td>src/main/java/org/springframework/samples/petc...</td>\n",
       "    </tr>\n",
       "  </tbody>\n",
       "</table>\n",
       "</div>"
      ],
      "text/plain": [
       "   lines           timestamp  \\\n",
       "0     38 2013-05-15 17:36:46   \n",
       "1     74 2013-05-15 17:36:46   \n",
       "2    143 2013-05-15 17:36:46   \n",
       "3    -54 2013-05-15 17:36:46   \n",
       "4    -46 2013-05-15 17:36:46   \n",
       "\n",
       "                                                file  \n",
       "0  src/test/java/org/springframework/samples/petc...  \n",
       "1  src/main/java/org/springframework/samples/petc...  \n",
       "2  src/main/java/org/springframework/samples/petc...  \n",
       "3  src/test/java/org/springframework/samples/petc...  \n",
       "4  src/main/java/org/springframework/samples/petc...  "
      ]
     },
     "execution_count": 18,
     "metadata": {},
     "output_type": "execute_result"
    }
   ],
   "source": [
    "df_other = pd.DataFrame([int(np.random.normal(5,100)) for i in range(0,40000)], columns=['lines'])\n",
    "df_other['timestamp'] = dates_other.sample(len(df_other), replace=True).sort_values().reset_index(drop=True)\n",
    "df_other = df_other.sort_index()\n",
    "df_other['file'] = log[log['type'] == 'other']['file'].sample(len(df_other), replace=True).values\n",
    "df_other.head()"
   ]
  },
  {
   "cell_type": "markdown",
   "metadata": {},
   "source": [
    "### Check dataset"
   ]
  },
  {
   "cell_type": "code",
   "execution_count": 19,
   "metadata": {},
   "outputs": [
    {
     "data": {
      "text/plain": [
       "<matplotlib.axes._subplots.AxesSubplot at 0x1e7b380af28>"
      ]
     },
     "execution_count": 19,
     "metadata": {},
     "output_type": "execute_result"
    },
    {
     "data": {
      "image/png": "[encoded data removed]",
      "text/plain": [
       "<matplotlib.figure.Figure at 0x1e7b3817d68>"
      ]
     },
     "metadata": {},
     "output_type": "display_data"
    }
   ],
   "source": [
    "df_other.lines.hist()"
   ]
  },
  {
   "cell_type": "code",
   "execution_count": 20,
   "metadata": {},
   "outputs": [
    {
     "data": {
      "text/plain": [
       "<matplotlib.axes._subplots.AxesSubplot at 0x1e7b387e6a0>"
      ]
     },
     "execution_count": 20,
     "metadata": {},
     "output_type": "execute_result"
    },
    {
     "data": {
      "image/png": "[encoded data removed]",
      "text/plain": [
       "<matplotlib.figure.Figure at 0x1e7b38176d8>"
      ]
     },
     "metadata": {},
     "output_type": "display_data"
    }
   ],
   "source": [
    "df_other_timed = df_other.set_index('timestamp')\n",
    "df_other_timed['count'] = df_other_timed.lines.cumsum()\n",
    "df_other_timed['count'].plot()"
   ]
  },
  {
   "cell_type": "markdown",
   "metadata": {},
   "source": [
    "## Concatenate all datasets"
   ]
  },
  {
   "cell_type": "code",
   "execution_count": 21,
   "metadata": {},
   "outputs": [
    {
     "data": {
      "text/html": [
       "<div>\n",
       "<style scoped>\n",
       "    .dataframe tbody tr th:only-of-type {\n",
       "        vertical-align: middle;\n",
       "    }\n",
       "\n",
       "    .dataframe tbody tr th {\n",
       "        vertical-align: top;\n",
       "    }\n",
       "\n",
       "    .dataframe thead th {\n",
       "        text-align: right;\n",
       "    }\n",
       "</style>\n",
       "<table border=\"1\" class=\"dataframe\">\n",
       "  <thead>\n",
       "    <tr style=\"text-align: right;\">\n",
       "      <th></th>\n",
       "      <th>additions</th>\n",
       "      <th>deletions</th>\n",
       "      <th>file</th>\n",
       "      <th>timestamp</th>\n",
       "    </tr>\n",
       "  </thead>\n",
       "  <tbody>\n",
       "    <tr>\n",
       "      <th>41799</th>\n",
       "      <td>56</td>\n",
       "      <td>0</td>\n",
       "      <td>src/main/java/org/springframework/samples/petc...</td>\n",
       "      <td>2019-07-19 19:16:44</td>\n",
       "    </tr>\n",
       "    <tr>\n",
       "      <th>41798</th>\n",
       "      <td>0</td>\n",
       "      <td>62</td>\n",
       "      <td>src/main/java/org/springframework/samples/petc...</td>\n",
       "      <td>2019-07-19 19:16:44</td>\n",
       "    </tr>\n",
       "    <tr>\n",
       "      <th>41770</th>\n",
       "      <td>0</td>\n",
       "      <td>117</td>\n",
       "      <td>src/main/java/org/springframework/samples/petc...</td>\n",
       "      <td>2019-07-19 06:09:16</td>\n",
       "    </tr>\n",
       "    <tr>\n",
       "      <th>41777</th>\n",
       "      <td>0</td>\n",
       "      <td>0</td>\n",
       "      <td>src/main/java/org/springframework/samples/petc...</td>\n",
       "      <td>2019-07-19 06:09:16</td>\n",
       "    </tr>\n",
       "    <tr>\n",
       "      <th>41776</th>\n",
       "      <td>0</td>\n",
       "      <td>46</td>\n",
       "      <td>src/main/java/org/springframework/samples/petc...</td>\n",
       "      <td>2019-07-19 06:09:16</td>\n",
       "    </tr>\n",
       "  </tbody>\n",
       "</table>\n",
       "</div>"
      ],
      "text/plain": [
       "       additions  deletions  \\\n",
       "41799         56          0   \n",
       "41798          0         62   \n",
       "41770          0        117   \n",
       "41777          0          0   \n",
       "41776          0         46   \n",
       "\n",
       "                                                    file           timestamp  \n",
       "41799  src/main/java/org/springframework/samples/petc... 2019-07-19 19:16:44  \n",
       "41798  src/main/java/org/springframework/samples/petc... 2019-07-19 19:16:44  \n",
       "41770  src/main/java/org/springframework/samples/petc... 2019-07-19 06:09:16  \n",
       "41777  src/main/java/org/springframework/samples/petc... 2019-07-19 06:09:16  \n",
       "41776  src/main/java/org/springframework/samples/petc... 2019-07-19 06:09:16  "
      ]
     },
     "execution_count": 21,
     "metadata": {},
     "output_type": "execute_result"
    }
   ],
   "source": [
    "df = pd.concat([df_jpa, df_jdbc, df_other], ignore_index=True).sort_values(by='timestamp')\n",
    "df.loc[df.lines > 0, 'additions'] = df.lines\n",
    "df.loc[df.lines < 0, 'deletions'] = df.lines * -1\n",
    "df = df.fillna(0).reset_index(drop=True)\n",
    "df = df[['additions', 'deletions', 'file', 'timestamp']]\n",
    "df.loc[(df.deletions > 0) & (df.loc[0].timestamp == df.timestamp),'additions'] = df.deletions\n",
    "df.loc[df.loc[0].timestamp == df.timestamp,'deletions'] = 0\n",
    "df['additions'] = df.additions.astype(int)\n",
    "df['deletions'] = df.deletions.astype(int)\n",
    "df = df.sort_values(by='timestamp', ascending=False)\n",
    "df.head()"
   ]
  },
  {
   "cell_type": "markdown",
   "metadata": {},
   "source": [
    "\n",
    "## Truncate data until fixed date"
   ]
  },
  {
   "cell_type": "code",
   "execution_count": 22,
   "metadata": {},
   "outputs": [
    {
     "data": {
      "text/html": [
       "<div>\n",
       "<style scoped>\n",
       "    .dataframe tbody tr th:only-of-type {\n",
       "        vertical-align: middle;\n",
       "    }\n",
       "\n",
       "    .dataframe tbody tr th {\n",
       "        vertical-align: top;\n",
       "    }\n",
       "\n",
       "    .dataframe thead th {\n",
       "        text-align: right;\n",
       "    }\n",
       "</style>\n",
       "<table border=\"1\" class=\"dataframe\">\n",
       "  <thead>\n",
       "    <tr style=\"text-align: right;\">\n",
       "      <th></th>\n",
       "      <th>additions</th>\n",
       "      <th>deletions</th>\n",
       "      <th>file</th>\n",
       "      <th>timestamp</th>\n",
       "    </tr>\n",
       "  </thead>\n",
       "  <tbody>\n",
       "    <tr>\n",
       "      <th>31486</th>\n",
       "      <td>19</td>\n",
       "      <td>0</td>\n",
       "      <td>src/main/java/org/springframework/samples/petc...</td>\n",
       "      <td>2017-12-31 19:41:29</td>\n",
       "    </tr>\n",
       "    <tr>\n",
       "      <th>31485</th>\n",
       "      <td>55</td>\n",
       "      <td>0</td>\n",
       "      <td>src/main/java/org/springframework/samples/petc...</td>\n",
       "      <td>2017-12-30 12:48:20</td>\n",
       "    </tr>\n",
       "    <tr>\n",
       "      <th>31484</th>\n",
       "      <td>29</td>\n",
       "      <td>0</td>\n",
       "      <td>src/main/java/org/springframework/samples/petc...</td>\n",
       "      <td>2017-12-30 12:48:20</td>\n",
       "    </tr>\n",
       "    <tr>\n",
       "      <th>31461</th>\n",
       "      <td>0</td>\n",
       "      <td>99</td>\n",
       "      <td>src/main/java/org/springframework/samples/petc...</td>\n",
       "      <td>2017-12-30 00:38:54</td>\n",
       "    </tr>\n",
       "    <tr>\n",
       "      <th>31467</th>\n",
       "      <td>19</td>\n",
       "      <td>0</td>\n",
       "      <td>src/main/java/org/springframework/samples/petc...</td>\n",
       "      <td>2017-12-30 00:38:54</td>\n",
       "    </tr>\n",
       "  </tbody>\n",
       "</table>\n",
       "</div>"
      ],
      "text/plain": [
       "       additions  deletions  \\\n",
       "31486         19          0   \n",
       "31485         55          0   \n",
       "31484         29          0   \n",
       "31461          0         99   \n",
       "31467         19          0   \n",
       "\n",
       "                                                    file           timestamp  \n",
       "31486  src/main/java/org/springframework/samples/petc... 2017-12-31 19:41:29  \n",
       "31485  src/main/java/org/springframework/samples/petc... 2017-12-30 12:48:20  \n",
       "31484  src/main/java/org/springframework/samples/petc... 2017-12-30 12:48:20  \n",
       "31461  src/main/java/org/springframework/samples/petc... 2017-12-30 00:38:54  \n",
       "31467  src/main/java/org/springframework/samples/petc... 2017-12-30 00:38:54  "
      ]
     },
     "execution_count": 22,
     "metadata": {},
     "output_type": "execute_result"
    }
   ],
   "source": [
    "df = df[df.timestamp < pd.Timestamp('2018-01-01')]\n",
    "df.head()"
   ]
  },
  {
   "cell_type": "markdown",
   "metadata": {},
   "source": [
    "## Export the data"
   ]
  },
  {
   "cell_type": "code",
   "execution_count": 23,
   "metadata": {},
   "outputs": [],
   "source": [
    "df.to_csv(\"datasets/git_log_refactoring.gz\", index=None, compression='gzip')"
   ]
  },
  {
   "cell_type": "markdown",
   "metadata": {},
   "source": [
    "## Check loaded data"
   ]
  },
  {
   "cell_type": "code",
   "execution_count": 24,
   "metadata": {},
   "outputs": [
    {
     "data": {
      "text/html": [
       "<div>\n",
       "<style scoped>\n",
       "    .dataframe tbody tr th:only-of-type {\n",
       "        vertical-align: middle;\n",
       "    }\n",
       "\n",
       "    .dataframe tbody tr th {\n",
       "        vertical-align: top;\n",
       "    }\n",
       "\n",
       "    .dataframe thead th {\n",
       "        text-align: right;\n",
       "    }\n",
       "</style>\n",
       "<table border=\"1\" class=\"dataframe\">\n",
       "  <thead>\n",
       "    <tr style=\"text-align: right;\">\n",
       "      <th></th>\n",
       "      <th>additions</th>\n",
       "      <th>deletions</th>\n",
       "      <th>file</th>\n",
       "      <th>timestamp</th>\n",
       "    </tr>\n",
       "  </thead>\n",
       "  <tbody>\n",
       "    <tr>\n",
       "      <th>0</th>\n",
       "      <td>19</td>\n",
       "      <td>0</td>\n",
       "      <td>src/main/java/org/springframework/samples/petc...</td>\n",
       "      <td>2017-12-31 19:41:29</td>\n",
       "    </tr>\n",
       "    <tr>\n",
       "      <th>1</th>\n",
       "      <td>55</td>\n",
       "      <td>0</td>\n",
       "      <td>src/main/java/org/springframework/samples/petc...</td>\n",
       "      <td>2017-12-30 12:48:20</td>\n",
       "    </tr>\n",
       "    <tr>\n",
       "      <th>2</th>\n",
       "      <td>29</td>\n",
       "      <td>0</td>\n",
       "      <td>src/main/java/org/springframework/samples/petc...</td>\n",
       "      <td>2017-12-30 12:48:20</td>\n",
       "    </tr>\n",
       "    <tr>\n",
       "      <th>3</th>\n",
       "      <td>0</td>\n",
       "      <td>99</td>\n",
       "      <td>src/main/java/org/springframework/samples/petc...</td>\n",
       "      <td>2017-12-30 00:38:54</td>\n",
       "    </tr>\n",
       "    <tr>\n",
       "      <th>4</th>\n",
       "      <td>19</td>\n",
       "      <td>0</td>\n",
       "      <td>src/main/java/org/springframework/samples/petc...</td>\n",
       "      <td>2017-12-30 00:38:54</td>\n",
       "    </tr>\n",
       "  </tbody>\n",
       "</table>\n",
       "</div>"
      ],
      "text/plain": [
       "   additions  deletions                                               file  \\\n",
       "0         19          0  src/main/java/org/springframework/samples/petc...   \n",
       "1         55          0  src/main/java/org/springframework/samples/petc...   \n",
       "2         29          0  src/main/java/org/springframework/samples/petc...   \n",
       "3          0         99  src/main/java/org/springframework/samples/petc...   \n",
       "4         19          0  src/main/java/org/springframework/samples/petc...   \n",
       "\n",
       "             timestamp  \n",
       "0  2017-12-31 19:41:29  \n",
       "1  2017-12-30 12:48:20  \n",
       "2  2017-12-30 12:48:20  \n",
       "3  2017-12-30 00:38:54  \n",
       "4  2017-12-30 00:38:54  "
      ]
     },
     "execution_count": 24,
     "metadata": {},
     "output_type": "execute_result"
    }
   ],
   "source": [
    "df_loaded = pd.read_csv(\"datasets/git_log_refactoring.gz\")\n",
    "df_loaded.head()"
   ]
  },
  {
   "cell_type": "code",
   "execution_count": 25,
   "metadata": {},
   "outputs": [
    {
     "name": "stdout",
     "output_type": "stream",
     "text": [
      "<class 'pandas.core.frame.DataFrame'>\n",
      "RangeIndex: 31487 entries, 0 to 31486\n",
      "Data columns (total 4 columns):\n",
      "additions    31487 non-null int64\n",
      "deletions    31487 non-null int64\n",
      "file         31487 non-null object\n",
      "timestamp    31487 non-null object\n",
      "dtypes: int64(2), object(2)\n",
      "memory usage: 984.0+ KB\n"
     ]
    }
   ],
   "source": [
    "df_loaded.info()"
   ]
  }
 ],
 "metadata": {
  "kernelspec": {
   "display_name": "Python 3",
   "language": "python",
   "name": "python3"
  },
  "language_info": {
   "codemirror_mode": {
    "name": "ipython",
    "version": 3
   },
   "file_extension": ".py",
   "mimetype": "text/x-python",
   "name": "python",
   "nbconvert_exporter": "python",
   "pygments_lexer": "ipython3",
   "version": "3.8.3"
  }
 },
 "nbformat": 4,
 "nbformat_minor": 2
}
