{
 "cells": [
  {
   "cell_type": "markdown",
   "metadata": {},
   "source": [
    "# Defect Analysis with issues trackers and pandas\n",
    "\n",
    "Defect Analysis is a classic analysis technique to get insights into how buggy your system might be. One variant of Defect Analysis is to use an issue tracker (i.e., the system where you manage your issues) to compare the found and fixed bugs over time. With this analysis, you can find out if you\n",
    "- have a spike in bug reports (where you should investigate deeper to identify the primary sources of the bugs)\n",
    "- are doing well fixing bugs (and therefore can be confident to release a stable version of your software)\n",
    "- are keeping bugs at bay (and allow the implementation of new features in a more risk-free environment)\n",
    "\n",
    "In this blog post / notebook, I'll demonstrate a Defect Analysis technique using the issues tracker YouTrack and standard tools like Python, requests, json, pandas, and matplotlib. We want to analyze the relatively new software product \"Code With Me\" from Jetbrians (a plugin that enables you to share your locally running project from your IDE with anyone). The issues from \"Code With Me\" are managed in YouTrack, hosted by Jetbrains, and open to everyone. This allows us to use this issues tracker as our playground.\n",
    "\n",
    "The second goal of this article is to write as less confusing analysis code as possible. I want to achieve this by using the tools mentioned above to get a readable analysis of the defects in a software system.\n",
    "\n",
    "This said, be aware that your issue tracker might bring Defect Analysis to you out of the box (YouTrack does this AFAIK). Click through the reporting features of your system before you reinvent the wheel! Nevertheless, I'll show you how you can do it on your own. There might be similar use cases to track the progress of work. In these cases, you can reuse many steps from this analysis."
   ]
  },
  {
   "cell_type": "markdown",
   "metadata": {},
   "source": [
    "## How to get the data\n",
    "First, we have to retrieve the data we need from the issue tracker system. We can do this in various ways (direct database access, scraping the website, or using an API provided by the system). How it works depends on your tool. \n",
    "\n",
    "In our case, we're using YouTrack's REST API to download some data. To do this, we create an URL to get the data we need. I've dug deep into the YouTrack REST API documentation and found the information I needed to export only bugs, including so-called \"project custom fields.\" These are additional information that is specific to the software project.\n",
    "\n",
    "Note that we set an upper limit of the  latest 1000 bug entries to not overload the available public issue tracker system."
   ]
  },
  {
   "cell_type": "code",
   "execution_count": 1,
   "metadata": {},
   "outputs": [
    {
     "data": {
      "text/plain": [
       "'https://youtrack.jetbrains.com/api/issues?$top=1000&fields=created,resolved,fields(projectCustomField(field(name)),value(name))&query=Type: Bug Project: {Code With Me} order by: created'"
      ]
     },
     "execution_count": 1,
     "metadata": {},
     "output_type": "execute_result"
    }
   ],
   "source": [
    "RESOURCE = \"https://youtrack.jetbrains.com/api/issues\"\n",
    "TOP = 1000\n",
    "PROJECT = \"{Code With Me}\"\n",
    "FIELDS = \"created,resolved,fields(projectCustomField(field(name)),value(name))\"\n",
    "QUERY = f\"Type: Bug Project: {PROJECT} order by: created\"\n",
    "\n",
    "URL = f\"{RESOURCE}?$top={TOP}&fields={FIELDS}&query={QUERY}\"\n",
    "URL"
   ]
  },
  {
   "cell_type": "markdown",
   "metadata": {},
   "source": [
    "Using `requests`, we can send a request to the YouTrack issue tracker and get back a response with the bugs we've queried."
   ]
  },
  {
   "cell_type": "code",
   "execution_count": 2,
   "metadata": {},
   "outputs": [
    {
     "data": {
      "text/plain": [
       "'[{\"resolved\":null,\"created\":1612279498090,\"fields\":[{\"projectCustomField\":{\"field\":{\"name\":\"Type\",\"$'"
      ]
     },
     "execution_count": 2,
     "metadata": {},
     "output_type": "execute_result"
    }
   ],
   "source": [
    "import requests\n",
    "response = requests.get(URL)\n",
    "# show only 100 chars to get an idea of the returned data\n",
    "response.text[:100]"
   ]
  },
  {
   "cell_type": "markdown",
   "metadata": {},
   "source": [
    "Of course, you could just read in the response text directly with the `read_json` method of pandas. This would put all the standard fields into columns."
   ]
  },
  {
   "cell_type": "code",
   "execution_count": 3,
   "metadata": {},
   "outputs": [
    {
     "data": {
      "text/html": [
       "<div>\n",
       "<style scoped>\n",
       "    .dataframe tbody tr th:only-of-type {\n",
       "        vertical-align: middle;\n",
       "    }\n",
       "\n",
       "    .dataframe tbody tr th {\n",
       "        vertical-align: top;\n",
       "    }\n",
       "\n",
       "    .dataframe thead th {\n",
       "        text-align: right;\n",
       "    }\n",
       "</style>\n",
       "<table border=\"1\" class=\"dataframe\">\n",
       "  <thead>\n",
       "    <tr style=\"text-align: right;\">\n",
       "      <th></th>\n",
       "      <th>resolved</th>\n",
       "      <th>created</th>\n",
       "      <th>fields</th>\n",
       "      <th>$type</th>\n",
       "    </tr>\n",
       "  </thead>\n",
       "  <tbody>\n",
       "    <tr>\n",
       "      <th>0</th>\n",
       "      <td>NaN</td>\n",
       "      <td>1612279498090</td>\n",
       "      <td>[{'projectCustomField': {'field': {'name': 'Ty...</td>\n",
       "      <td>Issue</td>\n",
       "    </tr>\n",
       "  </tbody>\n",
       "</table>\n",
       "</div>"
      ],
      "text/plain": [
       "   resolved        created                                             fields  \\\n",
       "0       NaN  1612279498090  [{'projectCustomField': {'field': {'name': 'Ty...   \n",
       "\n",
       "   $type  \n",
       "0  Issue  "
      ]
     },
     "execution_count": 3,
     "metadata": {},
     "output_type": "execute_result"
    }
   ],
   "source": [
    "import pandas as pd\n",
    "df = pd.read_json(response.text)\n",
    "df.head(1)"
   ]
  },
  {
   "cell_type": "markdown",
   "metadata": {},
   "source": [
    "With this DataFrame, we could dig into a simple and create some first summarizations upon that. No problem. But we want to do an advanced Defect Analysis as well that uses the custom fields. The custom fields are project-specific, i.e., they are returned in a different way as the standard fields. One custom field contains information about the \"Subsystems\" (= components) of the project. This is a nice additional information to get some insights into how different components of the software systems are how buggy.\n",
    "\n",
    "We have to treat these custom fields differently. `json_normalize` allows us to do this. Technically, there is a nested JSON structure in the response data. We need to flatten this data structure. For this, we are telling `json_normalize` to dig deeper into the nested data structure. So deep until we are at the position or data that we want to use.\n",
    "\n",
    "I don't go into details about how `json_normalize` works. With `record_path`, we are saying which nested JSON data structure we want to entangle (in our case: `fields`). With `meta`, we are specifying which data from the outer data structure should be duplicated for each row that's occurring in the nested data structure.\n",
    "\n",
    "As a result, we've flattened the JSON data structure into a nice looking DataFrame called `raw`."
   ]
  },
  {
   "cell_type": "code",
   "execution_count": 4,
   "metadata": {},
   "outputs": [
    {
     "data": {
      "text/html": [
       "<div>\n",
       "<style scoped>\n",
       "    .dataframe tbody tr th:only-of-type {\n",
       "        vertical-align: middle;\n",
       "    }\n",
       "\n",
       "    .dataframe tbody tr th {\n",
       "        vertical-align: top;\n",
       "    }\n",
       "\n",
       "    .dataframe thead th {\n",
       "        text-align: right;\n",
       "    }\n",
       "</style>\n",
       "<table border=\"1\" class=\"dataframe\">\n",
       "  <thead>\n",
       "    <tr style=\"text-align: right;\">\n",
       "      <th></th>\n",
       "      <th>0</th>\n",
       "    </tr>\n",
       "  </thead>\n",
       "  <tbody>\n",
       "    <tr>\n",
       "      <th>$type</th>\n",
       "      <td>SingleEnumIssueCustomField</td>\n",
       "    </tr>\n",
       "    <tr>\n",
       "      <th>projectCustomField.field.name</th>\n",
       "      <td>Type</td>\n",
       "    </tr>\n",
       "    <tr>\n",
       "      <th>projectCustomField.field.$type</th>\n",
       "      <td>CustomField</td>\n",
       "    </tr>\n",
       "    <tr>\n",
       "      <th>projectCustomField.$type</th>\n",
       "      <td>EnumProjectCustomField</td>\n",
       "    </tr>\n",
       "    <tr>\n",
       "      <th>value.name</th>\n",
       "      <td>Bug</td>\n",
       "    </tr>\n",
       "    <tr>\n",
       "      <th>value.$type</th>\n",
       "      <td>EnumBundleElement</td>\n",
       "    </tr>\n",
       "    <tr>\n",
       "      <th>value</th>\n",
       "      <td>NaN</td>\n",
       "    </tr>\n",
       "    <tr>\n",
       "      <th>created</th>\n",
       "      <td>1612279498090</td>\n",
       "    </tr>\n",
       "    <tr>\n",
       "      <th>resolved</th>\n",
       "      <td>None</td>\n",
       "    </tr>\n",
       "  </tbody>\n",
       "</table>\n",
       "</div>"
      ],
      "text/plain": [
       "                                                         0\n",
       "$type                           SingleEnumIssueCustomField\n",
       "projectCustomField.field.name                         Type\n",
       "projectCustomField.field.$type                 CustomField\n",
       "projectCustomField.$type            EnumProjectCustomField\n",
       "value.name                                             Bug\n",
       "value.$type                              EnumBundleElement\n",
       "value                                                  NaN\n",
       "created                                      1612279498090\n",
       "resolved                                              None"
      ]
     },
     "execution_count": 4,
     "metadata": {},
     "output_type": "execute_result"
    }
   ],
   "source": [
    "import json\n",
    "raw = pd.json_normalize(\n",
    "        json.loads(response.text),\n",
    "        record_path=\"fields\",\n",
    "        meta = ['created', 'resolved'])\n",
    "raw.head(1).T"
   ]
  },
  {
   "cell_type": "markdown",
   "metadata": {},
   "source": [
    "Next, we are filtering out some data we don't need. We are interested in the values of the `Subsystem` data for our advanced analysis later on. We can filter this data with pandas. We also just want to keep the data that we really need:\n",
    "- the column `created`: the time a bug was created\n",
    "- the column `resolved`: the time where a bugfix was confirmed\n",
    "- the column `value.name`: the name of the subsystem\n",
    "\n",
    "We also rename the `value.name` columns to `subsystem` to improve the understandability of our new `defects` DataFrame."
   ]
  },
  {
   "cell_type": "code",
   "execution_count": 5,
   "metadata": {},
   "outputs": [
    {
     "data": {
      "text/html": [
       "<div>\n",
       "<style scoped>\n",
       "    .dataframe tbody tr th:only-of-type {\n",
       "        vertical-align: middle;\n",
       "    }\n",
       "\n",
       "    .dataframe tbody tr th {\n",
       "        vertical-align: top;\n",
       "    }\n",
       "\n",
       "    .dataframe thead th {\n",
       "        text-align: right;\n",
       "    }\n",
       "</style>\n",
       "<table border=\"1\" class=\"dataframe\">\n",
       "  <thead>\n",
       "    <tr style=\"text-align: right;\">\n",
       "      <th></th>\n",
       "      <th>created</th>\n",
       "      <th>resolved</th>\n",
       "      <th>subsystem</th>\n",
       "    </tr>\n",
       "  </thead>\n",
       "  <tbody>\n",
       "    <tr>\n",
       "      <th>2</th>\n",
       "      <td>1612279498090</td>\n",
       "      <td>None</td>\n",
       "      <td>Am uncertain I</td>\n",
       "    </tr>\n",
       "  </tbody>\n",
       "</table>\n",
       "</div>"
      ],
      "text/plain": [
       "         created resolved       subsystem\n",
       "2  1612279498090     None  Am uncertain I"
      ]
     },
     "execution_count": 5,
     "metadata": {},
     "output_type": "execute_result"
    }
   ],
   "source": [
    "defects = raw[raw['projectCustomField.field.name'] == \"Subsystem\"][['created', 'resolved', 'value.name']].copy()\n",
    "defects = defects.rename(columns={\"value.name\": \"subsystem\"})\n",
    "defects.head(1)"
   ]
  },
  {
   "cell_type": "markdown",
   "metadata": {},
   "source": [
    "OK, we're now ready for the Defect Analysis part!"
   ]
  },
  {
   "cell_type": "markdown",
   "metadata": {},
   "source": [
    "## Simple Subsystem Defect Analysis"
   ]
  },
  {
   "cell_type": "markdown",
   "metadata": {},
   "source": [
    "Let's first take a look at the defect distribution over the subsystems. With `value_counts()`, we can summarize the entries along with their subsystems."
   ]
  },
  {
   "cell_type": "code",
   "execution_count": 6,
   "metadata": {},
   "outputs": [
    {
     "data": {
      "text/plain": [
       "Am uncertain I                 106\n",
       "Connection                      82\n",
       "Editor and Caret                62\n",
       "UI                              51\n",
       "Debugger                        39\n",
       "Settings                        29\n",
       "Tests                           28\n",
       "FollowMe and FullSync           27\n",
       "Lobby Server                    20\n",
       "Telephony                       19\n",
       "Code: Completion                16\n",
       "Terminal                        16\n",
       "Code: Navigation and Search     13\n",
       "Build                           13\n",
       "Actions                         10\n",
       "Documentation                    7\n",
       "Projects View                    5\n",
       "VCS                              5\n",
       "Security                         5\n",
       "Code: Refactoring                5\n",
       "Code: Intention Actions          4\n",
       "Code: Highlighting               3\n",
       "Compatibility with plugins       3\n",
       "Code: Generation                 3\n",
       "Code: Find Usages                2\n",
       "Name: subsystem, dtype: int64"
      ]
     },
     "execution_count": 6,
     "metadata": {},
     "output_type": "execute_result"
    }
   ],
   "source": [
    "defects_per_subsystem = defects['subsystem'].value_counts()\n",
    "defects_per_subsystem"
   ]
  },
  {
   "cell_type": "markdown",
   "metadata": {},
   "source": [
    "Let's plot the bugs per subsystems."
   ]
  },
  {
   "cell_type": "code",
   "execution_count": 7,
   "metadata": {},
   "outputs": [
    {
     "data": {
      "image/png": "[encoded data removed]",
      "text/plain": [
       "<Figure size 432x288 with 1 Axes>"
      ]
     },
     "metadata": {
      "image/png": {
       "height": 248,
       "width": 502
      },
      "needs_background": "light"
     },
     "output_type": "display_data"
    }
   ],
   "source": [
    "defects_per_subsystem.plot.barh();"
   ]
  },
  {
   "cell_type": "markdown",
   "metadata": {},
   "source": [
    "We can see where bugs in the \"Code With Me\" plugin are mainly occurring:\n",
    "- Connection\n",
    "- Editor and Caret\n",
    "- UI\n",
    "\n",
    "There are also many bugs where it is not clear to which subsystem they belong (\"Am uncertain I\")."
   ]
  },
  {
   "cell_type": "markdown",
   "metadata": {},
   "source": [
    "## Defect Trend Analysis\n",
    "Alright, let's take a look at the development of the reported and fixed bugs. One important question we would like to answer is whether we are getting behind with bug fixing. For this, we are calculating the creation and resolution of bugs over time. That means for us that we have first to convert the corresponding data in the columns `created` and `resolved` into a data format we can calculate time with."
   ]
  },
  {
   "cell_type": "code",
   "execution_count": 8,
   "metadata": {},
   "outputs": [
    {
     "data": {
      "text/html": [
       "<div>\n",
       "<style scoped>\n",
       "    .dataframe tbody tr th:only-of-type {\n",
       "        vertical-align: middle;\n",
       "    }\n",
       "\n",
       "    .dataframe tbody tr th {\n",
       "        vertical-align: top;\n",
       "    }\n",
       "\n",
       "    .dataframe thead th {\n",
       "        text-align: right;\n",
       "    }\n",
       "</style>\n",
       "<table border=\"1\" class=\"dataframe\">\n",
       "  <thead>\n",
       "    <tr style=\"text-align: right;\">\n",
       "      <th></th>\n",
       "      <th>created</th>\n",
       "      <th>resolved</th>\n",
       "      <th>subsystem</th>\n",
       "    </tr>\n",
       "  </thead>\n",
       "  <tbody>\n",
       "    <tr>\n",
       "      <th>2</th>\n",
       "      <td>2021-02-02 15:24:58.090</td>\n",
       "      <td>NaT</td>\n",
       "      <td>Am uncertain I</td>\n",
       "    </tr>\n",
       "  </tbody>\n",
       "</table>\n",
       "</div>"
      ],
      "text/plain": [
       "                  created resolved       subsystem\n",
       "2 2021-02-02 15:24:58.090      NaT  Am uncertain I"
      ]
     },
     "execution_count": 8,
     "metadata": {},
     "output_type": "execute_result"
    }
   ],
   "source": [
    "defects['created'] = pd.to_datetime(defects['created'], unit='ms')\n",
    "defects['resolved'] = pd.to_datetime(defects['resolved'], unit='ms')\n",
    "defects.head(1)"
   ]
  },
  {
   "cell_type": "markdown",
   "metadata": {},
   "source": [
    "Next, we need a model that shows us the progress of the created and fixed bugs over time. In our case, we create one single `timestamp` column. For each bug, we take the timestamp when a bug was resolved as the entry. For all bugs that are still open, we take the `created` time."
   ]
  },
  {
   "cell_type": "code",
   "execution_count": 9,
   "metadata": {},
   "outputs": [
    {
     "data": {
      "text/html": [
       "<div>\n",
       "<style scoped>\n",
       "    .dataframe tbody tr th:only-of-type {\n",
       "        vertical-align: middle;\n",
       "    }\n",
       "\n",
       "    .dataframe tbody tr th {\n",
       "        vertical-align: top;\n",
       "    }\n",
       "\n",
       "    .dataframe thead th {\n",
       "        text-align: right;\n",
       "    }\n",
       "</style>\n",
       "<table border=\"1\" class=\"dataframe\">\n",
       "  <thead>\n",
       "    <tr style=\"text-align: right;\">\n",
       "      <th></th>\n",
       "      <th>created</th>\n",
       "      <th>resolved</th>\n",
       "      <th>subsystem</th>\n",
       "      <th>timestamp</th>\n",
       "    </tr>\n",
       "  </thead>\n",
       "  <tbody>\n",
       "    <tr>\n",
       "      <th>2</th>\n",
       "      <td>2021-02-02 15:24:58.090</td>\n",
       "      <td>NaT</td>\n",
       "      <td>Am uncertain I</td>\n",
       "      <td>2021-02-02 15:24:58.090</td>\n",
       "    </tr>\n",
       "  </tbody>\n",
       "</table>\n",
       "</div>"
      ],
      "text/plain": [
       "                  created resolved       subsystem               timestamp\n",
       "2 2021-02-02 15:24:58.090      NaT  Am uncertain I 2021-02-02 15:24:58.090"
      ]
     },
     "execution_count": 9,
     "metadata": {},
     "output_type": "execute_result"
    }
   ],
   "source": [
    "defects['timestamp'] = defects['resolved']\n",
    "defects['timestamp'] = defects['timestamp'].fillna(defects['created'])\n",
    "defects.head(1)"
   ]
  },
  {
   "cell_type": "markdown",
   "metadata": {},
   "source": [
    "Here comes the interesting part. We now create two new columns in our `defects` DataFrame. \n",
    "\n",
    "The first column, called `fixed`, marks all bug entries that were fixed with a `1`. These are bug entries that have an entry with a timestamp in the `resolved` column.\n",
    "\n",
    "The second column, called `open`, is the opposit of the first one. It contains a `1` for all bugs that weren't resolved yet (= are still open).\n",
    "\n",
    "This gives us a side by side comparison between resolved and open bug entries."
   ]
  },
  {
   "cell_type": "code",
   "execution_count": 10,
   "metadata": {},
   "outputs": [
    {
     "data": {
      "text/html": [
       "<div>\n",
       "<style scoped>\n",
       "    .dataframe tbody tr th:only-of-type {\n",
       "        vertical-align: middle;\n",
       "    }\n",
       "\n",
       "    .dataframe tbody tr th {\n",
       "        vertical-align: top;\n",
       "    }\n",
       "\n",
       "    .dataframe thead th {\n",
       "        text-align: right;\n",
       "    }\n",
       "</style>\n",
       "<table border=\"1\" class=\"dataframe\">\n",
       "  <thead>\n",
       "    <tr style=\"text-align: right;\">\n",
       "      <th></th>\n",
       "      <th>created</th>\n",
       "      <th>resolved</th>\n",
       "      <th>subsystem</th>\n",
       "      <th>timestamp</th>\n",
       "      <th>fixed</th>\n",
       "      <th>open</th>\n",
       "    </tr>\n",
       "  </thead>\n",
       "  <tbody>\n",
       "    <tr>\n",
       "      <th>2</th>\n",
       "      <td>2021-02-02 15:24:58.090</td>\n",
       "      <td>NaT</td>\n",
       "      <td>Am uncertain I</td>\n",
       "      <td>2021-02-02 15:24:58.090</td>\n",
       "      <td>0</td>\n",
       "      <td>1</td>\n",
       "    </tr>\n",
       "  </tbody>\n",
       "</table>\n",
       "</div>"
      ],
      "text/plain": [
       "                  created resolved       subsystem               timestamp  \\\n",
       "2 2021-02-02 15:24:58.090      NaT  Am uncertain I 2021-02-02 15:24:58.090   \n",
       "\n",
       "   fixed  open  \n",
       "2      0     1  "
      ]
     },
     "execution_count": 10,
     "metadata": {},
     "output_type": "execute_result"
    }
   ],
   "source": [
    "defects['fixed'] = 0\n",
    "defects.loc[~defects['resolved'].isnull(), 'fixed'] = 1\n",
    "defects['open'] = 0\n",
    "defects.loc[defects['resolved'].isnull(), 'open'] = 1\n",
    "defects.head(1)"
   ]
  },
  {
   "cell_type": "markdown",
   "metadata": {},
   "source": [
    "Next, we get sort the entries in the DataFrame by the `timestamp` data. This gives us a continuous ordering of the bug entry and fixing events. We're also changing the index to a date-based index to track the bug management's progress over time. We get rid of all the data we don't need anymore, too, keeping only the entries for the fixed and still opened bugs."
   ]
  },
  {
   "cell_type": "code",
   "execution_count": 11,
   "metadata": {},
   "outputs": [
    {
     "data": {
      "text/html": [
       "<div>\n",
       "<style scoped>\n",
       "    .dataframe tbody tr th:only-of-type {\n",
       "        vertical-align: middle;\n",
       "    }\n",
       "\n",
       "    .dataframe tbody tr th {\n",
       "        vertical-align: top;\n",
       "    }\n",
       "\n",
       "    .dataframe thead th {\n",
       "        text-align: right;\n",
       "    }\n",
       "</style>\n",
       "<table border=\"1\" class=\"dataframe\">\n",
       "  <thead>\n",
       "    <tr style=\"text-align: right;\">\n",
       "      <th></th>\n",
       "      <th>fixed</th>\n",
       "      <th>open</th>\n",
       "    </tr>\n",
       "    <tr>\n",
       "      <th>timestamp</th>\n",
       "      <th></th>\n",
       "      <th></th>\n",
       "    </tr>\n",
       "  </thead>\n",
       "  <tbody>\n",
       "    <tr>\n",
       "      <th>2020-08-04 15:45:22.220</th>\n",
       "      <td>0</td>\n",
       "      <td>1</td>\n",
       "    </tr>\n",
       "  </tbody>\n",
       "</table>\n",
       "</div>"
      ],
      "text/plain": [
       "                         fixed  open\n",
       "timestamp                           \n",
       "2020-08-04 15:45:22.220      0     1"
      ]
     },
     "execution_count": 11,
     "metadata": {},
     "output_type": "execute_result"
    }
   ],
   "source": [
    "timed = defects\\\n",
    "    .sort_values(by='timestamp')\\\n",
    "    .set_index('timestamp')[['fixed', 'open']]\n",
    "timed.head(1)"
   ]
  },
  {
   "cell_type": "markdown",
   "metadata": {},
   "source": [
    "Next, we want to create a trend of the opened and fixed bugs. In other words, we need to track the accumulated number of open and fixed bugs for each of our timed entries. We can do this by using the `cumsum()` method on our DataFrame."
   ]
  },
  {
   "cell_type": "code",
   "execution_count": 12,
   "metadata": {},
   "outputs": [
    {
     "data": {
      "text/html": [
       "<div>\n",
       "<style scoped>\n",
       "    .dataframe tbody tr th:only-of-type {\n",
       "        vertical-align: middle;\n",
       "    }\n",
       "\n",
       "    .dataframe tbody tr th {\n",
       "        vertical-align: top;\n",
       "    }\n",
       "\n",
       "    .dataframe thead th {\n",
       "        text-align: right;\n",
       "    }\n",
       "</style>\n",
       "<table border=\"1\" class=\"dataframe\">\n",
       "  <thead>\n",
       "    <tr style=\"text-align: right;\">\n",
       "      <th></th>\n",
       "      <th>fixed</th>\n",
       "      <th>open</th>\n",
       "    </tr>\n",
       "    <tr>\n",
       "      <th>timestamp</th>\n",
       "      <th></th>\n",
       "      <th></th>\n",
       "    </tr>\n",
       "  </thead>\n",
       "  <tbody>\n",
       "    <tr>\n",
       "      <th>2020-08-04 15:45:22.220</th>\n",
       "      <td>0</td>\n",
       "      <td>1</td>\n",
       "    </tr>\n",
       "    <tr>\n",
       "      <th>2020-08-27 12:17:03.483</th>\n",
       "      <td>1</td>\n",
       "      <td>1</td>\n",
       "    </tr>\n",
       "    <tr>\n",
       "      <th>2020-08-28 10:01:42.238</th>\n",
       "      <td>2</td>\n",
       "      <td>1</td>\n",
       "    </tr>\n",
       "    <tr>\n",
       "      <th>2020-08-28 10:26:09.818</th>\n",
       "      <td>3</td>\n",
       "      <td>1</td>\n",
       "    </tr>\n",
       "    <tr>\n",
       "      <th>2020-08-28 10:55:10.591</th>\n",
       "      <td>3</td>\n",
       "      <td>2</td>\n",
       "    </tr>\n",
       "  </tbody>\n",
       "</table>\n",
       "</div>"
      ],
      "text/plain": [
       "                         fixed  open\n",
       "timestamp                           \n",
       "2020-08-04 15:45:22.220      0     1\n",
       "2020-08-27 12:17:03.483      1     1\n",
       "2020-08-28 10:01:42.238      2     1\n",
       "2020-08-28 10:26:09.818      3     1\n",
       "2020-08-28 10:55:10.591      3     2"
      ]
     },
     "execution_count": 12,
     "metadata": {},
     "output_type": "execute_result"
    }
   ],
   "source": [
    "cumulated_defects_over_time = timed.cumsum()\n",
    "cumulated_defects_over_time.head()"
   ]
  },
  {
   "cell_type": "markdown",
   "metadata": {},
   "source": [
    "Last, we visualize this DataFrame to get a feeling about how we good (or bad) we are in managing our bugs."
   ]
  },
  {
   "cell_type": "code",
   "execution_count": 13,
   "metadata": {},
   "outputs": [
    {
     "data": {
      "image/png": "[encoded data removed]",
      "text/plain": [
       "<Figure size 432x288 with 1 Axes>"
      ]
     },
     "metadata": {
      "image/png": {
       "height": 275,
       "width": 381
      },
      "needs_background": "light"
     },
     "output_type": "display_data"
    }
   ],
   "source": [
    "cumulated_defects_over_time.plot(\n",
    "    title=\"Open and fixed bugs for 'Code With Me'\");"
   ]
  },
  {
   "cell_type": "markdown",
   "metadata": {},
   "source": [
    "From this visualization, we can see that the team is really aggressive regarding fixing bugs. At the beginning of December 2020, there was a steep increase for bugfixing. It looks like someone clean up the issues tracker right before the official release, doesn't it? :-)"
   ]
  },
  {
   "cell_type": "markdown",
   "metadata": {},
   "source": [
    "## Conclusion\n",
    "This blog post shows guided you through a defect analysis using the issues tracker system YouTrack. It gives you some hints on how you could approach analyzing your own issues tracker system. I hope you could also see that this kind of analysis isn't magic. Using appropriate standard tools like pandas help you getting answers to your specific questions in an easy way."
   ]
  }
 ],
 "metadata": {
  "kernelspec": {
   "display_name": "Python 3",
   "language": "python",
   "name": "python3"
  },
  "language_info": {
   "codemirror_mode": {
    "name": "ipython",
    "version": 3
   },
   "file_extension": ".py",
   "mimetype": "text/x-python",
   "name": "python",
   "nbconvert_exporter": "python",
   "pygments_lexer": "ipython3",
   "version": "3.8.3"
  }
 },
 "nbformat": 4,
 "nbformat_minor": 4
}
