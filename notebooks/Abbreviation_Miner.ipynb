# LLM-assisted Concept Mining for COBOL applications

This blog post (also available as Jupyter Notebook) documents the process of mining abbreviations and discover first concepts from a COBOL legacy mainframe codebase with the help of Large Language Models and highlights the insights that can be gathered from the results.

## Introduction

### Software archaeology

"Archaeologists try to find the clues left by people who lived before us, and they try to make sense of them." ([Source](https://www.youtube.com/watch?v=TFejIkYDH9Q)). This work is no different for software developers maintaining older systems, who venture as software archaeologists into old codebases like adventurers in a long-forgotten city. Many tasks are the same, such as deciphering the hieroglyphs (aka cryptic abbreviations) left behind by the original creators, unlocking valuable knowledge hidden beneath layers of history. And just as traditional archaeologists piece together ancient stories, software archaeologists help to understand the stories of legacy systems that have stood the test of time, and paving the way for a successful modernization journey.

### Today's subject under inspection
Because of this, tried to get my hand on a legacy code base: the "Mainframe CardDemo Application" from AWS. This project is a sample application designed to showcase modernization strategies for mainframe workloads using AWS services. It features a typical banking scenario with COBOL programs, JCL scripts, and related data files. The demo should provide a realistic environment to demonstrate refactoring, replatforming, and migration of legacy code to cloud-based solutions. Albeit the abount of files that this project consists of is tiny, I think this is one realistig starting point for exploring an unkown legacy application written in a programming language I'm not familiar with.

## Analysis
### Step 1: Clone the repository

To begin, clone the source code repository:
```bash
git clone https://github.com/aws-samples/aws-mainframe-modernization-carddemo.git
```


```python
import glob

root_dir = "../aws-mainframe-modernization-carddemo/app/"
glob_list = glob.glob(f"{root_dir}**/*.*", recursive=True)
file_list = [f.replace("\\","/").replace(root_dir, "") for f in glob_list]
file_list[:5]
```




    ['bms/COACTUP.bms',
     'bms/COACTVW.bms',
     'bms/COADM01.bms',
     'bms/COBIL00.bms',
     'bms/COCRDLI.bms']



### Step 2: Set up LLM assistant

I use Claude Sonnet 3.5, a large language model from Anthropic, to expand the abbreviations. For this type of application, I always set a low temperature to get consistent, reproducible results across different runs. I’ve also noticed that LLMs tend to get lazy when working on tasks I delegate because I don’t want to do them myself. Perhaps my own approach is rubbing off on the model. That’s why I make sure to remind the LLM not to be lazy in this case.


```python
import anthropic
client = anthropic.Anthropic()

def ask(prompt):
    return client.messages.create(
        model="claude-3-5-sonnet-latest",
        max_tokens=2000,
        temperature=0.0,
        system="""
        You're a software archaeologist who tries to make sense of the past.
        Respond in short and clear explanations.
        Don't be lazy!""",
        messages=[{"role": "user", "content": prompt}]
    ).content[0].text
```

### Step 3: Define the base prompt
The base prompt was designed to guide the LLM in extracting and expanding abbreviations. I paid attention to providing clear, step-by-step instructions to help the LLM through abbreviation extraction and concept definition. I included handling for alternative meanings and uncertainty by suggesting confidence scores and alternative entries. Additionally, I requested simple regex patterns for practical file matching, which can be useful later for finding all relevant files based on the extracted patterns. I specified a structured output as a JSON schema for consistency and easier integration with subsequent analysis. To my knowledge, Sonnet doesn’t have a built-in option for this kind of structured output, so I also included an example to clarify expectations (and to avoid breaking the following code).


```python
base_prompt = """

Below is a list of paths from a software program containing numerous abbreviations.

Your task is to build a list of abbreviations and a glossary entry of their corresponding concepts.
For this, determine the meaning of an abbreviation found in the paths and filenames.
For very similar abbreviations, make a separate entry. Don't put more than one abbreviations in one entry.

Then, provide a definition of each concept and provide the information if it is a business concept or a technical concept.
With that, also estimate a confidence score between 0 and 1 indicating how certain you are about the term and its definition.

Additionally, find a simple regular expression that identifies all files related to the abbreviation (and their alternative spellings).

If there are not more abbreviatios to discover, deliver back an empty JSON list.

Output only and directly as a JSON array (not with a key) using strict the following schema:
- 'abbreviation': The abbreviation.
- 'meaning': The meaning of the abbreviation.
- 'type': business, technical
- 'definition': An explanation of the concept.
- 'regex': A regular expression to locate related files.
- 'confidence': A value between 0 and 1 indicating certainty.
- 'alternative': An alternative meaning, or "-" if none exists.

Example output:
[
    {
      "abbreviation": "ABC",
      "meaning": "Air Bullet Container",
      "type": "technical"
      "definition": "A storage unit used for air bullets in testing scenarios.",
      "regex": ".*ABC.*",
      "confidence": 0.8,
      "alternative": "-"
    }
]

Now, expand the following abbreviations to their full meanings:
"""
```

### Step 4: Assemble the initial prompt
Next, I combine the base prompt with the file list from above. I intentionally shuffle the filenames to avoid any biases and (hopefully) keep the LLM engaged with a varied input. The shuffled list is then appended to the base prompt for analysis. Concatenating the shuffled list with the base prompt creates a single string where each file path appears on a new line, making it easier for the model to process.


```python
import random

random.shuffle(file_list)
prompt = base_prompt + "\n".join(file_list)
print(prompt[:100] + "...")
```

    
    
    Below is a list of paths from a software program containing numerous abbreviations.
    
    Your task is to build a list of abbreviations and a glossary entry of their corresponding concepts.
    For this, determine the meaning of an abbreviation found in the paths and filenames.
    For very similar abbreviations, make a separate entry. Don't put more than one abbreviations in one entry.
    
    Then, provide a definition of each concept and provide the information if it is a business concept or a technical concept.
    With that, also estimate a confidence score between 0 and 1 indicating how certain you are about the term and its definition.
    
    Additionally, find a simple regular expression that identifies all files related to the abbreviation (and their alternative spellings).
    
    If there are not more abbreviatios to discover, deliver back an empty JSON list.
    
    Output only and directly as a JSON array (not with a key) using strict the following schema:
    - 'abbreviation': The abbreviation.
    - 'meaning': The meaning of the abbreviation.
    - 'type': business, technical
    - 'definition': An explanation of the concept.
    - 'regex': A regular expression to locate related files.
    - 'confidence': A value between 0 and 1 indicating certainty.
    - 'alternative': An alternative meaning, or "-" if none exists.
    
    Example output:...


### Step 5: Ask Claude via backfeeding
The easy part here is that I simply send the prompt to the LLM and hope that we get the results as a JSON data structure (_fingers always crossed_). In more detail, this process leverages an iterative feedback loop to refine the extraction of abbreviations. After each pass, it updates the prompt by including abbreviations already identified, guiding the AI to focus on new terms and avoid redundancy. The analysis continues as long as the extracted meanings maintain a high confidence level, and it stops once confidence drops below a set threshold. 


```python
import json

min_confidence = 1.0

json_results = []

backfeed = ""

while min_confidence > 0.7:

    evolving_prompt = prompt + "\n\n" + backfeed

    res = ask(evolving_prompt)
    json_result = json.loads(res)

    if len(json_result) == 0:
        break

    min_confidence = min([i['confidence'] for i in json_result])
    backfeed = "\n\nI already discovered these abbreviations that I don't need anymore:\n" + "\n".join([i['abbreviation'] for i in json_results])
    json_results.extend(json_result)
    
print(str(json_results)[:100])
```

    [{'abbreviation': 'CBL', 'meaning': 'COBOL', 'type': 'technical', 'definition': 'Common Business-Ori


### Step 6: Prepare for first analyses
For easier inspection of the result (and later analysis steps), I like to load the expanded abbreviations and their meanings in a pandas DataFrame.


```python
import pandas as pd
abbreviations = pd.DataFrame.from_dict(json_results)\
    .sort_values(by='abbreviation')\
.drop_duplicates(subset=["abbreviation", "meaning"])
abbreviations.head()
```




<div>
<style scoped>
    .dataframe tbody tr th:only-of-type {
        vertical-align: middle;
    }

    .dataframe tbody tr th {
        vertical-align: top;
    }

    .dataframe thead th {
        text-align: right;
    }
</style>
<table border="1" class="dataframe">
  <thead>
    <tr style="text-align: right;">
      <th></th>
      <th>abbreviation</th>
      <th>meaning</th>
      <th>type</th>
      <th>definition</th>
      <th>regex</th>
      <th>confidence</th>
      <th>alternative</th>
    </tr>
  </thead>
  <tbody>
    <tr>
      <th>19</th>
      <td>ACCT</td>
      <td>Account</td>
      <td>business</td>
      <td>A financial record or arrangement between a cu...</td>
      <td>.*AC+T.*</td>
      <td>0.95</td>
      <td>-</td>
    </tr>
    <tr>
      <th>32</th>
      <td>ACTUP</td>
      <td>Account Update</td>
      <td>technical</td>
      <td>Process or interface for updating account info...</td>
      <td>.*ACTUP.*</td>
      <td>0.90</td>
      <td>-</td>
    </tr>
    <tr>
      <th>42</th>
      <td>ACTVW</td>
      <td>Account View</td>
      <td>business</td>
      <td>Process or interface for viewing account details</td>
      <td>.*ACTVW.*</td>
      <td>0.90</td>
      <td>-</td>
    </tr>
    <tr>
      <th>20</th>
      <td>ADM</td>
      <td>Administration</td>
      <td>business</td>
      <td>System administration and management functions</td>
      <td>.*ADM.*</td>
      <td>0.90</td>
      <td>-</td>
    </tr>
    <tr>
      <th>18</th>
      <td>ADMIN</td>
      <td>Administrator</td>
      <td>business</td>
      <td>A user with administrative privileges in the s...</td>
      <td>.*ADM.*</td>
      <td>0.90</td>
      <td>-</td>
    </tr>
  </tbody>
</table>
</div>






### Step 7: Connect files on found patterns
Next, I search for all files that correspond to the pattern in the `regex` column, we can now assign the real files to a given abbreviation / concept. I iterate through the list of known abbreviations, using their regular expressions to find matching files in the project. For each abbreviation, I refine the regex, apply it to filter the file list, and update the list of unmatched files. The matched files and their proportion of the total file count are stored for each abbreviation, and the results are added to the DataFrame for analysis. However, this approach isn't entirely clean, as files can belong to multiple concepts or match more than one abbreviation, leading to potential overlaps. But I think this is good enought for now.


```python
files = pd.Series(file_list)

abbreviation_files = []
proportions = []

length_all_files = len(file_list)

for i, entry in abbreviations.iterrows():
    # remove possible capture groups and start markers
    regex = entry['regex'].replace("(", "(?:").replace("^", ".*")
    files_found = files[files.str.contains(regex)].sort_values().to_list()
    
    proportions.append(len(files_found)/length_all_files)
    abbreviation_files.append(files_found)

abbreviations['prop'] = proportions
abbreviations['paths'] = abbreviation_files
abbreviations.head()
```



<div>
<style scoped>
    .dataframe tbody tr th:only-of-type {
        vertical-align: middle;
    }

    .dataframe tbody tr th {
        vertical-align: top;
    }

    .dataframe thead th {
        text-align: right;
    }
</style>
<table border="1" class="dataframe">
  <thead>
    <tr style="text-align: right;">
      <th></th>
      <th>abbreviation</th>
      <th>meaning</th>
      <th>type</th>
      <th>definition</th>
      <th>regex</th>
      <th>confidence</th>
      <th>alternative</th>
      <th>prop</th>
      <th>paths</th>
    </tr>
  </thead>
  <tbody>
    <tr>
      <th>19</th>
      <td>ACCT</td>
      <td>Account</td>
      <td>business</td>
      <td>A financial record or arrangement between a cu...</td>
      <td>.*AC+T.*</td>
      <td>0.95</td>
      <td>-</td>
      <td>0.110345</td>
      <td>[bms/COACTUP.bms, bms/COACTVW.bms, cbl/CBACT01...</td>
    </tr>
    <tr>
      <th>32</th>
      <td>ACTUP</td>
      <td>Account Update</td>
      <td>technical</td>
      <td>Process or interface for updating account info...</td>
      <td>.*ACTUP.*</td>
      <td>0.90</td>
      <td>-</td>
      <td>0.020690</td>
      <td>[bms/COACTUP.bms, cbl/COACTUPC.cbl, cpy-bms/CO...</td>
    </tr>
    <tr>
      <th>42</th>
      <td>ACTVW</td>
      <td>Account View</td>
      <td>business</td>
      <td>Process or interface for viewing account details</td>
      <td>.*ACTVW.*</td>
      <td>0.90</td>
      <td>-</td>
      <td>0.020690</td>
      <td>[bms/COACTVW.bms, cbl/COACTVWC.cbl, cpy-bms/CO...</td>
    </tr>
    <tr>
      <th>20</th>
      <td>ADM</td>
      <td>Administration</td>
      <td>business</td>
      <td>System administration and management functions</td>
      <td>.*ADM.*</td>
      <td>0.90</td>
      <td>-</td>
      <td>0.034483</td>
      <td>[bms/COADM01.bms, cbl/COADM01C.cbl, cpy-bms/CO...</td>
    </tr>
    <tr>
      <th>18</th>
      <td>ADMIN</td>
      <td>Administrator</td>
      <td>business</td>
      <td>A user with administrative privileges in the s...</td>
      <td>.*ADM.*</td>
      <td>0.90</td>
      <td>-</td>
      <td>0.034483</td>
      <td>[bms/COADM01.bms, cbl/COADM01C.cbl, cpy-bms/CO...</td>
    </tr>
  </tbody>
</table>
</div>


<info-box title="Complete table">

<div>
<style scoped>
    .dataframe tbody tr th:only-of-type {
        vertical-align: middle;
    }

    .dataframe tbody tr th {
        vertical-align: top;
    }

    .dataframe thead th {
        text-align: right;
    }
</style>
<table border="1" class="dataframe">
  <thead>
    <tr style="text-align: right;">
      <th></th>
      <th>abbreviation</th>
      <th>meaning</th>
      <th>type</th>
      <th>definition</th>
      <th>regex</th>
      <th>confidence</th>
      <th>alternative</th>
      <th>prop</th>
      <th>paths</th>
    </tr>
  </thead>
  <tbody>
    <tr>
      <th>19</th>
      <td>ACCT</td>
      <td>Account</td>
      <td>business</td>
      <td>A financial record or arrangement between a cu...</td>
      <td>.*AC+T.*</td>
      <td>0.95</td>
      <td>-</td>
      <td>0.110345</td>
      <td>[bms/COACTUP.bms, bms/COACTVW.bms, cbl/CBACT01...</td>
    </tr>
    <tr>
      <th>32</th>
      <td>ACTUP</td>
      <td>Account Update</td>
      <td>technical</td>
      <td>Process or interface for updating account info...</td>
      <td>.*ACTUP.*</td>
      <td>0.90</td>
      <td>-</td>
      <td>0.020690</td>
      <td>[bms/COACTUP.bms, cbl/COACTUPC.cbl, cpy-bms/CO...</td>
    </tr>
    <tr>
      <th>42</th>
      <td>ACTVW</td>
      <td>Account View</td>
      <td>business</td>
      <td>Process or interface for viewing account details</td>
      <td>.*ACTVW.*</td>
      <td>0.90</td>
      <td>-</td>
      <td>0.020690</td>
      <td>[bms/COACTVW.bms, cbl/COACTVWC.cbl, cpy-bms/CO...</td>
    </tr>
    <tr>
      <th>20</th>
      <td>ADM</td>
      <td>Administration</td>
      <td>business</td>
      <td>System administration and management functions</td>
      <td>.*ADM.*</td>
      <td>0.90</td>
      <td>-</td>
      <td>0.034483</td>
      <td>[bms/COADM01.bms, cbl/COADM01C.cbl, cpy-bms/CO...</td>
    </tr>
    <tr>
      <th>18</th>
      <td>ADMIN</td>
      <td>Administrator</td>
      <td>business</td>
      <td>A user with administrative privileges in the s...</td>
      <td>.*ADM.*</td>
      <td>0.90</td>
      <td>-</td>
      <td>0.034483</td>
      <td>[bms/COADM01.bms, cbl/COADM01C.cbl, cpy-bms/CO...</td>
    </tr>
    <tr>
      <th>8</th>
      <td>ASCII</td>
      <td>American Standard Code for Information Interch...</td>
      <td>technical</td>
      <td>A character encoding standard used by most mod...</td>
      <td>.*ASCII.*</td>
      <td>0.95</td>
      <td>-</td>
      <td>0.062069</td>
      <td>[data/ASCII/acctdata.txt, data/ASCII/carddata....</td>
    </tr>
    <tr>
      <th>21</th>
      <td>BIL</td>
      <td>Billing</td>
      <td>business</td>
      <td>Process of generating and managing customer bills</td>
      <td>.*BIL.*</td>
      <td>0.95</td>
      <td>-</td>
      <td>0.020690</td>
      <td>[bms/COBIL00.bms, cbl/COBIL00C.cbl, cpy-bms/CO...</td>
    </tr>
    <tr>
      <th>11</th>
      <td>BMS</td>
      <td>Basic Mapping Support</td>
      <td>technical</td>
      <td>CICS facility for handling screen layouts and ...</td>
      <td>.*\.bms|\.BMS$</td>
      <td>0.90</td>
      <td>-</td>
      <td>0.117241</td>
      <td>[bms/COACTUP.bms, bms/COACTVW.bms, bms/COADM01...</td>
    </tr>
    <tr>
      <th>54</th>
      <td>CATG</td>
      <td>Category</td>
      <td>business</td>
      <td>Classification or grouping of items or transac...</td>
      <td>.*CATG.*</td>
      <td>0.90</td>
      <td>-</td>
      <td>0.013793</td>
      <td>[data/EBCDIC/AWS.M2.CARDDEMO.TRANCATG.PS, jcl/...</td>
    </tr>
    <tr>
      <th>0</th>
      <td>CBL</td>
      <td>COBOL</td>
      <td>technical</td>
      <td>Common Business-Oriented Language, a programmi...</td>
      <td>.*\.cbl|\.CBL$</td>
      <td>0.95</td>
      <td>-</td>
      <td>0.193103</td>
      <td>[cbl/CBACT01C.cbl, cbl/CBACT02C.cbl, cbl/CBACT...</td>
    </tr>
    <tr>
      <th>56</th>
      <td>COM</td>
      <td>Common</td>
      <td>technical</td>
      <td>Shared or common components or modules in the ...</td>
      <td>.*COM.*</td>
      <td>0.80</td>
      <td>Communication</td>
      <td>0.041379</td>
      <td>[bms/COMEN01.bms, cbl/COMEN01C.cbl, cpy-bms/CO...</td>
    </tr>
    <tr>
      <th>12</th>
      <td>CPY</td>
      <td>Copy Book</td>
      <td>technical</td>
      <td>A COBOL include file containing shared code or...</td>
      <td>.*\.cpy|\.CPY$</td>
      <td>1.00</td>
      <td>-</td>
      <td>0.310345</td>
      <td>[cpy-bms/COACTUP.CPY, cpy-bms/COACTVW.CPY, cpy...</td>
    </tr>
    <tr>
      <th>22</th>
      <td>CRD</td>
      <td>Card</td>
      <td>business</td>
      <td>Credit or debit card related functionality</td>
      <td>.*CRD.*</td>
      <td>0.95</td>
      <td>-</td>
      <td>0.068966</td>
      <td>[bms/COCRDLI.bms, bms/COCRDSL.bms, bms/COCRDUP...</td>
    </tr>
    <tr>
      <th>40</th>
      <td>CRDLI</td>
      <td>Card List</td>
      <td>business</td>
      <td>Process or interface for listing credit card i...</td>
      <td>.*CRDLI.*</td>
      <td>0.80</td>
      <td>-</td>
      <td>0.020690</td>
      <td>[bms/COCRDLI.bms, cbl/COCRDLIC.cbl, cpy-bms/CO...</td>
    </tr>
    <tr>
      <th>39</th>
      <td>CRDSL</td>
      <td>Card Select</td>
      <td>business</td>
      <td>Process or interface for selecting/querying cr...</td>
      <td>.*CRDSL.*</td>
      <td>0.80</td>
      <td>Card Sale</td>
      <td>0.020690</td>
      <td>[bms/COCRDSL.bms, cbl/COCRDSLC.cbl, cpy-bms/CO...</td>
    </tr>
    <tr>
      <th>29</th>
      <td>CRDU</td>
      <td>Card Update</td>
      <td>technical</td>
      <td>Operations or processes related to updating cr...</td>
      <td>.*CRDU.*</td>
      <td>0.85</td>
      <td>-</td>
      <td>0.020690</td>
      <td>[bms/COCRDUP.bms, cbl/COCRDUPC.cbl, cpy-bms/CO...</td>
    </tr>
    <tr>
      <th>38</th>
      <td>CRDUP</td>
      <td>Card Update</td>
      <td>business</td>
      <td>Process or interface for updating credit card ...</td>
      <td>.*CRDUP.*</td>
      <td>0.90</td>
      <td>-</td>
      <td>0.020690</td>
      <td>[bms/COCRDUP.bms, cbl/COCRDUPC.cbl, cpy-bms/CO...</td>
    </tr>
    <tr>
      <th>58</th>
      <td>CS</td>
      <td>Common System</td>
      <td>technical</td>
      <td>Prefix for system-wide utility or common syste...</td>
      <td>.*CS[A-Z0-9].*</td>
      <td>0.80</td>
      <td>Customer Service</td>
      <td>0.075862</td>
      <td>[cbl/CSUTLDTC.cbl, cpy/CSDAT01Y.cpy, cpy/CSLKP...</td>
    </tr>
    <tr>
      <th>6</th>
      <td>CSD</td>
      <td>CICS System Definition</td>
      <td>technical</td>
      <td>A file containing CICS resource definitions an...</td>
      <td>.*\.CSD|\.csd$</td>
      <td>0.90</td>
      <td>-</td>
      <td>0.006897</td>
      <td>[csd/CARDDEMO.CSD]</td>
    </tr>
    <tr>
      <th>5</th>
      <td>CTL</td>
      <td>Control</td>
      <td>technical</td>
      <td>A control file that defines processing paramet...</td>
      <td>.*\.ctl$</td>
      <td>0.85</td>
      <td>-</td>
      <td>0.006897</td>
      <td>[ctl/REPROCT.ctl]</td>
    </tr>
    <tr>
      <th>15</th>
      <td>CUST</td>
      <td>Customer</td>
      <td>business</td>
      <td>A person or entity that uses the services of t...</td>
      <td>.*CUST.*</td>
      <td>1.00</td>
      <td>-</td>
      <td>0.034483</td>
      <td>[cpy/CUSTREC.cpy, data/EBCDIC/AWS.M2.CARDDEMO....</td>
    </tr>
    <tr>
      <th>59</th>
      <td>CV</td>
      <td>Conversion</td>
      <td>technical</td>
      <td>Related to data conversion or transformation p...</td>
      <td>.*CV[A-Z0-9].*</td>
      <td>0.70</td>
      <td>-</td>
      <td>0.082759</td>
      <td>[cpy/CVACT01Y.cpy, cpy/CVACT02Y.cpy, cpy/CVACT...</td>
    </tr>
    <tr>
      <th>24</th>
      <td>DALY</td>
      <td>Daily</td>
      <td>business</td>
      <td>Daily processing or operations</td>
      <td>.*DALY.*</td>
      <td>0.90</td>
      <td>DAILY</td>
      <td>0.020690</td>
      <td>[data/EBCDIC/AWS.M2.CARDDEMO.DALYTRAN.PS, data...</td>
    </tr>
    <tr>
      <th>48</th>
      <td>DISCGRP</td>
      <td>Discount Group</td>
      <td>business</td>
      <td>A grouping of customers or products that share...</td>
      <td>.*DISCGRP.*</td>
      <td>0.85</td>
      <td>-</td>
      <td>0.013793</td>
      <td>[data/EBCDIC/AWS.M2.CARDDEMO.DISCGRP.PS, jcl/D...</td>
    </tr>
    <tr>
      <th>61</th>
      <td>DPY</td>
      <td>Display</td>
      <td>technical</td>
      <td>Related to screen display or output formatting</td>
      <td>.*DPY.*</td>
      <td>0.80</td>
      <td>-</td>
      <td>0.006897</td>
      <td>[cpy/CSUTLDPY.cpy]</td>
    </tr>
    <tr>
      <th>62</th>
      <td>DWY</td>
      <td>Data Way</td>
      <td>technical</td>
      <td>Related to data path or data flow handling</td>
      <td>.*DWY.*</td>
      <td>0.60</td>
      <td>Dataway</td>
      <td>0.006897</td>
      <td>[cpy/CSUTLDWY.cpy]</td>
    </tr>
    <tr>
      <th>14</th>
      <td>EBCDIC</td>
      <td>Extended Binary Coded Decimal Interchange Code</td>
      <td>technical</td>
      <td>A character encoding standard used mainly by I...</td>
      <td>.*EBCDIC.*</td>
      <td>1.00</td>
      <td>-</td>
      <td>0.082759</td>
      <td>[data/EBCDIC/AWS.M2.CARDDEMO.ACCDATA.PS, data/...</td>
    </tr>
    <tr>
      <th>44</th>
      <td>GDG</td>
      <td>Generation Data Group</td>
      <td>technical</td>
      <td>IBM mainframe concept for managing multiple ge...</td>
      <td>.*GDG.*</td>
      <td>0.95</td>
      <td>-</td>
      <td>0.006897</td>
      <td>[jcl/DEFGDGB.jcl]</td>
    </tr>
    <tr>
      <th>10</th>
      <td>JCL</td>
      <td>Job Control Language</td>
      <td>technical</td>
      <td>A scripting language used on IBM mainframes to...</td>
      <td>.*\.jcl|\.JCL$</td>
      <td>1.00</td>
      <td>-</td>
      <td>0.200000</td>
      <td>[jcl/ACCTFILE.jcl, jcl/CARDFILE.jcl, jcl/CBADM...</td>
    </tr>
    <tr>
      <th>37</th>
      <td>MEN</td>
      <td>Menu</td>
      <td>technical</td>
      <td>Menu-related functionality or display screens</td>
      <td>.*MEN.*</td>
      <td>0.85</td>
      <td>-</td>
      <td>0.027586</td>
      <td>[bms/COMEN01.bms, cbl/COMEN01C.cbl, cpy-bms/CO...</td>
    </tr>
    <tr>
      <th>13</th>
      <td>PROC</td>
      <td>Procedure</td>
      <td>technical</td>
      <td>A set of instructions or commands that can be ...</td>
      <td>.*\.prc|\.proc$</td>
      <td>0.90</td>
      <td>-</td>
      <td>0.013793</td>
      <td>[proc/REPROC.prc, proc/TRANREPT.prc]</td>
    </tr>
    <tr>
      <th>51</th>
      <td>PS</td>
      <td>Physical Sequential</td>
      <td>technical</td>
      <td>A type of dataset organization in mainframe sy...</td>
      <td>.*\.PS(\..*)?$</td>
      <td>0.95</td>
      <td>-</td>
      <td>0.082759</td>
      <td>[data/EBCDIC/AWS.M2.CARDDEMO.ACCDATA.PS, data/...</td>
    </tr>
    <tr>
      <th>55</th>
      <td>REJS</td>
      <td>Rejects</td>
      <td>business</td>
      <td>Transactions or records that have been rejecte...</td>
      <td>.*REJS.*</td>
      <td>0.85</td>
      <td>-</td>
      <td>0.006897</td>
      <td>[jcl/DALYREJS.jcl]</td>
    </tr>
    <tr>
      <th>35</th>
      <td>RPT</td>
      <td>Report</td>
      <td>technical</td>
      <td>Reporting functionality or report generation m...</td>
      <td>.*RPT.*</td>
      <td>0.95</td>
      <td>-</td>
      <td>0.020690</td>
      <td>[bms/CORPT00.bms, cbl/CORPT00C.cbl, cpy-bms/CO...</td>
    </tr>
    <tr>
      <th>26</th>
      <td>SGN</td>
      <td>Sign-on</td>
      <td>technical</td>
      <td>User authentication and login functionality</td>
      <td>.*SGN.*</td>
      <td>0.85</td>
      <td>Signature</td>
      <td>0.020690</td>
      <td>[bms/COSGN00.bms, cbl/COSGN00C.cbl, cpy-bms/CO...</td>
    </tr>
    <tr>
      <th>43</th>
      <td>STM</td>
      <td>Statement</td>
      <td>business</td>
      <td>Related to account or credit card statement pr...</td>
      <td>.*STM.*</td>
      <td>0.80</td>
      <td>-</td>
      <td>0.027586</td>
      <td>[cbl/CBSTM03A.CBL, cbl/CBSTM03B.CBL, cpy/COSTM...</td>
    </tr>
    <tr>
      <th>52</th>
      <td>TCATBAL</td>
      <td>Transaction Category Balance</td>
      <td>business</td>
      <td>A record or file containing balance informatio...</td>
      <td>.*TCATBAL.*</td>
      <td>0.85</td>
      <td>-</td>
      <td>0.013793</td>
      <td>[data/EBCDIC/AWS.M2.CARDDEMO.TCATBALF.PS, jcl/...</td>
    </tr>
    <tr>
      <th>17</th>
      <td>TRAN</td>
      <td>Transaction</td>
      <td>business</td>
      <td>A financial operation or exchange recorded in ...</td>
      <td>.*TRAN.*</td>
      <td>1.00</td>
      <td>-</td>
      <td>0.089655</td>
      <td>[data/EBCDIC/AWS.M2.CARDDEMO.DALYTRAN.PS, data...</td>
    </tr>
    <tr>
      <th>27</th>
      <td>TRN</td>
      <td>Transaction</td>
      <td>business</td>
      <td>Financial transaction processing and management</td>
      <td>.*TR[AN]N.*</td>
      <td>0.95</td>
      <td>-</td>
      <td>0.089655</td>
      <td>[data/EBCDIC/AWS.M2.CARDDEMO.DALYTRAN.PS, data...</td>
    </tr>
    <tr>
      <th>63</th>
      <td>TTL</td>
      <td>Title</td>
      <td>business</td>
      <td>Related to title or header information</td>
      <td>.*TTL.*</td>
      <td>0.70</td>
      <td>Total</td>
      <td>0.006897</td>
      <td>[cpy/COTTL01Y.cpy]</td>
    </tr>
    <tr>
      <th>28</th>
      <td>USR</td>
      <td>User</td>
      <td>technical</td>
      <td>User management and access control</td>
      <td>.*USR.*</td>
      <td>0.95</td>
      <td>-</td>
      <td>0.103448</td>
      <td>[bms/COUSR00.bms, bms/COUSR01.bms, bms/COUSR02...</td>
    </tr>
    <tr>
      <th>60</th>
      <td>UTL</td>
      <td>Utility</td>
      <td>technical</td>
      <td>Programs or modules that provide utility funct...</td>
      <td>.*UTL.*</td>
      <td>0.90</td>
      <td>-</td>
      <td>0.020690</td>
      <td>[cbl/CSUTLDTC.cbl, cpy/CSUTLDPY.cpy, cpy/CSUTL...</td>
    </tr>
    <tr>
      <th>49</th>
      <td>XREF</td>
      <td>Cross Reference</td>
      <td>technical</td>
      <td>A system or file that maps relationships betwe...</td>
      <td>.*XREF.*</td>
      <td>0.95</td>
      <td>-</td>
      <td>0.020690</td>
      <td>[data/EBCDIC/AWS.M2.CARDDEMO.CARDXREF.PS, jcl/...</td>
    </tr>
  </tbody>
</table>
</div>

</info-box>

### Step 8: Coverage of abbreviation information

This step calculates the proportion of files in the project that contain identifiable abbreviation information. The resulting value indicates the percentage of files for which we were able to extract meaningful details based on the identified abbreviations.


```python
files_with_info_about_abbreviations = len(abbreviations.explode('paths')['paths'].drop_duplicates())
coverage = files_with_info_about_abbreviations / length_all_files
coverage_text = f"{coverage*100:.2f}% of the files contain one or more abbreviations of concepts we know about"
print(coverage_text)
```

    99.31% of the files contain one or more abbreviations of concepts we know about


### Step 9: Automatic Assessment


```python
from IPython.display import display, Markdown

assessment_prompt = f"""
Here is a table with the information about a COBOL application.
Find the key insights for a software archeologist and summarize the findings in this assessment:
    
{abbreviations.to_markdown()}

Also: {coverage_text}
"""

result = ask(assessment_prompt)

display(Markdown(result))
```


Here's a clear archaeological assessment of this COBOL application:

Key Findings:

1. System Type:
- This is a Credit Card Management System running on IBM mainframe
- Uses CICS for transaction processing
- Handles customer accounts, cards, and financial transactions

2. Technical Architecture:
- Core components: COBOL programs (.cbl), CICS screens (.bms), copybooks (.cpy)
- Data stored in EBCDIC format physical sequential files (.PS)
- Batch processing through JCL jobs
- Heavy use of copybooks (31% of codebase) suggesting modular design

3. Main Business Domains:
- Account management (ACCT*)
- Card operations (CRD*)
- Customer data (CUST*)
- Transaction processing (TRAN*)
- User security (USR*)
- Billing/Statements (BIL*, STM*)

4. Notable Patterns:
- Consistent naming conventions (CO prefix for programs)
- Clear separation between business and technical components
- Strong batch processing component (20% JCL)
- Comprehensive user interface (multiple BMS screens)

5. System Maturity:
- Well-structured with clear naming conventions
- High confidence in identified abbreviations (99.31% coverage)
- Complete mainframe ecosystem (online + batch)
- Comprehensive security and user management

This appears to be a mature, production-grade mainframe application following standard IBM mainframe architectural patterns of its era.


### Summary

This notebook demonstrates how automated abbreviation mining using LLMs can help understand legacy code. By organizing the results in a DataFrame and calculating coverage, we gain clear insights into the hidden meanings within the codebase and measure the effectiveness of our extraction process, supporting faster modernization efforts.
