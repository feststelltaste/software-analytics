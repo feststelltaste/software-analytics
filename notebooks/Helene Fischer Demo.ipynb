{
 "cells": [
  {
   "cell_type": "markdown",
   "id": "052ae97b-960a-49ac-9da2-8d91dac0cb05",
   "metadata": {},
   "source": [
    "# Fake comment detector using Gemma 3\n",
    "\n",
    "A few years ago, I had a dispute with an external developer who flat-out refused to write any documentation in the code. No matter how often I brought it up, he insisted that documentation was a waste of time and that “clean code should be self-explanatory.”\n",
    "\n",
    "At some point, the discussion escalated. In a mixture of defiance and sarcasm, he said that if we ever imposed a rule requiring code comments, he would just paste lyrics from Helene Fischer songs into the comments &ndash; because, in his words, “you wouldn't be able to check anyway.”\n",
    "\n",
    "Well… now I can.\n",
    "\n",
    "I've created the following analysis using a local Large Language Model to detect all kind of fake comments.\n",
    "\n",
    "*Please, don't take the original story and this analysis too dead serious ;-) .*"
   ]
  },
  {
   "cell_type": "markdown",
   "id": "5e182246-529f-41a3-91b0-22db12126da8",
   "metadata": {},
   "source": [
    "## Create file list"
   ]
  },
  {
   "cell_type": "code",
   "execution_count": 1,
   "id": "798702ab-b1e3-4e36-a7ed-899b78a2b3f5",
   "metadata": {},
   "outputs": [
    {
     "data": {
      "text/plain": [
       "['/mnt/c/dev/repos/spring-petclinic_joa_llm/src/main/java/org/springframework/samples/petclinic/PetclinicInitializer.java',\n",
       " '/mnt/c/dev/repos/spring-petclinic_joa_llm/src/main/java/org/springframework/samples/petclinic/architecture/ActualSubdomain.java',\n",
       " '/mnt/c/dev/repos/spring-petclinic_joa_llm/src/main/java/org/springframework/samples/petclinic/architecture/ActualTechnicalAspect.java',\n",
       " '/mnt/c/dev/repos/spring-petclinic_joa_llm/src/main/java/org/springframework/samples/petclinic/architecture/BoundedContext.java',\n",
       " '/mnt/c/dev/repos/spring-petclinic_joa_llm/src/main/java/org/springframework/samples/petclinic/architecture/MixedBoundedContexts.java']"
      ]
     },
     "execution_count": 1,
     "metadata": {},
     "output_type": "execute_result"
    }
   ],
   "source": [
    "import glob\n",
    "import os\n",
    "\n",
    "root_dir = \"/mnt/c/dev/repos/spring-petclinic_joa_llm\"\n",
    "\n",
    "java_files = glob.glob(os.path.join(root_dir, \"**/*.java\"), recursive=True)\n",
    "java_files[:5]"
   ]
  },
  {
   "cell_type": "code",
   "execution_count": 2,
   "id": "42ba3a02-6cd5-4d0e-8909-ee48301475d4",
   "metadata": {},
   "outputs": [],
   "source": [
    "## Find all comments with Tree-sitter"
   ]
  },
  {
   "cell_type": "code",
   "execution_count": 3,
   "id": "693dc118-f621-4601-a1b6-7511209f05ae",
   "metadata": {},
   "outputs": [
    {
     "data": {
      "text/plain": [
       "[{'path': '/mnt/c/dev/repos/spring-petclinic_joa_llm/src/main/java/org/springframework/samples/petclinic/PetclinicInitializer.java',\n",
       "  'comment': '/**\\n * In Servlet 3.0+ environments, this class replaces the traditional {@code web.xml}-based approach in order to configure the\\n * {@link ServletContext} programmatically.\\n * <p/>\\n * Create the Spring \"<strong>root</strong>\" application context.<br/>\\n * Register a {@link DispatcherServlet} and a {@link DandelionServlet} in the servlet context.<br/>\\n * For both servlets, register a {@link CharacterEncodingFilter}, a {@link DandelionFilter} an a {@link DatatablesFilter}.\\n * <p/>\\n *\\n * @author Antoine Rey\\n */',\n",
       "  'type': 'block_comment'},\n",
       " {'path': '/mnt/c/dev/repos/spring-petclinic_joa_llm/src/main/java/org/springframework/samples/petclinic/PetclinicInitializer.java',\n",
       "  'comment': '/**\\n     * Spring profile used to choose the persistence layer implementation.\\n     * <p/>\\n     * When using Spring jpa, use: jpa\\n     * When using Spring JDBC, use: jdbc\\n     * When using Spring Data JPA, use: spring-data-jpa\\n     */',\n",
       "  'type': 'block_comment'},\n",
       " {'path': '/mnt/c/dev/repos/spring-petclinic_joa_llm/src/main/java/org/springframework/samples/petclinic/architecture/ActualSubdomain.java',\n",
       "  'comment': '/**\\n * Marker for a code entity that belongs to a Technical Aspect.\\n */',\n",
       "  'type': 'block_comment'},\n",
       " {'path': '/mnt/c/dev/repos/spring-petclinic_joa_llm/src/main/java/org/springframework/samples/petclinic/architecture/ActualTechnicalAspect.java',\n",
       "  'comment': '/**\\n * Marker for a code entity that belongs to a Technical Aspect.\\n */',\n",
       "  'type': 'block_comment'},\n",
       " {'path': '/mnt/c/dev/repos/spring-petclinic_joa_llm/src/main/java/org/springframework/samples/petclinic/architecture/BoundedContext.java',\n",
       "  'comment': '/**\\n * Marker for a code entity that belongs to a Bounded Context.\\n *\\n * Use this to signal that there is already a clear context.\\n */',\n",
       "  'type': 'block_comment'}]"
      ]
     },
     "execution_count": 3,
     "metadata": {},
     "output_type": "execute_result"
    }
   ],
   "source": [
    "import tree_sitter_java as tsjava\n",
    "from tree_sitter import Language, Parser\n",
    "\n",
    "comments = []\n",
    "\n",
    "parser = Parser(Language(tsjava.language()))\n",
    "\n",
    "def is_comment(node):\n",
    "    # possibilities: block_comment (\"/* ...\"), line_comment (\"// ...\")\n",
    "    return node.type == \"block_comment\"\n",
    "    \n",
    "def is_license_header(node):\n",
    "    # license headers are comments that are beginning at the first line of a file\n",
    "    return node.start_point.row == 0\n",
    "    \n",
    "def walk(node):\n",
    "\n",
    "        if is_comment(node) and not is_license_header(node):\n",
    "            text = source_code[node.start_byte:node.end_byte]\n",
    "            \n",
    "            comment_entry = {}\n",
    "            comment_entry['path'] = path\n",
    "            comment_entry['comment'] = text\n",
    "            comment_entry['type'] = node.type\n",
    "            comments.append(comment_entry)\n",
    "            \n",
    "        for child in node.children:\n",
    "            walk(child)\n",
    "\n",
    "\n",
    "for path in java_files:\n",
    "    with open(path, \"r\", encoding=\"utf-8\") as f:\n",
    "        source_code = f.read()\n",
    "    tree = parser.parse(bytes(source_code, \"utf8\"))\n",
    "    root_node = tree.root_node   \n",
    "\n",
    "    walk(root_node)\n",
    "\n",
    "comments[:5]"
   ]
  },
  {
   "cell_type": "markdown",
   "id": "31e53101-1751-48f7-b5b0-022de2872772",
   "metadata": {},
   "source": [
    "## Set up and configure local LLM"
   ]
  },
  {
   "cell_type": "code",
   "execution_count": 4,
   "id": "25f4e80e-6547-42b6-8af5-f6f612f217e7",
   "metadata": {},
   "outputs": [],
   "source": [
    "from openai import OpenAI\n",
    "\n",
    "base_url = os.environ.get(\"OLLAMA_BASE_URL\", \"http://localhost:11434\") + \"/v1\"\n",
    "\n",
    "client = OpenAI(base_url=base_url)\n",
    "\n",
    "def ask_llm(prompt):\n",
    "    response = client.completions.create(\n",
    "      model=\"gemma3:27b\",\n",
    "      prompt=prompt\n",
    "    )\n",
    "\n",
    "    return float(response.choices[0].text)"
   ]
  },
  {
   "cell_type": "markdown",
   "id": "511d075e-1d88-4f04-baac-6dc57f58fd79",
   "metadata": {},
   "source": [
    "## Define the prompt"
   ]
  },
  {
   "cell_type": "code",
   "execution_count": 5,
   "id": "aef73f13-56e9-4d22-9876-f2b3be750d0c",
   "metadata": {},
   "outputs": [],
   "source": [
    "prompt = f\"\"\"\n",
    "\n",
    "Tell me, using an indicator from 0.0 to 1.0, whether the comment is a usable Java comment, a bad comment, or a fake comment.\n",
    "\n",
    "- A usable comment provides a clear and meaningful description of what the code is supposed to do. The indicator should be close to 1.0.\n",
    "- A bad comment gives only a vague or incomplete explanation of the code, or contains nothing more than author tags (e.g., @author). The indicator should be around 0.5 +/- 0.2.\n",
    "- A fake comment contains text that has nothing to do with the code at all. The indicator should be close to 0.0.\n",
    "\n",
    "Be aware that some developers might get very creative when it comes to hiding fake comments.\n",
    "\n",
    "Return only the numeric value. Default to -1 if you are unable to evaluate the comment.\"\"\""
   ]
  },
  {
   "cell_type": "markdown",
   "id": "09f494da-5551-46a0-a8c4-6b450518094b",
   "metadata": {},
   "source": [
    "## Call the LLM"
   ]
  },
  {
   "cell_type": "code",
   "execution_count": 6,
   "id": "1422de3b-9291-448a-af3a-47996af3e9d2",
   "metadata": {},
   "outputs": [
    {
     "name": "stderr",
     "output_type": "stream",
     "text": [
      "100%|█████████████████████████████████████████████████████████████████████████████████| 105/105 [00:47<00:00,  2.19it/s]\n"
     ]
    }
   ],
   "source": [
    "from tqdm import tqdm\n",
    "\n",
    "for entry in tqdm(comments):\n",
    "    indicator = ask_llm(\"\\n\\n\".join([prompt, entry['comment'], entry['path']]))\n",
    "    entry['indicator'] = indicator"
   ]
  },
  {
   "cell_type": "markdown",
   "id": "c99c9b4a-630c-4c60-9eb5-da751c937e39",
   "metadata": {},
   "source": [
    "## Show top 5 findings"
   ]
  },
  {
   "cell_type": "code",
   "execution_count": 7,
   "id": "606d14ab-4320-47ce-8799-1c6e614558c9",
   "metadata": {},
   "outputs": [
    {
     "data": {
      "text/html": [
       "<div>\n",
       "<style scoped>\n",
       "    .dataframe tbody tr th:only-of-type {\n",
       "        vertical-align: middle;\n",
       "    }\n",
       "\n",
       "    .dataframe tbody tr th {\n",
       "        vertical-align: top;\n",
       "    }\n",
       "\n",
       "    .dataframe thead th {\n",
       "        text-align: right;\n",
       "    }\n",
       "</style>\n",
       "<table border=\"1\" class=\"dataframe\">\n",
       "  <thead>\n",
       "    <tr style=\"text-align: right;\">\n",
       "      <th></th>\n",
       "      <th>path</th>\n",
       "      <th>comment</th>\n",
       "      <th>type</th>\n",
       "      <th>indicator</th>\n",
       "    </tr>\n",
       "  </thead>\n",
       "  <tbody>\n",
       "    <tr>\n",
       "      <th>36</th>\n",
       "      <td>/mnt/c/dev/repos/spring-petclinic_joa_llm/src/...</td>\n",
       "      <td>/**\\n * Atemlos durch die Nacht\\n * Bis ein ne...</td>\n",
       "      <td>block_comment</td>\n",
       "      <td>0.1</td>\n",
       "    </tr>\n",
       "    <tr>\n",
       "      <th>14</th>\n",
       "      <td>/mnt/c/dev/repos/spring-petclinic_joa_llm/src/...</td>\n",
       "      <td>/**\\n * Models a {@link Vet Vet's} specialty (...</td>\n",
       "      <td>block_comment</td>\n",
       "      <td>0.2</td>\n",
       "    </tr>\n",
       "    <tr>\n",
       "      <th>13</th>\n",
       "      <td>/mnt/c/dev/repos/spring-petclinic_joa_llm/src/...</td>\n",
       "      <td>/**\\n * Simple business object representing a ...</td>\n",
       "      <td>block_comment</td>\n",
       "      <td>0.3</td>\n",
       "    </tr>\n",
       "    <tr>\n",
       "      <th>67</th>\n",
       "      <td>/mnt/c/dev/repos/spring-petclinic_joa_llm/src/...</td>\n",
       "      <td>/**\\n * I load nothing, but this will take lon...</td>\n",
       "      <td>block_comment</td>\n",
       "      <td>0.3</td>\n",
       "    </tr>\n",
       "    <tr>\n",
       "      <th>70</th>\n",
       "      <td>/mnt/c/dev/repos/spring-petclinic_joa_llm/src/...</td>\n",
       "      <td>/**\\n * Don't hate me. I'm not the designer.\\n */</td>\n",
       "      <td>block_comment</td>\n",
       "      <td>0.3</td>\n",
       "    </tr>\n",
       "  </tbody>\n",
       "</table>\n",
       "</div>"
      ],
      "text/plain": [
       "                                                 path  \\\n",
       "36  /mnt/c/dev/repos/spring-petclinic_joa_llm/src/...   \n",
       "14  /mnt/c/dev/repos/spring-petclinic_joa_llm/src/...   \n",
       "13  /mnt/c/dev/repos/spring-petclinic_joa_llm/src/...   \n",
       "67  /mnt/c/dev/repos/spring-petclinic_joa_llm/src/...   \n",
       "70  /mnt/c/dev/repos/spring-petclinic_joa_llm/src/...   \n",
       "\n",
       "                                              comment           type  \\\n",
       "36  /**\\n * Atemlos durch die Nacht\\n * Bis ein ne...  block_comment   \n",
       "14  /**\\n * Models a {@link Vet Vet's} specialty (...  block_comment   \n",
       "13  /**\\n * Simple business object representing a ...  block_comment   \n",
       "67  /**\\n * I load nothing, but this will take lon...  block_comment   \n",
       "70  /**\\n * Don't hate me. I'm not the designer.\\n */  block_comment   \n",
       "\n",
       "    indicator  \n",
       "36        0.1  \n",
       "14        0.2  \n",
       "13        0.3  \n",
       "67        0.3  \n",
       "70        0.3  "
      ]
     },
     "execution_count": 7,
     "metadata": {},
     "output_type": "execute_result"
    }
   ],
   "source": [
    "import pandas as pd\n",
    "\n",
    "result = pd.DataFrame(comments)\n",
    "top5_fakes = result.sort_values(by='indicator').head()\n",
    "top5_fakes"
   ]
  },
  {
   "cell_type": "markdown",
   "id": "6ec3bdc2-ae99-4ce2-be23-989f18d60fde",
   "metadata": {},
   "source": [
    "## List the fake comments"
   ]
  },
  {
   "cell_type": "code",
   "execution_count": 8,
   "id": "c5445154-8dc5-4f10-b9d2-73b6ccc51fb7",
   "metadata": {},
   "outputs": [
    {
     "name": "stdout",
     "output_type": "stream",
     "text": [
      "Fake comment in file '/mnt/c/dev/repos/spring-petclinic_joa_llm/src/main/java/org/springframework/samples/petclinic/repository/PetType.java': \n",
      "\n",
      " /**\n",
      " * Atemlos durch die Nacht\n",
      " * Bis ein neuer Tag erwacht\n",
      " * Atemlos einfach raus\n",
      " * Deine Augen ziehen mich aus\n",
      " * \n",
      " * @author Juergen Hoeller\n",
      " *         Can be Cat, Dog, Hamster...\n",
      " */\n",
      "\n",
      "\n",
      "\n",
      "Fake comment in file '/mnt/c/dev/repos/spring-petclinic_joa_llm/src/main/java/org/springframework/samples/petclinic/model/Specialty.java': \n",
      "\n",
      " /**\n",
      " * Models a {@link Vet Vet's} specialty (for example, dentistry).\n",
      " *\n",
      " *\n",
      " * A d d N\n",
      " * t u i a\n",
      " * e r e c\n",
      " * m c   h\n",
      " * l h   t\n",
      " * o\n",
      " * s\n",
      " *\n",
      " * @author Juergen Hoeller\n",
      " */\n",
      "\n",
      "\n",
      "\n",
      "Fake comment in file '/mnt/c/dev/repos/spring-petclinic_joa_llm/src/main/java/org/springframework/samples/petclinic/model/Pet.java': \n",
      "\n",
      " /**\n",
      " * Simple business object representing a pet.\n",
      " * \n",
      " * Verlieben, verloren, vergessen, verzeih’n!\n",
      " *\n",
      " * @author Ken Krebs\n",
      " * @author Juergen Hoeller\n",
      " * @author Sam Brannen\n",
      " */\n",
      "@\n",
      "\n",
      "\n",
      "\n",
      "Fake comment in file '/mnt/c/dev/repos/spring-petclinic_joa_llm/src/main/java/org/springframework/samples/petclinic/util/Database.java': \n",
      "\n",
      " /**\n",
      " * I load nothing, but this will take long!\n",
      " */\n",
      "\n",
      "\n",
      "\n",
      "Fake comment in file '/mnt/c/dev/repos/spring-petclinic_joa_llm/src/main/java/org/springframework/samples/petclinic/util/RecursiveClass.java': \n",
      "\n",
      " /**\n",
      " * Don't hate me. I'm not the designer.\n",
      " */\n",
      "\n",
      "\n",
      "\n"
     ]
    }
   ],
   "source": [
    "for i, entry in top5_fakes.iterrows():\n",
    "    print(f\"Fake comment in file '{entry['path']}': \\n\\n {entry['comment']}\\n\\n\\n\")"
   ]
  },
  {
   "cell_type": "code",
   "execution_count": null,
   "id": "46afc20a-14f9-4c4d-8f44-97ba285436d9",
   "metadata": {},
   "outputs": [],
   "source": []
  }
 ],
 "metadata": {
  "kernelspec": {
   "display_name": "Python 3 (ipykernel)",
   "language": "python",
   "name": "python3"
  },
  "language_info": {
   "codemirror_mode": {
    "name": "ipython",
    "version": 3
   },
   "file_extension": ".py",
   "mimetype": "text/x-python",
   "name": "python",
   "nbconvert_exporter": "python",
   "pygments_lexer": "ipython3",
   "version": "3.12.7"
  }
 },
 "nbformat": 4,
 "nbformat_minor": 5
}
